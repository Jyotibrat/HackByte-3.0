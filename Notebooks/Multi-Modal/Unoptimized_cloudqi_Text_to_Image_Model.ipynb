{
 "cells": [
  {
   "cell_type": "code",
   "execution_count": null,
   "metadata": {
    "colab": {
     "base_uri": "https://localhost:8080/",
     "height": 749,
     "referenced_widgets": [
      "215367019280459c926334abfa447db8",
      "7401f4b5229344b4816fc5116ace8e49",
      "5cdbed2b28d94e6eb5e747ba2809e614",
      "7484d511908b488d8d622f8bfaf314bf",
      "5837ae75b8ab4376baf2694b66e046e0",
      "73f86ba922a54a4c94fb730f11bf2247",
      "9146a915f72847abb2342ed938c5fc91",
      "f17c65cd6dba4e7fae8bbff39c18989a",
      "ca3c863c37ff435b86ae0ef8be52068b",
      "8e534df932564c44929aa55595939847",
      "3fa475025c4543998bc342028dba5733",
      "7496f1ef174246ec839287dcb32c281e",
      "259bf15915ba41d7a983f65356c59db0",
      "2e3a0d717cf44d57a0ff8f08e50583b2",
      "684a402c68ad4da583800798732a53cb",
      "51560afc5c8b4f75a862194d79d0fa7e",
      "a4e5628a70f84121b483f84a54660341",
      "f5f5200c15ee473cb4d16927d9ae4d8d",
      "6f1e93874a4e42a0ba8803c33622853b",
      "d286db2e9db644c38f125cb0cf24a3f2",
      "aeefc48769bf465683675359731e5377",
      "dc2104e727944c23921568df3c4497e2",
      "25fd289f2e54429ebfecba30280f8550",
      "0761824a5dce4d1bbcb8ef005686d2c5",
      "ad6f3bd173094a30bb1f4ba69fe711a8",
      "cb2571c74d114dee97a2d25c32281009",
      "480a1636a21348b8ad15df4dec6ff267",
      "73e7110ca9f844b293b864cf607f1594",
      "9294d7d8191f4b359895175ab0faaf82",
      "1da771ee10d14d8b98392762935da140",
      "7c71d1ac14f741b6b0ccb4e4b1105d3f",
      "52983360db054362a74f8d90a172f3ec",
      "f3e48d8980684e87be9a550b50953377",
      "c3b1fdee93d647058b25085b12534c77",
      "5dcb75c5b4104063b061989da7546929",
      "909120c2f5344be1b1c1ae041a29c647",
      "47eb278bac6d458296ee651b30c3c546",
      "e70ce453a829497dbf41dfc1a3ca4db2",
      "b7b3d86651394771ab8ca741e516365a",
      "4989a312996044b9be1e952e6a6d1df9",
      "11ee99048e4b4048881b2f74027c815f",
      "90ed91c625ec425ea5af61393947c768",
      "9fdb20ff940747d58835b64241889bf4",
      "0408f4087d10485686b0bad344871d13",
      "04c627c6cb1143c9b038c55d7851c269",
      "ca2989f7bc22432ab488d21e287ce5a0",
      "04a17975dd174782a8c030ce0b72b50a",
      "38baf1331c3b4ea99932e4251b4ad7cd",
      "4e0ca0d532584a6baf9f7308699965f5",
      "723287bb72a14799baf0445ccb32bdb4",
      "8e923478a416483f8439adfd05f4c143",
      "fa28d2bfbc36477288fe35348892adc4",
      "eff81e4df0d546528dfe9b9531bef457",
      "92452a8e06924ec2a2f65583234bdcb6",
      "092c31c66f94444bac51aa17dab5886d",
      "4f108d9cd2024e6581f8607148de8ea0",
      "547b2db8bccd4457913387cd6ae89995",
      "a91351526eba40638e9c18c9918d0199",
      "7f106c2a907842aa9ee5ce6057699e01",
      "936a7f573c774f2a802722ef7bc7475f",
      "0f2b6ac1264c4517a124aa8d7b90388a",
      "d8332fa16e784cceaed3ea3b0cda7fd7",
      "9e77f04033284332831551a347fc985c",
      "88d69e2d0d6f4821a59cfcb16dd3e0ce",
      "47d0c803f0544d1f8455abf1602109bc",
      "ca2c06be07dd49d4a356ab9a7cb38bbc",
      "4a791942e132471e938e12ceb3a65aca",
      "e034be95b8114004a2a204ee39c44061",
      "c4034cdd0f644e0abb15ce1fcaa8e2aa",
      "c25081b752af4252bb4132349d09a7fb",
      "0964af2ee7a346b4977c03af6242d5ce",
      "48b5cc44743c471bbdcfd9b6569e7c74",
      "bf2bf20a9bd040cd9053ad16ad34e817",
      "24e8788b5d754794904e530102eca7a6",
      "9268fd6784f348f2a1bf5749e042f665",
      "c9fdcf844ed448d5990009aa97540540",
      "70ae4229d7fa48c19620dc59b5ccdbc9",
      "a11f13c959034e36ac76c56956f71f67",
      "5f2619f1899c44bbb3d0a3b2181b3fe9",
      "b35ad85adef14d049de71839930264b6",
      "ca36dbd5f1654769914d26f041f05d89",
      "319832e57dd8451ca23c2d4fc22ea245",
      "3d460eb747f04063ba5333003e3b3687",
      "adfab22ea24f4fbb866fbe443f6bf96f",
      "2b9a32c153bd42b7904b27b12ebac35e",
      "225841998b3746129588de38b0d07efc",
      "62df48ae48684943b8fb79865662ad7f",
      "b2c7c459433548728bb2a3e2ca4c6d8f",
      "c426f54f0b1b4914963ca7122c320551",
      "cc3e855fe34e4b61af004e0ff4e13753",
      "970012328154477ebd0dae8f98bee99b",
      "af4175ef08834c3e88ab1dedfc3bfa2f",
      "748147cad0e843a086fc183b8235528a",
      "a7bdc127c6f046daaf72ae461fc0bb64",
      "1140b217297744b6ab33e534dbf4c315",
      "2de234a346e14c8b847b8364cadf0052",
      "1067de73f9b34a8982effaed21bc41ca",
      "6595cd761dcb4ea7ba74a453d8e79a93",
      "fcbdf0a1620f4468b8e1243c7865dcb1",
      "10894b0d1806431e957b59b8c71ef7a5",
      "37873792519c4274936ecaa5ce9c1299",
      "194fe23c847443a0947480180680c4ea",
      "58163e302e974afc9a119d0a16ae0aae",
      "c3d746aaa2204ae8995e9b4d35538275",
      "cc1a12528d0240f58de0b1554fa0a84d",
      "e5417b44ab574f8397fcdfcaab72a305",
      "76638b1986c5495cac9e92e70290ef85",
      "4a4b419aa11944e5b4168a7908e797fa",
      "cdea49cb4c624d7b8bf647cfacc2807f",
      "b705986d08204558bfa900b5e49ef8a2",
      "ab079a3d85fd4d4784cde25cdc9b6e3a",
      "a6b071587af3417f85bceb059a3d364b",
      "825854b521d845aa9eb7859410689f7d",
      "bdc4c39ea8de418b9117bbe9b3104540",
      "7d8614573a1540c8ab106a5682d4e07c",
      "d1ee5336ea4c44c7a55b63696171bb40",
      "4dadf79eb96849d7a4cb23aad1348d55",
      "e66ac885bb9d448b9095e8c90ac2f189",
      "7ca51dbdb6b344e4bbbe59783df079e6",
      "df7235fadfa4480ba0067c1ce5cbf8ed",
      "8e9d1911c28943a28ed01dccb94caeda",
      "00fbe38cffa04b32a242f7ec45756949",
      "8f630a8036a04c3cb9b6ad3e00fcd872",
      "61df49258c6245faa5569c5fdd9873dc",
      "07327d5183924546abbff54380c8303b",
      "65b40fdf53df43a1bd60fe7ff10e3c21",
      "30be83feaf98478aa6773269b4b0ff43",
      "14686c7c734845fb9836128b4de61f72",
      "958c6a218abb469c96b072445fdc6807",
      "4b532db09fbc46d4a71e4417d71efa1c",
      "c77ebd68b1264b54b67b96520442f41f",
      "28d68647af824cc3befa471f8dd1a4b1",
      "506a66a949ec4b8b95be0cf4015acf22",
      "291a634bead44760b4d2774c77ecc70e",
      "46bb8280b53c455eb98517faeb0294b3",
      "cbff708c869347c6984feddc02a06617",
      "2bdc1483e9f647299dca69170d8c7e89",
      "46409391b92d4c31ad3e6296655e86ff",
      "4c3b2727b5b541dd9eb2ca647da1269b",
      "b867f7c992b741d994239830dd3e225c",
      "75d547377a344d63a22925a468516e4d",
      "5b47eb97f72646c3934087b897f3d1a7",
      "e7efeb3f962a4227b79b66c92c584a8d",
      "7cfe5d60b4d7472092e7d6c1a95ecc0f",
      "533776230e8244bdbf9c6b62985dad0c",
      "6cc9507f268843658a8c1b2d090f8565",
      "b9ef6dba2a2f4c9b918bbf6cff1533a6",
      "62fac39f4d8045fbab25683f33bf14c6",
      "fc7202fe263b47e78866274b5675d94c",
      "5d8c1bd0489746ec86c2da52bf4599c1",
      "55a22f479bf24b64b581d7c912ce0110",
      "b1b380895a84476fb86753e297441401",
      "9b115c0ea18a48bba4be205ad3065434",
      "58fffe92947a4cd58c4f56caa9433c8c",
      "901ecf3887514d45b0a1291d64ac664a",
      "8fcdb101f8a5454db81ecc82c891d93b",
      "d8e85b72f1fa4383972a424e5befeb7f",
      "06ebaf986d3d40c3bec461e109ee3113",
      "7297d0ab8adb4e679602ca91b8769ba7",
      "77b09db5ad8343bfb5d4df210e414922",
      "8cba45d09efc4b1da98ee1480e304a9d",
      "c92101d7f0024d87bd1b2d2c92e1a032",
      "6e47bce9f28e4994941054b1483d6acc",
      "3c61c2ad340a4b6eb1fe62f7c40b9503",
      "81b3df1621c145b29183d2faa448ba29",
      "75b2dc5c3ce14ab59b104b488d340df1",
      "dd203fcaaa8e41f68579e903b696920f",
      "a6a0095b62e74b4ebd00115b6c7fc496",
      "92825752285c4d2d92bf8f6bf74da2b6",
      "812bd0a70c404903babdc15bfa1d5252",
      "1a135d3b4fb94d5c84f7b55ba86ef871",
      "c51e9672222e496f88ade6432b3ca909",
      "81acbcc1dae048089e2bb93e0dd90574",
      "01d58cbd977542b192de3fa3e8a5386e",
      "da30d3d1cf3b43449d15a315928b5398",
      "2555b4fd6a9d411ba2813fe6107615f1",
      "894b38f2d9ee4dcd86dbeee86fdf5ad7",
      "97d4f73600c141a48b55c95ffac0581d",
      "af969946a9bf4dbe8f9a16e03d8e21dc",
      "a2a59419f1294803a957cc3251c8d4ce",
      "d03c8b10677245038d5f9372f87ce0fe",
      "b251526ea2d24d7f919552bee8a9537c",
      "df295075181648578c5756905ae5824b",
      "d04e3fc2e7aa4aaf8100cd9e0e3cceb2",
      "210c2443c8c5486db82422c7b7cd7c99",
      "3babf1b9baf4496cb49dbf1670f3329b",
      "8e150550c88d4c62bbd07f5b12485227",
      "f01654fc08ee4dfcbc4cd497081cd08a",
      "c96a8e29b14942dc8c6707429da55c8e",
      "0d41282879104139b3f51edb0d19833f",
      "b581810691b04faf87c8cb1bbe2fd2eb",
      "adaa2ddba44e4b188b30c2bf44a0e2d1",
      "b518305d582a48869f57cd33abbe48df",
      "31a647f45a554b0281d6aabf7cd5ea39",
      "29785e949e314ab1b975679465e9549a",
      "7cf9622e5c17475d92486180a6b8e60b",
      "2fc4772fd3a745f899eb8c4a62b72d7e",
      "ddc9d7d94e0142b0a0661b48619abdcc",
      "cbc16eb1411548ee93141a73345ac30e",
      "1aaa8c3e80944a23b0a897c9eba902da",
      "0ae88ac3fe054c09b3be029fed17c3f4",
      "e1ab4d8ddc144a1ab9c359dd91a491e6",
      "935e0e57e0854a679b9cad0735b7b48d",
      "4177e306269f4be7bb5c2df956b6334a",
      "8edb78c2c5ad44459c5079d8c1875cb5",
      "75c5790f060940858f0365600d77807d",
      "ce3b95d9ca6b46149f5e9c4612421c2f",
      "a4ff4b84c02f4915bbbe1b01bc751a57",
      "fb90ceca74fe4d42a4b8be1e7c89e8a1"
     ]
    },
    "id": "yOM4HsTBWsYj",
    "outputId": "db0dce8a-6f6c-47bb-f5a7-aabe287a549b"
   },
   "outputs": [
    {
     "name": "stderr",
     "output_type": "stream",
     "text": [
      "The cache for model files in Transformers v4.22.0 has been updated. Migrating your old cache. This is a one-time only operation. You can interrupt this and resume the migration later on by calling `transformers.utils.move_cache()`.\n"
     ]
    },
    {
     "data": {
      "application/vnd.jupyter.widget-view+json": {
       "model_id": "215367019280459c926334abfa447db8",
       "version_major": 2,
       "version_minor": 0
      },
      "text/plain": [
       "0it [00:00, ?it/s]"
      ]
     },
     "metadata": {},
     "output_type": "display_data"
    },
    {
     "name": "stderr",
     "output_type": "stream",
     "text": [
      "/usr/local/lib/python3.11/dist-packages/huggingface_hub/utils/_auth.py:104: UserWarning: \n",
      "Error while fetching `HF_TOKEN` secret value from your vault: 'Requesting secret HF_TOKEN timed out. Secrets can only be fetched when running from the Colab UI.'.\n",
      "You are not authenticated with the Hugging Face Hub in this notebook.\n",
      "If the error persists, please let us know by opening an issue on GitHub (https://github.com/huggingface/huggingface_hub/issues/new).\n",
      "  warnings.warn(\n"
     ]
    },
    {
     "data": {
      "application/vnd.jupyter.widget-view+json": {
       "model_id": "7496f1ef174246ec839287dcb32c281e",
       "version_major": 2,
       "version_minor": 0
      },
      "text/plain": [
       "model_index.json:   0%|          | 0.00/541 [00:00<?, ?B/s]"
      ]
     },
     "metadata": {},
     "output_type": "display_data"
    },
    {
     "data": {
      "application/vnd.jupyter.widget-view+json": {
       "model_id": "25fd289f2e54429ebfecba30280f8550",
       "version_major": 2,
       "version_minor": 0
      },
      "text/plain": [
       "Fetching 15 files:   0%|          | 0/15 [00:00<?, ?it/s]"
      ]
     },
     "metadata": {},
     "output_type": "display_data"
    },
    {
     "data": {
      "application/vnd.jupyter.widget-view+json": {
       "model_id": "c3b1fdee93d647058b25085b12534c77",
       "version_major": 2,
       "version_minor": 0
      },
      "text/plain": [
       "scheduler_config.json:   0%|          | 0.00/289 [00:00<?, ?B/s]"
      ]
     },
     "metadata": {},
     "output_type": "display_data"
    },
    {
     "data": {
      "application/vnd.jupyter.widget-view+json": {
       "model_id": "04c627c6cb1143c9b038c55d7851c269",
       "version_major": 2,
       "version_minor": 0
      },
      "text/plain": [
       "preprocessor_config.json:   0%|          | 0.00/342 [00:00<?, ?B/s]"
      ]
     },
     "metadata": {},
     "output_type": "display_data"
    },
    {
     "data": {
      "application/vnd.jupyter.widget-view+json": {
       "model_id": "4f108d9cd2024e6581f8607148de8ea0",
       "version_major": 2,
       "version_minor": 0
      },
      "text/plain": [
       "config.json:   0%|          | 0.00/624 [00:00<?, ?B/s]"
      ]
     },
     "metadata": {},
     "output_type": "display_data"
    },
    {
     "data": {
      "application/vnd.jupyter.widget-view+json": {
       "model_id": "4a791942e132471e938e12ceb3a65aca",
       "version_major": 2,
       "version_minor": 0
      },
      "text/plain": [
       "special_tokens_map.json:   0%|          | 0.00/472 [00:00<?, ?B/s]"
      ]
     },
     "metadata": {},
     "output_type": "display_data"
    },
    {
     "data": {
      "application/vnd.jupyter.widget-view+json": {
       "model_id": "a11f13c959034e36ac76c56956f71f67",
       "version_major": 2,
       "version_minor": 0
      },
      "text/plain": [
       "config.json:   0%|          | 0.00/4.72k [00:00<?, ?B/s]"
      ]
     },
     "metadata": {},
     "output_type": "display_data"
    },
    {
     "data": {
      "application/vnd.jupyter.widget-view+json": {
       "model_id": "c426f54f0b1b4914963ca7122c320551",
       "version_major": 2,
       "version_minor": 0
      },
      "text/plain": [
       "merges.txt:   0%|          | 0.00/525k [00:00<?, ?B/s]"
      ]
     },
     "metadata": {},
     "output_type": "display_data"
    },
    {
     "data": {
      "application/vnd.jupyter.widget-view+json": {
       "model_id": "10894b0d1806431e957b59b8c71ef7a5",
       "version_major": 2,
       "version_minor": 0
      },
      "text/plain": [
       "model.safetensors:   0%|          | 0.00/246M [00:00<?, ?B/s]"
      ]
     },
     "metadata": {},
     "output_type": "display_data"
    },
    {
     "data": {
      "application/vnd.jupyter.widget-view+json": {
       "model_id": "ab079a3d85fd4d4784cde25cdc9b6e3a",
       "version_major": 2,
       "version_minor": 0
      },
      "text/plain": [
       "model.safetensors:   0%|          | 0.00/1.22G [00:00<?, ?B/s]"
      ]
     },
     "metadata": {},
     "output_type": "display_data"
    },
    {
     "data": {
      "application/vnd.jupyter.widget-view+json": {
       "model_id": "00fbe38cffa04b32a242f7ec45756949",
       "version_major": 2,
       "version_minor": 0
      },
      "text/plain": [
       "tokenizer_config.json:   0%|          | 0.00/817 [00:00<?, ?B/s]"
      ]
     },
     "metadata": {},
     "output_type": "display_data"
    },
    {
     "data": {
      "application/vnd.jupyter.widget-view+json": {
       "model_id": "506a66a949ec4b8b95be0cf4015acf22",
       "version_major": 2,
       "version_minor": 0
      },
      "text/plain": [
       "config.json:   0%|          | 0.00/929 [00:00<?, ?B/s]"
      ]
     },
     "metadata": {},
     "output_type": "display_data"
    },
    {
     "data": {
      "application/vnd.jupyter.widget-view+json": {
       "model_id": "7cfe5d60b4d7472092e7d6c1a95ecc0f",
       "version_major": 2,
       "version_minor": 0
      },
      "text/plain": [
       "vocab.json:   0%|          | 0.00/1.06M [00:00<?, ?B/s]"
      ]
     },
     "metadata": {},
     "output_type": "display_data"
    },
    {
     "data": {
      "application/vnd.jupyter.widget-view+json": {
       "model_id": "901ecf3887514d45b0a1291d64ac664a",
       "version_major": 2,
       "version_minor": 0
      },
      "text/plain": [
       "config.json:   0%|          | 0.00/638 [00:00<?, ?B/s]"
      ]
     },
     "metadata": {},
     "output_type": "display_data"
    },
    {
     "data": {
      "application/vnd.jupyter.widget-view+json": {
       "model_id": "75b2dc5c3ce14ab59b104b488d340df1",
       "version_major": 2,
       "version_minor": 0
      },
      "text/plain": [
       "diffusion_pytorch_model.safetensors:   0%|          | 0.00/3.44G [00:00<?, ?B/s]"
      ]
     },
     "metadata": {},
     "output_type": "display_data"
    },
    {
     "data": {
      "application/vnd.jupyter.widget-view+json": {
       "model_id": "894b38f2d9ee4dcd86dbeee86fdf5ad7",
       "version_major": 2,
       "version_minor": 0
      },
      "text/plain": [
       "diffusion_pytorch_model.safetensors:   0%|          | 0.00/335M [00:00<?, ?B/s]"
      ]
     },
     "metadata": {},
     "output_type": "display_data"
    },
    {
     "data": {
      "application/vnd.jupyter.widget-view+json": {
       "model_id": "f01654fc08ee4dfcbc4cd497081cd08a",
       "version_major": 2,
       "version_minor": 0
      },
      "text/plain": [
       "Loading pipeline components...:   0%|          | 0/7 [00:00<?, ?it/s]"
      ]
     },
     "metadata": {},
     "output_type": "display_data"
    },
    {
     "data": {
      "application/vnd.jupyter.widget-view+json": {
       "model_id": "cbc16eb1411548ee93141a73345ac30e",
       "version_major": 2,
       "version_minor": 0
      },
      "text/plain": [
       "  0%|          | 0/50 [00:00<?, ?it/s]"
      ]
     },
     "metadata": {},
     "output_type": "display_data"
    }
   ],
   "source": [
    "from diffusers import DiffusionPipeline\n",
    "\n",
    "pipe = DiffusionPipeline.from_pretrained(\"cloudqi/cqi_text_to_image_pt_v0\")\n",
    "\n",
    "prompt = \"Gato em alta qualidade na neve\\n\"\n",
    "image = pipe(prompt).images[0]"
   ]
  }
 ],
 "metadata": {
  "accelerator": "GPU",
  "colab": {
   "gpuType": "T4",
   "provenance": []
  },
  "kernelspec": {
   "display_name": "Python 3",
   "name": "python3"
  },
  "language_info": {
   "name": "python"
  }
 },
 "nbformat": 4,
 "nbformat_minor": 0
}
