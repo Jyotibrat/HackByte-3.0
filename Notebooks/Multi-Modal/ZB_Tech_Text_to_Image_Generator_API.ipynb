{
 "cells": [
  {
   "cell_type": "code",
   "execution_count": 1,
   "metadata": {
    "colab": {
     "base_uri": "https://localhost:8080/"
    },
    "id": "DbspAw4Zvbkl",
    "outputId": "64c82660-5a40-4f35-ac64-3093fc9915aa"
   },
   "outputs": [
    {
     "name": "stdout",
     "output_type": "stream",
     "text": [
      "\u001b[?25l   \u001b[90m━━━━━━━━━━━━━━━━━━━━━━━━━━━━━━━━━━━━━━━━\u001b[0m \u001b[32m0.0/94.9 kB\u001b[0m \u001b[31m?\u001b[0m eta \u001b[36m-:--:--\u001b[0m\r",
      "\u001b[2K   \u001b[90m━━━━━━━━━━━━━━━━━━━━━━━━━━━━━━━━━━━━━━━━\u001b[0m \u001b[32m94.9/94.9 kB\u001b[0m \u001b[31m4.9 MB/s\u001b[0m eta \u001b[36m0:00:00\u001b[0m\n",
      "\u001b[2K   \u001b[90m━━━━━━━━━━━━━━━━━━━━━━━━━━━━━━━━━━━━━━━━\u001b[0m \u001b[32m62.3/62.3 kB\u001b[0m \u001b[31m4.8 MB/s\u001b[0m eta \u001b[36m0:00:00\u001b[0m\n",
      "\u001b[2K   \u001b[90m━━━━━━━━━━━━━━━━━━━━━━━━━━━━━━━━━━━━━━━━\u001b[0m \u001b[32m363.4/363.4 MB\u001b[0m \u001b[31m3.1 MB/s\u001b[0m eta \u001b[36m0:00:00\u001b[0m\n",
      "\u001b[2K   \u001b[90m━━━━━━━━━━━━━━━━━━━━━━━━━━━━━━━━━━━━━━━━\u001b[0m \u001b[32m13.8/13.8 MB\u001b[0m \u001b[31m34.1 MB/s\u001b[0m eta \u001b[36m0:00:00\u001b[0m\n",
      "\u001b[2K   \u001b[90m━━━━━━━━━━━━━━━━━━━━━━━━━━━━━━━━━━━━━━━━\u001b[0m \u001b[32m24.6/24.6 MB\u001b[0m \u001b[31m23.4 MB/s\u001b[0m eta \u001b[36m0:00:00\u001b[0m\n",
      "\u001b[2K   \u001b[90m━━━━━━━━━━━━━━━━━━━━━━━━━━━━━━━━━━━━━━━━\u001b[0m \u001b[32m883.7/883.7 kB\u001b[0m \u001b[31m29.0 MB/s\u001b[0m eta \u001b[36m0:00:00\u001b[0m\n",
      "\u001b[2K   \u001b[90m━━━━━━━━━━━━━━━━━━━━━━━━━━━━━━━━━━━━━━━━\u001b[0m \u001b[32m664.8/664.8 MB\u001b[0m \u001b[31m2.3 MB/s\u001b[0m eta \u001b[36m0:00:00\u001b[0m\n",
      "\u001b[2K   \u001b[90m━━━━━━━━━━━━━━━━━━━━━━━━━━━━━━━━━━━━━━━━\u001b[0m \u001b[32m211.5/211.5 MB\u001b[0m \u001b[31m5.8 MB/s\u001b[0m eta \u001b[36m0:00:00\u001b[0m\n",
      "\u001b[2K   \u001b[90m━━━━━━━━━━━━━━━━━━━━━━━━━━━━━━━━━━━━━━━━\u001b[0m \u001b[32m56.3/56.3 MB\u001b[0m \u001b[31m10.3 MB/s\u001b[0m eta \u001b[36m0:00:00\u001b[0m\n",
      "\u001b[2K   \u001b[90m━━━━━━━━━━━━━━━━━━━━━━━━━━━━━━━━━━━━━━━━\u001b[0m \u001b[32m127.9/127.9 MB\u001b[0m \u001b[31m6.8 MB/s\u001b[0m eta \u001b[36m0:00:00\u001b[0m\n",
      "\u001b[2K   \u001b[90m━━━━━━━━━━━━━━━━━━━━━━━━━━━━━━━━━━━━━━━━\u001b[0m \u001b[32m207.5/207.5 MB\u001b[0m \u001b[31m5.1 MB/s\u001b[0m eta \u001b[36m0:00:00\u001b[0m\n",
      "\u001b[2K   \u001b[90m━━━━━━━━━━━━━━━━━━━━━━━━━━━━━━━━━━━━━━━━\u001b[0m \u001b[32m21.1/21.1 MB\u001b[0m \u001b[31m62.5 MB/s\u001b[0m eta \u001b[36m0:00:00\u001b[0m\n",
      "\u001b[2K   \u001b[90m━━━━━━━━━━━━━━━━━━━━━━━━━━━━━━━━━━━━━━━━\u001b[0m \u001b[32m72.0/72.0 kB\u001b[0m \u001b[31m6.3 MB/s\u001b[0m eta \u001b[36m0:00:00\u001b[0m\n",
      "\u001b[?25h"
     ]
    }
   ],
   "source": [
    "!pip install fastapi uvicorn pyngrok diffusers transformers torch torchvision torchaudio -q"
   ]
  },
  {
   "cell_type": "code",
   "execution_count": 2,
   "metadata": {
    "id": "-1NViZyrvd9d"
   },
   "outputs": [],
   "source": [
    "import torch\n",
    "from diffusers import DiffusionPipeline\n",
    "from fastapi import FastAPI\n",
    "from pydantic import BaseModel\n",
    "from fastapi.responses import FileResponse\n",
    "from PIL import Image\n",
    "import uvicorn\n",
    "import os\n",
    "import nest_asyncio\n"
   ]
  },
  {
   "cell_type": "code",
   "execution_count": 3,
   "metadata": {
    "colab": {
     "base_uri": "https://localhost:8080/",
     "height": 1000,
     "referenced_widgets": [
      "3f33b2be36314825bf44310965be510e",
      "2bf6cc44e90344f2bd993fcb641ed7c7",
      "279cae4ed57c4f28b6d026fbe4f2dc62",
      "38c5b15f3bd64932b2eaa4ac1bb03b1d",
      "c80fcfb989a4435b91d0a5c4c143e720",
      "99196cc4d5d44a6a9ec3914259494117",
      "3b8fcc6a7e8842788a98a1d966a4e7b2",
      "0b0c874c32504427baab1c782dbf9767",
      "8bd1ecba149142d0b27d8fa475306963",
      "bfbcabfb1fa84d9ab6928050780f9452",
      "237ff5e849d74d33a61a163affe0b6b4",
      "3b4c99107d4d456e93f828ea1f7f7796",
      "060eb2f4cb30476cbee747387e0d5c7b",
      "873d835e940a4b2d8074531c68ce5f5c",
      "dedc6e59b7ae46a3957cfa692f4168dd",
      "097435fcad3f4ecba0e469550e57791a",
      "e78b1c6be0d54ffcb345d49cdbab1809",
      "511068f4ccfa42038e1eb1dfde715d6e",
      "6c7c5f4b48a04818b4d6697927565a7f",
      "61dea7ea67304a21b908346e744e6375",
      "e28bcedee42746ccb89d7f0ed938389e",
      "64abab78611b4128b31f2b98a75eb128",
      "7f9677eac6174f6593e2a2c989a39aec",
      "252d68ba7db846b590b2c6b681f4db93",
      "d12133b0b2d244858b07e7521a4225f9",
      "2a651a3460ff47cbba4e719cd373e8d6",
      "7d4a0ac6bb804cd19928923bafa0f892",
      "ea62c6ca4cf7409498b93241574418d7",
      "0e5c340c6d4f4f6eb8ca8ad44b35b480",
      "afe48bf7290d4d2b824d603d53bb002c",
      "938c2ddda1df4c0f8491c1564d1000cf",
      "92f28166babb47fba77f06c466bc8bce",
      "fca293c54b924ca391e4d7a2aae79a26",
      "e628489e573e42cb862028eda502bc06",
      "f0034abf6b184808a471da51b1876619",
      "dc825a7f0f98423e956ee6d688e5660b",
      "4671aaba835646cfb3ddce33b543cfd2",
      "82a80c31136f450eab6497277cf1e6df",
      "dee0cd3bf1d14284931be9116c599802",
      "79c70488fbf14bdbb9bd1e0688c43a5c",
      "4ef6689a96f34365967ef016981f63eb",
      "b6b88451a3e24882a648d8750bc6886b",
      "dda1ca7f6e024ac78348c55a7d46baae",
      "86d51e5cf3fa471a8992d88b4022342b",
      "01a713e4649f4d2b87178fc6476af6e8",
      "f1240efd00e24876864059401a42b4cc",
      "3cbd1afee9fa4430b0e130ffd6f716e3",
      "14bb4f87780447899acfbf4bf942064f",
      "9079155fd73c4ff1988c9dcce88e5dc8",
      "adcf2f5d100d45c08b0448291ff2af4a",
      "2a32aa2cf2ee4daa9e59dbb1f61b8b45",
      "610c1a216d0e4aada5e20e38fc7da174",
      "5c993d3596bb4c468f01167ff794a25d",
      "6968f95df2f8467aad946d9bb5bad7c3",
      "9e0f1eb598cb4d02bcf3ca2880d4ac3c",
      "2cc6a7d1c7ee490fbaf4ea22507d381c",
      "515fa9ed8d294336831d4f23f65d083e",
      "714bd34adb034a71a5fa3818a8d9ba11",
      "84b3a55b5c4d4d53a6ffbf8177f38834",
      "e4718a96efca4a23a9ffcb5370b5c2ec",
      "22898fe1a009461daca3ce7902ba4a81",
      "f4e0ac222f1d465e9ce46d30f78183b9",
      "7db9dc5a3efe4df9957e8b5d59407fa3",
      "82249358393e4f87aeb82cd4a1401f07",
      "9e4979d89ec14b0bae160a140d8ed3ff",
      "25b68fe0cd6b4ceaa4c16404cc80f365",
      "78b489da95d345c38ca6616f9eeb80ea",
      "d0756dfa37d04db39be6289ffdd1d35e",
      "34c5de88151e47e181f9c5ec08da64fd",
      "a2315a430e5f46aab3e4e58a5183d750",
      "b10afc63f9d5444b977fb418959c80a6",
      "44327075d51b4f26bd5aeb2da87ee126",
      "aa176798f7304148b43dfe2a21143d6e",
      "1f1700857b0b479f92e40cacd37110e6",
      "fbe05f310d48492095ff68967de9531f",
      "0d65e1c1cfda4b249b086454840215db",
      "bdc5ad27f4af44c494e4d9cf2f5b169e",
      "c47fda67542e44be9a7de9af97e5e7bb",
      "781d52b70c5f426c824aff94c11468ca",
      "bb38295b3cc5423cbfc609002b23d86d",
      "f4b5bb4f7d9e46378f52270d1b0a8797",
      "6affafb06b554d12887e51b140dddeee",
      "d5e9878999e14eb6974baef79dfdb183",
      "0c1df4b88a904edfb4a496f0b13e902a",
      "d4cd917a24d243929e66a149ee5211cc",
      "99adc994b5c64bc3ac1ffc5699fde1a0",
      "e59beff74cf74bc6a51148236bc71299",
      "83ac37d8372d4e2d89afbcd1e4f0d157",
      "de4cf3f016a3401db1a14f06303650ed",
      "dff701a33e174b92b8c1b1e1374f75e0",
      "c7dabaf249494d729c798fb2b2b9f584",
      "86528e266aed472eaa5346a402251eb2",
      "ee0b9771667a402f82659f00fc584257",
      "f6de8a6eee5a4b4f9c33535b037cda66",
      "21cbd9e1bce34fc1978e63b2667276a2",
      "5d715276bbba4a65b13231ecb285b67f",
      "b66a25ce74aa4843bfd26d8480ed548d",
      "e6ddb58b8e90454fa34f2885504dd35f",
      "46a52b1eb79a4345b1bcc4ddaf4a5cec",
      "99005ecbf63949878dd54f1862e88223",
      "b0cac16396864b6189a796b42f01fee4",
      "90da4b1066b74fcb8f822e96514321d4",
      "6e213bca974a430eb3410e7b2e7c9287",
      "1500801a94904d20b2967ab70a4ddc75",
      "04c71cb31c584474ae8c990b3be1e99f",
      "b7a0bca526004232a0583242f597caed",
      "2fa33d1c5e1248a49f77e8619e273740",
      "6464d59bc58446e9acf557ffbddd701d",
      "f99bb4f0ff7d4c6290dec02b8ca7e6de",
      "c5fbae56b78b42579140b481375e5e5f",
      "238f2d48a31242a682cd9bf8fe00e8d6",
      "a5d7089519c542cc9bc8b724f4b5ecad",
      "5099ac74f2ef419994155a77febae179",
      "1f0d5c6486ab4e488ec437628dabd083",
      "d28c58bb787d48d9bd11b9aba060cfb4",
      "848c612c3d744b708c341ef9920cd2b7",
      "f37212c5c4f64e089fdf18d204d2bff9",
      "ea7da7ef75a345a8b2b213feb461548e",
      "cf1371957ea44f9fba96f9def83fcb27",
      "4b2a3ff7f9fd468ba04a56519f37c949",
      "7aa0273b955b4b7b8b114fee5a5f7f83",
      "abb0aa6a7496425e9da8eb17b0d4a454",
      "76791df4fa224999ab73cb6d907d703c",
      "5ad67c9d854e42eca4f189470f1e9e21",
      "20ac5c867f8c41dfbf768a433c41646e",
      "31d625c0dfba4935bcd88bf6fe08cc20",
      "47fcae822ada4d48bc9af53e6a1696a3",
      "58c27e8a6ea3445abb62bd36ca4d5102",
      "44fd50cf02504bd8a597006ea36f3a30",
      "e853eabc605146ed913f07fcb0a93f6b",
      "3c4f091cc8c74de0a2a6f24b044bb1d7",
      "ccf90d06aadf4ed49ab0e5de7fe47d07",
      "43ad7bd3b79449f8b520b7360f5bcc27",
      "59b1bbb4418e42ab824cc1b878bd0736",
      "20761346da50460aab8010b0b945a11b",
      "b5885fcaefb047219b233bce67d34a14",
      "3bb250d6e5274ec4b54214c89d9d7d6e",
      "f63dd2e53b484debbd3be755bceb5fe9",
      "b047601097e04debb51120c9c699c2ee",
      "a477c8115cc0422dbef0568d694ac59b",
      "1e0affeac1564408a1e21e04b48bb390",
      "9c5459376e3b470d9b511b9e1f03c1e1",
      "2b9bf47acb554f2893551e8b7fb13672",
      "cde34204edc0479baac43f6214de6abd",
      "763b87a36a534491bb604fe396ba9d14",
      "7c5c33f39ea04b81862da0a6a6ae347a",
      "1355de15b6134dec8c511134d8a018db",
      "5d04f776d0744c89aa6f487fcdc9d22c",
      "09eb9ea314ee43cbb0e4d5f53ba76640",
      "c623ae1352474b8a869f879877894b83",
      "6a69aa9332d84afeb3c3a8943f19e0c1",
      "03a99ea21e1647f7898d3f533f9b401e",
      "d224269207bc49bf887790a01988bc24",
      "493583e3d83f44af89c7bfcfc06d5b95",
      "abe24ccd322e48f3abfb0563b8632a86",
      "bec6c8f2d488466a90b9fdd5bb124fae",
      "b65ab5547eb742b08e2cd5a5b7e6d18f",
      "c8617c52734749f99182ca80ebb5f84c",
      "f2713c8157024954bce2e3f49f9cb818",
      "d1a40bc203504c65ab4533530fd2668f",
      "ff5634ea13424060af8f76f54dd419df",
      "f30febac5f104f1e9c149c7162016136",
      "41916c0d87cd470f81147db6e6a893d2",
      "a12d81c4bad041a7b79e448a29228900",
      "6b66895466794b1e92e88d4bd983148c",
      "e7f4f9a8fe9246b1be27af7b7e36b037",
      "08991ff3e4754967a539347e5f215180",
      "333b2ad665a54be2abe72f59d297ae19",
      "b125f7ffae114ce398672c6605ff8403",
      "516d780c0b3442829a5ee5225d02a1b4",
      "6fbb93e8c4f94d3b94b6291ac0cba557",
      "8aa7f13a6bd644258df9750f9096733f",
      "b9cfa56d8f5d40f68ace711b6ee48b5a",
      "b58aa2819d294d6c9dc6181d1f21cb26",
      "70fc97d3bcad45118e020e6b29e51c3f",
      "970f84513a384ee38f094c254e080271",
      "ed4597f54d8a4cefb7b4ebb5afef26f6",
      "8e564716bae14d52a909ac829686c05e",
      "c2515a1461504d78a4a75a5607f00969",
      "bb69d17d76d74ab9b11f1fc28ea6e5f6",
      "2ad0e08731cd4f26b57d1eff1fbacf06",
      "4a3a21a19a0d47f591354366aec70e89",
      "2058011c382a419e9de9d25a4eb60ced",
      "d179963aff0e456499d7ccf88b53d709",
      "a5e193b412834e9998871fc20cfd165f",
      "96d613979ac843589825b287843747df",
      "23add17f0d0a4b11be5500189c217139"
     ]
    },
    "id": "SHBb2h5RvrvN",
    "outputId": "26b27688-a96a-4bb1-abc7-e49acddee8bd"
   },
   "outputs": [
    {
     "data": {
      "application/vnd.jupyter.widget-view+json": {
       "model_id": "3f33b2be36314825bf44310965be510e",
       "version_major": 2,
       "version_minor": 0
      },
      "text/plain": [
       "model_index.json:   0%|          | 0.00/540 [00:00<?, ?B/s]"
      ]
     },
     "metadata": {},
     "output_type": "display_data"
    },
    {
     "data": {
      "application/vnd.jupyter.widget-view+json": {
       "model_id": "3b4c99107d4d456e93f828ea1f7f7796",
       "version_major": 2,
       "version_minor": 0
      },
      "text/plain": [
       "Fetching 15 files:   0%|          | 0/15 [00:00<?, ?it/s]"
      ]
     },
     "metadata": {},
     "output_type": "display_data"
    },
    {
     "data": {
      "application/vnd.jupyter.widget-view+json": {
       "model_id": "7f9677eac6174f6593e2a2c989a39aec",
       "version_major": 2,
       "version_minor": 0
      },
      "text/plain": [
       "model.safetensors:   0%|          | 0.00/1.22G [00:00<?, ?B/s]"
      ]
     },
     "metadata": {},
     "output_type": "display_data"
    },
    {
     "data": {
      "application/vnd.jupyter.widget-view+json": {
       "model_id": "e628489e573e42cb862028eda502bc06",
       "version_major": 2,
       "version_minor": 0
      },
      "text/plain": [
       "config.json:   0%|          | 0.00/4.72k [00:00<?, ?B/s]"
      ]
     },
     "metadata": {},
     "output_type": "display_data"
    },
    {
     "data": {
      "application/vnd.jupyter.widget-view+json": {
       "model_id": "01a713e4649f4d2b87178fc6476af6e8",
       "version_major": 2,
       "version_minor": 0
      },
      "text/plain": [
       "config.json:   0%|          | 0.00/611 [00:00<?, ?B/s]"
      ]
     },
     "metadata": {},
     "output_type": "display_data"
    },
    {
     "data": {
      "application/vnd.jupyter.widget-view+json": {
       "model_id": "2cc6a7d1c7ee490fbaf4ea22507d381c",
       "version_major": 2,
       "version_minor": 0
      },
      "text/plain": [
       "merges.txt:   0%|          | 0.00/525k [00:00<?, ?B/s]"
      ]
     },
     "metadata": {},
     "output_type": "display_data"
    },
    {
     "data": {
      "application/vnd.jupyter.widget-view+json": {
       "model_id": "78b489da95d345c38ca6616f9eeb80ea",
       "version_major": 2,
       "version_minor": 0
      },
      "text/plain": [
       "scheduler_config.json:   0%|          | 0.00/288 [00:00<?, ?B/s]"
      ]
     },
     "metadata": {},
     "output_type": "display_data"
    },
    {
     "data": {
      "application/vnd.jupyter.widget-view+json": {
       "model_id": "c47fda67542e44be9a7de9af97e5e7bb",
       "version_major": 2,
       "version_minor": 0
      },
      "text/plain": [
       "preprocessor_config.json:   0%|          | 0.00/341 [00:00<?, ?B/s]"
      ]
     },
     "metadata": {},
     "output_type": "display_data"
    },
    {
     "data": {
      "application/vnd.jupyter.widget-view+json": {
       "model_id": "de4cf3f016a3401db1a14f06303650ed",
       "version_major": 2,
       "version_minor": 0
      },
      "text/plain": [
       "model.safetensors:   0%|          | 0.00/246M [00:00<?, ?B/s]"
      ]
     },
     "metadata": {},
     "output_type": "display_data"
    },
    {
     "data": {
      "application/vnd.jupyter.widget-view+json": {
       "model_id": "99005ecbf63949878dd54f1862e88223",
       "version_major": 2,
       "version_minor": 0
      },
      "text/plain": [
       "special_tokens_map.json:   0%|          | 0.00/471 [00:00<?, ?B/s]"
      ]
     },
     "metadata": {},
     "output_type": "display_data"
    },
    {
     "data": {
      "application/vnd.jupyter.widget-view+json": {
       "model_id": "238f2d48a31242a682cd9bf8fe00e8d6",
       "version_major": 2,
       "version_minor": 0
      },
      "text/plain": [
       "config.json:   0%|          | 0.00/928 [00:00<?, ?B/s]"
      ]
     },
     "metadata": {},
     "output_type": "display_data"
    },
    {
     "data": {
      "application/vnd.jupyter.widget-view+json": {
       "model_id": "abb0aa6a7496425e9da8eb17b0d4a454",
       "version_major": 2,
       "version_minor": 0
      },
      "text/plain": [
       "tokenizer_config.json:   0%|          | 0.00/816 [00:00<?, ?B/s]"
      ]
     },
     "metadata": {},
     "output_type": "display_data"
    },
    {
     "data": {
      "application/vnd.jupyter.widget-view+json": {
       "model_id": "43ad7bd3b79449f8b520b7360f5bcc27",
       "version_major": 2,
       "version_minor": 0
      },
      "text/plain": [
       "vocab.json:   0%|          | 0.00/1.06M [00:00<?, ?B/s]"
      ]
     },
     "metadata": {},
     "output_type": "display_data"
    },
    {
     "data": {
      "application/vnd.jupyter.widget-view+json": {
       "model_id": "cde34204edc0479baac43f6214de6abd",
       "version_major": 2,
       "version_minor": 0
      },
      "text/plain": [
       "diffusion_pytorch_model.safetensors:   0%|          | 0.00/3.44G [00:00<?, ?B/s]"
      ]
     },
     "metadata": {},
     "output_type": "display_data"
    },
    {
     "data": {
      "application/vnd.jupyter.widget-view+json": {
       "model_id": "abe24ccd322e48f3abfb0563b8632a86",
       "version_major": 2,
       "version_minor": 0
      },
      "text/plain": [
       "diffusion_pytorch_model.safetensors:   0%|          | 0.00/335M [00:00<?, ?B/s]"
      ]
     },
     "metadata": {},
     "output_type": "display_data"
    },
    {
     "data": {
      "application/vnd.jupyter.widget-view+json": {
       "model_id": "e7f4f9a8fe9246b1be27af7b7e36b037",
       "version_major": 2,
       "version_minor": 0
      },
      "text/plain": [
       "config.json:   0%|          | 0.00/637 [00:00<?, ?B/s]"
      ]
     },
     "metadata": {},
     "output_type": "display_data"
    },
    {
     "data": {
      "application/vnd.jupyter.widget-view+json": {
       "model_id": "ed4597f54d8a4cefb7b4ebb5afef26f6",
       "version_major": 2,
       "version_minor": 0
      },
      "text/plain": [
       "Loading pipeline components...:   0%|          | 0/7 [00:00<?, ?it/s]"
      ]
     },
     "metadata": {},
     "output_type": "display_data"
    },
    {
     "data": {
      "text/plain": [
       "StableDiffusionPipeline {\n",
       "  \"_class_name\": \"StableDiffusionPipeline\",\n",
       "  \"_diffusers_version\": \"0.32.2\",\n",
       "  \"_name_or_path\": \"ZB-Tech/Text-to-Image\",\n",
       "  \"feature_extractor\": [\n",
       "    \"transformers\",\n",
       "    \"CLIPImageProcessor\"\n",
       "  ],\n",
       "  \"image_encoder\": [\n",
       "    null,\n",
       "    null\n",
       "  ],\n",
       "  \"requires_safety_checker\": true,\n",
       "  \"safety_checker\": [\n",
       "    \"stable_diffusion\",\n",
       "    \"StableDiffusionSafetyChecker\"\n",
       "  ],\n",
       "  \"scheduler\": [\n",
       "    \"diffusers\",\n",
       "    \"PNDMScheduler\"\n",
       "  ],\n",
       "  \"text_encoder\": [\n",
       "    \"transformers\",\n",
       "    \"CLIPTextModel\"\n",
       "  ],\n",
       "  \"tokenizer\": [\n",
       "    \"transformers\",\n",
       "    \"CLIPTokenizer\"\n",
       "  ],\n",
       "  \"unet\": [\n",
       "    \"diffusers\",\n",
       "    \"UNet2DConditionModel\"\n",
       "  ],\n",
       "  \"vae\": [\n",
       "    \"diffusers\",\n",
       "    \"AutoencoderKL\"\n",
       "  ]\n",
       "}"
      ]
     },
     "execution_count": 3,
     "metadata": {},
     "output_type": "execute_result"
    }
   ],
   "source": [
    "# Load the ZB-Tech model\n",
    "model_name = \"ZB-Tech/Text-to-Image\"\n",
    "pipe = DiffusionPipeline.from_pretrained(model_name, torch_dtype=torch.float16)\n",
    "\n",
    "# Move to GPU if available\n",
    "device = \"cuda\" if torch.cuda.is_available() else \"cpu\"\n",
    "pipe.to(device)"
   ]
  },
  {
   "cell_type": "code",
   "execution_count": 7,
   "metadata": {
    "colab": {
     "base_uri": "https://localhost:8080/",
     "height": 223,
     "referenced_widgets": [
      "5055558745984af7b43cef0cb27988ec",
      "ade49aaa5fca402babd73ac2219d78fe",
      "bf99a9ea3ceb409390eb55ed8c75218f",
      "e97e7482ce294bc9928100da9370117f",
      "864a81ec3933410d8fa782dcf4b1256f",
      "e544b60b7dba479cb6e873b1d42f0722",
      "175e41d0e12d4429a3c26a3713270ba9",
      "4addacf5f6f44846a941aeea6ebb1493",
      "46f3f985160f4dcf8b8df9f91b331f6d",
      "9e1a2718aa974b23b01e8fafd3f53b08",
      "cffdf29715334ff9ad4ae21555615352"
     ]
    },
    "id": "qqE6eilYvuvC",
    "outputId": "d6eb3aec-ddf4-469f-86d8-4be048f1b65c"
   },
   "outputs": [
    {
     "name": "stderr",
     "output_type": "stream",
     "text": [
      "INFO:     Started server process [316]\n",
      "INFO:     Waiting for application startup.\n",
      "INFO:     Application startup complete.\n",
      "INFO:     Uvicorn running on http://0.0.0.0:8000 (Press CTRL+C to quit)\n"
     ]
    },
    {
     "name": "stdout",
     "output_type": "stream",
     "text": [
      "Generating image for prompt: 2D Floor plan of 3 bedroom apartment\n"
     ]
    },
    {
     "data": {
      "application/vnd.jupyter.widget-view+json": {
       "model_id": "5055558745984af7b43cef0cb27988ec",
       "version_major": 2,
       "version_minor": 0
      },
      "text/plain": [
       "  0%|          | 0/50 [00:00<?, ?it/s]"
      ]
     },
     "metadata": {},
     "output_type": "display_data"
    },
    {
     "name": "stdout",
     "output_type": "stream",
     "text": [
      "INFO:     34.169.114.242:0 - \"POST /generate HTTP/1.1\" 200 OK\n"
     ]
    },
    {
     "name": "stderr",
     "output_type": "stream",
     "text": [
      "INFO:     Shutting down\n",
      "INFO:     Waiting for application shutdown.\n",
      "INFO:     Application shutdown complete.\n",
      "INFO:     Finished server process [316]\n"
     ]
    }
   ],
   "source": [
    "# Define FastAPI app\n",
    "app = FastAPI()\n",
    "\n",
    "# Request model\n",
    "class PromptRequest(BaseModel):\n",
    "    prompt: str\n",
    "\n",
    "# Endpoint to generate image\n",
    "@app.post(\"/generate\")\n",
    "def generate_image(request: PromptRequest):\n",
    "    print(f\"Generating image for prompt: {request.prompt}\")\n",
    "    image = pipe(prompt=request.prompt).images[0]\n",
    "    image_path = \"generated_image.png\"\n",
    "    image.save(image_path)\n",
    "    return FileResponse(image_path, media_type=\"image/png\")\n",
    "\n",
    "# Fix event loop issue in Colab\n",
    "nest_asyncio.apply()\n",
    "\n",
    "# Run the API in Colab\n",
    "uvicorn.run(app, host=\"0.0.0.0\", port=8000)"
   ]
  },
  {
   "cell_type": "code",
   "execution_count": 6,
   "metadata": {
    "colab": {
     "base_uri": "https://localhost:8080/"
    },
    "id": "Jd4p2uy7vv9q",
    "outputId": "6cb15563-7806-4bf6-a834-1c61af62af16"
   },
   "outputs": [
    {
     "name": "stdout",
     "output_type": "stream",
     "text": [
      "Requirement already satisfied: pyngrok in /usr/local/lib/python3.11/dist-packages (7.2.3)\n",
      "Requirement already satisfied: PyYAML>=5.1 in /usr/local/lib/python3.11/dist-packages (from pyngrok) (6.0.2)\n",
      "Authtoken saved to configuration file: /root/.config/ngrok/ngrok.yml\n",
      "Public URL: https://a18f-34-125-115-109.ngrok-free.app\n"
     ]
    }
   ],
   "source": [
    "!pip install pyngrok\n",
    "from pyngrok import ngrok\n",
    "\n",
    "# Set your Ngrok auth token (Run only once)\n",
    "!ngrok config add-authtoken NGROK_AUTH_TOKEN\n",
    "\n",
    "# Start Ngrok\n",
    "ngrok_tunnel = ngrok.connect(8000)\n",
    "print(\"Public URL:\", ngrok_tunnel.public_url)"
   ]
  }
 ],
 "metadata": {
  "accelerator": "GPU",
  "colab": {
   "gpuType": "T4",
   "provenance": []
  },
  "kernelspec": {
   "display_name": "Python 3",
   "name": "python3"
  },
  "language_info": {
   "name": "python"
  }
 },
 "nbformat": 4,
 "nbformat_minor": 0
}
