{
  "cells": [
    {
      "cell_type": "code",
      "execution_count": 1,
      "metadata": {
        "colab": {
          "base_uri": "https://localhost:8080/"
        },
        "id": "T3vAGVJXHT6D",
        "outputId": "a2862bca-0a17-44ad-b9c6-b2ee481532ea"
      },
      "outputs": [
        {
          "output_type": "stream",
          "name": "stdout",
          "text": [
            "Mounted at /content/drive\n"
          ]
        }
      ],
      "source": [
        "from google.colab import drive\n",
        "drive.mount('/content/drive')"
      ]
    },
    {
      "cell_type": "code",
      "execution_count": 2,
      "metadata": {
        "colab": {
          "base_uri": "https://localhost:8080/"
        },
        "id": "ZP8yKXUXHXsy",
        "outputId": "f9d5db62-376d-44f7-b90a-afa7001f30c2"
      },
      "outputs": [
        {
          "output_type": "stream",
          "name": "stdout",
          "text": [
            "Looking in indexes: https://download.pytorch.org/whl/cu118\n",
            "Requirement already satisfied: torch in /usr/local/lib/python3.11/dist-packages (2.6.0+cu124)\n",
            "Requirement already satisfied: torchvision in /usr/local/lib/python3.11/dist-packages (0.21.0+cu124)\n",
            "Requirement already satisfied: torchaudio in /usr/local/lib/python3.11/dist-packages (2.6.0+cu124)\n",
            "Requirement already satisfied: filelock in /usr/local/lib/python3.11/dist-packages (from torch) (3.18.0)\n",
            "Requirement already satisfied: typing-extensions>=4.10.0 in /usr/local/lib/python3.11/dist-packages (from torch) (4.12.2)\n",
            "Requirement already satisfied: networkx in /usr/local/lib/python3.11/dist-packages (from torch) (3.4.2)\n",
            "Requirement already satisfied: jinja2 in /usr/local/lib/python3.11/dist-packages (from torch) (3.1.6)\n",
            "Requirement already satisfied: fsspec in /usr/local/lib/python3.11/dist-packages (from torch) (2025.3.0)\n",
            "INFO: pip is looking at multiple versions of torch to determine which version is compatible with other requirements. This could take a while.\n",
            "Collecting torch\n",
            "  Downloading https://download.pytorch.org/whl/cu118/torch-2.6.0%2Bcu118-cp311-cp311-linux_x86_64.whl.metadata (27 kB)\n",
            "Collecting nvidia-cuda-nvrtc-cu11==11.8.89 (from torch)\n",
            "  Downloading https://download.pytorch.org/whl/cu118/nvidia_cuda_nvrtc_cu11-11.8.89-py3-none-manylinux1_x86_64.whl (23.2 MB)\n",
            "\u001b[2K     \u001b[90m━━━━━━━━━━━━━━━━━━━━━━━━━━━━━━━━━━━━━━━━\u001b[0m \u001b[32m23.2/23.2 MB\u001b[0m \u001b[31m70.1 MB/s\u001b[0m eta \u001b[36m0:00:00\u001b[0m\n",
            "\u001b[?25hCollecting nvidia-cuda-runtime-cu11==11.8.89 (from torch)\n",
            "  Downloading https://download.pytorch.org/whl/cu118/nvidia_cuda_runtime_cu11-11.8.89-py3-none-manylinux1_x86_64.whl (875 kB)\n",
            "\u001b[2K     \u001b[90m━━━━━━━━━━━━━━━━━━━━━━━━━━━━━━━━━━━━━━━━\u001b[0m \u001b[32m875.6/875.6 kB\u001b[0m \u001b[31m54.1 MB/s\u001b[0m eta \u001b[36m0:00:00\u001b[0m\n",
            "\u001b[?25hCollecting nvidia-cuda-cupti-cu11==11.8.87 (from torch)\n",
            "  Downloading https://download.pytorch.org/whl/cu118/nvidia_cuda_cupti_cu11-11.8.87-py3-none-manylinux1_x86_64.whl (13.1 MB)\n",
            "\u001b[2K     \u001b[90m━━━━━━━━━━━━━━━━━━━━━━━━━━━━━━━━━━━━━━━━\u001b[0m \u001b[32m13.1/13.1 MB\u001b[0m \u001b[31m105.3 MB/s\u001b[0m eta \u001b[36m0:00:00\u001b[0m\n",
            "\u001b[?25hCollecting nvidia-cudnn-cu11==9.1.0.70 (from torch)\n",
            "  Downloading https://download.pytorch.org/whl/cu118/nvidia_cudnn_cu11-9.1.0.70-py3-none-manylinux2014_x86_64.whl (663.9 MB)\n",
            "\u001b[2K     \u001b[90m━━━━━━━━━━━━━━━━━━━━━━━━━━━━━━━━━━━━━━━━\u001b[0m \u001b[32m663.9/663.9 MB\u001b[0m \u001b[31m2.7 MB/s\u001b[0m eta \u001b[36m0:00:00\u001b[0m\n",
            "\u001b[?25hCollecting nvidia-cublas-cu11==11.11.3.6 (from torch)\n",
            "  Downloading https://download.pytorch.org/whl/cu118/nvidia_cublas_cu11-11.11.3.6-py3-none-manylinux1_x86_64.whl (417.9 MB)\n",
            "\u001b[2K     \u001b[90m━━━━━━━━━━━━━━━━━━━━━━━━━━━━━━━━━━━━━━━━\u001b[0m \u001b[32m417.9/417.9 MB\u001b[0m \u001b[31m2.7 MB/s\u001b[0m eta \u001b[36m0:00:00\u001b[0m\n",
            "\u001b[?25hCollecting nvidia-cufft-cu11==10.9.0.58 (from torch)\n",
            "  Downloading https://download.pytorch.org/whl/cu118/nvidia_cufft_cu11-10.9.0.58-py3-none-manylinux1_x86_64.whl (168.4 MB)\n",
            "\u001b[2K     \u001b[90m━━━━━━━━━━━━━━━━━━━━━━━━━━━━━━━━━━━━━━━━\u001b[0m \u001b[32m168.4/168.4 MB\u001b[0m \u001b[31m6.7 MB/s\u001b[0m eta \u001b[36m0:00:00\u001b[0m\n",
            "\u001b[?25hCollecting nvidia-curand-cu11==10.3.0.86 (from torch)\n",
            "  Downloading https://download.pytorch.org/whl/cu118/nvidia_curand_cu11-10.3.0.86-py3-none-manylinux1_x86_64.whl (58.1 MB)\n",
            "\u001b[2K     \u001b[90m━━━━━━━━━━━━━━━━━━━━━━━━━━━━━━━━━━━━━━━━\u001b[0m \u001b[32m58.1/58.1 MB\u001b[0m \u001b[31m13.1 MB/s\u001b[0m eta \u001b[36m0:00:00\u001b[0m\n",
            "\u001b[?25hCollecting nvidia-cusolver-cu11==11.4.1.48 (from torch)\n",
            "  Downloading https://download.pytorch.org/whl/cu118/nvidia_cusolver_cu11-11.4.1.48-py3-none-manylinux1_x86_64.whl (128.2 MB)\n",
            "\u001b[2K     \u001b[90m━━━━━━━━━━━━━━━━━━━━━━━━━━━━━━━━━━━━━━━━\u001b[0m \u001b[32m128.2/128.2 MB\u001b[0m \u001b[31m7.5 MB/s\u001b[0m eta \u001b[36m0:00:00\u001b[0m\n",
            "\u001b[?25hCollecting nvidia-cusparse-cu11==11.7.5.86 (from torch)\n",
            "  Downloading https://download.pytorch.org/whl/cu118/nvidia_cusparse_cu11-11.7.5.86-py3-none-manylinux1_x86_64.whl (204.1 MB)\n",
            "\u001b[2K     \u001b[90m━━━━━━━━━━━━━━━━━━━━━━━━━━━━━━━━━━━━━━━━\u001b[0m \u001b[32m204.1/204.1 MB\u001b[0m \u001b[31m5.4 MB/s\u001b[0m eta \u001b[36m0:00:00\u001b[0m\n",
            "\u001b[?25hCollecting nvidia-nccl-cu11==2.21.5 (from torch)\n",
            "  Downloading https://download.pytorch.org/whl/cu118/nvidia_nccl_cu11-2.21.5-py3-none-manylinux2014_x86_64.whl (147.8 MB)\n",
            "\u001b[2K     \u001b[90m━━━━━━━━━━━━━━━━━━━━━━━━━━━━━━━━━━━━━━━━\u001b[0m \u001b[32m147.8/147.8 MB\u001b[0m \u001b[31m6.9 MB/s\u001b[0m eta \u001b[36m0:00:00\u001b[0m\n",
            "\u001b[?25hCollecting nvidia-nvtx-cu11==11.8.86 (from torch)\n",
            "  Downloading https://download.pytorch.org/whl/cu118/nvidia_nvtx_cu11-11.8.86-py3-none-manylinux1_x86_64.whl (99 kB)\n",
            "\u001b[2K     \u001b[90m━━━━━━━━━━━━━━━━━━━━━━━━━━━━━━━━━━━━━━━━\u001b[0m \u001b[32m99.1/99.1 kB\u001b[0m \u001b[31m7.6 MB/s\u001b[0m eta \u001b[36m0:00:00\u001b[0m\n",
            "\u001b[?25hRequirement already satisfied: triton==3.2.0 in /usr/local/lib/python3.11/dist-packages (from torch) (3.2.0)\n",
            "Requirement already satisfied: sympy==1.13.1 in /usr/local/lib/python3.11/dist-packages (from torch) (1.13.1)\n",
            "Requirement already satisfied: mpmath<1.4,>=1.1.0 in /usr/local/lib/python3.11/dist-packages (from sympy==1.13.1->torch) (1.3.0)\n",
            "Requirement already satisfied: numpy in /usr/local/lib/python3.11/dist-packages (from torchvision) (2.0.2)\n",
            "Requirement already satisfied: pillow!=8.3.*,>=5.3.0 in /usr/local/lib/python3.11/dist-packages (from torchvision) (11.1.0)\n",
            "Requirement already satisfied: MarkupSafe>=2.0 in /usr/local/lib/python3.11/dist-packages (from jinja2->torch) (3.0.2)\n",
            "Downloading https://download.pytorch.org/whl/cu118/torch-2.6.0%2Bcu118-cp311-cp311-linux_x86_64.whl (848.7 MB)\n",
            "\u001b[2K   \u001b[90m━━━━━━━━━━━━━━━━━━━━━━━━━━━━━━━━━━━━━━━━\u001b[0m \u001b[32m848.7/848.7 MB\u001b[0m \u001b[31m1.2 MB/s\u001b[0m eta \u001b[36m0:00:00\u001b[0m\n",
            "\u001b[?25hInstalling collected packages: nvidia-nvtx-cu11, nvidia-nccl-cu11, nvidia-cusparse-cu11, nvidia-curand-cu11, nvidia-cufft-cu11, nvidia-cuda-runtime-cu11, nvidia-cuda-nvrtc-cu11, nvidia-cuda-cupti-cu11, nvidia-cublas-cu11, nvidia-cusolver-cu11, nvidia-cudnn-cu11, torch\n",
            "  Attempting uninstall: torch\n",
            "    Found existing installation: torch 2.6.0+cu124\n",
            "    Uninstalling torch-2.6.0+cu124:\n",
            "      Successfully uninstalled torch-2.6.0+cu124\n",
            "Successfully installed nvidia-cublas-cu11-11.11.3.6 nvidia-cuda-cupti-cu11-11.8.87 nvidia-cuda-nvrtc-cu11-11.8.89 nvidia-cuda-runtime-cu11-11.8.89 nvidia-cudnn-cu11-9.1.0.70 nvidia-cufft-cu11-10.9.0.58 nvidia-curand-cu11-10.3.0.86 nvidia-cusolver-cu11-11.4.1.48 nvidia-cusparse-cu11-11.7.5.86 nvidia-nccl-cu11-2.21.5 nvidia-nvtx-cu11-11.8.86 torch-2.6.0+cu118\n",
            "Requirement already satisfied: transformers in /usr/local/lib/python3.11/dist-packages (4.49.0)\n",
            "Requirement already satisfied: diffusers[torch] in /usr/local/lib/python3.11/dist-packages (0.32.2)\n",
            "Requirement already satisfied: importlib-metadata in /usr/local/lib/python3.11/dist-packages (from diffusers[torch]) (8.6.1)\n",
            "Requirement already satisfied: filelock in /usr/local/lib/python3.11/dist-packages (from diffusers[torch]) (3.18.0)\n",
            "Requirement already satisfied: huggingface-hub>=0.23.2 in /usr/local/lib/python3.11/dist-packages (from diffusers[torch]) (0.29.3)\n",
            "Requirement already satisfied: numpy in /usr/local/lib/python3.11/dist-packages (from diffusers[torch]) (2.0.2)\n",
            "Requirement already satisfied: regex!=2019.12.17 in /usr/local/lib/python3.11/dist-packages (from diffusers[torch]) (2024.11.6)\n",
            "Requirement already satisfied: requests in /usr/local/lib/python3.11/dist-packages (from diffusers[torch]) (2.32.3)\n",
            "Requirement already satisfied: safetensors>=0.3.1 in /usr/local/lib/python3.11/dist-packages (from diffusers[torch]) (0.5.3)\n",
            "Requirement already satisfied: Pillow in /usr/local/lib/python3.11/dist-packages (from diffusers[torch]) (11.1.0)\n",
            "Requirement already satisfied: torch>=1.4 in /usr/local/lib/python3.11/dist-packages (from diffusers[torch]) (2.6.0+cu118)\n",
            "Requirement already satisfied: accelerate>=0.31.0 in /usr/local/lib/python3.11/dist-packages (from diffusers[torch]) (1.5.2)\n",
            "Requirement already satisfied: packaging>=20.0 in /usr/local/lib/python3.11/dist-packages (from transformers) (24.2)\n",
            "Requirement already satisfied: pyyaml>=5.1 in /usr/local/lib/python3.11/dist-packages (from transformers) (6.0.2)\n",
            "Requirement already satisfied: tokenizers<0.22,>=0.21 in /usr/local/lib/python3.11/dist-packages (from transformers) (0.21.1)\n",
            "Requirement already satisfied: tqdm>=4.27 in /usr/local/lib/python3.11/dist-packages (from transformers) (4.67.1)\n",
            "Requirement already satisfied: psutil in /usr/local/lib/python3.11/dist-packages (from accelerate>=0.31.0->diffusers[torch]) (5.9.5)\n",
            "Requirement already satisfied: fsspec>=2023.5.0 in /usr/local/lib/python3.11/dist-packages (from huggingface-hub>=0.23.2->diffusers[torch]) (2025.3.0)\n",
            "Requirement already satisfied: typing-extensions>=3.7.4.3 in /usr/local/lib/python3.11/dist-packages (from huggingface-hub>=0.23.2->diffusers[torch]) (4.12.2)\n",
            "Requirement already satisfied: networkx in /usr/local/lib/python3.11/dist-packages (from torch>=1.4->diffusers[torch]) (3.4.2)\n",
            "Requirement already satisfied: jinja2 in /usr/local/lib/python3.11/dist-packages (from torch>=1.4->diffusers[torch]) (3.1.6)\n",
            "Requirement already satisfied: nvidia-cuda-nvrtc-cu11==11.8.89 in /usr/local/lib/python3.11/dist-packages (from torch>=1.4->diffusers[torch]) (11.8.89)\n",
            "Requirement already satisfied: nvidia-cuda-runtime-cu11==11.8.89 in /usr/local/lib/python3.11/dist-packages (from torch>=1.4->diffusers[torch]) (11.8.89)\n",
            "Requirement already satisfied: nvidia-cuda-cupti-cu11==11.8.87 in /usr/local/lib/python3.11/dist-packages (from torch>=1.4->diffusers[torch]) (11.8.87)\n",
            "Requirement already satisfied: nvidia-cudnn-cu11==9.1.0.70 in /usr/local/lib/python3.11/dist-packages (from torch>=1.4->diffusers[torch]) (9.1.0.70)\n",
            "Requirement already satisfied: nvidia-cublas-cu11==11.11.3.6 in /usr/local/lib/python3.11/dist-packages (from torch>=1.4->diffusers[torch]) (11.11.3.6)\n",
            "Requirement already satisfied: nvidia-cufft-cu11==10.9.0.58 in /usr/local/lib/python3.11/dist-packages (from torch>=1.4->diffusers[torch]) (10.9.0.58)\n",
            "Requirement already satisfied: nvidia-curand-cu11==10.3.0.86 in /usr/local/lib/python3.11/dist-packages (from torch>=1.4->diffusers[torch]) (10.3.0.86)\n",
            "Requirement already satisfied: nvidia-cusolver-cu11==11.4.1.48 in /usr/local/lib/python3.11/dist-packages (from torch>=1.4->diffusers[torch]) (11.4.1.48)\n",
            "Requirement already satisfied: nvidia-cusparse-cu11==11.7.5.86 in /usr/local/lib/python3.11/dist-packages (from torch>=1.4->diffusers[torch]) (11.7.5.86)\n",
            "Requirement already satisfied: nvidia-nccl-cu11==2.21.5 in /usr/local/lib/python3.11/dist-packages (from torch>=1.4->diffusers[torch]) (2.21.5)\n",
            "Requirement already satisfied: nvidia-nvtx-cu11==11.8.86 in /usr/local/lib/python3.11/dist-packages (from torch>=1.4->diffusers[torch]) (11.8.86)\n",
            "Requirement already satisfied: triton==3.2.0 in /usr/local/lib/python3.11/dist-packages (from torch>=1.4->diffusers[torch]) (3.2.0)\n",
            "Requirement already satisfied: sympy==1.13.1 in /usr/local/lib/python3.11/dist-packages (from torch>=1.4->diffusers[torch]) (1.13.1)\n",
            "Requirement already satisfied: mpmath<1.4,>=1.1.0 in /usr/local/lib/python3.11/dist-packages (from sympy==1.13.1->torch>=1.4->diffusers[torch]) (1.3.0)\n",
            "Requirement already satisfied: zipp>=3.20 in /usr/local/lib/python3.11/dist-packages (from importlib-metadata->diffusers[torch]) (3.21.0)\n",
            "Requirement already satisfied: charset-normalizer<4,>=2 in /usr/local/lib/python3.11/dist-packages (from requests->diffusers[torch]) (3.4.1)\n",
            "Requirement already satisfied: idna<4,>=2.5 in /usr/local/lib/python3.11/dist-packages (from requests->diffusers[torch]) (3.10)\n",
            "Requirement already satisfied: urllib3<3,>=1.21.1 in /usr/local/lib/python3.11/dist-packages (from requests->diffusers[torch]) (2.3.0)\n",
            "Requirement already satisfied: certifi>=2017.4.17 in /usr/local/lib/python3.11/dist-packages (from requests->diffusers[torch]) (2025.1.31)\n",
            "Requirement already satisfied: MarkupSafe>=2.0 in /usr/local/lib/python3.11/dist-packages (from jinja2->torch>=1.4->diffusers[torch]) (3.0.2)\n",
            "Collecting controlnet_aux\n",
            "  Downloading controlnet_aux-0.0.9-py3-none-any.whl.metadata (6.5 kB)\n",
            "Requirement already satisfied: torch in /usr/local/lib/python3.11/dist-packages (from controlnet_aux) (2.6.0+cu118)\n",
            "Requirement already satisfied: importlib-metadata in /usr/local/lib/python3.11/dist-packages (from controlnet_aux) (8.6.1)\n",
            "Requirement already satisfied: huggingface-hub in /usr/local/lib/python3.11/dist-packages (from controlnet_aux) (0.29.3)\n",
            "Requirement already satisfied: scipy in /usr/local/lib/python3.11/dist-packages (from controlnet_aux) (1.14.1)\n",
            "Requirement already satisfied: opencv-python-headless in /usr/local/lib/python3.11/dist-packages (from controlnet_aux) (4.11.0.86)\n",
            "Requirement already satisfied: filelock in /usr/local/lib/python3.11/dist-packages (from controlnet_aux) (3.18.0)\n",
            "Requirement already satisfied: numpy in /usr/local/lib/python3.11/dist-packages (from controlnet_aux) (2.0.2)\n",
            "Requirement already satisfied: Pillow in /usr/local/lib/python3.11/dist-packages (from controlnet_aux) (11.1.0)\n",
            "Requirement already satisfied: einops in /usr/local/lib/python3.11/dist-packages (from controlnet_aux) (0.8.1)\n",
            "Requirement already satisfied: torchvision in /usr/local/lib/python3.11/dist-packages (from controlnet_aux) (0.21.0+cu124)\n",
            "Collecting timm<=0.6.7 (from controlnet_aux)\n",
            "  Downloading timm-0.6.7-py3-none-any.whl.metadata (33 kB)\n",
            "Requirement already satisfied: scikit-image in /usr/local/lib/python3.11/dist-packages (from controlnet_aux) (0.25.2)\n",
            "Requirement already satisfied: typing-extensions>=4.10.0 in /usr/local/lib/python3.11/dist-packages (from torch->controlnet_aux) (4.12.2)\n",
            "Requirement already satisfied: networkx in /usr/local/lib/python3.11/dist-packages (from torch->controlnet_aux) (3.4.2)\n",
            "Requirement already satisfied: jinja2 in /usr/local/lib/python3.11/dist-packages (from torch->controlnet_aux) (3.1.6)\n",
            "Requirement already satisfied: fsspec in /usr/local/lib/python3.11/dist-packages (from torch->controlnet_aux) (2025.3.0)\n",
            "Requirement already satisfied: nvidia-cuda-nvrtc-cu11==11.8.89 in /usr/local/lib/python3.11/dist-packages (from torch->controlnet_aux) (11.8.89)\n",
            "Requirement already satisfied: nvidia-cuda-runtime-cu11==11.8.89 in /usr/local/lib/python3.11/dist-packages (from torch->controlnet_aux) (11.8.89)\n",
            "Requirement already satisfied: nvidia-cuda-cupti-cu11==11.8.87 in /usr/local/lib/python3.11/dist-packages (from torch->controlnet_aux) (11.8.87)\n",
            "Requirement already satisfied: nvidia-cudnn-cu11==9.1.0.70 in /usr/local/lib/python3.11/dist-packages (from torch->controlnet_aux) (9.1.0.70)\n",
            "Requirement already satisfied: nvidia-cublas-cu11==11.11.3.6 in /usr/local/lib/python3.11/dist-packages (from torch->controlnet_aux) (11.11.3.6)\n",
            "Requirement already satisfied: nvidia-cufft-cu11==10.9.0.58 in /usr/local/lib/python3.11/dist-packages (from torch->controlnet_aux) (10.9.0.58)\n",
            "Requirement already satisfied: nvidia-curand-cu11==10.3.0.86 in /usr/local/lib/python3.11/dist-packages (from torch->controlnet_aux) (10.3.0.86)\n",
            "Requirement already satisfied: nvidia-cusolver-cu11==11.4.1.48 in /usr/local/lib/python3.11/dist-packages (from torch->controlnet_aux) (11.4.1.48)\n",
            "Requirement already satisfied: nvidia-cusparse-cu11==11.7.5.86 in /usr/local/lib/python3.11/dist-packages (from torch->controlnet_aux) (11.7.5.86)\n",
            "Requirement already satisfied: nvidia-nccl-cu11==2.21.5 in /usr/local/lib/python3.11/dist-packages (from torch->controlnet_aux) (2.21.5)\n",
            "Requirement already satisfied: nvidia-nvtx-cu11==11.8.86 in /usr/local/lib/python3.11/dist-packages (from torch->controlnet_aux) (11.8.86)\n",
            "Requirement already satisfied: triton==3.2.0 in /usr/local/lib/python3.11/dist-packages (from torch->controlnet_aux) (3.2.0)\n",
            "Requirement already satisfied: sympy==1.13.1 in /usr/local/lib/python3.11/dist-packages (from torch->controlnet_aux) (1.13.1)\n",
            "Requirement already satisfied: mpmath<1.4,>=1.1.0 in /usr/local/lib/python3.11/dist-packages (from sympy==1.13.1->torch->controlnet_aux) (1.3.0)\n",
            "Requirement already satisfied: packaging>=20.9 in /usr/local/lib/python3.11/dist-packages (from huggingface-hub->controlnet_aux) (24.2)\n",
            "Requirement already satisfied: pyyaml>=5.1 in /usr/local/lib/python3.11/dist-packages (from huggingface-hub->controlnet_aux) (6.0.2)\n",
            "Requirement already satisfied: requests in /usr/local/lib/python3.11/dist-packages (from huggingface-hub->controlnet_aux) (2.32.3)\n",
            "Requirement already satisfied: tqdm>=4.42.1 in /usr/local/lib/python3.11/dist-packages (from huggingface-hub->controlnet_aux) (4.67.1)\n",
            "Requirement already satisfied: zipp>=3.20 in /usr/local/lib/python3.11/dist-packages (from importlib-metadata->controlnet_aux) (3.21.0)\n",
            "Requirement already satisfied: imageio!=2.35.0,>=2.33 in /usr/local/lib/python3.11/dist-packages (from scikit-image->controlnet_aux) (2.37.0)\n",
            "Requirement already satisfied: tifffile>=2022.8.12 in /usr/local/lib/python3.11/dist-packages (from scikit-image->controlnet_aux) (2025.3.13)\n",
            "Requirement already satisfied: lazy-loader>=0.4 in /usr/local/lib/python3.11/dist-packages (from scikit-image->controlnet_aux) (0.4)\n",
            "Requirement already satisfied: MarkupSafe>=2.0 in /usr/local/lib/python3.11/dist-packages (from jinja2->torch->controlnet_aux) (3.0.2)\n",
            "Requirement already satisfied: charset-normalizer<4,>=2 in /usr/local/lib/python3.11/dist-packages (from requests->huggingface-hub->controlnet_aux) (3.4.1)\n",
            "Requirement already satisfied: idna<4,>=2.5 in /usr/local/lib/python3.11/dist-packages (from requests->huggingface-hub->controlnet_aux) (3.10)\n",
            "Requirement already satisfied: urllib3<3,>=1.21.1 in /usr/local/lib/python3.11/dist-packages (from requests->huggingface-hub->controlnet_aux) (2.3.0)\n",
            "Requirement already satisfied: certifi>=2017.4.17 in /usr/local/lib/python3.11/dist-packages (from requests->huggingface-hub->controlnet_aux) (2025.1.31)\n",
            "Downloading controlnet_aux-0.0.9-py3-none-any.whl (282 kB)\n",
            "\u001b[2K   \u001b[90m━━━━━━━━━━━━━━━━━━━━━━━━━━━━━━━━━━━━━━━━\u001b[0m \u001b[32m282.4/282.4 kB\u001b[0m \u001b[31m16.9 MB/s\u001b[0m eta \u001b[36m0:00:00\u001b[0m\n",
            "\u001b[?25hDownloading timm-0.6.7-py3-none-any.whl (509 kB)\n",
            "\u001b[2K   \u001b[90m━━━━━━━━━━━━━━━━━━━━━━━━━━━━━━━━━━━━━━━━\u001b[0m \u001b[32m510.0/510.0 kB\u001b[0m \u001b[31m28.5 MB/s\u001b[0m eta \u001b[36m0:00:00\u001b[0m\n",
            "\u001b[?25hInstalling collected packages: timm, controlnet_aux\n",
            "  Attempting uninstall: timm\n",
            "    Found existing installation: timm 1.0.15\n",
            "    Uninstalling timm-1.0.15:\n",
            "      Successfully uninstalled timm-1.0.15\n",
            "Successfully installed controlnet_aux-0.0.9 timm-0.6.7\n",
            "Requirement already satisfied: opencv-python in /usr/local/lib/python3.11/dist-packages (4.11.0.86)\n",
            "Requirement already satisfied: numpy>=1.21.2 in /usr/local/lib/python3.11/dist-packages (from opencv-python) (2.0.2)\n",
            "Requirement already satisfied: matplotlib in /usr/local/lib/python3.11/dist-packages (3.10.0)\n",
            "Requirement already satisfied: contourpy>=1.0.1 in /usr/local/lib/python3.11/dist-packages (from matplotlib) (1.3.1)\n",
            "Requirement already satisfied: cycler>=0.10 in /usr/local/lib/python3.11/dist-packages (from matplotlib) (0.12.1)\n",
            "Requirement already satisfied: fonttools>=4.22.0 in /usr/local/lib/python3.11/dist-packages (from matplotlib) (4.56.0)\n",
            "Requirement already satisfied: kiwisolver>=1.3.1 in /usr/local/lib/python3.11/dist-packages (from matplotlib) (1.4.8)\n",
            "Requirement already satisfied: numpy>=1.23 in /usr/local/lib/python3.11/dist-packages (from matplotlib) (2.0.2)\n",
            "Requirement already satisfied: packaging>=20.0 in /usr/local/lib/python3.11/dist-packages (from matplotlib) (24.2)\n",
            "Requirement already satisfied: pillow>=8 in /usr/local/lib/python3.11/dist-packages (from matplotlib) (11.1.0)\n",
            "Requirement already satisfied: pyparsing>=2.3.1 in /usr/local/lib/python3.11/dist-packages (from matplotlib) (3.2.1)\n",
            "Requirement already satisfied: python-dateutil>=2.7 in /usr/local/lib/python3.11/dist-packages (from matplotlib) (2.8.2)\n",
            "Requirement already satisfied: six>=1.5 in /usr/local/lib/python3.11/dist-packages (from python-dateutil>=2.7->matplotlib) (1.17.0)\n",
            "Collecting datasets\n",
            "  Downloading datasets-3.4.1-py3-none-any.whl.metadata (19 kB)\n",
            "Requirement already satisfied: filelock in /usr/local/lib/python3.11/dist-packages (from datasets) (3.18.0)\n",
            "Requirement already satisfied: numpy>=1.17 in /usr/local/lib/python3.11/dist-packages (from datasets) (2.0.2)\n",
            "Requirement already satisfied: pyarrow>=15.0.0 in /usr/local/lib/python3.11/dist-packages (from datasets) (18.1.0)\n",
            "Collecting dill<0.3.9,>=0.3.0 (from datasets)\n",
            "  Downloading dill-0.3.8-py3-none-any.whl.metadata (10 kB)\n",
            "Requirement already satisfied: pandas in /usr/local/lib/python3.11/dist-packages (from datasets) (2.2.2)\n",
            "Requirement already satisfied: requests>=2.32.2 in /usr/local/lib/python3.11/dist-packages (from datasets) (2.32.3)\n",
            "Requirement already satisfied: tqdm>=4.66.3 in /usr/local/lib/python3.11/dist-packages (from datasets) (4.67.1)\n",
            "Collecting xxhash (from datasets)\n",
            "  Downloading xxhash-3.5.0-cp311-cp311-manylinux_2_17_x86_64.manylinux2014_x86_64.whl.metadata (12 kB)\n",
            "Collecting multiprocess<0.70.17 (from datasets)\n",
            "  Downloading multiprocess-0.70.16-py311-none-any.whl.metadata (7.2 kB)\n",
            "Collecting fsspec<=2024.12.0,>=2023.1.0 (from fsspec[http]<=2024.12.0,>=2023.1.0->datasets)\n",
            "  Downloading fsspec-2024.12.0-py3-none-any.whl.metadata (11 kB)\n",
            "Requirement already satisfied: aiohttp in /usr/local/lib/python3.11/dist-packages (from datasets) (3.11.14)\n",
            "Requirement already satisfied: huggingface-hub>=0.24.0 in /usr/local/lib/python3.11/dist-packages (from datasets) (0.29.3)\n",
            "Requirement already satisfied: packaging in /usr/local/lib/python3.11/dist-packages (from datasets) (24.2)\n",
            "Requirement already satisfied: pyyaml>=5.1 in /usr/local/lib/python3.11/dist-packages (from datasets) (6.0.2)\n",
            "Requirement already satisfied: aiohappyeyeballs>=2.3.0 in /usr/local/lib/python3.11/dist-packages (from aiohttp->datasets) (2.6.1)\n",
            "Requirement already satisfied: aiosignal>=1.1.2 in /usr/local/lib/python3.11/dist-packages (from aiohttp->datasets) (1.3.2)\n",
            "Requirement already satisfied: attrs>=17.3.0 in /usr/local/lib/python3.11/dist-packages (from aiohttp->datasets) (25.3.0)\n",
            "Requirement already satisfied: frozenlist>=1.1.1 in /usr/local/lib/python3.11/dist-packages (from aiohttp->datasets) (1.5.0)\n",
            "Requirement already satisfied: multidict<7.0,>=4.5 in /usr/local/lib/python3.11/dist-packages (from aiohttp->datasets) (6.2.0)\n",
            "Requirement already satisfied: propcache>=0.2.0 in /usr/local/lib/python3.11/dist-packages (from aiohttp->datasets) (0.3.0)\n",
            "Requirement already satisfied: yarl<2.0,>=1.17.0 in /usr/local/lib/python3.11/dist-packages (from aiohttp->datasets) (1.18.3)\n",
            "Requirement already satisfied: typing-extensions>=3.7.4.3 in /usr/local/lib/python3.11/dist-packages (from huggingface-hub>=0.24.0->datasets) (4.12.2)\n",
            "Requirement already satisfied: charset-normalizer<4,>=2 in /usr/local/lib/python3.11/dist-packages (from requests>=2.32.2->datasets) (3.4.1)\n",
            "Requirement already satisfied: idna<4,>=2.5 in /usr/local/lib/python3.11/dist-packages (from requests>=2.32.2->datasets) (3.10)\n",
            "Requirement already satisfied: urllib3<3,>=1.21.1 in /usr/local/lib/python3.11/dist-packages (from requests>=2.32.2->datasets) (2.3.0)\n",
            "Requirement already satisfied: certifi>=2017.4.17 in /usr/local/lib/python3.11/dist-packages (from requests>=2.32.2->datasets) (2025.1.31)\n",
            "Requirement already satisfied: python-dateutil>=2.8.2 in /usr/local/lib/python3.11/dist-packages (from pandas->datasets) (2.8.2)\n",
            "Requirement already satisfied: pytz>=2020.1 in /usr/local/lib/python3.11/dist-packages (from pandas->datasets) (2025.1)\n",
            "Requirement already satisfied: tzdata>=2022.7 in /usr/local/lib/python3.11/dist-packages (from pandas->datasets) (2025.1)\n",
            "Requirement already satisfied: six>=1.5 in /usr/local/lib/python3.11/dist-packages (from python-dateutil>=2.8.2->pandas->datasets) (1.17.0)\n",
            "Downloading datasets-3.4.1-py3-none-any.whl (487 kB)\n",
            "\u001b[2K   \u001b[90m━━━━━━━━━━━━━━━━━━━━━━━━━━━━━━━━━━━━━━━━\u001b[0m \u001b[32m487.4/487.4 kB\u001b[0m \u001b[31m29.6 MB/s\u001b[0m eta \u001b[36m0:00:00\u001b[0m\n",
            "\u001b[?25hDownloading dill-0.3.8-py3-none-any.whl (116 kB)\n",
            "\u001b[2K   \u001b[90m━━━━━━━━━━━━━━━━━━━━━━━━━━━━━━━━━━━━━━━━\u001b[0m \u001b[32m116.3/116.3 kB\u001b[0m \u001b[31m10.2 MB/s\u001b[0m eta \u001b[36m0:00:00\u001b[0m\n",
            "\u001b[?25hDownloading fsspec-2024.12.0-py3-none-any.whl (183 kB)\n",
            "\u001b[2K   \u001b[90m━━━━━━━━━━━━━━━━━━━━━━━━━━━━━━━━━━━━━━━━\u001b[0m \u001b[32m183.9/183.9 kB\u001b[0m \u001b[31m12.8 MB/s\u001b[0m eta \u001b[36m0:00:00\u001b[0m\n",
            "\u001b[?25hDownloading multiprocess-0.70.16-py311-none-any.whl (143 kB)\n",
            "\u001b[2K   \u001b[90m━━━━━━━━━━━━━━━━━━━━━━━━━━━━━━━━━━━━━━━━\u001b[0m \u001b[32m143.5/143.5 kB\u001b[0m \u001b[31m10.1 MB/s\u001b[0m eta \u001b[36m0:00:00\u001b[0m\n",
            "\u001b[?25hDownloading xxhash-3.5.0-cp311-cp311-manylinux_2_17_x86_64.manylinux2014_x86_64.whl (194 kB)\n",
            "\u001b[2K   \u001b[90m━━━━━━━━━━━━━━━━━━━━━━━━━━━━━━━━━━━━━━━━\u001b[0m \u001b[32m194.8/194.8 kB\u001b[0m \u001b[31m15.7 MB/s\u001b[0m eta \u001b[36m0:00:00\u001b[0m\n",
            "\u001b[?25hInstalling collected packages: xxhash, fsspec, dill, multiprocess, datasets\n",
            "  Attempting uninstall: fsspec\n",
            "    Found existing installation: fsspec 2025.3.0\n",
            "    Uninstalling fsspec-2025.3.0:\n",
            "      Successfully uninstalled fsspec-2025.3.0\n",
            "\u001b[31mERROR: pip's dependency resolver does not currently take into account all the packages that are installed. This behaviour is the source of the following dependency conflicts.\n",
            "gcsfs 2025.3.0 requires fsspec==2025.3.0, but you have fsspec 2024.12.0 which is incompatible.\u001b[0m\u001b[31m\n",
            "\u001b[0mSuccessfully installed datasets-3.4.1 dill-0.3.8 fsspec-2024.12.0 multiprocess-0.70.16 xxhash-3.5.0\n",
            "Requirement already satisfied: diffusers in /usr/local/lib/python3.11/dist-packages (0.32.2)\n",
            "Requirement already satisfied: importlib-metadata in /usr/local/lib/python3.11/dist-packages (from diffusers) (8.6.1)\n",
            "Requirement already satisfied: filelock in /usr/local/lib/python3.11/dist-packages (from diffusers) (3.18.0)\n",
            "Requirement already satisfied: huggingface-hub>=0.23.2 in /usr/local/lib/python3.11/dist-packages (from diffusers) (0.29.3)\n",
            "Requirement already satisfied: numpy in /usr/local/lib/python3.11/dist-packages (from diffusers) (2.0.2)\n",
            "Requirement already satisfied: regex!=2019.12.17 in /usr/local/lib/python3.11/dist-packages (from diffusers) (2024.11.6)\n",
            "Requirement already satisfied: requests in /usr/local/lib/python3.11/dist-packages (from diffusers) (2.32.3)\n",
            "Requirement already satisfied: safetensors>=0.3.1 in /usr/local/lib/python3.11/dist-packages (from diffusers) (0.5.3)\n",
            "Requirement already satisfied: Pillow in /usr/local/lib/python3.11/dist-packages (from diffusers) (11.1.0)\n",
            "Requirement already satisfied: fsspec>=2023.5.0 in /usr/local/lib/python3.11/dist-packages (from huggingface-hub>=0.23.2->diffusers) (2024.12.0)\n",
            "Requirement already satisfied: packaging>=20.9 in /usr/local/lib/python3.11/dist-packages (from huggingface-hub>=0.23.2->diffusers) (24.2)\n",
            "Requirement already satisfied: pyyaml>=5.1 in /usr/local/lib/python3.11/dist-packages (from huggingface-hub>=0.23.2->diffusers) (6.0.2)\n",
            "Requirement already satisfied: tqdm>=4.42.1 in /usr/local/lib/python3.11/dist-packages (from huggingface-hub>=0.23.2->diffusers) (4.67.1)\n",
            "Requirement already satisfied: typing-extensions>=3.7.4.3 in /usr/local/lib/python3.11/dist-packages (from huggingface-hub>=0.23.2->diffusers) (4.12.2)\n",
            "Requirement already satisfied: zipp>=3.20 in /usr/local/lib/python3.11/dist-packages (from importlib-metadata->diffusers) (3.21.0)\n",
            "Requirement already satisfied: charset-normalizer<4,>=2 in /usr/local/lib/python3.11/dist-packages (from requests->diffusers) (3.4.1)\n",
            "Requirement already satisfied: idna<4,>=2.5 in /usr/local/lib/python3.11/dist-packages (from requests->diffusers) (3.10)\n",
            "Requirement already satisfied: urllib3<3,>=1.21.1 in /usr/local/lib/python3.11/dist-packages (from requests->diffusers) (2.3.0)\n",
            "Requirement already satisfied: certifi>=2017.4.17 in /usr/local/lib/python3.11/dist-packages (from requests->diffusers) (2025.1.31)\n",
            "Requirement already satisfied: transformers in /usr/local/lib/python3.11/dist-packages (4.49.0)\n",
            "Collecting transformers\n",
            "  Downloading transformers-4.50.0-py3-none-any.whl.metadata (39 kB)\n",
            "Requirement already satisfied: accelerate in /usr/local/lib/python3.11/dist-packages (1.5.2)\n",
            "Requirement already satisfied: filelock in /usr/local/lib/python3.11/dist-packages (from transformers) (3.18.0)\n",
            "Requirement already satisfied: huggingface-hub<1.0,>=0.26.0 in /usr/local/lib/python3.11/dist-packages (from transformers) (0.29.3)\n",
            "Requirement already satisfied: numpy>=1.17 in /usr/local/lib/python3.11/dist-packages (from transformers) (2.0.2)\n",
            "Requirement already satisfied: packaging>=20.0 in /usr/local/lib/python3.11/dist-packages (from transformers) (24.2)\n",
            "Requirement already satisfied: pyyaml>=5.1 in /usr/local/lib/python3.11/dist-packages (from transformers) (6.0.2)\n",
            "Requirement already satisfied: regex!=2019.12.17 in /usr/local/lib/python3.11/dist-packages (from transformers) (2024.11.6)\n",
            "Requirement already satisfied: requests in /usr/local/lib/python3.11/dist-packages (from transformers) (2.32.3)\n",
            "Requirement already satisfied: tokenizers<0.22,>=0.21 in /usr/local/lib/python3.11/dist-packages (from transformers) (0.21.1)\n",
            "Requirement already satisfied: safetensors>=0.4.3 in /usr/local/lib/python3.11/dist-packages (from transformers) (0.5.3)\n",
            "Requirement already satisfied: tqdm>=4.27 in /usr/local/lib/python3.11/dist-packages (from transformers) (4.67.1)\n",
            "Requirement already satisfied: psutil in /usr/local/lib/python3.11/dist-packages (from accelerate) (5.9.5)\n",
            "Requirement already satisfied: torch>=2.0.0 in /usr/local/lib/python3.11/dist-packages (from accelerate) (2.6.0+cu118)\n",
            "Requirement already satisfied: fsspec>=2023.5.0 in /usr/local/lib/python3.11/dist-packages (from huggingface-hub<1.0,>=0.26.0->transformers) (2024.12.0)\n",
            "Requirement already satisfied: typing-extensions>=3.7.4.3 in /usr/local/lib/python3.11/dist-packages (from huggingface-hub<1.0,>=0.26.0->transformers) (4.12.2)\n",
            "Requirement already satisfied: networkx in /usr/local/lib/python3.11/dist-packages (from torch>=2.0.0->accelerate) (3.4.2)\n",
            "Requirement already satisfied: jinja2 in /usr/local/lib/python3.11/dist-packages (from torch>=2.0.0->accelerate) (3.1.6)\n",
            "Requirement already satisfied: nvidia-cuda-nvrtc-cu11==11.8.89 in /usr/local/lib/python3.11/dist-packages (from torch>=2.0.0->accelerate) (11.8.89)\n",
            "Requirement already satisfied: nvidia-cuda-runtime-cu11==11.8.89 in /usr/local/lib/python3.11/dist-packages (from torch>=2.0.0->accelerate) (11.8.89)\n",
            "Requirement already satisfied: nvidia-cuda-cupti-cu11==11.8.87 in /usr/local/lib/python3.11/dist-packages (from torch>=2.0.0->accelerate) (11.8.87)\n",
            "Requirement already satisfied: nvidia-cudnn-cu11==9.1.0.70 in /usr/local/lib/python3.11/dist-packages (from torch>=2.0.0->accelerate) (9.1.0.70)\n",
            "Requirement already satisfied: nvidia-cublas-cu11==11.11.3.6 in /usr/local/lib/python3.11/dist-packages (from torch>=2.0.0->accelerate) (11.11.3.6)\n",
            "Requirement already satisfied: nvidia-cufft-cu11==10.9.0.58 in /usr/local/lib/python3.11/dist-packages (from torch>=2.0.0->accelerate) (10.9.0.58)\n",
            "Requirement already satisfied: nvidia-curand-cu11==10.3.0.86 in /usr/local/lib/python3.11/dist-packages (from torch>=2.0.0->accelerate) (10.3.0.86)\n",
            "Requirement already satisfied: nvidia-cusolver-cu11==11.4.1.48 in /usr/local/lib/python3.11/dist-packages (from torch>=2.0.0->accelerate) (11.4.1.48)\n",
            "Requirement already satisfied: nvidia-cusparse-cu11==11.7.5.86 in /usr/local/lib/python3.11/dist-packages (from torch>=2.0.0->accelerate) (11.7.5.86)\n",
            "Requirement already satisfied: nvidia-nccl-cu11==2.21.5 in /usr/local/lib/python3.11/dist-packages (from torch>=2.0.0->accelerate) (2.21.5)\n",
            "Requirement already satisfied: nvidia-nvtx-cu11==11.8.86 in /usr/local/lib/python3.11/dist-packages (from torch>=2.0.0->accelerate) (11.8.86)\n",
            "Requirement already satisfied: triton==3.2.0 in /usr/local/lib/python3.11/dist-packages (from torch>=2.0.0->accelerate) (3.2.0)\n",
            "Requirement already satisfied: sympy==1.13.1 in /usr/local/lib/python3.11/dist-packages (from torch>=2.0.0->accelerate) (1.13.1)\n",
            "Requirement already satisfied: mpmath<1.4,>=1.1.0 in /usr/local/lib/python3.11/dist-packages (from sympy==1.13.1->torch>=2.0.0->accelerate) (1.3.0)\n",
            "Requirement already satisfied: charset-normalizer<4,>=2 in /usr/local/lib/python3.11/dist-packages (from requests->transformers) (3.4.1)\n",
            "Requirement already satisfied: idna<4,>=2.5 in /usr/local/lib/python3.11/dist-packages (from requests->transformers) (3.10)\n",
            "Requirement already satisfied: urllib3<3,>=1.21.1 in /usr/local/lib/python3.11/dist-packages (from requests->transformers) (2.3.0)\n",
            "Requirement already satisfied: certifi>=2017.4.17 in /usr/local/lib/python3.11/dist-packages (from requests->transformers) (2025.1.31)\n",
            "Requirement already satisfied: MarkupSafe>=2.0 in /usr/local/lib/python3.11/dist-packages (from jinja2->torch>=2.0.0->accelerate) (3.0.2)\n",
            "Downloading transformers-4.50.0-py3-none-any.whl (10.2 MB)\n",
            "\u001b[2K   \u001b[90m━━━━━━━━━━━━━━━━━━━━━━━━━━━━━━━━━━━━━━━━\u001b[0m \u001b[32m10.2/10.2 MB\u001b[0m \u001b[31m103.6 MB/s\u001b[0m eta \u001b[36m0:00:00\u001b[0m\n",
            "\u001b[?25hInstalling collected packages: transformers\n",
            "  Attempting uninstall: transformers\n",
            "    Found existing installation: transformers 4.49.0\n",
            "    Uninstalling transformers-4.49.0:\n",
            "      Successfully uninstalled transformers-4.49.0\n",
            "Successfully installed transformers-4.50.0\n",
            "Found existing installation: torch 2.6.0+cu118\n",
            "Uninstalling torch-2.6.0+cu118:\n",
            "  Successfully uninstalled torch-2.6.0+cu118\n",
            "Found existing installation: torchvision 0.21.0+cu124\n",
            "Uninstalling torchvision-0.21.0+cu124:\n",
            "  Successfully uninstalled torchvision-0.21.0+cu124\n",
            "Found existing installation: torchaudio 2.6.0+cu124\n",
            "Uninstalling torchaudio-2.6.0+cu124:\n",
            "  Successfully uninstalled torchaudio-2.6.0+cu124\n",
            "Looking in indexes: https://download.pytorch.org/whl/cu118\n",
            "Collecting torch\n",
            "  Using cached https://download.pytorch.org/whl/cu118/torch-2.6.0%2Bcu118-cp311-cp311-linux_x86_64.whl.metadata (27 kB)\n",
            "Collecting torchvision\n",
            "  Downloading https://download.pytorch.org/whl/cu118/torchvision-0.21.0%2Bcu118-cp311-cp311-linux_x86_64.whl.metadata (6.1 kB)\n",
            "Collecting torchaudio\n",
            "  Downloading https://download.pytorch.org/whl/cu118/torchaudio-2.6.0%2Bcu118-cp311-cp311-linux_x86_64.whl.metadata (6.6 kB)\n",
            "Requirement already satisfied: filelock in /usr/local/lib/python3.11/dist-packages (from torch) (3.18.0)\n",
            "Requirement already satisfied: typing-extensions>=4.10.0 in /usr/local/lib/python3.11/dist-packages (from torch) (4.12.2)\n",
            "Requirement already satisfied: networkx in /usr/local/lib/python3.11/dist-packages (from torch) (3.4.2)\n",
            "Requirement already satisfied: jinja2 in /usr/local/lib/python3.11/dist-packages (from torch) (3.1.6)\n",
            "Requirement already satisfied: fsspec in /usr/local/lib/python3.11/dist-packages (from torch) (2024.12.0)\n",
            "Requirement already satisfied: nvidia-cuda-nvrtc-cu11==11.8.89 in /usr/local/lib/python3.11/dist-packages (from torch) (11.8.89)\n",
            "Requirement already satisfied: nvidia-cuda-runtime-cu11==11.8.89 in /usr/local/lib/python3.11/dist-packages (from torch) (11.8.89)\n",
            "Requirement already satisfied: nvidia-cuda-cupti-cu11==11.8.87 in /usr/local/lib/python3.11/dist-packages (from torch) (11.8.87)\n",
            "Requirement already satisfied: nvidia-cudnn-cu11==9.1.0.70 in /usr/local/lib/python3.11/dist-packages (from torch) (9.1.0.70)\n",
            "Requirement already satisfied: nvidia-cublas-cu11==11.11.3.6 in /usr/local/lib/python3.11/dist-packages (from torch) (11.11.3.6)\n",
            "Requirement already satisfied: nvidia-cufft-cu11==10.9.0.58 in /usr/local/lib/python3.11/dist-packages (from torch) (10.9.0.58)\n",
            "Requirement already satisfied: nvidia-curand-cu11==10.3.0.86 in /usr/local/lib/python3.11/dist-packages (from torch) (10.3.0.86)\n",
            "Requirement already satisfied: nvidia-cusolver-cu11==11.4.1.48 in /usr/local/lib/python3.11/dist-packages (from torch) (11.4.1.48)\n",
            "Requirement already satisfied: nvidia-cusparse-cu11==11.7.5.86 in /usr/local/lib/python3.11/dist-packages (from torch) (11.7.5.86)\n",
            "Requirement already satisfied: nvidia-nccl-cu11==2.21.5 in /usr/local/lib/python3.11/dist-packages (from torch) (2.21.5)\n",
            "Requirement already satisfied: nvidia-nvtx-cu11==11.8.86 in /usr/local/lib/python3.11/dist-packages (from torch) (11.8.86)\n",
            "Requirement already satisfied: triton==3.2.0 in /usr/local/lib/python3.11/dist-packages (from torch) (3.2.0)\n",
            "Requirement already satisfied: sympy==1.13.1 in /usr/local/lib/python3.11/dist-packages (from torch) (1.13.1)\n",
            "Requirement already satisfied: mpmath<1.4,>=1.1.0 in /usr/local/lib/python3.11/dist-packages (from sympy==1.13.1->torch) (1.3.0)\n",
            "Requirement already satisfied: numpy in /usr/local/lib/python3.11/dist-packages (from torchvision) (2.0.2)\n",
            "Requirement already satisfied: pillow!=8.3.*,>=5.3.0 in /usr/local/lib/python3.11/dist-packages (from torchvision) (11.1.0)\n",
            "Requirement already satisfied: MarkupSafe>=2.0 in /usr/local/lib/python3.11/dist-packages (from jinja2->torch) (3.0.2)\n",
            "Using cached https://download.pytorch.org/whl/cu118/torch-2.6.0%2Bcu118-cp311-cp311-linux_x86_64.whl (848.7 MB)\n",
            "Downloading https://download.pytorch.org/whl/cu118/torchvision-0.21.0%2Bcu118-cp311-cp311-linux_x86_64.whl (6.5 MB)\n",
            "\u001b[2K   \u001b[90m━━━━━━━━━━━━━━━━━━━━━━━━━━━━━━━━━━━━━━━━\u001b[0m \u001b[32m6.5/6.5 MB\u001b[0m \u001b[31m6.7 MB/s\u001b[0m eta \u001b[36m0:00:00\u001b[0m\n",
            "\u001b[?25hDownloading https://download.pytorch.org/whl/cu118/torchaudio-2.6.0%2Bcu118-cp311-cp311-linux_x86_64.whl (3.3 MB)\n",
            "\u001b[2K   \u001b[90m━━━━━━━━━━━━━━━━━━━━━━━━━━━━━━━━━━━━━━━━\u001b[0m \u001b[32m3.3/3.3 MB\u001b[0m \u001b[31m80.4 MB/s\u001b[0m eta \u001b[36m0:00:00\u001b[0m\n",
            "\u001b[?25hInstalling collected packages: torch, torchvision, torchaudio\n",
            "Successfully installed torch-2.6.0+cu118 torchaudio-2.6.0+cu118 torchvision-0.21.0+cu118\n"
          ]
        }
      ],
      "source": [
        "!pip install torch torchvision torchaudio --index-url https://download.pytorch.org/whl/cu118\n",
        "!pip install diffusers[torch] transformers\n",
        "!pip install controlnet_aux\n",
        "!pip install opencv-python\n",
        "!pip install matplotlib\n",
        "!pip install datasets\n",
        "!pip install -U diffusers\n",
        "!pip install -U transformers accelerate\n",
        "!pip uninstall torch torchvision torchaudio -y\n",
        "!pip install torch torchvision torchaudio --index-url https://download.pytorch.org/whl/cu118"
      ]
    },
    {
      "cell_type": "code",
      "execution_count": 7,
      "metadata": {
        "id": "85enIt5CHlJH",
        "colab": {
          "base_uri": "https://localhost:8080/"
        },
        "outputId": "cb6856bc-df78-41ea-ec21-d3d2113597bc"
      },
      "outputs": [
        {
          "output_type": "stream",
          "name": "stdout",
          "text": [
            "Dataset preprocessing complete!\n"
          ]
        }
      ],
      "source": [
        "import cv2\n",
        "import numpy as np\n",
        "from PIL import Image\n",
        "import os\n",
        "\n",
        "# Function to extract edges from an image\n",
        "def extract_edges(image_path):\n",
        "    image = cv2.imread(image_path, cv2.IMREAD_GRAYSCALE)\n",
        "    edges = cv2.Canny(image, 100, 200)\n",
        "    return edges\n",
        "\n",
        "# Define dataset and output paths\n",
        "dataset_path = \"/content/drive/MyDrive/datafloor\"  # Path to your dataset\n",
        "output_path = \"/content/drive/MyDrive/processed_dataset\"  # Path to save processed images\n",
        "\n",
        "# Create the output folder if it doesn't exist\n",
        "os.makedirs(output_path, exist_ok=True)\n",
        "\n",
        "# Preprocess all images in your dataset\n",
        "for label_folder in os.listdir(dataset_path):\n",
        "    label_path = os.path.join(dataset_path, label_folder)\n",
        "    if os.path.isdir(label_path):\n",
        "        # Create a subfolder in the output directory for each label\n",
        "        output_label_path = os.path.join(output_path, label_folder)\n",
        "        os.makedirs(output_label_path, exist_ok=True)\n",
        "\n",
        "        # Process each image in the label folder\n",
        "        for image_name in os.listdir(label_path):\n",
        "            image_path = os.path.join(label_path, image_name)\n",
        "            edges = extract_edges(image_path)\n",
        "            # Save the processed image\n",
        "            output_image_path = os.path.join(output_label_path, image_name)\n",
        "            cv2.imwrite(output_image_path, edges)\n",
        "\n",
        "print(\"Dataset preprocessing complete!\")"
      ]
    },
    {
      "cell_type": "code",
      "execution_count": 8,
      "metadata": {
        "id": "ZInInXJCIXRK"
      },
      "outputs": [],
      "source": [
        "import torch\n",
        "from torch.utils.data import Dataset, DataLoader\n",
        "from PIL import Image\n",
        "import os\n",
        "\n",
        "class FloorPlanDataset(Dataset):\n",
        "    def __init__(self, image_folder, transform=None):\n",
        "        self.image_folder = image_folder\n",
        "        self.transform = transform\n",
        "        self.image_paths = []\n",
        "        self.labels = []\n",
        "\n",
        "        # Debug: Print the image folder being used\n",
        "        print(f\"Loading dataset from: {image_folder}\")\n",
        "\n",
        "        for label_folder in os.listdir(image_folder):\n",
        "            label_path = os.path.join(image_folder, label_folder)\n",
        "            if os.path.isdir(label_path):\n",
        "                # Debug: Print the label folder being processed\n",
        "                print(f\"Processing label folder: {label_folder}\")\n",
        "                for image_name in os.listdir(label_path):\n",
        "                    image_path = os.path.join(label_path, image_name)\n",
        "                    self.image_paths.append(image_path)\n",
        "                    self.labels.append(int(label_folder.split(\"_\")[0]))  # Extract label from folder name\n",
        "\n",
        "        # Debug: Print the total number of images loaded\n",
        "        print(f\"Total images loaded: {len(self.image_paths)}\")\n",
        "\n",
        "    def __len__(self):\n",
        "        return len(self.image_paths)\n",
        "\n",
        "    def __getitem__(self, idx):\n",
        "        image_path = self.image_paths[idx]\n",
        "        label = self.labels[idx]\n",
        "        image = Image.open(image_path).convert(\"RGB\")\n",
        "        if self.transform:\n",
        "            image = self.transform(image)\n",
        "        return image, label"
      ]
    },
    {
      "cell_type": "code",
      "execution_count": 9,
      "metadata": {
        "id": "co9xFwXmKhVM"
      },
      "outputs": [],
      "source": [
        "import torch\n",
        "from torch.utils.data import Dataset, DataLoader\n",
        "from PIL import Image\n",
        "import os\n",
        "import re  # Regular expressions for extracting numbers\n",
        "\n",
        "class FloorPlanDataset(Dataset):\n",
        "    def __init__(self, image_folder, transform=None):\n",
        "        self.image_folder = image_folder\n",
        "        self.transform = transform\n",
        "        self.image_paths = []\n",
        "        self.labels = []\n",
        "\n",
        "        # Debug: Print the image folder being used\n",
        "        print(f\"Loading dataset from: {image_folder}\")\n",
        "\n",
        "        for label_folder in os.listdir(image_folder):\n",
        "            label_path = os.path.join(image_folder, label_folder)\n",
        "            if os.path.isdir(label_path):\n",
        "                # Debug: Print the label folder being processed\n",
        "                print(f\"Processing label folder: {label_folder}\")\n",
        "\n",
        "                # Extract the numeric part from the folder name (e.g., \"3 rooms\" -> 3)\n",
        "                match = re.search(r'\\d+', label_folder)  # Find the first number in the folder name\n",
        "                if match:\n",
        "                    label = int(match.group())  # Convert the numeric part to an integer\n",
        "                else:\n",
        "                    raise ValueError(f\"Folder name '{label_folder}' does not contain a valid number.\")\n",
        "\n",
        "                # Process each image in the label folder\n",
        "                for image_name in os.listdir(label_path):\n",
        "                    image_path = os.path.join(label_path, image_name)\n",
        "                    self.image_paths.append(image_path)\n",
        "                    self.labels.append(label)  # Use the extracted label\n",
        "\n",
        "        # Debug: Print the total number of images loaded\n",
        "        print(f\"Total images loaded: {len(self.image_paths)}\")\n",
        "\n",
        "    def __len__(self):\n",
        "        return len(self.image_paths)\n",
        "\n",
        "    def __getitem__(self, idx):\n",
        "        image_path = self.image_paths[idx]\n",
        "        label = self.labels[idx]\n",
        "        image = Image.open(image_path).convert(\"RGB\")\n",
        "        if self.transform:\n",
        "            image = self.transform(image)\n",
        "        return image, label"
      ]
    },
    {
      "cell_type": "code",
      "execution_count": 10,
      "metadata": {
        "id": "VKjKwcHfIyCi",
        "colab": {
          "base_uri": "https://localhost:8080/"
        },
        "outputId": "9c2a565e-b7c4-4a35-cbb0-55db71ec7948"
      },
      "outputs": [
        {
          "output_type": "stream",
          "name": "stdout",
          "text": [
            "Folders in original dataset: ['4 rooms', '5 rooms', '3 rooms']\n"
          ]
        }
      ],
      "source": [
        "import os\n",
        "\n",
        "# Path to the original dataset\n",
        "original_dataset_path = \"/content/drive/MyDrive/datafloor\"\n",
        "\n",
        "# List all folders in the original dataset\n",
        "folders = [f for f in os.listdir(original_dataset_path) if os.path.isdir(os.path.join(original_dataset_path, f))]\n",
        "print(\"Folders in original dataset:\", folders)"
      ]
    },
    {
      "cell_type": "code",
      "execution_count": 11,
      "metadata": {
        "id": "lHm35e-lLLXd",
        "colab": {
          "base_uri": "https://localhost:8080/"
        },
        "outputId": "1d0ffb0f-92e9-4c06-c8c1-30b4dd00a671"
      },
      "outputs": [
        {
          "output_type": "stream",
          "name": "stdout",
          "text": [
            "Folders in processed dataset: ['4 rooms', '5 rooms', '3 rooms']\n"
          ]
        }
      ],
      "source": [
        "# Path to the processed dataset\n",
        "processed_dataset_path = \"/content/drive/MyDrive/processed_dataset\"\n",
        "\n",
        "# List all folders in the processed dataset\n",
        "folders = [f for f in os.listdir(processed_dataset_path) if os.path.isdir(os.path.join(processed_dataset_path, f))]\n",
        "print(\"Folders in processed dataset:\", folders)"
      ]
    },
    {
      "cell_type": "code",
      "execution_count": 12,
      "metadata": {
        "id": "tA2tuFaOLOuM",
        "colab": {
          "base_uri": "https://localhost:8080/"
        },
        "outputId": "237d8a23-5bbf-4350-a0fc-2601e56889c7"
      },
      "outputs": [
        {
          "output_type": "stream",
          "name": "stdout",
          "text": [
            "Dataset preprocessing complete!\n"
          ]
        }
      ],
      "source": [
        "import cv2\n",
        "import numpy as np\n",
        "from PIL import Image\n",
        "import os\n",
        "\n",
        "# Function to extract edges from an image\n",
        "def extract_edges(image_path):\n",
        "    image = cv2.imread(image_path, cv2.IMREAD_GRAYSCALE)\n",
        "    edges = cv2.Canny(image, 100, 200)\n",
        "    return edges\n",
        "\n",
        "# Define dataset and output paths\n",
        "dataset_path = \"/content/drive/MyDrive/datafloor\"  # Path to your original dataset\n",
        "output_path = \"/content/drive/MyDrive/processed_dataset\"  # Path to save processed images\n",
        "\n",
        "# Create the output folder if it doesn't exist\n",
        "os.makedirs(output_path, exist_ok=True)\n",
        "\n",
        "# Preprocess all images in your dataset\n",
        "for label_folder in os.listdir(dataset_path):\n",
        "    label_path = os.path.join(dataset_path, label_folder)\n",
        "    if os.path.isdir(label_path):\n",
        "        # Create a subfolder in the output directory for each label\n",
        "        output_label_path = os.path.join(output_path, label_folder)\n",
        "        os.makedirs(output_label_path, exist_ok=True)\n",
        "\n",
        "        # Process each image in the label folder\n",
        "        for image_name in os.listdir(label_path):\n",
        "            image_path = os.path.join(label_path, image_name)\n",
        "            edges = extract_edges(image_path)\n",
        "            # Save the processed image\n",
        "            output_image_path = os.path.join(output_label_path, image_name)\n",
        "            cv2.imwrite(output_image_path, edges)\n",
        "\n",
        "print(\"Dataset preprocessing complete!\")"
      ]
    },
    {
      "cell_type": "code",
      "execution_count": 13,
      "metadata": {
        "id": "PtqES_nVLWSc",
        "colab": {
          "base_uri": "https://localhost:8080/"
        },
        "outputId": "0308432e-70c5-410f-b91c-f6bd97877cd3"
      },
      "outputs": [
        {
          "output_type": "stream",
          "name": "stdout",
          "text": [
            "Loading dataset from: /content/drive/MyDrive/processed_dataset\n",
            "Processing label folder: 4 rooms\n",
            "Processing label folder: 5 rooms\n",
            "Processing label folder: 3 rooms\n",
            "Total images loaded: 510\n",
            "Batch images shape: torch.Size([4, 3, 512, 512])\n",
            "Batch labels: tensor([3, 5, 4, 4])\n"
          ]
        }
      ],
      "source": [
        "from torchvision import transforms\n",
        "\n",
        "# Define transforms\n",
        "transform = transforms.Compose([\n",
        "    transforms.Resize((512, 512)),\n",
        "    transforms.ToTensor(),\n",
        "])\n",
        "\n",
        "# Create dataset\n",
        "dataset = FloorPlanDataset(image_folder=\"/content/drive/MyDrive/processed_dataset\", transform=transform)\n",
        "\n",
        "# Create dataloader\n",
        "dataloader = DataLoader(dataset, batch_size=4, shuffle=True)\n",
        "\n",
        "# Debug: Print a batch of data\n",
        "for batch in dataloader:\n",
        "    images, labels = batch\n",
        "    print(\"Batch images shape:\", images.shape)\n",
        "    print(\"Batch labels:\", labels)\n",
        "    break"
      ]
    },
    {
      "cell_type": "code",
      "execution_count": 14,
      "metadata": {
        "id": "1zzZZekaMrYz",
        "colab": {
          "base_uri": "https://localhost:8080/",
          "height": 749,
          "referenced_widgets": [
            "4a3ff828f4044682802d0e07f0320cfe",
            "8ce4b7f8c4a24c1e9ba6fa097203eea0",
            "f5d56d972f674a4bb1c2406256d6e6e9",
            "9d77ef340ef14639bf4e6a22792de67d",
            "e49324ecc2604478b8347d553ba7fe99",
            "ce113966a0214e2e9c55caae8582def5",
            "95763f0fdc774003b93eeb1563cc85a7",
            "9600198726694f858feacf9aa23e5327",
            "243bcb7e8e7d44638685fdd3452bd341",
            "ee6bb3d9434a4d4b81cd342030226e7a",
            "a0aedbee60b941aabc92b4c6cf6e7b76",
            "7a624817d7704a76a919b0a711c433b9",
            "5ff563b084cc4fd4a40f957f94d1eb5d",
            "9de0599bf21143119bc452b323e149a9",
            "b7e8e82ef4d8463eb163e8fbb84f197e",
            "2c3386e438a04ec681b8e149c7aa9d91",
            "f72c290cb6fd412bb7e10a8554aee345",
            "3d31d00724144d6a9ad393a96b642848",
            "c62bc819c79f462fa52caa389e528cc6",
            "72d471b9f7374ebfad11b68718a817d5",
            "8b72fcd485f04599a6c8ba67046588e0",
            "9778a589f84c4aed88459c2d32da4bf5",
            "892769d2217c4d1ea9497c8b35bb90a6",
            "134ab9a88ab443218e1a20ca67a3f11d",
            "e098f7362070447885292dbf39b635ec",
            "4677965f1a1b4b1d853a4eca8b411ba3",
            "b927796a5da247b0bbba8200fbae6893",
            "9efb2c386b6e4db4bef552178fb2ede8",
            "1418594aed1d4cf5968ecfa8abd851ad",
            "8612c81a0f9f4a709903bd78389170ca",
            "8b74bfaf9aeb4466a2e9aa66954eb0a1",
            "6ede65d6f8bf4f488b08806d5a43ead5",
            "731f7f075cc4450db8ae1cc25dad8740",
            "9f4461726a364468bacada4f93a87c82",
            "4c1e1e9139924e9fa68eded582f0ffe9",
            "4e9a417144c4487f9e3b5b1be309d013",
            "f850ed811cc44c5a917c11959652b732",
            "f0e0b19ecdd84683968eb74bbd05ebaa",
            "3d17ba4dcbe341539e2bc020c6793a1d",
            "62217a756c3e4ce0a5e55fc07160994f",
            "23f5ec71b21c48c389bf0494d2545e2d",
            "a94d54415bd8417aad618fd3caa21021",
            "860fe8dcfee248fbb6995a68950e1e43",
            "84caebaee1024424a93c55ef84b5992d",
            "9016428d4801450e9e2bd9dd736e7393",
            "9d221498de5a40a4add4802cfafc7f4d",
            "149dd0419b394f58a53c053f0f24ee2c",
            "67ea30b559944339beafb4dba8071eb1",
            "45f89c7d74084a2baf131dce6ef51e30",
            "707689efb6674648a4969babb7fb56b8",
            "c2abf13453fd487fbdaf732120812d7b",
            "6f3a875511c54ea2893c1c0636b932ec",
            "58ae630e35b64d8192cc7455b42b3493",
            "c5b553af82a048f7a14ec72b15bf17ec",
            "abbb3c6d493447fa9f2a459150a145ee",
            "3ac86a71e1e446b895a14323b06d2d58",
            "337813b6305545ee92c62014e88098f0",
            "c20dd0ec4ed34c59a240648369c46e50",
            "4fed54af494140609e22a455de2a13f9",
            "db749ffca0574786ad4a31eefba11689",
            "944494792d1f4025935f7ab9cece15ac",
            "8940083ea22840f9aa97ed28e39faa4e",
            "f2309e7216ee4b509fef0e427a04c925",
            "2fc88497f9b640298f112d8e1f7be6d7",
            "05a503fe27d74786a5ab863650c9d137",
            "a583fb67eaae4fd3944a7da139e5c4c4",
            "7c643c20ccef4901ac7de8d1cfce2479",
            "beb6a7269f36453f92d207ac2e62a20b",
            "6e0ab3a08a4845e895317d2fca30fe0b",
            "641eb57eacbb4a5b83b349a0f0cfdb2c",
            "3269ce9cbf154cc78e8c530dff2a9282",
            "8c77b8a4161140eb9673e7e22f55b748",
            "5896a1ee7f4447029d11a4344281d74c",
            "8c25702e4a724364aeb9975af57016f2",
            "e73bf529382846228714270695dc139c",
            "956d3d351ae7479d9d00e900b5e62ab0",
            "220dc3663b4f43e8b0f11a6736ec727e",
            "eeeb3c52330a48c2b3d281865adc0420",
            "b20464dbea1e44b9aeca8cd06e028e6c",
            "c2812bbb8f804897822f5bbd9c288f29",
            "79f6c2a407b247339a44cbd0112e22a0",
            "62b013c77c454419b83bbb80a5cc286a",
            "94d9bb394adc43769b68cfcabf92e4de",
            "6282e1fe5d7e480891743e165664947f",
            "acc03b519cb443e080c959476bc86749",
            "1e72a1cb7db84052ad53fecced11f887",
            "0e27fdcb92eb495b85717cb2049612b1",
            "1e4bef0eb7764e78b322485633028165",
            "fac240ca037e4636a6cf06950b58ffec",
            "dde57655b810415cbd8e565c8548ae94",
            "0535e84a175f4f15af065e591e8b4c15",
            "5e0f479d237f4b80adbfaf4f6dad39db",
            "c9268d44ea284b1384287466f6ba487b",
            "4e8d3f3dd76c47b796253dbb7009f011",
            "4a82f649ccd546668b49eb5a7cf9fd89",
            "fbee95fd961b4752935c90f24eb50a7c",
            "37893a9563e24beab93e841b9c9bd3dd",
            "ccbe5f2315ae4104a62fd85e1b01bec6",
            "97f341616db1442e9eaa0a3fa458308a",
            "aa0bf32744944c0c8c207bfe4aec175f",
            "9a9805c397304240aca0393e0bafc7be",
            "3c411f0e208a4cbd86f4239e14562295",
            "10eb45f34d77457098f66cce36a78487",
            "cfb8e3742c97432facefb7750ab1c344",
            "8df450f46cac47929f5fa4d8f2a8f570",
            "31e0b53c61564feb841efe3308564f11",
            "c4ee8226053b499aa2359a2211b85cf5",
            "1496e2f112bd4b919edf09174f8ee547",
            "22a5079bbac043088388f62898b3f39d",
            "c3b52e9602e74be2bcb95118b2205cd8",
            "077c59dc10c94b9eacada94916bf2bd7",
            "b31d92843f8042d7b7e742e5006f2abe",
            "207b8dd3a4664462a83b96f5ea30efb9",
            "4bfeabbaecdc484fa7c8b4468ce5606a",
            "2f759b6e3ba24e2181e1478480cf50a4",
            "7fb04c678fbe4b73b0e85cafbe6e1421",
            "29e64abb95a047719951640789694ca1",
            "f39983b953754cefb851b4833bdadb1c",
            "b971a132e137456aa2d9d348cfbaa732",
            "33dd21c072cb4b50bea69d2842732bd5",
            "fb2253531335435993daa3b198245a03",
            "a3ee300f407249789fa3b2989ad3d9b6",
            "0517b47dc39946658e9ab5318dfa84ea",
            "f35ffedd7a1e4777b6da098833883906",
            "b4ec285942544f9ea8a07bec98db7398",
            "f7a9bf7f4601469abc0350065bc84b8e",
            "0358b3eb8c214adbba33cd1ed35bc76b",
            "d3dde4bf6d96412d8d071f789960abab",
            "5614e152fb2442129a1f560eba88dd05",
            "aea63dc499154ba0b9cc8905d8b25754",
            "0839c6ddd81f42b983eace4e2cb151c2",
            "596f1c06dd984c71a61fd29d64c11410",
            "01afc1f62f44459788b3401cd805cb59",
            "166a67f2596441239d1e2962ab0f319c",
            "6fe62a2f554f43b09f379c5311ca7ddb",
            "8b68cc6c48eb462a95329241193cd875",
            "301f4a72cd694d2190e0431a74a95cbd",
            "f9e4091adf524443bdc8a255307eb8d8",
            "001d9eed30ee4434b1881cb93ccd4fc9",
            "ab5d1216bec64ee085e91f9e418915b5",
            "140274ca83194a05a6db80893bec350c",
            "75b85f8346d44f4c8470bb8e7bd6bc40",
            "d240837a252449828997549110ed7aa6",
            "7955a3575b5c46ba9f6954395c5bf452",
            "f03af19f7dd041d69cf63e497277ccc0",
            "d6c2c063bbf44dcfbbc89bebf987dbe2",
            "97132be9dd08499e9d2322c5d9a4ab12",
            "39e0b301a279485eaae3bc11ac89a9ff",
            "7ef5b5a383d14e0d9e0dd5514edef16e",
            "dfd9c9d242c34f8daf22f242495b0975",
            "d26a9c6cc9d6458ebc2c51b4f953f463",
            "c9670a473d0743f584bcd322a25e3325",
            "eb4a4ea7e3834c3e8815b2ca4843b510",
            "cebd65cc02c44740a83a2a6b0f88d930",
            "b8d95eb52e014b609d6666d9a3eb2277",
            "0ce6b7e840df4839b4b216953ccc0daf",
            "1c26683e17d34e2d948403e21e0c5ca4",
            "3545a35e452e4232ba7b497fbc02703f",
            "9feb08fb385b42228ebc5d881bb8fadf",
            "6f43d0d4e21a41f2bf69dcb06d89d50b",
            "d1da5296266e482f80f2d396533d42da",
            "09257c5f08c44092955ab7f082e2ea76",
            "869df19459f040d78bc69207043b6d75",
            "11c8c915fb8d43a89ae1767abf72a81d",
            "d40a2b0b5754469fad3043294b90202d",
            "ce4346ee85bb43c9a4f3e6e75f773e57",
            "ab338bbcee5b43b3b895fab22a7e45a1",
            "98adbf809c6c4a898f97a7b33e685df0",
            "8e3b2e57d9dc4074ad2c5f29b45f60d4",
            "2b6e62b21e954291910e627f2b0a243f",
            "bc6a385f42474b98a6d7924950e3b79e",
            "2eb48f5e52de458587e7f2563cc01b8a",
            "9799adf382454f4ea925c1022e39ddc1",
            "b508b56ac2a444a9bd19f132a4dbe8a2",
            "c7201fdc56e54b43806886620bbb2f01",
            "9ffbd35549d346eab2b9e070ab1faaa7",
            "69a4477ee8b249348c72a34b549925c7",
            "59d4fde169704b3cbc3d21bef15a537b",
            "9b3c9dc1a1ff49f09737e2ec74691179",
            "9816479e3c0d4c9ab2a4d010c2349abf",
            "d655642c8eca440db62c01484435473f",
            "0224d14ed4f54474ba473e4bcd998e1b",
            "d686a832389e4df2b94e61137bd690ab",
            "dc58f72926f64a1f92b06f5b300b0ce5",
            "c636fdecd70c461d8e649d6fd112f5a8",
            "1f0cfebfb88848ec85dbb5a09c43188a",
            "26340d07849d46d783a8119fa58e7350",
            "388a3d3c518340618e98935354398dca",
            "199473cc875f4fcdbbe2a12063d04801",
            "72f9d27181f246dbaac716f924dae9ef",
            "e4b5d791d4e148b68dfc12e20b178e24",
            "e8c15adefe264a8787b09da2d072cbcf",
            "fb5a1fb995c2448a87879be54a58eb71",
            "746cd0ef36c74ed0928a42eff908e08b",
            "9222e6fe7e3641dbb75c330e34c3ba73",
            "ae7ad3deb87f424da1f1864250e506d3",
            "2e7ad2abdfc34aaf9f6a2a75dd3ef8d1",
            "dcd64e66ead8404ebadf04215358cfed",
            "79e3cf0a107a4a04bc786812ff802b78",
            "c86ce944c64940a8bfc7d3dea9937a1a",
            "a7c0e4a4bab0453ea8460116779ba94d",
            "46f78f9d01c74b9f9ed1e5ce15448a7a",
            "f7edc0e6be3b4008a337dcfe3f20215e",
            "7f842260a95d464598c9a368f20a114a",
            "b1040e7d1bfd45059089d5c630dbe67d",
            "c3bfc6dc8e3547d791d0253fdec6feeb",
            "b8d0fc26f8fa4525a65973ea5da491ee",
            "74309f78c3834e649615f9b36492ce30",
            "57611ee506cd42a09e1846ee7bf67d07"
          ]
        },
        "outputId": "254d8941-a677-4821-ed1e-a78201be5d72"
      },
      "outputs": [
        {
          "output_type": "stream",
          "name": "stderr",
          "text": [
            "/usr/local/lib/python3.11/dist-packages/huggingface_hub/utils/_auth.py:94: UserWarning: \n",
            "The secret `HF_TOKEN` does not exist in your Colab secrets.\n",
            "To authenticate with the Hugging Face Hub, create a token in your settings tab (https://huggingface.co/settings/tokens), set it as secret in your Google Colab and restart your session.\n",
            "You will be able to reuse this secret in all of your notebooks.\n",
            "Please note that authentication is recommended but still optional to access public models or datasets.\n",
            "  warnings.warn(\n"
          ]
        },
        {
          "output_type": "display_data",
          "data": {
            "text/plain": [
              "config.json:   0%|          | 0.00/920 [00:00<?, ?B/s]"
            ],
            "application/vnd.jupyter.widget-view+json": {
              "version_major": 2,
              "version_minor": 0,
              "model_id": "4a3ff828f4044682802d0e07f0320cfe"
            }
          },
          "metadata": {}
        },
        {
          "output_type": "display_data",
          "data": {
            "text/plain": [
              "diffusion_pytorch_model.safetensors:   0%|          | 0.00/1.45G [00:00<?, ?B/s]"
            ],
            "application/vnd.jupyter.widget-view+json": {
              "version_major": 2,
              "version_minor": 0,
              "model_id": "7a624817d7704a76a919b0a711c433b9"
            }
          },
          "metadata": {}
        },
        {
          "output_type": "display_data",
          "data": {
            "text/plain": [
              "model_index.json:   0%|          | 0.00/541 [00:00<?, ?B/s]"
            ],
            "application/vnd.jupyter.widget-view+json": {
              "version_major": 2,
              "version_minor": 0,
              "model_id": "892769d2217c4d1ea9497c8b35bb90a6"
            }
          },
          "metadata": {}
        },
        {
          "output_type": "display_data",
          "data": {
            "text/plain": [
              "Fetching 15 files:   0%|          | 0/15 [00:00<?, ?it/s]"
            ],
            "application/vnd.jupyter.widget-view+json": {
              "version_major": 2,
              "version_minor": 0,
              "model_id": "9f4461726a364468bacada4f93a87c82"
            }
          },
          "metadata": {}
        },
        {
          "output_type": "display_data",
          "data": {
            "text/plain": [
              "model.safetensors:   0%|          | 0.00/492M [00:00<?, ?B/s]"
            ],
            "application/vnd.jupyter.widget-view+json": {
              "version_major": 2,
              "version_minor": 0,
              "model_id": "9016428d4801450e9e2bd9dd736e7393"
            }
          },
          "metadata": {}
        },
        {
          "output_type": "display_data",
          "data": {
            "text/plain": [
              "model.safetensors:   0%|          | 0.00/1.22G [00:00<?, ?B/s]"
            ],
            "application/vnd.jupyter.widget-view+json": {
              "version_major": 2,
              "version_minor": 0,
              "model_id": "3ac86a71e1e446b895a14323b06d2d58"
            }
          },
          "metadata": {}
        },
        {
          "output_type": "display_data",
          "data": {
            "text/plain": [
              "scheduler_config.json:   0%|          | 0.00/308 [00:00<?, ?B/s]"
            ],
            "application/vnd.jupyter.widget-view+json": {
              "version_major": 2,
              "version_minor": 0,
              "model_id": "7c643c20ccef4901ac7de8d1cfce2479"
            }
          },
          "metadata": {}
        },
        {
          "output_type": "display_data",
          "data": {
            "text/plain": [
              "preprocessor_config.json:   0%|          | 0.00/342 [00:00<?, ?B/s]"
            ],
            "application/vnd.jupyter.widget-view+json": {
              "version_major": 2,
              "version_minor": 0,
              "model_id": "eeeb3c52330a48c2b3d281865adc0420"
            }
          },
          "metadata": {}
        },
        {
          "output_type": "display_data",
          "data": {
            "text/plain": [
              "special_tokens_map.json:   0%|          | 0.00/472 [00:00<?, ?B/s]"
            ],
            "application/vnd.jupyter.widget-view+json": {
              "version_major": 2,
              "version_minor": 0,
              "model_id": "fac240ca037e4636a6cf06950b58ffec"
            }
          },
          "metadata": {}
        },
        {
          "output_type": "display_data",
          "data": {
            "text/plain": [
              "config.json:   0%|          | 0.00/4.72k [00:00<?, ?B/s]"
            ],
            "application/vnd.jupyter.widget-view+json": {
              "version_major": 2,
              "version_minor": 0,
              "model_id": "aa0bf32744944c0c8c207bfe4aec175f"
            }
          },
          "metadata": {}
        },
        {
          "output_type": "display_data",
          "data": {
            "text/plain": [
              "merges.txt:   0%|          | 0.00/525k [00:00<?, ?B/s]"
            ],
            "application/vnd.jupyter.widget-view+json": {
              "version_major": 2,
              "version_minor": 0,
              "model_id": "077c59dc10c94b9eacada94916bf2bd7"
            }
          },
          "metadata": {}
        },
        {
          "output_type": "display_data",
          "data": {
            "text/plain": [
              "config.json:   0%|          | 0.00/617 [00:00<?, ?B/s]"
            ],
            "application/vnd.jupyter.widget-view+json": {
              "version_major": 2,
              "version_minor": 0,
              "model_id": "a3ee300f407249789fa3b2989ad3d9b6"
            }
          },
          "metadata": {}
        },
        {
          "output_type": "display_data",
          "data": {
            "text/plain": [
              "diffusion_pytorch_model.safetensors:   0%|          | 0.00/3.44G [00:00<?, ?B/s]"
            ],
            "application/vnd.jupyter.widget-view+json": {
              "version_major": 2,
              "version_minor": 0,
              "model_id": "01afc1f62f44459788b3401cd805cb59"
            }
          },
          "metadata": {}
        },
        {
          "output_type": "display_data",
          "data": {
            "text/plain": [
              "tokenizer_config.json:   0%|          | 0.00/806 [00:00<?, ?B/s]"
            ],
            "application/vnd.jupyter.widget-view+json": {
              "version_major": 2,
              "version_minor": 0,
              "model_id": "7955a3575b5c46ba9f6954395c5bf452"
            }
          },
          "metadata": {}
        },
        {
          "output_type": "display_data",
          "data": {
            "text/plain": [
              "config.json:   0%|          | 0.00/743 [00:00<?, ?B/s]"
            ],
            "application/vnd.jupyter.widget-view+json": {
              "version_major": 2,
              "version_minor": 0,
              "model_id": "b8d95eb52e014b609d6666d9a3eb2277"
            }
          },
          "metadata": {}
        },
        {
          "output_type": "display_data",
          "data": {
            "text/plain": [
              "vocab.json:   0%|          | 0.00/1.06M [00:00<?, ?B/s]"
            ],
            "application/vnd.jupyter.widget-view+json": {
              "version_major": 2,
              "version_minor": 0,
              "model_id": "ce4346ee85bb43c9a4f3e6e75f773e57"
            }
          },
          "metadata": {}
        },
        {
          "output_type": "display_data",
          "data": {
            "text/plain": [
              "config.json:   0%|          | 0.00/547 [00:00<?, ?B/s]"
            ],
            "application/vnd.jupyter.widget-view+json": {
              "version_major": 2,
              "version_minor": 0,
              "model_id": "69a4477ee8b249348c72a34b549925c7"
            }
          },
          "metadata": {}
        },
        {
          "output_type": "display_data",
          "data": {
            "text/plain": [
              "diffusion_pytorch_model.safetensors:   0%|          | 0.00/335M [00:00<?, ?B/s]"
            ],
            "application/vnd.jupyter.widget-view+json": {
              "version_major": 2,
              "version_minor": 0,
              "model_id": "388a3d3c518340618e98935354398dca"
            }
          },
          "metadata": {}
        },
        {
          "output_type": "display_data",
          "data": {
            "text/plain": [
              "Loading pipeline components...:   0%|          | 0/7 [00:00<?, ?it/s]"
            ],
            "application/vnd.jupyter.widget-view+json": {
              "version_major": 2,
              "version_minor": 0,
              "model_id": "79e3cf0a107a4a04bc786812ff802b78"
            }
          },
          "metadata": {}
        }
      ],
      "source": [
        "from diffusers import ControlNetModel, StableDiffusionControlNetPipeline\n",
        "import torch\n",
        "\n",
        "# Load ControlNet model\n",
        "controlnet = ControlNetModel.from_pretrained(\"lllyasviel/sd-controlnet-canny\")\n",
        "\n",
        "# Load Stable Diffusion model with ControlNet\n",
        "pipe = StableDiffusionControlNetPipeline.from_pretrained(\n",
        "    \"runwayml/stable-diffusion-v1-5\", controlnet=controlnet, torch_dtype=torch.float16\n",
        ").to(\"cuda\")"
      ]
    },
    {
      "cell_type": "code",
      "execution_count": 15,
      "metadata": {
        "id": "lLDxkEbqx1ax",
        "colab": {
          "base_uri": "https://localhost:8080/",
          "height": 1000,
          "referenced_widgets": [
            "10e5ccd2809f4e82a402c66d8c6ae7e6",
            "7064990aca2744bda2f0d516d597cfa2",
            "2792d98798384bb2a12b0dd98dfa8f14",
            "c31560edd93243a2a352f6c29668773b",
            "03e1ff993ab64638ad89f6c9c84b6970",
            "0fce0e3ee9be4087b79130f181ef9164",
            "3047e4c682f3434fb6bcf3e7f076a0f0",
            "f261aca54d6442ef844390a8e021a542",
            "7562a0188ae54a178c5fba971ba2e0d4",
            "6c90f0c4ee5f464d90e8a6d07cc4be4b",
            "f8f14f3fa7ae4593995fd899494a4cf0",
            "e4d7a7b693b74e6da2883964a8d7be13",
            "58d6ea8cbaea49c0b1847473114ef9d5",
            "386b993f5a8f4c6c80767a115ed68506",
            "22ec5ee0e1cf4e6b8294d15b50ca446f",
            "32c8bdaaadd14f5b8a758d3534204ac6",
            "a4ff3e3070754ba387bee072f585978f",
            "b48a15a0d63c4e3983272dbfc4f3d536",
            "309970d35c984c938b9e8b850bb295db",
            "0ee1edbaaf9e412a9e0e7af5ed372df7",
            "1e259466f1e9425d84c195ba0e001ff1",
            "a57f1a7ea96f47c5b2a61fca966dbb84",
            "cc5f16e22058410699cd82ab56238b35",
            "260f06709b084f5f911e2c5c99302b00",
            "568b78e5293245398faf776548171e69",
            "8228d95df50f442fbd959929eee404f6",
            "6a36d93ad70b4f7f8eae76bae664a9a6",
            "c7eafa4c8701451fadc4cb9fe1057224",
            "82f3289e0e694f46994ec8485c38ae98",
            "74ba733243e748839c08c41e5404bbf3",
            "c79a1f84448444e085b1db08672ce34d",
            "8ec6c3927345410a984145a2059caeb1",
            "1fde962a400c483b879296434c577acd",
            "c14bbb48b27747bdb187508bbbbecebb",
            "062137717feb406bb5d33ca7784d7371",
            "d28edde52dfb4c0d9700609b108d354b",
            "91a3e339434a40cb947a064e08e97afa",
            "a4ed78809fe54619aef87e95b572627f",
            "b7ab871d130d46af9483fc65119be28e",
            "55866d177fb244df977f0417d07ae129",
            "7f7d120196ad4682b7517cad0ed2f59d",
            "990b6ded27a7457ab3eae5f4cec85595",
            "54e4ef040e334ce5b03ebcc3185c8e80",
            "b87d8b1395b943da8526b6879c6cc415",
            "febb3d4a5af54ec7af69afbcdf2c5a5b",
            "751230f4f7be4ec7918fd75d747d569e",
            "dd600e4a252c4228a10a23feb30b33ac",
            "9b9eb7ab0cf543c5a25674cfcefc51e7",
            "a3cfdc2a22cc4b6faa512c944866b219",
            "b04ed59dd5cb440faa09d33e933d1d67",
            "61a3345318674e879c202696968b0f52",
            "6b7b0d25abc048a7a8605be1c2f5f55f",
            "c1ecb13362bc48b1b4ed861d77a2ecf0",
            "de639a7dd2fc49838c75af9608cb8a02",
            "2dec80b69ad94b6db41fd2d1e9beb23f",
            "d6adac5f29564b81b0969717bcfa37f8",
            "acfe6e15abeb438a9058ee29d11557a5",
            "583384f491cd4b9994e00063bc86e289",
            "0d6486fee64c491eb4e5fc99ec64762e",
            "8858620ad8494d9a97c3b93341f8c7db",
            "272803ea78b442e7922384c343639cbd",
            "d89b4b78afe449bba779125d312143a1",
            "91a4d9bffcce4faf8fd9539a25d81422",
            "95bec0a4e05e4f3a96dfbd11bfceb86d",
            "8eb3d22dca5047c8a29a903ea63a655d",
            "7bfa4b52991246778ad988d6508cef65",
            "cc9082d892134b9782e3468199ea2248",
            "ecf3cfe8a26a4859ae0cbb30af748d19",
            "3910186545d147cf8c12151cd6100910",
            "0d9c4c84a2034726823a04961053a0a5",
            "502ea07f73f1449ca16ca5f3b7a12d47",
            "7dd448f403eb46318e1f661353406042",
            "589e5bbc43e845ac89969542eb74fd40",
            "e03f0fa563444bb981f1243bad35c20a",
            "de5711f6c07443378d13a866be0e4256",
            "4c51b833aba649ad9d6199295298f128",
            "3bbe873ab2cc48dcbfea635c0ad02d06",
            "253f8552413a4549a0ec1ef62d6f3686",
            "e652fe7980f648248c882545250abe96",
            "a74e0d38c9b34d4197491674ed1033b6",
            "33f6da9568b64798a5de187b7e12fa25",
            "71f8eb4118954b1f85d27b06ede4234a",
            "cef8f132b1ea4207a354d844aaa3b3bc",
            "cdb2cb2120d44703a7adc6ec04586b06",
            "30a60c62f0f64fb5af2c8dbe9b272743",
            "44d36beaa89843cd99b00a956be67011",
            "32448d54b54b490da193c2f86bcf5116",
            "b0d414c2d1494d5e919a56358303b2da"
          ]
        },
        "outputId": "004079c5-d871-42de-ed0f-1ee11fcc5fe1"
      },
      "outputs": [
        {
          "output_type": "display_data",
          "data": {
            "text/plain": [
              "tokenizer_config.json:   0%|          | 0.00/592 [00:00<?, ?B/s]"
            ],
            "application/vnd.jupyter.widget-view+json": {
              "version_major": 2,
              "version_minor": 0,
              "model_id": "10e5ccd2809f4e82a402c66d8c6ae7e6"
            }
          },
          "metadata": {}
        },
        {
          "output_type": "display_data",
          "data": {
            "text/plain": [
              "vocab.json:   0%|          | 0.00/862k [00:00<?, ?B/s]"
            ],
            "application/vnd.jupyter.widget-view+json": {
              "version_major": 2,
              "version_minor": 0,
              "model_id": "e4d7a7b693b74e6da2883964a8d7be13"
            }
          },
          "metadata": {}
        },
        {
          "output_type": "display_data",
          "data": {
            "text/plain": [
              "merges.txt:   0%|          | 0.00/525k [00:00<?, ?B/s]"
            ],
            "application/vnd.jupyter.widget-view+json": {
              "version_major": 2,
              "version_minor": 0,
              "model_id": "cc5f16e22058410699cd82ab56238b35"
            }
          },
          "metadata": {}
        },
        {
          "output_type": "display_data",
          "data": {
            "text/plain": [
              "special_tokens_map.json:   0%|          | 0.00/389 [00:00<?, ?B/s]"
            ],
            "application/vnd.jupyter.widget-view+json": {
              "version_major": 2,
              "version_minor": 0,
              "model_id": "c14bbb48b27747bdb187508bbbbecebb"
            }
          },
          "metadata": {}
        },
        {
          "output_type": "display_data",
          "data": {
            "text/plain": [
              "tokenizer.json:   0%|          | 0.00/2.22M [00:00<?, ?B/s]"
            ],
            "application/vnd.jupyter.widget-view+json": {
              "version_major": 2,
              "version_minor": 0,
              "model_id": "febb3d4a5af54ec7af69afbcdf2c5a5b"
            }
          },
          "metadata": {}
        },
        {
          "output_type": "display_data",
          "data": {
            "text/plain": [
              "config.json:   0%|          | 0.00/4.19k [00:00<?, ?B/s]"
            ],
            "application/vnd.jupyter.widget-view+json": {
              "version_major": 2,
              "version_minor": 0,
              "model_id": "d6adac5f29564b81b0969717bcfa37f8"
            }
          },
          "metadata": {}
        },
        {
          "output_type": "display_data",
          "data": {
            "text/plain": [
              "pytorch_model.bin:   0%|          | 0.00/605M [00:00<?, ?B/s]"
            ],
            "application/vnd.jupyter.widget-view+json": {
              "version_major": 2,
              "version_minor": 0,
              "model_id": "cc9082d892134b9782e3468199ea2248"
            }
          },
          "metadata": {}
        },
        {
          "output_type": "stream",
          "name": "stdout",
          "text": [
            "Epoch 1/3\n"
          ]
        },
        {
          "output_type": "stream",
          "name": "stderr",
          "text": [
            "  1%|          | 1/128 [00:02<04:51,  2.30s/it]"
          ]
        },
        {
          "output_type": "stream",
          "name": "stdout",
          "text": [
            "Error in batch: mat1 and mat2 shapes cannot be multiplied (308x512 and 768x320)\n",
            "Text embeddings shape: torch.Size([4, 77, 512])\n",
            "Control images shape: torch.Size([4, 3, 512, 512])\n",
            "Noise shape: torch.Size([4, 4, 64, 64])\n"
          ]
        },
        {
          "output_type": "stream",
          "name": "stderr",
          "text": [
            "\r  2%|▏         | 2/128 [00:02<02:15,  1.07s/it]"
          ]
        },
        {
          "output_type": "stream",
          "name": "stdout",
          "text": [
            "Error in batch: mat1 and mat2 shapes cannot be multiplied (308x512 and 768x320)\n",
            "Text embeddings shape: torch.Size([4, 77, 512])\n",
            "Control images shape: torch.Size([4, 3, 512, 512])\n",
            "Noise shape: torch.Size([4, 4, 64, 64])\n"
          ]
        },
        {
          "output_type": "display_data",
          "data": {
            "text/plain": [
              "model.safetensors:   0%|          | 0.00/605M [00:00<?, ?B/s]"
            ],
            "application/vnd.jupyter.widget-view+json": {
              "version_major": 2,
              "version_minor": 0,
              "model_id": "253f8552413a4549a0ec1ef62d6f3686"
            }
          },
          "metadata": {}
        },
        {
          "output_type": "stream",
          "name": "stderr",
          "text": [
            "\r  2%|▏         | 3/128 [00:02<01:40,  1.25it/s]"
          ]
        },
        {
          "output_type": "stream",
          "name": "stdout",
          "text": [
            "Error in batch: mat1 and mat2 shapes cannot be multiplied (308x512 and 768x320)\n",
            "Text embeddings shape: torch.Size([4, 77, 512])\n",
            "Control images shape: torch.Size([4, 3, 512, 512])\n",
            "Noise shape: torch.Size([4, 4, 64, 64])\n"
          ]
        },
        {
          "output_type": "stream",
          "name": "stderr",
          "text": [
            "\r  3%|▎         | 4/128 [00:04<01:52,  1.10it/s]"
          ]
        },
        {
          "output_type": "stream",
          "name": "stdout",
          "text": [
            "Error in batch: mat1 and mat2 shapes cannot be multiplied (308x512 and 768x320)\n",
            "Text embeddings shape: torch.Size([4, 77, 512])\n",
            "Control images shape: torch.Size([4, 3, 512, 512])\n",
            "Noise shape: torch.Size([4, 4, 64, 64])\n"
          ]
        },
        {
          "output_type": "stream",
          "name": "stderr",
          "text": [
            "\r  4%|▍         | 5/128 [00:04<01:29,  1.38it/s]"
          ]
        },
        {
          "output_type": "stream",
          "name": "stdout",
          "text": [
            "Error in batch: mat1 and mat2 shapes cannot be multiplied (308x512 and 768x320)\n",
            "Text embeddings shape: torch.Size([4, 77, 512])\n",
            "Control images shape: torch.Size([4, 3, 512, 512])\n",
            "Noise shape: torch.Size([4, 4, 64, 64])\n"
          ]
        },
        {
          "output_type": "stream",
          "name": "stderr",
          "text": [
            "\r  5%|▍         | 6/128 [00:04<01:17,  1.58it/s]"
          ]
        },
        {
          "output_type": "stream",
          "name": "stdout",
          "text": [
            "Error in batch: mat1 and mat2 shapes cannot be multiplied (308x512 and 768x320)\n",
            "Text embeddings shape: torch.Size([4, 77, 512])\n",
            "Control images shape: torch.Size([4, 3, 512, 512])\n",
            "Noise shape: torch.Size([4, 4, 64, 64])\n"
          ]
        },
        {
          "output_type": "stream",
          "name": "stderr",
          "text": [
            "\r  5%|▌         | 7/128 [00:05<01:11,  1.69it/s]"
          ]
        },
        {
          "output_type": "stream",
          "name": "stdout",
          "text": [
            "Error in batch: mat1 and mat2 shapes cannot be multiplied (308x512 and 768x320)\n",
            "Text embeddings shape: torch.Size([4, 77, 512])\n",
            "Control images shape: torch.Size([4, 3, 512, 512])\n",
            "Noise shape: torch.Size([4, 4, 64, 64])\n"
          ]
        },
        {
          "output_type": "stream",
          "name": "stderr",
          "text": [
            "  7%|▋         | 9/128 [00:05<00:44,  2.68it/s]"
          ]
        },
        {
          "output_type": "stream",
          "name": "stdout",
          "text": [
            "Error in batch: mat1 and mat2 shapes cannot be multiplied (308x512 and 768x320)\n",
            "Text embeddings shape: torch.Size([4, 77, 512])\n",
            "Control images shape: torch.Size([4, 3, 512, 512])\n",
            "Noise shape: torch.Size([4, 4, 64, 64])\n",
            "Error in batch: mat1 and mat2 shapes cannot be multiplied (308x512 and 768x320)\n",
            "Text embeddings shape: torch.Size([4, 77, 512])\n",
            "Control images shape: torch.Size([4, 3, 512, 512])\n",
            "Noise shape: torch.Size([4, 4, 64, 64])\n"
          ]
        },
        {
          "output_type": "stream",
          "name": "stderr",
          "text": [
            "  9%|▊         | 11/128 [00:06<00:28,  4.10it/s]"
          ]
        },
        {
          "output_type": "stream",
          "name": "stdout",
          "text": [
            "Error in batch: mat1 and mat2 shapes cannot be multiplied (308x512 and 768x320)\n",
            "Text embeddings shape: torch.Size([4, 77, 512])\n",
            "Control images shape: torch.Size([4, 3, 512, 512])\n",
            "Noise shape: torch.Size([4, 4, 64, 64])\n",
            "Error in batch: mat1 and mat2 shapes cannot be multiplied (308x512 and 768x320)\n",
            "Text embeddings shape: torch.Size([4, 77, 512])\n",
            "Control images shape: torch.Size([4, 3, 512, 512])\n",
            "Noise shape: torch.Size([4, 4, 64, 64])\n"
          ]
        },
        {
          "output_type": "stream",
          "name": "stderr",
          "text": [
            " 10%|█         | 13/128 [00:06<00:21,  5.29it/s]"
          ]
        },
        {
          "output_type": "stream",
          "name": "stdout",
          "text": [
            "Error in batch: mat1 and mat2 shapes cannot be multiplied (308x512 and 768x320)\n",
            "Text embeddings shape: torch.Size([4, 77, 512])\n",
            "Control images shape: torch.Size([4, 3, 512, 512])\n",
            "Noise shape: torch.Size([4, 4, 64, 64])\n",
            "Error in batch: mat1 and mat2 shapes cannot be multiplied (308x512 and 768x320)\n",
            "Text embeddings shape: torch.Size([4, 77, 512])\n",
            "Control images shape: torch.Size([4, 3, 512, 512])\n",
            "Noise shape: torch.Size([4, 4, 64, 64])\n"
          ]
        },
        {
          "output_type": "stream",
          "name": "stderr",
          "text": [
            "\r 11%|█         | 14/128 [00:06<00:19,  5.71it/s]"
          ]
        },
        {
          "output_type": "stream",
          "name": "stdout",
          "text": [
            "Error in batch: mat1 and mat2 shapes cannot be multiplied (308x512 and 768x320)\n",
            "Text embeddings shape: torch.Size([4, 77, 512])\n",
            "Control images shape: torch.Size([4, 3, 512, 512])\n",
            "Noise shape: torch.Size([4, 4, 64, 64])\n"
          ]
        },
        {
          "output_type": "stream",
          "name": "stderr",
          "text": [
            " 12%|█▎        | 16/128 [00:06<00:18,  6.13it/s]"
          ]
        },
        {
          "output_type": "stream",
          "name": "stdout",
          "text": [
            "Error in batch: mat1 and mat2 shapes cannot be multiplied (308x512 and 768x320)\n",
            "Text embeddings shape: torch.Size([4, 77, 512])\n",
            "Control images shape: torch.Size([4, 3, 512, 512])\n",
            "Noise shape: torch.Size([4, 4, 64, 64])\n",
            "Error in batch: mat1 and mat2 shapes cannot be multiplied (308x512 and 768x320)\n",
            "Text embeddings shape: torch.Size([4, 77, 512])\n",
            "Control images shape: torch.Size([4, 3, 512, 512])\n",
            "Noise shape: torch.Size([4, 4, 64, 64])\n"
          ]
        },
        {
          "output_type": "stream",
          "name": "stderr",
          "text": [
            " 14%|█▍        | 18/128 [00:07<00:17,  6.31it/s]"
          ]
        },
        {
          "output_type": "stream",
          "name": "stdout",
          "text": [
            "Error in batch: mat1 and mat2 shapes cannot be multiplied (308x512 and 768x320)\n",
            "Text embeddings shape: torch.Size([4, 77, 512])\n",
            "Control images shape: torch.Size([4, 3, 512, 512])\n",
            "Noise shape: torch.Size([4, 4, 64, 64])\n",
            "Error in batch: mat1 and mat2 shapes cannot be multiplied (308x512 and 768x320)\n",
            "Text embeddings shape: torch.Size([4, 77, 512])\n",
            "Control images shape: torch.Size([4, 3, 512, 512])\n",
            "Noise shape: torch.Size([4, 4, 64, 64])\n"
          ]
        },
        {
          "output_type": "stream",
          "name": "stderr",
          "text": [
            " 16%|█▌        | 20/128 [00:07<00:16,  6.37it/s]"
          ]
        },
        {
          "output_type": "stream",
          "name": "stdout",
          "text": [
            "Error in batch: mat1 and mat2 shapes cannot be multiplied (308x512 and 768x320)\n",
            "Text embeddings shape: torch.Size([4, 77, 512])\n",
            "Control images shape: torch.Size([4, 3, 512, 512])\n",
            "Noise shape: torch.Size([4, 4, 64, 64])\n",
            "Error in batch: mat1 and mat2 shapes cannot be multiplied (308x512 and 768x320)\n",
            "Text embeddings shape: torch.Size([4, 77, 512])\n",
            "Control images shape: torch.Size([4, 3, 512, 512])\n",
            "Noise shape: torch.Size([4, 4, 64, 64])\n"
          ]
        },
        {
          "output_type": "stream",
          "name": "stderr",
          "text": [
            " 17%|█▋        | 22/128 [00:07<00:15,  6.96it/s]"
          ]
        },
        {
          "output_type": "stream",
          "name": "stdout",
          "text": [
            "Error in batch: mat1 and mat2 shapes cannot be multiplied (308x512 and 768x320)\n",
            "Text embeddings shape: torch.Size([4, 77, 512])\n",
            "Control images shape: torch.Size([4, 3, 512, 512])\n",
            "Noise shape: torch.Size([4, 4, 64, 64])\n",
            "Error in batch: mat1 and mat2 shapes cannot be multiplied (308x512 and 768x320)\n",
            "Text embeddings shape: torch.Size([4, 77, 512])\n",
            "Control images shape: torch.Size([4, 3, 512, 512])\n",
            "Noise shape: torch.Size([4, 4, 64, 64])\n"
          ]
        },
        {
          "output_type": "stream",
          "name": "stderr",
          "text": [
            " 19%|█▉        | 24/128 [00:07<00:15,  6.65it/s]"
          ]
        },
        {
          "output_type": "stream",
          "name": "stdout",
          "text": [
            "Error in batch: mat1 and mat2 shapes cannot be multiplied (308x512 and 768x320)\n",
            "Text embeddings shape: torch.Size([4, 77, 512])\n",
            "Control images shape: torch.Size([4, 3, 512, 512])\n",
            "Noise shape: torch.Size([4, 4, 64, 64])\n",
            "Error in batch: mat1 and mat2 shapes cannot be multiplied (308x512 and 768x320)\n",
            "Text embeddings shape: torch.Size([4, 77, 512])\n",
            "Control images shape: torch.Size([4, 3, 512, 512])\n",
            "Noise shape: torch.Size([4, 4, 64, 64])\n"
          ]
        },
        {
          "output_type": "stream",
          "name": "stderr",
          "text": [
            " 20%|██        | 26/128 [00:08<00:14,  7.20it/s]"
          ]
        },
        {
          "output_type": "stream",
          "name": "stdout",
          "text": [
            "Error in batch: mat1 and mat2 shapes cannot be multiplied (308x512 and 768x320)\n",
            "Text embeddings shape: torch.Size([4, 77, 512])\n",
            "Control images shape: torch.Size([4, 3, 512, 512])\n",
            "Noise shape: torch.Size([4, 4, 64, 64])\n",
            "Error in batch: mat1 and mat2 shapes cannot be multiplied (308x512 and 768x320)\n",
            "Text embeddings shape: torch.Size([4, 77, 512])\n",
            "Control images shape: torch.Size([4, 3, 512, 512])\n",
            "Noise shape: torch.Size([4, 4, 64, 64])\n"
          ]
        },
        {
          "output_type": "stream",
          "name": "stderr",
          "text": [
            " 22%|██▏       | 28/128 [00:08<00:15,  6.60it/s]"
          ]
        },
        {
          "output_type": "stream",
          "name": "stdout",
          "text": [
            "Error in batch: mat1 and mat2 shapes cannot be multiplied (308x512 and 768x320)\n",
            "Text embeddings shape: torch.Size([4, 77, 512])\n",
            "Control images shape: torch.Size([4, 3, 512, 512])\n",
            "Noise shape: torch.Size([4, 4, 64, 64])\n",
            "Error in batch: mat1 and mat2 shapes cannot be multiplied (308x512 and 768x320)\n",
            "Text embeddings shape: torch.Size([4, 77, 512])\n",
            "Control images shape: torch.Size([4, 3, 512, 512])\n",
            "Noise shape: torch.Size([4, 4, 64, 64])\n"
          ]
        },
        {
          "output_type": "stream",
          "name": "stderr",
          "text": [
            " 23%|██▎       | 30/128 [00:08<00:13,  7.15it/s]"
          ]
        },
        {
          "output_type": "stream",
          "name": "stdout",
          "text": [
            "Error in batch: mat1 and mat2 shapes cannot be multiplied (308x512 and 768x320)\n",
            "Text embeddings shape: torch.Size([4, 77, 512])\n",
            "Control images shape: torch.Size([4, 3, 512, 512])\n",
            "Noise shape: torch.Size([4, 4, 64, 64])\n",
            "Error in batch: mat1 and mat2 shapes cannot be multiplied (308x512 and 768x320)\n",
            "Text embeddings shape: torch.Size([4, 77, 512])\n",
            "Control images shape: torch.Size([4, 3, 512, 512])\n",
            "Noise shape: torch.Size([4, 4, 64, 64])\n"
          ]
        },
        {
          "output_type": "stream",
          "name": "stderr",
          "text": [
            " 25%|██▌       | 32/128 [00:09<00:13,  7.18it/s]"
          ]
        },
        {
          "output_type": "stream",
          "name": "stdout",
          "text": [
            "Error in batch: mat1 and mat2 shapes cannot be multiplied (308x512 and 768x320)\n",
            "Text embeddings shape: torch.Size([4, 77, 512])\n",
            "Control images shape: torch.Size([4, 3, 512, 512])\n",
            "Noise shape: torch.Size([4, 4, 64, 64])\n",
            "Error in batch: mat1 and mat2 shapes cannot be multiplied (308x512 and 768x320)\n",
            "Text embeddings shape: torch.Size([4, 77, 512])\n",
            "Control images shape: torch.Size([4, 3, 512, 512])\n",
            "Noise shape: torch.Size([4, 4, 64, 64])\n"
          ]
        },
        {
          "output_type": "stream",
          "name": "stderr",
          "text": [
            " 27%|██▋       | 34/128 [00:09<00:13,  6.95it/s]"
          ]
        },
        {
          "output_type": "stream",
          "name": "stdout",
          "text": [
            "Error in batch: mat1 and mat2 shapes cannot be multiplied (308x512 and 768x320)\n",
            "Text embeddings shape: torch.Size([4, 77, 512])\n",
            "Control images shape: torch.Size([4, 3, 512, 512])\n",
            "Noise shape: torch.Size([4, 4, 64, 64])\n",
            "Error in batch: mat1 and mat2 shapes cannot be multiplied (308x512 and 768x320)\n",
            "Text embeddings shape: torch.Size([4, 77, 512])\n",
            "Control images shape: torch.Size([4, 3, 512, 512])\n",
            "Noise shape: torch.Size([4, 4, 64, 64])\n"
          ]
        },
        {
          "output_type": "stream",
          "name": "stderr",
          "text": [
            " 28%|██▊       | 36/128 [00:09<00:13,  6.77it/s]"
          ]
        },
        {
          "output_type": "stream",
          "name": "stdout",
          "text": [
            "Error in batch: mat1 and mat2 shapes cannot be multiplied (308x512 and 768x320)\n",
            "Text embeddings shape: torch.Size([4, 77, 512])\n",
            "Control images shape: torch.Size([4, 3, 512, 512])\n",
            "Noise shape: torch.Size([4, 4, 64, 64])\n",
            "Error in batch: mat1 and mat2 shapes cannot be multiplied (308x512 and 768x320)\n",
            "Text embeddings shape: torch.Size([4, 77, 512])\n",
            "Control images shape: torch.Size([4, 3, 512, 512])\n",
            "Noise shape: torch.Size([4, 4, 64, 64])\n"
          ]
        },
        {
          "output_type": "stream",
          "name": "stderr",
          "text": [
            " 30%|██▉       | 38/128 [00:09<00:12,  7.03it/s]"
          ]
        },
        {
          "output_type": "stream",
          "name": "stdout",
          "text": [
            "Error in batch: mat1 and mat2 shapes cannot be multiplied (308x512 and 768x320)\n",
            "Text embeddings shape: torch.Size([4, 77, 512])\n",
            "Control images shape: torch.Size([4, 3, 512, 512])\n",
            "Noise shape: torch.Size([4, 4, 64, 64])\n",
            "Error in batch: mat1 and mat2 shapes cannot be multiplied (308x512 and 768x320)\n",
            "Text embeddings shape: torch.Size([4, 77, 512])\n",
            "Control images shape: torch.Size([4, 3, 512, 512])\n",
            "Noise shape: torch.Size([4, 4, 64, 64])\n"
          ]
        },
        {
          "output_type": "stream",
          "name": "stderr",
          "text": [
            " 31%|███▏      | 40/128 [00:10<00:13,  6.54it/s]"
          ]
        },
        {
          "output_type": "stream",
          "name": "stdout",
          "text": [
            "Error in batch: mat1 and mat2 shapes cannot be multiplied (308x512 and 768x320)\n",
            "Text embeddings shape: torch.Size([4, 77, 512])\n",
            "Control images shape: torch.Size([4, 3, 512, 512])\n",
            "Noise shape: torch.Size([4, 4, 64, 64])\n",
            "Error in batch: mat1 and mat2 shapes cannot be multiplied (308x512 and 768x320)\n",
            "Text embeddings shape: torch.Size([4, 77, 512])\n",
            "Control images shape: torch.Size([4, 3, 512, 512])\n",
            "Noise shape: torch.Size([4, 4, 64, 64])\n"
          ]
        },
        {
          "output_type": "stream",
          "name": "stderr",
          "text": [
            " 33%|███▎      | 42/128 [00:10<00:12,  6.77it/s]"
          ]
        },
        {
          "output_type": "stream",
          "name": "stdout",
          "text": [
            "Error in batch: mat1 and mat2 shapes cannot be multiplied (308x512 and 768x320)\n",
            "Text embeddings shape: torch.Size([4, 77, 512])\n",
            "Control images shape: torch.Size([4, 3, 512, 512])\n",
            "Noise shape: torch.Size([4, 4, 64, 64])\n",
            "Error in batch: mat1 and mat2 shapes cannot be multiplied (308x512 and 768x320)\n",
            "Text embeddings shape: torch.Size([4, 77, 512])\n",
            "Control images shape: torch.Size([4, 3, 512, 512])\n",
            "Noise shape: torch.Size([4, 4, 64, 64])\n"
          ]
        },
        {
          "output_type": "stream",
          "name": "stderr",
          "text": [
            " 34%|███▍      | 44/128 [00:10<00:11,  7.11it/s]"
          ]
        },
        {
          "output_type": "stream",
          "name": "stdout",
          "text": [
            "Error in batch: mat1 and mat2 shapes cannot be multiplied (308x512 and 768x320)\n",
            "Text embeddings shape: torch.Size([4, 77, 512])\n",
            "Control images shape: torch.Size([4, 3, 512, 512])\n",
            "Noise shape: torch.Size([4, 4, 64, 64])\n",
            "Error in batch: mat1 and mat2 shapes cannot be multiplied (308x512 and 768x320)\n",
            "Text embeddings shape: torch.Size([4, 77, 512])\n",
            "Control images shape: torch.Size([4, 3, 512, 512])\n",
            "Noise shape: torch.Size([4, 4, 64, 64])\n"
          ]
        },
        {
          "output_type": "stream",
          "name": "stderr",
          "text": [
            " 36%|███▌      | 46/128 [00:11<00:11,  7.34it/s]"
          ]
        },
        {
          "output_type": "stream",
          "name": "stdout",
          "text": [
            "Error in batch: mat1 and mat2 shapes cannot be multiplied (308x512 and 768x320)\n",
            "Text embeddings shape: torch.Size([4, 77, 512])\n",
            "Control images shape: torch.Size([4, 3, 512, 512])\n",
            "Noise shape: torch.Size([4, 4, 64, 64])\n",
            "Error in batch: mat1 and mat2 shapes cannot be multiplied (308x512 and 768x320)\n",
            "Text embeddings shape: torch.Size([4, 77, 512])\n",
            "Control images shape: torch.Size([4, 3, 512, 512])\n",
            "Noise shape: torch.Size([4, 4, 64, 64])\n"
          ]
        },
        {
          "output_type": "stream",
          "name": "stderr",
          "text": [
            " 38%|███▊      | 48/128 [00:11<00:10,  7.35it/s]"
          ]
        },
        {
          "output_type": "stream",
          "name": "stdout",
          "text": [
            "Error in batch: mat1 and mat2 shapes cannot be multiplied (308x512 and 768x320)\n",
            "Text embeddings shape: torch.Size([4, 77, 512])\n",
            "Control images shape: torch.Size([4, 3, 512, 512])\n",
            "Noise shape: torch.Size([4, 4, 64, 64])\n",
            "Error in batch: mat1 and mat2 shapes cannot be multiplied (308x512 and 768x320)\n",
            "Text embeddings shape: torch.Size([4, 77, 512])\n",
            "Control images shape: torch.Size([4, 3, 512, 512])\n",
            "Noise shape: torch.Size([4, 4, 64, 64])\n"
          ]
        },
        {
          "output_type": "stream",
          "name": "stderr",
          "text": [
            " 39%|███▉      | 50/128 [00:11<00:10,  7.64it/s]"
          ]
        },
        {
          "output_type": "stream",
          "name": "stdout",
          "text": [
            "Error in batch: mat1 and mat2 shapes cannot be multiplied (308x512 and 768x320)\n",
            "Text embeddings shape: torch.Size([4, 77, 512])\n",
            "Control images shape: torch.Size([4, 3, 512, 512])\n",
            "Noise shape: torch.Size([4, 4, 64, 64])\n",
            "Error in batch: mat1 and mat2 shapes cannot be multiplied (308x512 and 768x320)\n",
            "Text embeddings shape: torch.Size([4, 77, 512])\n",
            "Control images shape: torch.Size([4, 3, 512, 512])\n",
            "Noise shape: torch.Size([4, 4, 64, 64])\n"
          ]
        },
        {
          "output_type": "stream",
          "name": "stderr",
          "text": [
            " 41%|████      | 52/128 [00:11<00:10,  7.32it/s]"
          ]
        },
        {
          "output_type": "stream",
          "name": "stdout",
          "text": [
            "Error in batch: mat1 and mat2 shapes cannot be multiplied (308x512 and 768x320)\n",
            "Text embeddings shape: torch.Size([4, 77, 512])\n",
            "Control images shape: torch.Size([4, 3, 512, 512])\n",
            "Noise shape: torch.Size([4, 4, 64, 64])\n",
            "Error in batch: mat1 and mat2 shapes cannot be multiplied (308x512 and 768x320)\n",
            "Text embeddings shape: torch.Size([4, 77, 512])\n",
            "Control images shape: torch.Size([4, 3, 512, 512])\n",
            "Noise shape: torch.Size([4, 4, 64, 64])\n"
          ]
        },
        {
          "output_type": "stream",
          "name": "stderr",
          "text": [
            " 42%|████▏     | 54/128 [00:12<00:10,  6.81it/s]"
          ]
        },
        {
          "output_type": "stream",
          "name": "stdout",
          "text": [
            "Error in batch: mat1 and mat2 shapes cannot be multiplied (308x512 and 768x320)\n",
            "Text embeddings shape: torch.Size([4, 77, 512])\n",
            "Control images shape: torch.Size([4, 3, 512, 512])\n",
            "Noise shape: torch.Size([4, 4, 64, 64])\n",
            "Error in batch: mat1 and mat2 shapes cannot be multiplied (308x512 and 768x320)\n",
            "Text embeddings shape: torch.Size([4, 77, 512])\n",
            "Control images shape: torch.Size([4, 3, 512, 512])\n",
            "Noise shape: torch.Size([4, 4, 64, 64])\n"
          ]
        },
        {
          "output_type": "stream",
          "name": "stderr",
          "text": [
            " 44%|████▍     | 56/128 [00:12<00:10,  7.09it/s]"
          ]
        },
        {
          "output_type": "stream",
          "name": "stdout",
          "text": [
            "Error in batch: mat1 and mat2 shapes cannot be multiplied (308x512 and 768x320)\n",
            "Text embeddings shape: torch.Size([4, 77, 512])\n",
            "Control images shape: torch.Size([4, 3, 512, 512])\n",
            "Noise shape: torch.Size([4, 4, 64, 64])\n",
            "Error in batch: mat1 and mat2 shapes cannot be multiplied (308x512 and 768x320)\n",
            "Text embeddings shape: torch.Size([4, 77, 512])\n",
            "Control images shape: torch.Size([4, 3, 512, 512])\n",
            "Noise shape: torch.Size([4, 4, 64, 64])\n"
          ]
        },
        {
          "output_type": "stream",
          "name": "stderr",
          "text": [
            " 45%|████▌     | 58/128 [00:12<00:10,  6.69it/s]"
          ]
        },
        {
          "output_type": "stream",
          "name": "stdout",
          "text": [
            "Error in batch: mat1 and mat2 shapes cannot be multiplied (308x512 and 768x320)\n",
            "Text embeddings shape: torch.Size([4, 77, 512])\n",
            "Control images shape: torch.Size([4, 3, 512, 512])\n",
            "Noise shape: torch.Size([4, 4, 64, 64])\n",
            "Error in batch: mat1 and mat2 shapes cannot be multiplied (308x512 and 768x320)\n",
            "Text embeddings shape: torch.Size([4, 77, 512])\n",
            "Control images shape: torch.Size([4, 3, 512, 512])\n",
            "Noise shape: torch.Size([4, 4, 64, 64])\n"
          ]
        },
        {
          "output_type": "stream",
          "name": "stderr",
          "text": [
            " 47%|████▋     | 60/128 [00:13<00:10,  6.78it/s]"
          ]
        },
        {
          "output_type": "stream",
          "name": "stdout",
          "text": [
            "Error in batch: mat1 and mat2 shapes cannot be multiplied (308x512 and 768x320)\n",
            "Text embeddings shape: torch.Size([4, 77, 512])\n",
            "Control images shape: torch.Size([4, 3, 512, 512])\n",
            "Noise shape: torch.Size([4, 4, 64, 64])\n",
            "Error in batch: mat1 and mat2 shapes cannot be multiplied (308x512 and 768x320)\n",
            "Text embeddings shape: torch.Size([4, 77, 512])\n",
            "Control images shape: torch.Size([4, 3, 512, 512])\n",
            "Noise shape: torch.Size([4, 4, 64, 64])\n"
          ]
        },
        {
          "output_type": "stream",
          "name": "stderr",
          "text": [
            "\r 48%|████▊     | 61/128 [00:13<00:10,  6.49it/s]"
          ]
        },
        {
          "output_type": "stream",
          "name": "stdout",
          "text": [
            "Error in batch: mat1 and mat2 shapes cannot be multiplied (308x512 and 768x320)\n",
            "Text embeddings shape: torch.Size([4, 77, 512])\n",
            "Control images shape: torch.Size([4, 3, 512, 512])\n",
            "Noise shape: torch.Size([4, 4, 64, 64])\n"
          ]
        },
        {
          "output_type": "stream",
          "name": "stderr",
          "text": [
            "\r 48%|████▊     | 62/128 [00:13<00:11,  5.84it/s]"
          ]
        },
        {
          "output_type": "stream",
          "name": "stdout",
          "text": [
            "Error in batch: mat1 and mat2 shapes cannot be multiplied (308x512 and 768x320)\n",
            "Text embeddings shape: torch.Size([4, 77, 512])\n",
            "Control images shape: torch.Size([4, 3, 512, 512])\n",
            "Noise shape: torch.Size([4, 4, 64, 64])\n"
          ]
        },
        {
          "output_type": "stream",
          "name": "stderr",
          "text": [
            "\r 49%|████▉     | 63/128 [00:13<00:11,  5.42it/s]"
          ]
        },
        {
          "output_type": "stream",
          "name": "stdout",
          "text": [
            "Error in batch: mat1 and mat2 shapes cannot be multiplied (308x512 and 768x320)\n",
            "Text embeddings shape: torch.Size([4, 77, 512])\n",
            "Control images shape: torch.Size([4, 3, 512, 512])\n",
            "Noise shape: torch.Size([4, 4, 64, 64])\n"
          ]
        },
        {
          "output_type": "stream",
          "name": "stderr",
          "text": [
            "\r 50%|█████     | 64/128 [00:13<00:12,  5.18it/s]"
          ]
        },
        {
          "output_type": "stream",
          "name": "stdout",
          "text": [
            "Error in batch: mat1 and mat2 shapes cannot be multiplied (308x512 and 768x320)\n",
            "Text embeddings shape: torch.Size([4, 77, 512])\n",
            "Control images shape: torch.Size([4, 3, 512, 512])\n",
            "Noise shape: torch.Size([4, 4, 64, 64])\n"
          ]
        },
        {
          "output_type": "stream",
          "name": "stderr",
          "text": [
            "\r 51%|█████     | 65/128 [00:14<00:12,  5.05it/s]"
          ]
        },
        {
          "output_type": "stream",
          "name": "stdout",
          "text": [
            "Error in batch: mat1 and mat2 shapes cannot be multiplied (308x512 and 768x320)\n",
            "Text embeddings shape: torch.Size([4, 77, 512])\n",
            "Control images shape: torch.Size([4, 3, 512, 512])\n",
            "Noise shape: torch.Size([4, 4, 64, 64])\n"
          ]
        },
        {
          "output_type": "stream",
          "name": "stderr",
          "text": [
            "\r 52%|█████▏    | 66/128 [00:14<00:12,  4.99it/s]"
          ]
        },
        {
          "output_type": "stream",
          "name": "stdout",
          "text": [
            "Error in batch: mat1 and mat2 shapes cannot be multiplied (308x512 and 768x320)\n",
            "Text embeddings shape: torch.Size([4, 77, 512])\n",
            "Control images shape: torch.Size([4, 3, 512, 512])\n",
            "Noise shape: torch.Size([4, 4, 64, 64])\n"
          ]
        },
        {
          "output_type": "stream",
          "name": "stderr",
          "text": [
            " 53%|█████▎    | 68/128 [00:14<00:12,  4.68it/s]"
          ]
        },
        {
          "output_type": "stream",
          "name": "stdout",
          "text": [
            "Error in batch: mat1 and mat2 shapes cannot be multiplied (308x512 and 768x320)\n",
            "Text embeddings shape: torch.Size([4, 77, 512])\n",
            "Control images shape: torch.Size([4, 3, 512, 512])\n",
            "Noise shape: torch.Size([4, 4, 64, 64])\n",
            "Error in batch: mat1 and mat2 shapes cannot be multiplied (308x512 and 768x320)\n",
            "Text embeddings shape: torch.Size([4, 77, 512])\n",
            "Control images shape: torch.Size([4, 3, 512, 512])\n",
            "Noise shape: torch.Size([4, 4, 64, 64])\n"
          ]
        },
        {
          "output_type": "stream",
          "name": "stderr",
          "text": [
            " 55%|█████▍    | 70/128 [00:15<00:11,  5.16it/s]"
          ]
        },
        {
          "output_type": "stream",
          "name": "stdout",
          "text": [
            "Error in batch: mat1 and mat2 shapes cannot be multiplied (308x512 and 768x320)\n",
            "Text embeddings shape: torch.Size([4, 77, 512])\n",
            "Control images shape: torch.Size([4, 3, 512, 512])\n",
            "Noise shape: torch.Size([4, 4, 64, 64])\n",
            "Error in batch: mat1 and mat2 shapes cannot be multiplied (308x512 and 768x320)\n",
            "Text embeddings shape: torch.Size([4, 77, 512])\n",
            "Control images shape: torch.Size([4, 3, 512, 512])\n",
            "Noise shape: torch.Size([4, 4, 64, 64])\n"
          ]
        },
        {
          "output_type": "stream",
          "name": "stderr",
          "text": [
            "\r 55%|█████▌    | 71/128 [00:15<00:11,  4.79it/s]"
          ]
        },
        {
          "output_type": "stream",
          "name": "stdout",
          "text": [
            "Error in batch: mat1 and mat2 shapes cannot be multiplied (308x512 and 768x320)\n",
            "Text embeddings shape: torch.Size([4, 77, 512])\n",
            "Control images shape: torch.Size([4, 3, 512, 512])\n",
            "Noise shape: torch.Size([4, 4, 64, 64])\n"
          ]
        },
        {
          "output_type": "stream",
          "name": "stderr",
          "text": [
            " 57%|█████▋    | 73/128 [00:15<00:11,  4.83it/s]"
          ]
        },
        {
          "output_type": "stream",
          "name": "stdout",
          "text": [
            "Error in batch: mat1 and mat2 shapes cannot be multiplied (308x512 and 768x320)\n",
            "Text embeddings shape: torch.Size([4, 77, 512])\n",
            "Control images shape: torch.Size([4, 3, 512, 512])\n",
            "Noise shape: torch.Size([4, 4, 64, 64])\n",
            "Error in batch: mat1 and mat2 shapes cannot be multiplied (308x512 and 768x320)\n",
            "Text embeddings shape: torch.Size([4, 77, 512])\n",
            "Control images shape: torch.Size([4, 3, 512, 512])\n",
            "Noise shape: torch.Size([4, 4, 64, 64])\n"
          ]
        },
        {
          "output_type": "stream",
          "name": "stderr",
          "text": [
            "\r 58%|█████▊    | 74/128 [00:16<00:11,  4.67it/s]"
          ]
        },
        {
          "output_type": "stream",
          "name": "stdout",
          "text": [
            "Error in batch: mat1 and mat2 shapes cannot be multiplied (308x512 and 768x320)\n",
            "Text embeddings shape: torch.Size([4, 77, 512])\n",
            "Control images shape: torch.Size([4, 3, 512, 512])\n",
            "Noise shape: torch.Size([4, 4, 64, 64])\n"
          ]
        },
        {
          "output_type": "stream",
          "name": "stderr",
          "text": [
            "\r 59%|█████▊    | 75/128 [00:16<00:11,  4.48it/s]"
          ]
        },
        {
          "output_type": "stream",
          "name": "stdout",
          "text": [
            "Error in batch: mat1 and mat2 shapes cannot be multiplied (308x512 and 768x320)\n",
            "Text embeddings shape: torch.Size([4, 77, 512])\n",
            "Control images shape: torch.Size([4, 3, 512, 512])\n",
            "Noise shape: torch.Size([4, 4, 64, 64])\n"
          ]
        },
        {
          "output_type": "stream",
          "name": "stderr",
          "text": [
            " 60%|██████    | 77/128 [00:16<00:11,  4.61it/s]"
          ]
        },
        {
          "output_type": "stream",
          "name": "stdout",
          "text": [
            "Error in batch: mat1 and mat2 shapes cannot be multiplied (308x512 and 768x320)\n",
            "Text embeddings shape: torch.Size([4, 77, 512])\n",
            "Control images shape: torch.Size([4, 3, 512, 512])\n",
            "Noise shape: torch.Size([4, 4, 64, 64])\n",
            "Error in batch: mat1 and mat2 shapes cannot be multiplied (308x512 and 768x320)\n",
            "Text embeddings shape: torch.Size([4, 77, 512])\n",
            "Control images shape: torch.Size([4, 3, 512, 512])\n",
            "Noise shape: torch.Size([4, 4, 64, 64])\n"
          ]
        },
        {
          "output_type": "stream",
          "name": "stderr",
          "text": [
            " 62%|██████▏   | 79/128 [00:17<00:09,  5.07it/s]"
          ]
        },
        {
          "output_type": "stream",
          "name": "stdout",
          "text": [
            "Error in batch: mat1 and mat2 shapes cannot be multiplied (308x512 and 768x320)\n",
            "Text embeddings shape: torch.Size([4, 77, 512])\n",
            "Control images shape: torch.Size([4, 3, 512, 512])\n",
            "Noise shape: torch.Size([4, 4, 64, 64])\n",
            "Error in batch: mat1 and mat2 shapes cannot be multiplied (308x512 and 768x320)\n",
            "Text embeddings shape: torch.Size([4, 77, 512])\n",
            "Control images shape: torch.Size([4, 3, 512, 512])\n",
            "Noise shape: torch.Size([4, 4, 64, 64])\n"
          ]
        },
        {
          "output_type": "stream",
          "name": "stderr",
          "text": [
            " 63%|██████▎   | 81/128 [00:17<00:08,  5.86it/s]"
          ]
        },
        {
          "output_type": "stream",
          "name": "stdout",
          "text": [
            "Error in batch: mat1 and mat2 shapes cannot be multiplied (308x512 and 768x320)\n",
            "Text embeddings shape: torch.Size([4, 77, 512])\n",
            "Control images shape: torch.Size([4, 3, 512, 512])\n",
            "Noise shape: torch.Size([4, 4, 64, 64])\n",
            "Error in batch: mat1 and mat2 shapes cannot be multiplied (308x512 and 768x320)\n",
            "Text embeddings shape: torch.Size([4, 77, 512])\n",
            "Control images shape: torch.Size([4, 3, 512, 512])\n",
            "Noise shape: torch.Size([4, 4, 64, 64])\n"
          ]
        },
        {
          "output_type": "stream",
          "name": "stderr",
          "text": [
            " 65%|██████▍   | 83/128 [00:17<00:06,  6.84it/s]"
          ]
        },
        {
          "output_type": "stream",
          "name": "stdout",
          "text": [
            "Error in batch: mat1 and mat2 shapes cannot be multiplied (308x512 and 768x320)\n",
            "Text embeddings shape: torch.Size([4, 77, 512])\n",
            "Control images shape: torch.Size([4, 3, 512, 512])\n",
            "Noise shape: torch.Size([4, 4, 64, 64])\n",
            "Error in batch: mat1 and mat2 shapes cannot be multiplied (308x512 and 768x320)\n",
            "Text embeddings shape: torch.Size([4, 77, 512])\n",
            "Control images shape: torch.Size([4, 3, 512, 512])\n",
            "Noise shape: torch.Size([4, 4, 64, 64])\n"
          ]
        },
        {
          "output_type": "stream",
          "name": "stderr",
          "text": [
            " 66%|██████▋   | 85/128 [00:17<00:06,  7.04it/s]"
          ]
        },
        {
          "output_type": "stream",
          "name": "stdout",
          "text": [
            "Error in batch: mat1 and mat2 shapes cannot be multiplied (308x512 and 768x320)\n",
            "Text embeddings shape: torch.Size([4, 77, 512])\n",
            "Control images shape: torch.Size([4, 3, 512, 512])\n",
            "Noise shape: torch.Size([4, 4, 64, 64])\n",
            "Error in batch: mat1 and mat2 shapes cannot be multiplied (308x512 and 768x320)\n",
            "Text embeddings shape: torch.Size([4, 77, 512])\n",
            "Control images shape: torch.Size([4, 3, 512, 512])\n",
            "Noise shape: torch.Size([4, 4, 64, 64])\n"
          ]
        },
        {
          "output_type": "stream",
          "name": "stderr",
          "text": [
            " 68%|██████▊   | 87/128 [00:18<00:05,  7.09it/s]"
          ]
        },
        {
          "output_type": "stream",
          "name": "stdout",
          "text": [
            "Error in batch: mat1 and mat2 shapes cannot be multiplied (308x512 and 768x320)\n",
            "Text embeddings shape: torch.Size([4, 77, 512])\n",
            "Control images shape: torch.Size([4, 3, 512, 512])\n",
            "Noise shape: torch.Size([4, 4, 64, 64])\n",
            "Error in batch: mat1 and mat2 shapes cannot be multiplied (308x512 and 768x320)\n",
            "Text embeddings shape: torch.Size([4, 77, 512])\n",
            "Control images shape: torch.Size([4, 3, 512, 512])\n",
            "Noise shape: torch.Size([4, 4, 64, 64])\n"
          ]
        },
        {
          "output_type": "stream",
          "name": "stderr",
          "text": [
            " 70%|██████▉   | 89/128 [00:18<00:05,  7.48it/s]"
          ]
        },
        {
          "output_type": "stream",
          "name": "stdout",
          "text": [
            "Error in batch: mat1 and mat2 shapes cannot be multiplied (308x512 and 768x320)\n",
            "Text embeddings shape: torch.Size([4, 77, 512])\n",
            "Control images shape: torch.Size([4, 3, 512, 512])\n",
            "Noise shape: torch.Size([4, 4, 64, 64])\n",
            "Error in batch: mat1 and mat2 shapes cannot be multiplied (308x512 and 768x320)\n",
            "Text embeddings shape: torch.Size([4, 77, 512])\n",
            "Control images shape: torch.Size([4, 3, 512, 512])\n",
            "Noise shape: torch.Size([4, 4, 64, 64])\n"
          ]
        },
        {
          "output_type": "stream",
          "name": "stderr",
          "text": [
            " 71%|███████   | 91/128 [00:18<00:04,  7.92it/s]"
          ]
        },
        {
          "output_type": "stream",
          "name": "stdout",
          "text": [
            "Error in batch: mat1 and mat2 shapes cannot be multiplied (308x512 and 768x320)\n",
            "Text embeddings shape: torch.Size([4, 77, 512])\n",
            "Control images shape: torch.Size([4, 3, 512, 512])\n",
            "Noise shape: torch.Size([4, 4, 64, 64])\n",
            "Error in batch: mat1 and mat2 shapes cannot be multiplied (308x512 and 768x320)\n",
            "Text embeddings shape: torch.Size([4, 77, 512])\n",
            "Control images shape: torch.Size([4, 3, 512, 512])\n",
            "Noise shape: torch.Size([4, 4, 64, 64])\n"
          ]
        },
        {
          "output_type": "stream",
          "name": "stderr",
          "text": [
            " 73%|███████▎  | 93/128 [00:19<00:04,  7.05it/s]"
          ]
        },
        {
          "output_type": "stream",
          "name": "stdout",
          "text": [
            "Error in batch: mat1 and mat2 shapes cannot be multiplied (308x512 and 768x320)\n",
            "Text embeddings shape: torch.Size([4, 77, 512])\n",
            "Control images shape: torch.Size([4, 3, 512, 512])\n",
            "Noise shape: torch.Size([4, 4, 64, 64])\n",
            "Error in batch: mat1 and mat2 shapes cannot be multiplied (308x512 and 768x320)\n",
            "Text embeddings shape: torch.Size([4, 77, 512])\n",
            "Control images shape: torch.Size([4, 3, 512, 512])\n",
            "Noise shape: torch.Size([4, 4, 64, 64])\n"
          ]
        },
        {
          "output_type": "stream",
          "name": "stderr",
          "text": [
            " 74%|███████▍  | 95/128 [00:19<00:04,  6.93it/s]"
          ]
        },
        {
          "output_type": "stream",
          "name": "stdout",
          "text": [
            "Error in batch: mat1 and mat2 shapes cannot be multiplied (308x512 and 768x320)\n",
            "Text embeddings shape: torch.Size([4, 77, 512])\n",
            "Control images shape: torch.Size([4, 3, 512, 512])\n",
            "Noise shape: torch.Size([4, 4, 64, 64])\n",
            "Error in batch: mat1 and mat2 shapes cannot be multiplied (308x512 and 768x320)\n",
            "Text embeddings shape: torch.Size([4, 77, 512])\n",
            "Control images shape: torch.Size([4, 3, 512, 512])\n",
            "Noise shape: torch.Size([4, 4, 64, 64])\n"
          ]
        },
        {
          "output_type": "stream",
          "name": "stderr",
          "text": [
            " 76%|███████▌  | 97/128 [00:19<00:04,  6.92it/s]"
          ]
        },
        {
          "output_type": "stream",
          "name": "stdout",
          "text": [
            "Error in batch: mat1 and mat2 shapes cannot be multiplied (308x512 and 768x320)\n",
            "Text embeddings shape: torch.Size([4, 77, 512])\n",
            "Control images shape: torch.Size([4, 3, 512, 512])\n",
            "Noise shape: torch.Size([4, 4, 64, 64])\n",
            "Error in batch: mat1 and mat2 shapes cannot be multiplied (308x512 and 768x320)\n",
            "Text embeddings shape: torch.Size([4, 77, 512])\n",
            "Control images shape: torch.Size([4, 3, 512, 512])\n",
            "Noise shape: torch.Size([4, 4, 64, 64])\n"
          ]
        },
        {
          "output_type": "stream",
          "name": "stderr",
          "text": [
            " 77%|███████▋  | 99/128 [00:19<00:04,  7.08it/s]"
          ]
        },
        {
          "output_type": "stream",
          "name": "stdout",
          "text": [
            "Error in batch: mat1 and mat2 shapes cannot be multiplied (308x512 and 768x320)\n",
            "Text embeddings shape: torch.Size([4, 77, 512])\n",
            "Control images shape: torch.Size([4, 3, 512, 512])\n",
            "Noise shape: torch.Size([4, 4, 64, 64])\n",
            "Error in batch: mat1 and mat2 shapes cannot be multiplied (308x512 and 768x320)\n",
            "Text embeddings shape: torch.Size([4, 77, 512])\n",
            "Control images shape: torch.Size([4, 3, 512, 512])\n",
            "Noise shape: torch.Size([4, 4, 64, 64])\n"
          ]
        },
        {
          "output_type": "stream",
          "name": "stderr",
          "text": [
            " 79%|███████▉  | 101/128 [00:20<00:04,  6.35it/s]"
          ]
        },
        {
          "output_type": "stream",
          "name": "stdout",
          "text": [
            "Error in batch: mat1 and mat2 shapes cannot be multiplied (308x512 and 768x320)\n",
            "Text embeddings shape: torch.Size([4, 77, 512])\n",
            "Control images shape: torch.Size([4, 3, 512, 512])\n",
            "Noise shape: torch.Size([4, 4, 64, 64])\n",
            "Error in batch: mat1 and mat2 shapes cannot be multiplied (308x512 and 768x320)\n",
            "Text embeddings shape: torch.Size([4, 77, 512])\n",
            "Control images shape: torch.Size([4, 3, 512, 512])\n",
            "Noise shape: torch.Size([4, 4, 64, 64])\n"
          ]
        },
        {
          "output_type": "stream",
          "name": "stderr",
          "text": [
            " 80%|████████  | 103/128 [00:20<00:03,  6.67it/s]"
          ]
        },
        {
          "output_type": "stream",
          "name": "stdout",
          "text": [
            "Error in batch: mat1 and mat2 shapes cannot be multiplied (308x512 and 768x320)\n",
            "Text embeddings shape: torch.Size([4, 77, 512])\n",
            "Control images shape: torch.Size([4, 3, 512, 512])\n",
            "Noise shape: torch.Size([4, 4, 64, 64])\n",
            "Error in batch: mat1 and mat2 shapes cannot be multiplied (308x512 and 768x320)\n",
            "Text embeddings shape: torch.Size([4, 77, 512])\n",
            "Control images shape: torch.Size([4, 3, 512, 512])\n",
            "Noise shape: torch.Size([4, 4, 64, 64])\n"
          ]
        },
        {
          "output_type": "stream",
          "name": "stderr",
          "text": [
            " 82%|████████▏ | 105/128 [00:20<00:03,  6.54it/s]"
          ]
        },
        {
          "output_type": "stream",
          "name": "stdout",
          "text": [
            "Error in batch: mat1 and mat2 shapes cannot be multiplied (308x512 and 768x320)\n",
            "Text embeddings shape: torch.Size([4, 77, 512])\n",
            "Control images shape: torch.Size([4, 3, 512, 512])\n",
            "Noise shape: torch.Size([4, 4, 64, 64])\n",
            "Error in batch: mat1 and mat2 shapes cannot be multiplied (308x512 and 768x320)\n",
            "Text embeddings shape: torch.Size([4, 77, 512])\n",
            "Control images shape: torch.Size([4, 3, 512, 512])\n",
            "Noise shape: torch.Size([4, 4, 64, 64])\n"
          ]
        },
        {
          "output_type": "stream",
          "name": "stderr",
          "text": [
            " 84%|████████▎ | 107/128 [00:21<00:02,  7.07it/s]"
          ]
        },
        {
          "output_type": "stream",
          "name": "stdout",
          "text": [
            "Error in batch: mat1 and mat2 shapes cannot be multiplied (308x512 and 768x320)\n",
            "Text embeddings shape: torch.Size([4, 77, 512])\n",
            "Control images shape: torch.Size([4, 3, 512, 512])\n",
            "Noise shape: torch.Size([4, 4, 64, 64])\n",
            "Error in batch: mat1 and mat2 shapes cannot be multiplied (308x512 and 768x320)\n",
            "Text embeddings shape: torch.Size([4, 77, 512])\n",
            "Control images shape: torch.Size([4, 3, 512, 512])\n",
            "Noise shape: torch.Size([4, 4, 64, 64])\n"
          ]
        },
        {
          "output_type": "stream",
          "name": "stderr",
          "text": [
            " 85%|████████▌ | 109/128 [00:21<00:02,  7.50it/s]"
          ]
        },
        {
          "output_type": "stream",
          "name": "stdout",
          "text": [
            "Error in batch: mat1 and mat2 shapes cannot be multiplied (308x512 and 768x320)\n",
            "Text embeddings shape: torch.Size([4, 77, 512])\n",
            "Control images shape: torch.Size([4, 3, 512, 512])\n",
            "Noise shape: torch.Size([4, 4, 64, 64])\n",
            "Error in batch: mat1 and mat2 shapes cannot be multiplied (308x512 and 768x320)\n",
            "Text embeddings shape: torch.Size([4, 77, 512])\n",
            "Control images shape: torch.Size([4, 3, 512, 512])\n",
            "Noise shape: torch.Size([4, 4, 64, 64])\n"
          ]
        },
        {
          "output_type": "stream",
          "name": "stderr",
          "text": [
            " 87%|████████▋ | 111/128 [00:21<00:02,  7.06it/s]"
          ]
        },
        {
          "output_type": "stream",
          "name": "stdout",
          "text": [
            "Error in batch: mat1 and mat2 shapes cannot be multiplied (308x512 and 768x320)\n",
            "Text embeddings shape: torch.Size([4, 77, 512])\n",
            "Control images shape: torch.Size([4, 3, 512, 512])\n",
            "Noise shape: torch.Size([4, 4, 64, 64])\n",
            "Error in batch: mat1 and mat2 shapes cannot be multiplied (308x512 and 768x320)\n",
            "Text embeddings shape: torch.Size([4, 77, 512])\n",
            "Control images shape: torch.Size([4, 3, 512, 512])\n",
            "Noise shape: torch.Size([4, 4, 64, 64])\n"
          ]
        },
        {
          "output_type": "stream",
          "name": "stderr",
          "text": [
            " 88%|████████▊ | 113/128 [00:21<00:02,  6.56it/s]"
          ]
        },
        {
          "output_type": "stream",
          "name": "stdout",
          "text": [
            "Error in batch: mat1 and mat2 shapes cannot be multiplied (308x512 and 768x320)\n",
            "Text embeddings shape: torch.Size([4, 77, 512])\n",
            "Control images shape: torch.Size([4, 3, 512, 512])\n",
            "Noise shape: torch.Size([4, 4, 64, 64])\n",
            "Error in batch: mat1 and mat2 shapes cannot be multiplied (308x512 and 768x320)\n",
            "Text embeddings shape: torch.Size([4, 77, 512])\n",
            "Control images shape: torch.Size([4, 3, 512, 512])\n",
            "Noise shape: torch.Size([4, 4, 64, 64])\n"
          ]
        },
        {
          "output_type": "stream",
          "name": "stderr",
          "text": [
            " 90%|████████▉ | 115/128 [00:22<00:01,  6.91it/s]"
          ]
        },
        {
          "output_type": "stream",
          "name": "stdout",
          "text": [
            "Error in batch: mat1 and mat2 shapes cannot be multiplied (308x512 and 768x320)\n",
            "Text embeddings shape: torch.Size([4, 77, 512])\n",
            "Control images shape: torch.Size([4, 3, 512, 512])\n",
            "Noise shape: torch.Size([4, 4, 64, 64])\n",
            "Error in batch: mat1 and mat2 shapes cannot be multiplied (308x512 and 768x320)\n",
            "Text embeddings shape: torch.Size([4, 77, 512])\n",
            "Control images shape: torch.Size([4, 3, 512, 512])\n",
            "Noise shape: torch.Size([4, 4, 64, 64])\n"
          ]
        },
        {
          "output_type": "stream",
          "name": "stderr",
          "text": [
            " 91%|█████████▏| 117/128 [00:22<00:01,  6.98it/s]"
          ]
        },
        {
          "output_type": "stream",
          "name": "stdout",
          "text": [
            "Error in batch: mat1 and mat2 shapes cannot be multiplied (308x512 and 768x320)\n",
            "Text embeddings shape: torch.Size([4, 77, 512])\n",
            "Control images shape: torch.Size([4, 3, 512, 512])\n",
            "Noise shape: torch.Size([4, 4, 64, 64])\n",
            "Error in batch: mat1 and mat2 shapes cannot be multiplied (308x512 and 768x320)\n",
            "Text embeddings shape: torch.Size([4, 77, 512])\n",
            "Control images shape: torch.Size([4, 3, 512, 512])\n",
            "Noise shape: torch.Size([4, 4, 64, 64])\n"
          ]
        },
        {
          "output_type": "stream",
          "name": "stderr",
          "text": [
            " 93%|█████████▎| 119/128 [00:22<00:01,  6.88it/s]"
          ]
        },
        {
          "output_type": "stream",
          "name": "stdout",
          "text": [
            "Error in batch: mat1 and mat2 shapes cannot be multiplied (308x512 and 768x320)\n",
            "Text embeddings shape: torch.Size([4, 77, 512])\n",
            "Control images shape: torch.Size([4, 3, 512, 512])\n",
            "Noise shape: torch.Size([4, 4, 64, 64])\n",
            "Error in batch: mat1 and mat2 shapes cannot be multiplied (308x512 and 768x320)\n",
            "Text embeddings shape: torch.Size([4, 77, 512])\n",
            "Control images shape: torch.Size([4, 3, 512, 512])\n",
            "Noise shape: torch.Size([4, 4, 64, 64])\n"
          ]
        },
        {
          "output_type": "stream",
          "name": "stderr",
          "text": [
            " 95%|█████████▍| 121/128 [00:23<00:00,  7.26it/s]"
          ]
        },
        {
          "output_type": "stream",
          "name": "stdout",
          "text": [
            "Error in batch: mat1 and mat2 shapes cannot be multiplied (308x512 and 768x320)\n",
            "Text embeddings shape: torch.Size([4, 77, 512])\n",
            "Control images shape: torch.Size([4, 3, 512, 512])\n",
            "Noise shape: torch.Size([4, 4, 64, 64])\n",
            "Error in batch: mat1 and mat2 shapes cannot be multiplied (308x512 and 768x320)\n",
            "Text embeddings shape: torch.Size([4, 77, 512])\n",
            "Control images shape: torch.Size([4, 3, 512, 512])\n",
            "Noise shape: torch.Size([4, 4, 64, 64])\n"
          ]
        },
        {
          "output_type": "stream",
          "name": "stderr",
          "text": [
            " 96%|█████████▌| 123/128 [00:23<00:00,  7.51it/s]"
          ]
        },
        {
          "output_type": "stream",
          "name": "stdout",
          "text": [
            "Error in batch: mat1 and mat2 shapes cannot be multiplied (308x512 and 768x320)\n",
            "Text embeddings shape: torch.Size([4, 77, 512])\n",
            "Control images shape: torch.Size([4, 3, 512, 512])\n",
            "Noise shape: torch.Size([4, 4, 64, 64])\n",
            "Error in batch: mat1 and mat2 shapes cannot be multiplied (308x512 and 768x320)\n",
            "Text embeddings shape: torch.Size([4, 77, 512])\n",
            "Control images shape: torch.Size([4, 3, 512, 512])\n",
            "Noise shape: torch.Size([4, 4, 64, 64])\n"
          ]
        },
        {
          "output_type": "stream",
          "name": "stderr",
          "text": [
            " 98%|█████████▊| 125/128 [00:23<00:00,  7.59it/s]"
          ]
        },
        {
          "output_type": "stream",
          "name": "stdout",
          "text": [
            "Error in batch: mat1 and mat2 shapes cannot be multiplied (308x512 and 768x320)\n",
            "Text embeddings shape: torch.Size([4, 77, 512])\n",
            "Control images shape: torch.Size([4, 3, 512, 512])\n",
            "Noise shape: torch.Size([4, 4, 64, 64])\n",
            "Error in batch: mat1 and mat2 shapes cannot be multiplied (308x512 and 768x320)\n",
            "Text embeddings shape: torch.Size([4, 77, 512])\n",
            "Control images shape: torch.Size([4, 3, 512, 512])\n",
            "Noise shape: torch.Size([4, 4, 64, 64])\n"
          ]
        },
        {
          "output_type": "stream",
          "name": "stderr",
          "text": [
            " 99%|█████████▉| 127/128 [00:23<00:00,  7.85it/s]"
          ]
        },
        {
          "output_type": "stream",
          "name": "stdout",
          "text": [
            "Error in batch: mat1 and mat2 shapes cannot be multiplied (308x512 and 768x320)\n",
            "Text embeddings shape: torch.Size([4, 77, 512])\n",
            "Control images shape: torch.Size([4, 3, 512, 512])\n",
            "Noise shape: torch.Size([4, 4, 64, 64])\n",
            "Error in batch: mat1 and mat2 shapes cannot be multiplied (308x512 and 768x320)\n",
            "Text embeddings shape: torch.Size([4, 77, 512])\n",
            "Control images shape: torch.Size([4, 3, 512, 512])\n",
            "Noise shape: torch.Size([4, 4, 64, 64])\n"
          ]
        },
        {
          "output_type": "stream",
          "name": "stderr",
          "text": [
            "\r100%|██████████| 128/128 [00:23<00:00,  5.36it/s]\n"
          ]
        },
        {
          "output_type": "stream",
          "name": "stdout",
          "text": [
            "Error in batch: mat1 and mat2 shapes cannot be multiplied (154x512 and 768x320)\n",
            "Text embeddings shape: torch.Size([2, 77, 512])\n",
            "Control images shape: torch.Size([2, 3, 512, 512])\n",
            "Noise shape: torch.Size([2, 4, 64, 64])\n",
            "Epoch 1 Loss: 0.0\n",
            "Epoch 2/3\n"
          ]
        },
        {
          "output_type": "stream",
          "name": "stderr",
          "text": [
            "  1%|          | 1/128 [00:00<00:19,  6.54it/s]"
          ]
        },
        {
          "output_type": "stream",
          "name": "stdout",
          "text": [
            "Error in batch: mat1 and mat2 shapes cannot be multiplied (308x512 and 768x320)\n",
            "Text embeddings shape: torch.Size([4, 77, 512])\n",
            "Control images shape: torch.Size([4, 3, 512, 512])\n",
            "Noise shape: torch.Size([4, 4, 64, 64])\n"
          ]
        },
        {
          "output_type": "stream",
          "name": "stderr",
          "text": [
            "\r  2%|▏         | 2/128 [00:00<00:16,  7.71it/s]"
          ]
        },
        {
          "output_type": "stream",
          "name": "stdout",
          "text": [
            "Error in batch: mat1 and mat2 shapes cannot be multiplied (308x512 and 768x320)\n",
            "Text embeddings shape: torch.Size([4, 77, 512])\n",
            "Control images shape: torch.Size([4, 3, 512, 512])\n",
            "Noise shape: torch.Size([4, 4, 64, 64])\n"
          ]
        },
        {
          "output_type": "stream",
          "name": "stderr",
          "text": [
            "\r  2%|▏         | 3/128 [00:00<00:16,  7.78it/s]"
          ]
        },
        {
          "output_type": "stream",
          "name": "stdout",
          "text": [
            "Error in batch: mat1 and mat2 shapes cannot be multiplied (308x512 and 768x320)\n",
            "Text embeddings shape: torch.Size([4, 77, 512])\n",
            "Control images shape: torch.Size([4, 3, 512, 512])\n",
            "Noise shape: torch.Size([4, 4, 64, 64])\n"
          ]
        },
        {
          "output_type": "stream",
          "name": "stderr",
          "text": [
            "\r  3%|▎         | 4/128 [00:00<00:15,  7.89it/s]"
          ]
        },
        {
          "output_type": "stream",
          "name": "stdout",
          "text": [
            "Error in batch: mat1 and mat2 shapes cannot be multiplied (308x512 and 768x320)\n",
            "Text embeddings shape: torch.Size([4, 77, 512])\n",
            "Control images shape: torch.Size([4, 3, 512, 512])\n",
            "Noise shape: torch.Size([4, 4, 64, 64])\n"
          ]
        },
        {
          "output_type": "stream",
          "name": "stderr",
          "text": [
            "\r  4%|▍         | 5/128 [00:00<00:16,  7.51it/s]"
          ]
        },
        {
          "output_type": "stream",
          "name": "stdout",
          "text": [
            "Error in batch: mat1 and mat2 shapes cannot be multiplied (308x512 and 768x320)\n",
            "Text embeddings shape: torch.Size([4, 77, 512])\n",
            "Control images shape: torch.Size([4, 3, 512, 512])\n",
            "Noise shape: torch.Size([4, 4, 64, 64])\n"
          ]
        },
        {
          "output_type": "stream",
          "name": "stderr",
          "text": [
            "\r  5%|▍         | 6/128 [00:00<00:17,  7.09it/s]"
          ]
        },
        {
          "output_type": "stream",
          "name": "stdout",
          "text": [
            "Error in batch: mat1 and mat2 shapes cannot be multiplied (308x512 and 768x320)\n",
            "Text embeddings shape: torch.Size([4, 77, 512])\n",
            "Control images shape: torch.Size([4, 3, 512, 512])\n",
            "Noise shape: torch.Size([4, 4, 64, 64])\n"
          ]
        },
        {
          "output_type": "stream",
          "name": "stderr",
          "text": [
            "\r  5%|▌         | 7/128 [00:00<00:16,  7.48it/s]"
          ]
        },
        {
          "output_type": "stream",
          "name": "stdout",
          "text": [
            "Error in batch: mat1 and mat2 shapes cannot be multiplied (308x512 and 768x320)\n",
            "Text embeddings shape: torch.Size([4, 77, 512])\n",
            "Control images shape: torch.Size([4, 3, 512, 512])\n",
            "Noise shape: torch.Size([4, 4, 64, 64])\n"
          ]
        },
        {
          "output_type": "stream",
          "name": "stderr",
          "text": [
            "\r  6%|▋         | 8/128 [00:01<00:15,  7.63it/s]"
          ]
        },
        {
          "output_type": "stream",
          "name": "stdout",
          "text": [
            "Error in batch: mat1 and mat2 shapes cannot be multiplied (308x512 and 768x320)\n",
            "Text embeddings shape: torch.Size([4, 77, 512])\n",
            "Control images shape: torch.Size([4, 3, 512, 512])\n",
            "Noise shape: torch.Size([4, 4, 64, 64])\n"
          ]
        },
        {
          "output_type": "stream",
          "name": "stderr",
          "text": [
            "\r  7%|▋         | 9/128 [00:01<00:15,  7.90it/s]"
          ]
        },
        {
          "output_type": "stream",
          "name": "stdout",
          "text": [
            "Error in batch: mat1 and mat2 shapes cannot be multiplied (308x512 and 768x320)\n",
            "Text embeddings shape: torch.Size([4, 77, 512])\n",
            "Control images shape: torch.Size([4, 3, 512, 512])\n",
            "Noise shape: torch.Size([4, 4, 64, 64])\n"
          ]
        },
        {
          "output_type": "stream",
          "name": "stderr",
          "text": [
            "\r  8%|▊         | 10/128 [00:01<00:15,  7.72it/s]"
          ]
        },
        {
          "output_type": "stream",
          "name": "stdout",
          "text": [
            "Error in batch: mat1 and mat2 shapes cannot be multiplied (308x512 and 768x320)\n",
            "Text embeddings shape: torch.Size([4, 77, 512])\n",
            "Control images shape: torch.Size([4, 3, 512, 512])\n",
            "Noise shape: torch.Size([4, 4, 64, 64])\n"
          ]
        },
        {
          "output_type": "stream",
          "name": "stderr",
          "text": [
            "\r  9%|▊         | 11/128 [00:01<00:16,  7.27it/s]"
          ]
        },
        {
          "output_type": "stream",
          "name": "stdout",
          "text": [
            "Error in batch: mat1 and mat2 shapes cannot be multiplied (308x512 and 768x320)\n",
            "Text embeddings shape: torch.Size([4, 77, 512])\n",
            "Control images shape: torch.Size([4, 3, 512, 512])\n",
            "Noise shape: torch.Size([4, 4, 64, 64])\n"
          ]
        },
        {
          "output_type": "stream",
          "name": "stderr",
          "text": [
            "\r  9%|▉         | 12/128 [00:01<00:15,  7.45it/s]"
          ]
        },
        {
          "output_type": "stream",
          "name": "stdout",
          "text": [
            "Error in batch: mat1 and mat2 shapes cannot be multiplied (308x512 and 768x320)\n",
            "Text embeddings shape: torch.Size([4, 77, 512])\n",
            "Control images shape: torch.Size([4, 3, 512, 512])\n",
            "Noise shape: torch.Size([4, 4, 64, 64])\n"
          ]
        },
        {
          "output_type": "stream",
          "name": "stderr",
          "text": [
            "\r 10%|█         | 13/128 [00:01<00:15,  7.30it/s]"
          ]
        },
        {
          "output_type": "stream",
          "name": "stdout",
          "text": [
            "Error in batch: mat1 and mat2 shapes cannot be multiplied (308x512 and 768x320)\n",
            "Text embeddings shape: torch.Size([4, 77, 512])\n",
            "Control images shape: torch.Size([4, 3, 512, 512])\n",
            "Noise shape: torch.Size([4, 4, 64, 64])\n"
          ]
        },
        {
          "output_type": "stream",
          "name": "stderr",
          "text": [
            "\r 11%|█         | 14/128 [00:01<00:16,  7.02it/s]"
          ]
        },
        {
          "output_type": "stream",
          "name": "stdout",
          "text": [
            "Error in batch: mat1 and mat2 shapes cannot be multiplied (308x512 and 768x320)\n",
            "Text embeddings shape: torch.Size([4, 77, 512])\n",
            "Control images shape: torch.Size([4, 3, 512, 512])\n",
            "Noise shape: torch.Size([4, 4, 64, 64])\n"
          ]
        },
        {
          "output_type": "stream",
          "name": "stderr",
          "text": [
            "\r 12%|█▏        | 15/128 [00:02<00:14,  7.61it/s]"
          ]
        },
        {
          "output_type": "stream",
          "name": "stdout",
          "text": [
            "Error in batch: mat1 and mat2 shapes cannot be multiplied (308x512 and 768x320)\n",
            "Text embeddings shape: torch.Size([4, 77, 512])\n",
            "Control images shape: torch.Size([4, 3, 512, 512])\n",
            "Noise shape: torch.Size([4, 4, 64, 64])\n"
          ]
        },
        {
          "output_type": "stream",
          "name": "stderr",
          "text": [
            "\r 12%|█▎        | 16/128 [00:02<00:13,  8.05it/s]"
          ]
        },
        {
          "output_type": "stream",
          "name": "stdout",
          "text": [
            "Error in batch: mat1 and mat2 shapes cannot be multiplied (308x512 and 768x320)\n",
            "Text embeddings shape: torch.Size([4, 77, 512])\n",
            "Control images shape: torch.Size([4, 3, 512, 512])\n",
            "Noise shape: torch.Size([4, 4, 64, 64])\n"
          ]
        },
        {
          "output_type": "stream",
          "name": "stderr",
          "text": [
            "\r 13%|█▎        | 17/128 [00:02<00:14,  7.91it/s]"
          ]
        },
        {
          "output_type": "stream",
          "name": "stdout",
          "text": [
            "Error in batch: mat1 and mat2 shapes cannot be multiplied (308x512 and 768x320)\n",
            "Text embeddings shape: torch.Size([4, 77, 512])\n",
            "Control images shape: torch.Size([4, 3, 512, 512])\n",
            "Noise shape: torch.Size([4, 4, 64, 64])\n"
          ]
        },
        {
          "output_type": "stream",
          "name": "stderr",
          "text": [
            "\r 14%|█▍        | 18/128 [00:02<00:14,  7.46it/s]"
          ]
        },
        {
          "output_type": "stream",
          "name": "stdout",
          "text": [
            "Error in batch: mat1 and mat2 shapes cannot be multiplied (308x512 and 768x320)\n",
            "Text embeddings shape: torch.Size([4, 77, 512])\n",
            "Control images shape: torch.Size([4, 3, 512, 512])\n",
            "Noise shape: torch.Size([4, 4, 64, 64])\n"
          ]
        },
        {
          "output_type": "stream",
          "name": "stderr",
          "text": [
            "\r 15%|█▍        | 19/128 [00:02<00:14,  7.37it/s]"
          ]
        },
        {
          "output_type": "stream",
          "name": "stdout",
          "text": [
            "Error in batch: mat1 and mat2 shapes cannot be multiplied (308x512 and 768x320)\n",
            "Text embeddings shape: torch.Size([4, 77, 512])\n",
            "Control images shape: torch.Size([4, 3, 512, 512])\n",
            "Noise shape: torch.Size([4, 4, 64, 64])\n"
          ]
        },
        {
          "output_type": "stream",
          "name": "stderr",
          "text": [
            "\r 16%|█▌        | 20/128 [00:02<00:14,  7.45it/s]"
          ]
        },
        {
          "output_type": "stream",
          "name": "stdout",
          "text": [
            "Error in batch: mat1 and mat2 shapes cannot be multiplied (308x512 and 768x320)\n",
            "Text embeddings shape: torch.Size([4, 77, 512])\n",
            "Control images shape: torch.Size([4, 3, 512, 512])\n",
            "Noise shape: torch.Size([4, 4, 64, 64])\n"
          ]
        },
        {
          "output_type": "stream",
          "name": "stderr",
          "text": [
            "\r 16%|█▋        | 21/128 [00:02<00:14,  7.36it/s]"
          ]
        },
        {
          "output_type": "stream",
          "name": "stdout",
          "text": [
            "Error in batch: mat1 and mat2 shapes cannot be multiplied (308x512 and 768x320)\n",
            "Text embeddings shape: torch.Size([4, 77, 512])\n",
            "Control images shape: torch.Size([4, 3, 512, 512])\n",
            "Noise shape: torch.Size([4, 4, 64, 64])\n"
          ]
        },
        {
          "output_type": "stream",
          "name": "stderr",
          "text": [
            "\r 17%|█▋        | 22/128 [00:02<00:15,  6.97it/s]"
          ]
        },
        {
          "output_type": "stream",
          "name": "stdout",
          "text": [
            "Error in batch: mat1 and mat2 shapes cannot be multiplied (308x512 and 768x320)\n",
            "Text embeddings shape: torch.Size([4, 77, 512])\n",
            "Control images shape: torch.Size([4, 3, 512, 512])\n",
            "Noise shape: torch.Size([4, 4, 64, 64])\n"
          ]
        },
        {
          "output_type": "stream",
          "name": "stderr",
          "text": [
            "\r 18%|█▊        | 23/128 [00:03<00:14,  7.48it/s]"
          ]
        },
        {
          "output_type": "stream",
          "name": "stdout",
          "text": [
            "Error in batch: mat1 and mat2 shapes cannot be multiplied (308x512 and 768x320)\n",
            "Text embeddings shape: torch.Size([4, 77, 512])\n",
            "Control images shape: torch.Size([4, 3, 512, 512])\n",
            "Noise shape: torch.Size([4, 4, 64, 64])\n"
          ]
        },
        {
          "output_type": "stream",
          "name": "stderr",
          "text": [
            "\r 19%|█▉        | 24/128 [00:03<00:15,  6.62it/s]"
          ]
        },
        {
          "output_type": "stream",
          "name": "stdout",
          "text": [
            "Error in batch: mat1 and mat2 shapes cannot be multiplied (308x512 and 768x320)\n",
            "Text embeddings shape: torch.Size([4, 77, 512])\n",
            "Control images shape: torch.Size([4, 3, 512, 512])\n",
            "Noise shape: torch.Size([4, 4, 64, 64])\n"
          ]
        },
        {
          "output_type": "stream",
          "name": "stderr",
          "text": [
            " 20%|██        | 26/128 [00:03<00:16,  6.06it/s]"
          ]
        },
        {
          "output_type": "stream",
          "name": "stdout",
          "text": [
            "Error in batch: mat1 and mat2 shapes cannot be multiplied (308x512 and 768x320)\n",
            "Text embeddings shape: torch.Size([4, 77, 512])\n",
            "Control images shape: torch.Size([4, 3, 512, 512])\n",
            "Noise shape: torch.Size([4, 4, 64, 64])\n",
            "Error in batch: mat1 and mat2 shapes cannot be multiplied (308x512 and 768x320)\n",
            "Text embeddings shape: torch.Size([4, 77, 512])\n",
            "Control images shape: torch.Size([4, 3, 512, 512])\n",
            "Noise shape: torch.Size([4, 4, 64, 64])\n"
          ]
        },
        {
          "output_type": "stream",
          "name": "stderr",
          "text": [
            "\r 21%|██        | 27/128 [00:03<00:19,  5.16it/s]"
          ]
        },
        {
          "output_type": "stream",
          "name": "stdout",
          "text": [
            "Error in batch: mat1 and mat2 shapes cannot be multiplied (308x512 and 768x320)\n",
            "Text embeddings shape: torch.Size([4, 77, 512])\n",
            "Control images shape: torch.Size([4, 3, 512, 512])\n",
            "Noise shape: torch.Size([4, 4, 64, 64])\n"
          ]
        },
        {
          "output_type": "stream",
          "name": "stderr",
          "text": [
            "\r 22%|██▏       | 28/128 [00:04<00:20,  4.97it/s]"
          ]
        },
        {
          "output_type": "stream",
          "name": "stdout",
          "text": [
            "Error in batch: mat1 and mat2 shapes cannot be multiplied (308x512 and 768x320)\n",
            "Text embeddings shape: torch.Size([4, 77, 512])\n",
            "Control images shape: torch.Size([4, 3, 512, 512])\n",
            "Noise shape: torch.Size([4, 4, 64, 64])\n"
          ]
        },
        {
          "output_type": "stream",
          "name": "stderr",
          "text": [
            " 23%|██▎       | 30/128 [00:04<00:19,  4.93it/s]"
          ]
        },
        {
          "output_type": "stream",
          "name": "stdout",
          "text": [
            "Error in batch: mat1 and mat2 shapes cannot be multiplied (308x512 and 768x320)\n",
            "Text embeddings shape: torch.Size([4, 77, 512])\n",
            "Control images shape: torch.Size([4, 3, 512, 512])\n",
            "Noise shape: torch.Size([4, 4, 64, 64])\n",
            "Error in batch: mat1 and mat2 shapes cannot be multiplied (308x512 and 768x320)\n",
            "Text embeddings shape: torch.Size([4, 77, 512])\n",
            "Control images shape: torch.Size([4, 3, 512, 512])\n",
            "Noise shape: torch.Size([4, 4, 64, 64])\n"
          ]
        },
        {
          "output_type": "stream",
          "name": "stderr",
          "text": [
            "\r 24%|██▍       | 31/128 [00:04<00:18,  5.15it/s]"
          ]
        },
        {
          "output_type": "stream",
          "name": "stdout",
          "text": [
            "Error in batch: mat1 and mat2 shapes cannot be multiplied (308x512 and 768x320)\n",
            "Text embeddings shape: torch.Size([4, 77, 512])\n",
            "Control images shape: torch.Size([4, 3, 512, 512])\n",
            "Noise shape: torch.Size([4, 4, 64, 64])\n"
          ]
        },
        {
          "output_type": "stream",
          "name": "stderr",
          "text": [
            "\r 25%|██▌       | 32/128 [00:04<00:19,  5.00it/s]"
          ]
        },
        {
          "output_type": "stream",
          "name": "stdout",
          "text": [
            "Error in batch: mat1 and mat2 shapes cannot be multiplied (308x512 and 768x320)\n",
            "Text embeddings shape: torch.Size([4, 77, 512])\n",
            "Control images shape: torch.Size([4, 3, 512, 512])\n",
            "Noise shape: torch.Size([4, 4, 64, 64])\n"
          ]
        },
        {
          "output_type": "stream",
          "name": "stderr",
          "text": [
            " 27%|██▋       | 34/128 [00:05<00:18,  5.08it/s]"
          ]
        },
        {
          "output_type": "stream",
          "name": "stdout",
          "text": [
            "Error in batch: mat1 and mat2 shapes cannot be multiplied (308x512 and 768x320)\n",
            "Text embeddings shape: torch.Size([4, 77, 512])\n",
            "Control images shape: torch.Size([4, 3, 512, 512])\n",
            "Noise shape: torch.Size([4, 4, 64, 64])\n",
            "Error in batch: mat1 and mat2 shapes cannot be multiplied (308x512 and 768x320)\n",
            "Text embeddings shape: torch.Size([4, 77, 512])\n",
            "Control images shape: torch.Size([4, 3, 512, 512])\n",
            "Noise shape: torch.Size([4, 4, 64, 64])\n"
          ]
        },
        {
          "output_type": "stream",
          "name": "stderr",
          "text": [
            " 28%|██▊       | 36/128 [00:05<00:17,  5.31it/s]"
          ]
        },
        {
          "output_type": "stream",
          "name": "stdout",
          "text": [
            "Error in batch: mat1 and mat2 shapes cannot be multiplied (308x512 and 768x320)\n",
            "Text embeddings shape: torch.Size([4, 77, 512])\n",
            "Control images shape: torch.Size([4, 3, 512, 512])\n",
            "Noise shape: torch.Size([4, 4, 64, 64])\n",
            "Error in batch: mat1 and mat2 shapes cannot be multiplied (308x512 and 768x320)\n",
            "Text embeddings shape: torch.Size([4, 77, 512])\n",
            "Control images shape: torch.Size([4, 3, 512, 512])\n",
            "Noise shape: torch.Size([4, 4, 64, 64])\n"
          ]
        },
        {
          "output_type": "stream",
          "name": "stderr",
          "text": [
            " 30%|██▉       | 38/128 [00:06<00:16,  5.60it/s]"
          ]
        },
        {
          "output_type": "stream",
          "name": "stdout",
          "text": [
            "Error in batch: mat1 and mat2 shapes cannot be multiplied (308x512 and 768x320)\n",
            "Text embeddings shape: torch.Size([4, 77, 512])\n",
            "Control images shape: torch.Size([4, 3, 512, 512])\n",
            "Noise shape: torch.Size([4, 4, 64, 64])\n",
            "Error in batch: mat1 and mat2 shapes cannot be multiplied (308x512 and 768x320)\n",
            "Text embeddings shape: torch.Size([4, 77, 512])\n",
            "Control images shape: torch.Size([4, 3, 512, 512])\n",
            "Noise shape: torch.Size([4, 4, 64, 64])\n"
          ]
        },
        {
          "output_type": "stream",
          "name": "stderr",
          "text": [
            "\r 30%|███       | 39/128 [00:06<00:15,  5.60it/s]"
          ]
        },
        {
          "output_type": "stream",
          "name": "stdout",
          "text": [
            "Error in batch: mat1 and mat2 shapes cannot be multiplied (308x512 and 768x320)\n",
            "Text embeddings shape: torch.Size([4, 77, 512])\n",
            "Control images shape: torch.Size([4, 3, 512, 512])\n",
            "Noise shape: torch.Size([4, 4, 64, 64])\n"
          ]
        },
        {
          "output_type": "stream",
          "name": "stderr",
          "text": [
            "\r 31%|███▏      | 40/128 [00:06<00:18,  4.81it/s]"
          ]
        },
        {
          "output_type": "stream",
          "name": "stdout",
          "text": [
            "Error in batch: mat1 and mat2 shapes cannot be multiplied (308x512 and 768x320)\n",
            "Text embeddings shape: torch.Size([4, 77, 512])\n",
            "Control images shape: torch.Size([4, 3, 512, 512])\n",
            "Noise shape: torch.Size([4, 4, 64, 64])\n"
          ]
        },
        {
          "output_type": "stream",
          "name": "stderr",
          "text": [
            " 33%|███▎      | 42/128 [00:06<00:17,  4.91it/s]"
          ]
        },
        {
          "output_type": "stream",
          "name": "stdout",
          "text": [
            "Error in batch: mat1 and mat2 shapes cannot be multiplied (308x512 and 768x320)\n",
            "Text embeddings shape: torch.Size([4, 77, 512])\n",
            "Control images shape: torch.Size([4, 3, 512, 512])\n",
            "Noise shape: torch.Size([4, 4, 64, 64])\n",
            "Error in batch: mat1 and mat2 shapes cannot be multiplied (308x512 and 768x320)\n",
            "Text embeddings shape: torch.Size([4, 77, 512])\n",
            "Control images shape: torch.Size([4, 3, 512, 512])\n",
            "Noise shape: torch.Size([4, 4, 64, 64])\n"
          ]
        },
        {
          "output_type": "stream",
          "name": "stderr",
          "text": [
            " 34%|███▍      | 44/128 [00:07<00:15,  5.46it/s]"
          ]
        },
        {
          "output_type": "stream",
          "name": "stdout",
          "text": [
            "Error in batch: mat1 and mat2 shapes cannot be multiplied (308x512 and 768x320)\n",
            "Text embeddings shape: torch.Size([4, 77, 512])\n",
            "Control images shape: torch.Size([4, 3, 512, 512])\n",
            "Noise shape: torch.Size([4, 4, 64, 64])\n",
            "Error in batch: mat1 and mat2 shapes cannot be multiplied (308x512 and 768x320)\n",
            "Text embeddings shape: torch.Size([4, 77, 512])\n",
            "Control images shape: torch.Size([4, 3, 512, 512])\n",
            "Noise shape: torch.Size([4, 4, 64, 64])\n"
          ]
        },
        {
          "output_type": "stream",
          "name": "stderr",
          "text": [
            " 36%|███▌      | 46/128 [00:07<00:13,  6.27it/s]"
          ]
        },
        {
          "output_type": "stream",
          "name": "stdout",
          "text": [
            "Error in batch: mat1 and mat2 shapes cannot be multiplied (308x512 and 768x320)\n",
            "Text embeddings shape: torch.Size([4, 77, 512])\n",
            "Control images shape: torch.Size([4, 3, 512, 512])\n",
            "Noise shape: torch.Size([4, 4, 64, 64])\n",
            "Error in batch: mat1 and mat2 shapes cannot be multiplied (308x512 and 768x320)\n",
            "Text embeddings shape: torch.Size([4, 77, 512])\n",
            "Control images shape: torch.Size([4, 3, 512, 512])\n",
            "Noise shape: torch.Size([4, 4, 64, 64])\n"
          ]
        },
        {
          "output_type": "stream",
          "name": "stderr",
          "text": [
            " 38%|███▊      | 48/128 [00:07<00:11,  6.81it/s]"
          ]
        },
        {
          "output_type": "stream",
          "name": "stdout",
          "text": [
            "Error in batch: mat1 and mat2 shapes cannot be multiplied (308x512 and 768x320)\n",
            "Text embeddings shape: torch.Size([4, 77, 512])\n",
            "Control images shape: torch.Size([4, 3, 512, 512])\n",
            "Noise shape: torch.Size([4, 4, 64, 64])\n",
            "Error in batch: mat1 and mat2 shapes cannot be multiplied (308x512 and 768x320)\n",
            "Text embeddings shape: torch.Size([4, 77, 512])\n",
            "Control images shape: torch.Size([4, 3, 512, 512])\n",
            "Noise shape: torch.Size([4, 4, 64, 64])\n"
          ]
        },
        {
          "output_type": "stream",
          "name": "stderr",
          "text": [
            " 39%|███▉      | 50/128 [00:07<00:10,  7.22it/s]"
          ]
        },
        {
          "output_type": "stream",
          "name": "stdout",
          "text": [
            "Error in batch: mat1 and mat2 shapes cannot be multiplied (308x512 and 768x320)\n",
            "Text embeddings shape: torch.Size([4, 77, 512])\n",
            "Control images shape: torch.Size([4, 3, 512, 512])\n",
            "Noise shape: torch.Size([4, 4, 64, 64])\n",
            "Error in batch: mat1 and mat2 shapes cannot be multiplied (308x512 and 768x320)\n",
            "Text embeddings shape: torch.Size([4, 77, 512])\n",
            "Control images shape: torch.Size([4, 3, 512, 512])\n",
            "Noise shape: torch.Size([4, 4, 64, 64])\n"
          ]
        },
        {
          "output_type": "stream",
          "name": "stderr",
          "text": [
            " 41%|████      | 52/128 [00:08<00:09,  7.86it/s]"
          ]
        },
        {
          "output_type": "stream",
          "name": "stdout",
          "text": [
            "Error in batch: mat1 and mat2 shapes cannot be multiplied (308x512 and 768x320)\n",
            "Text embeddings shape: torch.Size([4, 77, 512])\n",
            "Control images shape: torch.Size([4, 3, 512, 512])\n",
            "Noise shape: torch.Size([4, 4, 64, 64])\n",
            "Error in batch: mat1 and mat2 shapes cannot be multiplied (308x512 and 768x320)\n",
            "Text embeddings shape: torch.Size([4, 77, 512])\n",
            "Control images shape: torch.Size([4, 3, 512, 512])\n",
            "Noise shape: torch.Size([4, 4, 64, 64])\n"
          ]
        },
        {
          "output_type": "stream",
          "name": "stderr",
          "text": [
            " 42%|████▏     | 54/128 [00:08<00:09,  8.10it/s]"
          ]
        },
        {
          "output_type": "stream",
          "name": "stdout",
          "text": [
            "Error in batch: mat1 and mat2 shapes cannot be multiplied (308x512 and 768x320)\n",
            "Text embeddings shape: torch.Size([4, 77, 512])\n",
            "Control images shape: torch.Size([4, 3, 512, 512])\n",
            "Noise shape: torch.Size([4, 4, 64, 64])\n",
            "Error in batch: mat1 and mat2 shapes cannot be multiplied (308x512 and 768x320)\n",
            "Text embeddings shape: torch.Size([4, 77, 512])\n",
            "Control images shape: torch.Size([4, 3, 512, 512])\n",
            "Noise shape: torch.Size([4, 4, 64, 64])\n"
          ]
        },
        {
          "output_type": "stream",
          "name": "stderr",
          "text": [
            " 44%|████▍     | 56/128 [00:08<00:08,  8.24it/s]"
          ]
        },
        {
          "output_type": "stream",
          "name": "stdout",
          "text": [
            "Error in batch: mat1 and mat2 shapes cannot be multiplied (308x512 and 768x320)\n",
            "Text embeddings shape: torch.Size([4, 77, 512])\n",
            "Control images shape: torch.Size([4, 3, 512, 512])\n",
            "Noise shape: torch.Size([4, 4, 64, 64])\n",
            "Error in batch: mat1 and mat2 shapes cannot be multiplied (308x512 and 768x320)\n",
            "Text embeddings shape: torch.Size([4, 77, 512])\n",
            "Control images shape: torch.Size([4, 3, 512, 512])\n",
            "Noise shape: torch.Size([4, 4, 64, 64])\n"
          ]
        },
        {
          "output_type": "stream",
          "name": "stderr",
          "text": [
            " 45%|████▌     | 58/128 [00:08<00:09,  7.49it/s]"
          ]
        },
        {
          "output_type": "stream",
          "name": "stdout",
          "text": [
            "Error in batch: mat1 and mat2 shapes cannot be multiplied (308x512 and 768x320)\n",
            "Text embeddings shape: torch.Size([4, 77, 512])\n",
            "Control images shape: torch.Size([4, 3, 512, 512])\n",
            "Noise shape: torch.Size([4, 4, 64, 64])\n",
            "Error in batch: mat1 and mat2 shapes cannot be multiplied (308x512 and 768x320)\n",
            "Text embeddings shape: torch.Size([4, 77, 512])\n",
            "Control images shape: torch.Size([4, 3, 512, 512])\n",
            "Noise shape: torch.Size([4, 4, 64, 64])\n"
          ]
        },
        {
          "output_type": "stream",
          "name": "stderr",
          "text": [
            " 47%|████▋     | 60/128 [00:09<00:10,  6.72it/s]"
          ]
        },
        {
          "output_type": "stream",
          "name": "stdout",
          "text": [
            "Error in batch: mat1 and mat2 shapes cannot be multiplied (308x512 and 768x320)\n",
            "Text embeddings shape: torch.Size([4, 77, 512])\n",
            "Control images shape: torch.Size([4, 3, 512, 512])\n",
            "Noise shape: torch.Size([4, 4, 64, 64])\n",
            "Error in batch: mat1 and mat2 shapes cannot be multiplied (308x512 and 768x320)\n",
            "Text embeddings shape: torch.Size([4, 77, 512])\n",
            "Control images shape: torch.Size([4, 3, 512, 512])\n",
            "Noise shape: torch.Size([4, 4, 64, 64])\n"
          ]
        },
        {
          "output_type": "stream",
          "name": "stderr",
          "text": [
            " 48%|████▊     | 62/128 [00:09<00:09,  7.07it/s]"
          ]
        },
        {
          "output_type": "stream",
          "name": "stdout",
          "text": [
            "Error in batch: mat1 and mat2 shapes cannot be multiplied (308x512 and 768x320)\n",
            "Text embeddings shape: torch.Size([4, 77, 512])\n",
            "Control images shape: torch.Size([4, 3, 512, 512])\n",
            "Noise shape: torch.Size([4, 4, 64, 64])\n",
            "Error in batch: mat1 and mat2 shapes cannot be multiplied (308x512 and 768x320)\n",
            "Text embeddings shape: torch.Size([4, 77, 512])\n",
            "Control images shape: torch.Size([4, 3, 512, 512])\n",
            "Noise shape: torch.Size([4, 4, 64, 64])\n"
          ]
        },
        {
          "output_type": "stream",
          "name": "stderr",
          "text": [
            " 50%|█████     | 64/128 [00:09<00:08,  7.44it/s]"
          ]
        },
        {
          "output_type": "stream",
          "name": "stdout",
          "text": [
            "Error in batch: mat1 and mat2 shapes cannot be multiplied (308x512 and 768x320)\n",
            "Text embeddings shape: torch.Size([4, 77, 512])\n",
            "Control images shape: torch.Size([4, 3, 512, 512])\n",
            "Noise shape: torch.Size([4, 4, 64, 64])\n",
            "Error in batch: mat1 and mat2 shapes cannot be multiplied (308x512 and 768x320)\n",
            "Text embeddings shape: torch.Size([4, 77, 512])\n",
            "Control images shape: torch.Size([4, 3, 512, 512])\n",
            "Noise shape: torch.Size([4, 4, 64, 64])\n"
          ]
        },
        {
          "output_type": "stream",
          "name": "stderr",
          "text": [
            " 52%|█████▏    | 66/128 [00:10<00:08,  7.67it/s]"
          ]
        },
        {
          "output_type": "stream",
          "name": "stdout",
          "text": [
            "Error in batch: mat1 and mat2 shapes cannot be multiplied (308x512 and 768x320)\n",
            "Text embeddings shape: torch.Size([4, 77, 512])\n",
            "Control images shape: torch.Size([4, 3, 512, 512])\n",
            "Noise shape: torch.Size([4, 4, 64, 64])\n",
            "Error in batch: mat1 and mat2 shapes cannot be multiplied (308x512 and 768x320)\n",
            "Text embeddings shape: torch.Size([4, 77, 512])\n",
            "Control images shape: torch.Size([4, 3, 512, 512])\n",
            "Noise shape: torch.Size([4, 4, 64, 64])\n"
          ]
        },
        {
          "output_type": "stream",
          "name": "stderr",
          "text": [
            " 53%|█████▎    | 68/128 [00:10<00:07,  7.94it/s]"
          ]
        },
        {
          "output_type": "stream",
          "name": "stdout",
          "text": [
            "Error in batch: mat1 and mat2 shapes cannot be multiplied (308x512 and 768x320)\n",
            "Text embeddings shape: torch.Size([4, 77, 512])\n",
            "Control images shape: torch.Size([4, 3, 512, 512])\n",
            "Noise shape: torch.Size([4, 4, 64, 64])\n",
            "Error in batch: mat1 and mat2 shapes cannot be multiplied (308x512 and 768x320)\n",
            "Text embeddings shape: torch.Size([4, 77, 512])\n",
            "Control images shape: torch.Size([4, 3, 512, 512])\n",
            "Noise shape: torch.Size([4, 4, 64, 64])\n"
          ]
        },
        {
          "output_type": "stream",
          "name": "stderr",
          "text": [
            " 55%|█████▍    | 70/128 [00:10<00:07,  8.00it/s]"
          ]
        },
        {
          "output_type": "stream",
          "name": "stdout",
          "text": [
            "Error in batch: mat1 and mat2 shapes cannot be multiplied (308x512 and 768x320)\n",
            "Text embeddings shape: torch.Size([4, 77, 512])\n",
            "Control images shape: torch.Size([4, 3, 512, 512])\n",
            "Noise shape: torch.Size([4, 4, 64, 64])\n",
            "Error in batch: mat1 and mat2 shapes cannot be multiplied (308x512 and 768x320)\n",
            "Text embeddings shape: torch.Size([4, 77, 512])\n",
            "Control images shape: torch.Size([4, 3, 512, 512])\n",
            "Noise shape: torch.Size([4, 4, 64, 64])\n"
          ]
        },
        {
          "output_type": "stream",
          "name": "stderr",
          "text": [
            " 56%|█████▋    | 72/128 [00:10<00:07,  7.27it/s]"
          ]
        },
        {
          "output_type": "stream",
          "name": "stdout",
          "text": [
            "Error in batch: mat1 and mat2 shapes cannot be multiplied (308x512 and 768x320)\n",
            "Text embeddings shape: torch.Size([4, 77, 512])\n",
            "Control images shape: torch.Size([4, 3, 512, 512])\n",
            "Noise shape: torch.Size([4, 4, 64, 64])\n",
            "Error in batch: mat1 and mat2 shapes cannot be multiplied (308x512 and 768x320)\n",
            "Text embeddings shape: torch.Size([4, 77, 512])\n",
            "Control images shape: torch.Size([4, 3, 512, 512])\n",
            "Noise shape: torch.Size([4, 4, 64, 64])\n"
          ]
        },
        {
          "output_type": "stream",
          "name": "stderr",
          "text": [
            " 58%|█████▊    | 74/128 [00:11<00:07,  7.52it/s]"
          ]
        },
        {
          "output_type": "stream",
          "name": "stdout",
          "text": [
            "Error in batch: mat1 and mat2 shapes cannot be multiplied (308x512 and 768x320)\n",
            "Text embeddings shape: torch.Size([4, 77, 512])\n",
            "Control images shape: torch.Size([4, 3, 512, 512])\n",
            "Noise shape: torch.Size([4, 4, 64, 64])\n",
            "Error in batch: mat1 and mat2 shapes cannot be multiplied (308x512 and 768x320)\n",
            "Text embeddings shape: torch.Size([4, 77, 512])\n",
            "Control images shape: torch.Size([4, 3, 512, 512])\n",
            "Noise shape: torch.Size([4, 4, 64, 64])\n"
          ]
        },
        {
          "output_type": "stream",
          "name": "stderr",
          "text": [
            " 59%|█████▉    | 76/128 [00:11<00:06,  7.78it/s]"
          ]
        },
        {
          "output_type": "stream",
          "name": "stdout",
          "text": [
            "Error in batch: mat1 and mat2 shapes cannot be multiplied (308x512 and 768x320)\n",
            "Text embeddings shape: torch.Size([4, 77, 512])\n",
            "Control images shape: torch.Size([4, 3, 512, 512])\n",
            "Noise shape: torch.Size([4, 4, 64, 64])\n",
            "Error in batch: mat1 and mat2 shapes cannot be multiplied (308x512 and 768x320)\n",
            "Text embeddings shape: torch.Size([4, 77, 512])\n",
            "Control images shape: torch.Size([4, 3, 512, 512])\n",
            "Noise shape: torch.Size([4, 4, 64, 64])\n"
          ]
        },
        {
          "output_type": "stream",
          "name": "stderr",
          "text": [
            " 61%|██████    | 78/128 [00:11<00:06,  7.96it/s]"
          ]
        },
        {
          "output_type": "stream",
          "name": "stdout",
          "text": [
            "Error in batch: mat1 and mat2 shapes cannot be multiplied (308x512 and 768x320)\n",
            "Text embeddings shape: torch.Size([4, 77, 512])\n",
            "Control images shape: torch.Size([4, 3, 512, 512])\n",
            "Noise shape: torch.Size([4, 4, 64, 64])\n",
            "Error in batch: mat1 and mat2 shapes cannot be multiplied (308x512 and 768x320)\n",
            "Text embeddings shape: torch.Size([4, 77, 512])\n",
            "Control images shape: torch.Size([4, 3, 512, 512])\n",
            "Noise shape: torch.Size([4, 4, 64, 64])\n"
          ]
        },
        {
          "output_type": "stream",
          "name": "stderr",
          "text": [
            " 62%|██████▎   | 80/128 [00:11<00:06,  7.50it/s]"
          ]
        },
        {
          "output_type": "stream",
          "name": "stdout",
          "text": [
            "Error in batch: mat1 and mat2 shapes cannot be multiplied (308x512 and 768x320)\n",
            "Text embeddings shape: torch.Size([4, 77, 512])\n",
            "Control images shape: torch.Size([4, 3, 512, 512])\n",
            "Noise shape: torch.Size([4, 4, 64, 64])\n",
            "Error in batch: mat1 and mat2 shapes cannot be multiplied (308x512 and 768x320)\n",
            "Text embeddings shape: torch.Size([4, 77, 512])\n",
            "Control images shape: torch.Size([4, 3, 512, 512])\n",
            "Noise shape: torch.Size([4, 4, 64, 64])\n"
          ]
        },
        {
          "output_type": "stream",
          "name": "stderr",
          "text": [
            " 64%|██████▍   | 82/128 [00:12<00:06,  7.34it/s]"
          ]
        },
        {
          "output_type": "stream",
          "name": "stdout",
          "text": [
            "Error in batch: mat1 and mat2 shapes cannot be multiplied (308x512 and 768x320)\n",
            "Text embeddings shape: torch.Size([4, 77, 512])\n",
            "Control images shape: torch.Size([4, 3, 512, 512])\n",
            "Noise shape: torch.Size([4, 4, 64, 64])\n",
            "Error in batch: mat1 and mat2 shapes cannot be multiplied (308x512 and 768x320)\n",
            "Text embeddings shape: torch.Size([4, 77, 512])\n",
            "Control images shape: torch.Size([4, 3, 512, 512])\n",
            "Noise shape: torch.Size([4, 4, 64, 64])\n"
          ]
        },
        {
          "output_type": "stream",
          "name": "stderr",
          "text": [
            " 66%|██████▌   | 84/128 [00:12<00:05,  7.84it/s]"
          ]
        },
        {
          "output_type": "stream",
          "name": "stdout",
          "text": [
            "Error in batch: mat1 and mat2 shapes cannot be multiplied (308x512 and 768x320)\n",
            "Text embeddings shape: torch.Size([4, 77, 512])\n",
            "Control images shape: torch.Size([4, 3, 512, 512])\n",
            "Noise shape: torch.Size([4, 4, 64, 64])\n",
            "Error in batch: mat1 and mat2 shapes cannot be multiplied (308x512 and 768x320)\n",
            "Text embeddings shape: torch.Size([4, 77, 512])\n",
            "Control images shape: torch.Size([4, 3, 512, 512])\n",
            "Noise shape: torch.Size([4, 4, 64, 64])\n"
          ]
        },
        {
          "output_type": "stream",
          "name": "stderr",
          "text": [
            " 67%|██████▋   | 86/128 [00:12<00:05,  7.72it/s]"
          ]
        },
        {
          "output_type": "stream",
          "name": "stdout",
          "text": [
            "Error in batch: mat1 and mat2 shapes cannot be multiplied (308x512 and 768x320)\n",
            "Text embeddings shape: torch.Size([4, 77, 512])\n",
            "Control images shape: torch.Size([4, 3, 512, 512])\n",
            "Noise shape: torch.Size([4, 4, 64, 64])\n",
            "Error in batch: mat1 and mat2 shapes cannot be multiplied (308x512 and 768x320)\n",
            "Text embeddings shape: torch.Size([4, 77, 512])\n",
            "Control images shape: torch.Size([4, 3, 512, 512])\n",
            "Noise shape: torch.Size([4, 4, 64, 64])\n"
          ]
        },
        {
          "output_type": "stream",
          "name": "stderr",
          "text": [
            " 69%|██████▉   | 88/128 [00:13<00:05,  6.87it/s]"
          ]
        },
        {
          "output_type": "stream",
          "name": "stdout",
          "text": [
            "Error in batch: mat1 and mat2 shapes cannot be multiplied (308x512 and 768x320)\n",
            "Text embeddings shape: torch.Size([4, 77, 512])\n",
            "Control images shape: torch.Size([4, 3, 512, 512])\n",
            "Noise shape: torch.Size([4, 4, 64, 64])\n",
            "Error in batch: mat1 and mat2 shapes cannot be multiplied (308x512 and 768x320)\n",
            "Text embeddings shape: torch.Size([4, 77, 512])\n",
            "Control images shape: torch.Size([4, 3, 512, 512])\n",
            "Noise shape: torch.Size([4, 4, 64, 64])\n"
          ]
        },
        {
          "output_type": "stream",
          "name": "stderr",
          "text": [
            " 70%|███████   | 90/128 [00:13<00:05,  7.04it/s]"
          ]
        },
        {
          "output_type": "stream",
          "name": "stdout",
          "text": [
            "Error in batch: mat1 and mat2 shapes cannot be multiplied (308x512 and 768x320)\n",
            "Text embeddings shape: torch.Size([4, 77, 512])\n",
            "Control images shape: torch.Size([4, 3, 512, 512])\n",
            "Noise shape: torch.Size([4, 4, 64, 64])\n",
            "Error in batch: mat1 and mat2 shapes cannot be multiplied (308x512 and 768x320)\n",
            "Text embeddings shape: torch.Size([4, 77, 512])\n",
            "Control images shape: torch.Size([4, 3, 512, 512])\n",
            "Noise shape: torch.Size([4, 4, 64, 64])\n"
          ]
        },
        {
          "output_type": "stream",
          "name": "stderr",
          "text": [
            " 72%|███████▏  | 92/128 [00:13<00:04,  7.44it/s]"
          ]
        },
        {
          "output_type": "stream",
          "name": "stdout",
          "text": [
            "Error in batch: mat1 and mat2 shapes cannot be multiplied (308x512 and 768x320)\n",
            "Text embeddings shape: torch.Size([4, 77, 512])\n",
            "Control images shape: torch.Size([4, 3, 512, 512])\n",
            "Noise shape: torch.Size([4, 4, 64, 64])\n",
            "Error in batch: mat1 and mat2 shapes cannot be multiplied (308x512 and 768x320)\n",
            "Text embeddings shape: torch.Size([4, 77, 512])\n",
            "Control images shape: torch.Size([4, 3, 512, 512])\n",
            "Noise shape: torch.Size([4, 4, 64, 64])\n"
          ]
        },
        {
          "output_type": "stream",
          "name": "stderr",
          "text": [
            " 73%|███████▎  | 94/128 [00:13<00:04,  7.06it/s]"
          ]
        },
        {
          "output_type": "stream",
          "name": "stdout",
          "text": [
            "Error in batch: mat1 and mat2 shapes cannot be multiplied (308x512 and 768x320)\n",
            "Text embeddings shape: torch.Size([4, 77, 512])\n",
            "Control images shape: torch.Size([4, 3, 512, 512])\n",
            "Noise shape: torch.Size([4, 4, 64, 64])\n",
            "Error in batch: mat1 and mat2 shapes cannot be multiplied (308x512 and 768x320)\n",
            "Text embeddings shape: torch.Size([4, 77, 512])\n",
            "Control images shape: torch.Size([4, 3, 512, 512])\n",
            "Noise shape: torch.Size([4, 4, 64, 64])\n"
          ]
        },
        {
          "output_type": "stream",
          "name": "stderr",
          "text": [
            " 75%|███████▌  | 96/128 [00:14<00:04,  6.76it/s]"
          ]
        },
        {
          "output_type": "stream",
          "name": "stdout",
          "text": [
            "Error in batch: mat1 and mat2 shapes cannot be multiplied (308x512 and 768x320)\n",
            "Text embeddings shape: torch.Size([4, 77, 512])\n",
            "Control images shape: torch.Size([4, 3, 512, 512])\n",
            "Noise shape: torch.Size([4, 4, 64, 64])\n",
            "Error in batch: mat1 and mat2 shapes cannot be multiplied (308x512 and 768x320)\n",
            "Text embeddings shape: torch.Size([4, 77, 512])\n",
            "Control images shape: torch.Size([4, 3, 512, 512])\n",
            "Noise shape: torch.Size([4, 4, 64, 64])\n"
          ]
        },
        {
          "output_type": "stream",
          "name": "stderr",
          "text": [
            " 77%|███████▋  | 98/128 [00:14<00:04,  6.91it/s]"
          ]
        },
        {
          "output_type": "stream",
          "name": "stdout",
          "text": [
            "Error in batch: mat1 and mat2 shapes cannot be multiplied (308x512 and 768x320)\n",
            "Text embeddings shape: torch.Size([4, 77, 512])\n",
            "Control images shape: torch.Size([4, 3, 512, 512])\n",
            "Noise shape: torch.Size([4, 4, 64, 64])\n",
            "Error in batch: mat1 and mat2 shapes cannot be multiplied (308x512 and 768x320)\n",
            "Text embeddings shape: torch.Size([4, 77, 512])\n",
            "Control images shape: torch.Size([4, 3, 512, 512])\n",
            "Noise shape: torch.Size([4, 4, 64, 64])\n"
          ]
        },
        {
          "output_type": "stream",
          "name": "stderr",
          "text": [
            " 78%|███████▊  | 100/128 [00:14<00:03,  7.72it/s]"
          ]
        },
        {
          "output_type": "stream",
          "name": "stdout",
          "text": [
            "Error in batch: mat1 and mat2 shapes cannot be multiplied (308x512 and 768x320)\n",
            "Text embeddings shape: torch.Size([4, 77, 512])\n",
            "Control images shape: torch.Size([4, 3, 512, 512])\n",
            "Noise shape: torch.Size([4, 4, 64, 64])\n",
            "Error in batch: mat1 and mat2 shapes cannot be multiplied (308x512 and 768x320)\n",
            "Text embeddings shape: torch.Size([4, 77, 512])\n",
            "Control images shape: torch.Size([4, 3, 512, 512])\n",
            "Noise shape: torch.Size([4, 4, 64, 64])\n"
          ]
        },
        {
          "output_type": "stream",
          "name": "stderr",
          "text": [
            " 80%|███████▉  | 102/128 [00:14<00:03,  7.89it/s]"
          ]
        },
        {
          "output_type": "stream",
          "name": "stdout",
          "text": [
            "Error in batch: mat1 and mat2 shapes cannot be multiplied (308x512 and 768x320)\n",
            "Text embeddings shape: torch.Size([4, 77, 512])\n",
            "Control images shape: torch.Size([4, 3, 512, 512])\n",
            "Noise shape: torch.Size([4, 4, 64, 64])\n",
            "Error in batch: mat1 and mat2 shapes cannot be multiplied (308x512 and 768x320)\n",
            "Text embeddings shape: torch.Size([4, 77, 512])\n",
            "Control images shape: torch.Size([4, 3, 512, 512])\n",
            "Noise shape: torch.Size([4, 4, 64, 64])\n"
          ]
        },
        {
          "output_type": "stream",
          "name": "stderr",
          "text": [
            " 81%|████████▏ | 104/128 [00:15<00:03,  7.92it/s]"
          ]
        },
        {
          "output_type": "stream",
          "name": "stdout",
          "text": [
            "Error in batch: mat1 and mat2 shapes cannot be multiplied (308x512 and 768x320)\n",
            "Text embeddings shape: torch.Size([4, 77, 512])\n",
            "Control images shape: torch.Size([4, 3, 512, 512])\n",
            "Noise shape: torch.Size([4, 4, 64, 64])\n",
            "Error in batch: mat1 and mat2 shapes cannot be multiplied (308x512 and 768x320)\n",
            "Text embeddings shape: torch.Size([4, 77, 512])\n",
            "Control images shape: torch.Size([4, 3, 512, 512])\n",
            "Noise shape: torch.Size([4, 4, 64, 64])\n"
          ]
        },
        {
          "output_type": "stream",
          "name": "stderr",
          "text": [
            " 83%|████████▎ | 106/128 [00:15<00:02,  7.69it/s]"
          ]
        },
        {
          "output_type": "stream",
          "name": "stdout",
          "text": [
            "Error in batch: mat1 and mat2 shapes cannot be multiplied (308x512 and 768x320)\n",
            "Text embeddings shape: torch.Size([4, 77, 512])\n",
            "Control images shape: torch.Size([4, 3, 512, 512])\n",
            "Noise shape: torch.Size([4, 4, 64, 64])\n",
            "Error in batch: mat1 and mat2 shapes cannot be multiplied (308x512 and 768x320)\n",
            "Text embeddings shape: torch.Size([4, 77, 512])\n",
            "Control images shape: torch.Size([4, 3, 512, 512])\n",
            "Noise shape: torch.Size([4, 4, 64, 64])\n"
          ]
        },
        {
          "output_type": "stream",
          "name": "stderr",
          "text": [
            " 84%|████████▍ | 108/128 [00:15<00:02,  7.78it/s]"
          ]
        },
        {
          "output_type": "stream",
          "name": "stdout",
          "text": [
            "Error in batch: mat1 and mat2 shapes cannot be multiplied (308x512 and 768x320)\n",
            "Text embeddings shape: torch.Size([4, 77, 512])\n",
            "Control images shape: torch.Size([4, 3, 512, 512])\n",
            "Noise shape: torch.Size([4, 4, 64, 64])\n",
            "Error in batch: mat1 and mat2 shapes cannot be multiplied (308x512 and 768x320)\n",
            "Text embeddings shape: torch.Size([4, 77, 512])\n",
            "Control images shape: torch.Size([4, 3, 512, 512])\n",
            "Noise shape: torch.Size([4, 4, 64, 64])\n"
          ]
        },
        {
          "output_type": "stream",
          "name": "stderr",
          "text": [
            " 86%|████████▌ | 110/128 [00:16<00:02,  7.33it/s]"
          ]
        },
        {
          "output_type": "stream",
          "name": "stdout",
          "text": [
            "Error in batch: mat1 and mat2 shapes cannot be multiplied (308x512 and 768x320)\n",
            "Text embeddings shape: torch.Size([4, 77, 512])\n",
            "Control images shape: torch.Size([4, 3, 512, 512])\n",
            "Noise shape: torch.Size([4, 4, 64, 64])\n",
            "Error in batch: mat1 and mat2 shapes cannot be multiplied (308x512 and 768x320)\n",
            "Text embeddings shape: torch.Size([4, 77, 512])\n",
            "Control images shape: torch.Size([4, 3, 512, 512])\n",
            "Noise shape: torch.Size([4, 4, 64, 64])\n"
          ]
        },
        {
          "output_type": "stream",
          "name": "stderr",
          "text": [
            " 88%|████████▊ | 112/128 [00:16<00:02,  7.04it/s]"
          ]
        },
        {
          "output_type": "stream",
          "name": "stdout",
          "text": [
            "Error in batch: mat1 and mat2 shapes cannot be multiplied (308x512 and 768x320)\n",
            "Text embeddings shape: torch.Size([4, 77, 512])\n",
            "Control images shape: torch.Size([4, 3, 512, 512])\n",
            "Noise shape: torch.Size([4, 4, 64, 64])\n",
            "Error in batch: mat1 and mat2 shapes cannot be multiplied (308x512 and 768x320)\n",
            "Text embeddings shape: torch.Size([4, 77, 512])\n",
            "Control images shape: torch.Size([4, 3, 512, 512])\n",
            "Noise shape: torch.Size([4, 4, 64, 64])\n"
          ]
        },
        {
          "output_type": "stream",
          "name": "stderr",
          "text": [
            " 89%|████████▉ | 114/128 [00:16<00:02,  6.80it/s]"
          ]
        },
        {
          "output_type": "stream",
          "name": "stdout",
          "text": [
            "Error in batch: mat1 and mat2 shapes cannot be multiplied (308x512 and 768x320)\n",
            "Text embeddings shape: torch.Size([4, 77, 512])\n",
            "Control images shape: torch.Size([4, 3, 512, 512])\n",
            "Noise shape: torch.Size([4, 4, 64, 64])\n",
            "Error in batch: mat1 and mat2 shapes cannot be multiplied (308x512 and 768x320)\n",
            "Text embeddings shape: torch.Size([4, 77, 512])\n",
            "Control images shape: torch.Size([4, 3, 512, 512])\n",
            "Noise shape: torch.Size([4, 4, 64, 64])\n"
          ]
        },
        {
          "output_type": "stream",
          "name": "stderr",
          "text": [
            " 91%|█████████ | 116/128 [00:16<00:01,  7.08it/s]"
          ]
        },
        {
          "output_type": "stream",
          "name": "stdout",
          "text": [
            "Error in batch: mat1 and mat2 shapes cannot be multiplied (308x512 and 768x320)\n",
            "Text embeddings shape: torch.Size([4, 77, 512])\n",
            "Control images shape: torch.Size([4, 3, 512, 512])\n",
            "Noise shape: torch.Size([4, 4, 64, 64])\n",
            "Error in batch: mat1 and mat2 shapes cannot be multiplied (308x512 and 768x320)\n",
            "Text embeddings shape: torch.Size([4, 77, 512])\n",
            "Control images shape: torch.Size([4, 3, 512, 512])\n",
            "Noise shape: torch.Size([4, 4, 64, 64])\n"
          ]
        },
        {
          "output_type": "stream",
          "name": "stderr",
          "text": [
            "\r 91%|█████████▏| 117/128 [00:17<00:01,  6.91it/s]"
          ]
        },
        {
          "output_type": "stream",
          "name": "stdout",
          "text": [
            "Error in batch: mat1 and mat2 shapes cannot be multiplied (308x512 and 768x320)\n",
            "Text embeddings shape: torch.Size([4, 77, 512])\n",
            "Control images shape: torch.Size([4, 3, 512, 512])\n",
            "Noise shape: torch.Size([4, 4, 64, 64])\n"
          ]
        },
        {
          "output_type": "stream",
          "name": "stderr",
          "text": [
            " 93%|█████████▎| 119/128 [00:17<00:01,  5.65it/s]"
          ]
        },
        {
          "output_type": "stream",
          "name": "stdout",
          "text": [
            "Error in batch: mat1 and mat2 shapes cannot be multiplied (308x512 and 768x320)\n",
            "Text embeddings shape: torch.Size([4, 77, 512])\n",
            "Control images shape: torch.Size([4, 3, 512, 512])\n",
            "Noise shape: torch.Size([4, 4, 64, 64])\n",
            "Error in batch: mat1 and mat2 shapes cannot be multiplied (308x512 and 768x320)\n",
            "Text embeddings shape: torch.Size([4, 77, 512])\n",
            "Control images shape: torch.Size([4, 3, 512, 512])\n",
            "Noise shape: torch.Size([4, 4, 64, 64])\n"
          ]
        },
        {
          "output_type": "stream",
          "name": "stderr",
          "text": [
            " 95%|█████████▍| 121/128 [00:17<00:01,  5.31it/s]"
          ]
        },
        {
          "output_type": "stream",
          "name": "stdout",
          "text": [
            "Error in batch: mat1 and mat2 shapes cannot be multiplied (308x512 and 768x320)\n",
            "Text embeddings shape: torch.Size([4, 77, 512])\n",
            "Control images shape: torch.Size([4, 3, 512, 512])\n",
            "Noise shape: torch.Size([4, 4, 64, 64])\n",
            "Error in batch: mat1 and mat2 shapes cannot be multiplied (308x512 and 768x320)\n",
            "Text embeddings shape: torch.Size([4, 77, 512])\n",
            "Control images shape: torch.Size([4, 3, 512, 512])\n",
            "Noise shape: torch.Size([4, 4, 64, 64])\n"
          ]
        },
        {
          "output_type": "stream",
          "name": "stderr",
          "text": [
            "\r 95%|█████████▌| 122/128 [00:18<00:01,  5.29it/s]"
          ]
        },
        {
          "output_type": "stream",
          "name": "stdout",
          "text": [
            "Error in batch: mat1 and mat2 shapes cannot be multiplied (308x512 and 768x320)\n",
            "Text embeddings shape: torch.Size([4, 77, 512])\n",
            "Control images shape: torch.Size([4, 3, 512, 512])\n",
            "Noise shape: torch.Size([4, 4, 64, 64])\n"
          ]
        },
        {
          "output_type": "stream",
          "name": "stderr",
          "text": [
            " 97%|█████████▋| 124/128 [00:18<00:00,  5.12it/s]"
          ]
        },
        {
          "output_type": "stream",
          "name": "stdout",
          "text": [
            "Error in batch: mat1 and mat2 shapes cannot be multiplied (308x512 and 768x320)\n",
            "Text embeddings shape: torch.Size([4, 77, 512])\n",
            "Control images shape: torch.Size([4, 3, 512, 512])\n",
            "Noise shape: torch.Size([4, 4, 64, 64])\n",
            "Error in batch: mat1 and mat2 shapes cannot be multiplied (308x512 and 768x320)\n",
            "Text embeddings shape: torch.Size([4, 77, 512])\n",
            "Control images shape: torch.Size([4, 3, 512, 512])\n",
            "Noise shape: torch.Size([4, 4, 64, 64])\n"
          ]
        },
        {
          "output_type": "stream",
          "name": "stderr",
          "text": [
            "\r 98%|█████████▊| 125/128 [00:18<00:00,  5.19it/s]"
          ]
        },
        {
          "output_type": "stream",
          "name": "stdout",
          "text": [
            "Error in batch: mat1 and mat2 shapes cannot be multiplied (308x512 and 768x320)\n",
            "Text embeddings shape: torch.Size([4, 77, 512])\n",
            "Control images shape: torch.Size([4, 3, 512, 512])\n",
            "Noise shape: torch.Size([4, 4, 64, 64])\n"
          ]
        },
        {
          "output_type": "stream",
          "name": "stderr",
          "text": [
            "\r 98%|█████████▊| 126/128 [00:18<00:00,  4.94it/s]"
          ]
        },
        {
          "output_type": "stream",
          "name": "stdout",
          "text": [
            "Error in batch: mat1 and mat2 shapes cannot be multiplied (308x512 and 768x320)\n",
            "Text embeddings shape: torch.Size([4, 77, 512])\n",
            "Control images shape: torch.Size([4, 3, 512, 512])\n",
            "Noise shape: torch.Size([4, 4, 64, 64])\n"
          ]
        },
        {
          "output_type": "stream",
          "name": "stderr",
          "text": [
            "100%|██████████| 128/128 [00:19<00:00,  6.65it/s]\n"
          ]
        },
        {
          "output_type": "stream",
          "name": "stdout",
          "text": [
            "Error in batch: mat1 and mat2 shapes cannot be multiplied (308x512 and 768x320)\n",
            "Text embeddings shape: torch.Size([4, 77, 512])\n",
            "Control images shape: torch.Size([4, 3, 512, 512])\n",
            "Noise shape: torch.Size([4, 4, 64, 64])\n",
            "Error in batch: mat1 and mat2 shapes cannot be multiplied (154x512 and 768x320)\n",
            "Text embeddings shape: torch.Size([2, 77, 512])\n",
            "Control images shape: torch.Size([2, 3, 512, 512])\n",
            "Noise shape: torch.Size([2, 4, 64, 64])\n",
            "Epoch 2 Loss: 0.0\n",
            "Epoch 3/3\n"
          ]
        },
        {
          "output_type": "stream",
          "name": "stderr",
          "text": [
            "  1%|          | 1/128 [00:00<00:33,  3.84it/s]"
          ]
        },
        {
          "output_type": "stream",
          "name": "stdout",
          "text": [
            "Error in batch: mat1 and mat2 shapes cannot be multiplied (308x512 and 768x320)\n",
            "Text embeddings shape: torch.Size([4, 77, 512])\n",
            "Control images shape: torch.Size([4, 3, 512, 512])\n",
            "Noise shape: torch.Size([4, 4, 64, 64])\n"
          ]
        },
        {
          "output_type": "stream",
          "name": "stderr",
          "text": [
            "\r  2%|▏         | 2/128 [00:00<00:30,  4.09it/s]"
          ]
        },
        {
          "output_type": "stream",
          "name": "stdout",
          "text": [
            "Error in batch: mat1 and mat2 shapes cannot be multiplied (308x512 and 768x320)\n",
            "Text embeddings shape: torch.Size([4, 77, 512])\n",
            "Control images shape: torch.Size([4, 3, 512, 512])\n",
            "Noise shape: torch.Size([4, 4, 64, 64])\n"
          ]
        },
        {
          "output_type": "stream",
          "name": "stderr",
          "text": [
            "\r  2%|▏         | 3/128 [00:00<00:29,  4.28it/s]"
          ]
        },
        {
          "output_type": "stream",
          "name": "stdout",
          "text": [
            "Error in batch: mat1 and mat2 shapes cannot be multiplied (308x512 and 768x320)\n",
            "Text embeddings shape: torch.Size([4, 77, 512])\n",
            "Control images shape: torch.Size([4, 3, 512, 512])\n",
            "Noise shape: torch.Size([4, 4, 64, 64])\n"
          ]
        },
        {
          "output_type": "stream",
          "name": "stderr",
          "text": [
            "\r  3%|▎         | 4/128 [00:00<00:28,  4.42it/s]"
          ]
        },
        {
          "output_type": "stream",
          "name": "stdout",
          "text": [
            "Error in batch: mat1 and mat2 shapes cannot be multiplied (308x512 and 768x320)\n",
            "Text embeddings shape: torch.Size([4, 77, 512])\n",
            "Control images shape: torch.Size([4, 3, 512, 512])\n",
            "Noise shape: torch.Size([4, 4, 64, 64])\n"
          ]
        },
        {
          "output_type": "stream",
          "name": "stderr",
          "text": [
            "  5%|▍         | 6/128 [00:01<00:25,  4.82it/s]"
          ]
        },
        {
          "output_type": "stream",
          "name": "stdout",
          "text": [
            "Error in batch: mat1 and mat2 shapes cannot be multiplied (308x512 and 768x320)\n",
            "Text embeddings shape: torch.Size([4, 77, 512])\n",
            "Control images shape: torch.Size([4, 3, 512, 512])\n",
            "Noise shape: torch.Size([4, 4, 64, 64])\n",
            "Error in batch: mat1 and mat2 shapes cannot be multiplied (308x512 and 768x320)\n",
            "Text embeddings shape: torch.Size([4, 77, 512])\n",
            "Control images shape: torch.Size([4, 3, 512, 512])\n",
            "Noise shape: torch.Size([4, 4, 64, 64])\n"
          ]
        },
        {
          "output_type": "stream",
          "name": "stderr",
          "text": [
            "\r  5%|▌         | 7/128 [00:01<00:24,  4.84it/s]"
          ]
        },
        {
          "output_type": "stream",
          "name": "stdout",
          "text": [
            "Error in batch: mat1 and mat2 shapes cannot be multiplied (308x512 and 768x320)\n",
            "Text embeddings shape: torch.Size([4, 77, 512])\n",
            "Control images shape: torch.Size([4, 3, 512, 512])\n",
            "Noise shape: torch.Size([4, 4, 64, 64])\n"
          ]
        },
        {
          "output_type": "stream",
          "name": "stderr",
          "text": [
            "  7%|▋         | 9/128 [00:01<00:23,  5.07it/s]"
          ]
        },
        {
          "output_type": "stream",
          "name": "stdout",
          "text": [
            "Error in batch: mat1 and mat2 shapes cannot be multiplied (308x512 and 768x320)\n",
            "Text embeddings shape: torch.Size([4, 77, 512])\n",
            "Control images shape: torch.Size([4, 3, 512, 512])\n",
            "Noise shape: torch.Size([4, 4, 64, 64])\n",
            "Error in batch: mat1 and mat2 shapes cannot be multiplied (308x512 and 768x320)\n",
            "Text embeddings shape: torch.Size([4, 77, 512])\n",
            "Control images shape: torch.Size([4, 3, 512, 512])\n",
            "Noise shape: torch.Size([4, 4, 64, 64])\n"
          ]
        },
        {
          "output_type": "stream",
          "name": "stderr",
          "text": [
            "  9%|▊         | 11/128 [00:02<00:18,  6.48it/s]"
          ]
        },
        {
          "output_type": "stream",
          "name": "stdout",
          "text": [
            "Error in batch: mat1 and mat2 shapes cannot be multiplied (308x512 and 768x320)\n",
            "Text embeddings shape: torch.Size([4, 77, 512])\n",
            "Control images shape: torch.Size([4, 3, 512, 512])\n",
            "Noise shape: torch.Size([4, 4, 64, 64])\n",
            "Error in batch: mat1 and mat2 shapes cannot be multiplied (308x512 and 768x320)\n",
            "Text embeddings shape: torch.Size([4, 77, 512])\n",
            "Control images shape: torch.Size([4, 3, 512, 512])\n",
            "Noise shape: torch.Size([4, 4, 64, 64])\n"
          ]
        },
        {
          "output_type": "stream",
          "name": "stderr",
          "text": [
            " 10%|█         | 13/128 [00:02<00:16,  7.01it/s]"
          ]
        },
        {
          "output_type": "stream",
          "name": "stdout",
          "text": [
            "Error in batch: mat1 and mat2 shapes cannot be multiplied (308x512 and 768x320)\n",
            "Text embeddings shape: torch.Size([4, 77, 512])\n",
            "Control images shape: torch.Size([4, 3, 512, 512])\n",
            "Noise shape: torch.Size([4, 4, 64, 64])\n",
            "Error in batch: mat1 and mat2 shapes cannot be multiplied (308x512 and 768x320)\n",
            "Text embeddings shape: torch.Size([4, 77, 512])\n",
            "Control images shape: torch.Size([4, 3, 512, 512])\n",
            "Noise shape: torch.Size([4, 4, 64, 64])\n"
          ]
        },
        {
          "output_type": "stream",
          "name": "stderr",
          "text": [
            " 12%|█▏        | 15/128 [00:02<00:15,  7.47it/s]"
          ]
        },
        {
          "output_type": "stream",
          "name": "stdout",
          "text": [
            "Error in batch: mat1 and mat2 shapes cannot be multiplied (308x512 and 768x320)\n",
            "Text embeddings shape: torch.Size([4, 77, 512])\n",
            "Control images shape: torch.Size([4, 3, 512, 512])\n",
            "Noise shape: torch.Size([4, 4, 64, 64])\n",
            "Error in batch: mat1 and mat2 shapes cannot be multiplied (308x512 and 768x320)\n",
            "Text embeddings shape: torch.Size([4, 77, 512])\n",
            "Control images shape: torch.Size([4, 3, 512, 512])\n",
            "Noise shape: torch.Size([4, 4, 64, 64])\n"
          ]
        },
        {
          "output_type": "stream",
          "name": "stderr",
          "text": [
            " 13%|█▎        | 17/128 [00:02<00:15,  7.20it/s]"
          ]
        },
        {
          "output_type": "stream",
          "name": "stdout",
          "text": [
            "Error in batch: mat1 and mat2 shapes cannot be multiplied (308x512 and 768x320)\n",
            "Text embeddings shape: torch.Size([4, 77, 512])\n",
            "Control images shape: torch.Size([4, 3, 512, 512])\n",
            "Noise shape: torch.Size([4, 4, 64, 64])\n",
            "Error in batch: mat1 and mat2 shapes cannot be multiplied (308x512 and 768x320)\n",
            "Text embeddings shape: torch.Size([4, 77, 512])\n",
            "Control images shape: torch.Size([4, 3, 512, 512])\n",
            "Noise shape: torch.Size([4, 4, 64, 64])\n"
          ]
        },
        {
          "output_type": "stream",
          "name": "stderr",
          "text": [
            " 15%|█▍        | 19/128 [00:03<00:14,  7.32it/s]"
          ]
        },
        {
          "output_type": "stream",
          "name": "stdout",
          "text": [
            "Error in batch: mat1 and mat2 shapes cannot be multiplied (308x512 and 768x320)\n",
            "Text embeddings shape: torch.Size([4, 77, 512])\n",
            "Control images shape: torch.Size([4, 3, 512, 512])\n",
            "Noise shape: torch.Size([4, 4, 64, 64])\n",
            "Error in batch: mat1 and mat2 shapes cannot be multiplied (308x512 and 768x320)\n",
            "Text embeddings shape: torch.Size([4, 77, 512])\n",
            "Control images shape: torch.Size([4, 3, 512, 512])\n",
            "Noise shape: torch.Size([4, 4, 64, 64])\n"
          ]
        },
        {
          "output_type": "stream",
          "name": "stderr",
          "text": [
            " 16%|█▋        | 21/128 [00:03<00:13,  7.76it/s]"
          ]
        },
        {
          "output_type": "stream",
          "name": "stdout",
          "text": [
            "Error in batch: mat1 and mat2 shapes cannot be multiplied (308x512 and 768x320)\n",
            "Text embeddings shape: torch.Size([4, 77, 512])\n",
            "Control images shape: torch.Size([4, 3, 512, 512])\n",
            "Noise shape: torch.Size([4, 4, 64, 64])\n",
            "Error in batch: mat1 and mat2 shapes cannot be multiplied (308x512 and 768x320)\n",
            "Text embeddings shape: torch.Size([4, 77, 512])\n",
            "Control images shape: torch.Size([4, 3, 512, 512])\n",
            "Noise shape: torch.Size([4, 4, 64, 64])\n"
          ]
        },
        {
          "output_type": "stream",
          "name": "stderr",
          "text": [
            " 18%|█▊        | 23/128 [00:03<00:13,  7.68it/s]"
          ]
        },
        {
          "output_type": "stream",
          "name": "stdout",
          "text": [
            "Error in batch: mat1 and mat2 shapes cannot be multiplied (308x512 and 768x320)\n",
            "Text embeddings shape: torch.Size([4, 77, 512])\n",
            "Control images shape: torch.Size([4, 3, 512, 512])\n",
            "Noise shape: torch.Size([4, 4, 64, 64])\n",
            "Error in batch: mat1 and mat2 shapes cannot be multiplied (308x512 and 768x320)\n",
            "Text embeddings shape: torch.Size([4, 77, 512])\n",
            "Control images shape: torch.Size([4, 3, 512, 512])\n",
            "Noise shape: torch.Size([4, 4, 64, 64])\n"
          ]
        },
        {
          "output_type": "stream",
          "name": "stderr",
          "text": [
            " 20%|█▉        | 25/128 [00:04<00:13,  7.49it/s]"
          ]
        },
        {
          "output_type": "stream",
          "name": "stdout",
          "text": [
            "Error in batch: mat1 and mat2 shapes cannot be multiplied (308x512 and 768x320)\n",
            "Text embeddings shape: torch.Size([4, 77, 512])\n",
            "Control images shape: torch.Size([4, 3, 512, 512])\n",
            "Noise shape: torch.Size([4, 4, 64, 64])\n",
            "Error in batch: mat1 and mat2 shapes cannot be multiplied (308x512 and 768x320)\n",
            "Text embeddings shape: torch.Size([4, 77, 512])\n",
            "Control images shape: torch.Size([4, 3, 512, 512])\n",
            "Noise shape: torch.Size([4, 4, 64, 64])\n"
          ]
        },
        {
          "output_type": "stream",
          "name": "stderr",
          "text": [
            " 21%|██        | 27/128 [00:04<00:12,  8.29it/s]"
          ]
        },
        {
          "output_type": "stream",
          "name": "stdout",
          "text": [
            "Error in batch: mat1 and mat2 shapes cannot be multiplied (308x512 and 768x320)\n",
            "Text embeddings shape: torch.Size([4, 77, 512])\n",
            "Control images shape: torch.Size([4, 3, 512, 512])\n",
            "Noise shape: torch.Size([4, 4, 64, 64])\n",
            "Error in batch: mat1 and mat2 shapes cannot be multiplied (308x512 and 768x320)\n",
            "Text embeddings shape: torch.Size([4, 77, 512])\n",
            "Control images shape: torch.Size([4, 3, 512, 512])\n",
            "Noise shape: torch.Size([4, 4, 64, 64])\n"
          ]
        },
        {
          "output_type": "stream",
          "name": "stderr",
          "text": [
            " 23%|██▎       | 29/128 [00:04<00:12,  7.83it/s]"
          ]
        },
        {
          "output_type": "stream",
          "name": "stdout",
          "text": [
            "Error in batch: mat1 and mat2 shapes cannot be multiplied (308x512 and 768x320)\n",
            "Text embeddings shape: torch.Size([4, 77, 512])\n",
            "Control images shape: torch.Size([4, 3, 512, 512])\n",
            "Noise shape: torch.Size([4, 4, 64, 64])\n",
            "Error in batch: mat1 and mat2 shapes cannot be multiplied (308x512 and 768x320)\n",
            "Text embeddings shape: torch.Size([4, 77, 512])\n",
            "Control images shape: torch.Size([4, 3, 512, 512])\n",
            "Noise shape: torch.Size([4, 4, 64, 64])\n"
          ]
        },
        {
          "output_type": "stream",
          "name": "stderr",
          "text": [
            " 24%|██▍       | 31/128 [00:04<00:12,  7.50it/s]"
          ]
        },
        {
          "output_type": "stream",
          "name": "stdout",
          "text": [
            "Error in batch: mat1 and mat2 shapes cannot be multiplied (308x512 and 768x320)\n",
            "Text embeddings shape: torch.Size([4, 77, 512])\n",
            "Control images shape: torch.Size([4, 3, 512, 512])\n",
            "Noise shape: torch.Size([4, 4, 64, 64])\n",
            "Error in batch: mat1 and mat2 shapes cannot be multiplied (308x512 and 768x320)\n",
            "Text embeddings shape: torch.Size([4, 77, 512])\n",
            "Control images shape: torch.Size([4, 3, 512, 512])\n",
            "Noise shape: torch.Size([4, 4, 64, 64])\n"
          ]
        },
        {
          "output_type": "stream",
          "name": "stderr",
          "text": [
            " 26%|██▌       | 33/128 [00:05<00:12,  7.34it/s]"
          ]
        },
        {
          "output_type": "stream",
          "name": "stdout",
          "text": [
            "Error in batch: mat1 and mat2 shapes cannot be multiplied (308x512 and 768x320)\n",
            "Text embeddings shape: torch.Size([4, 77, 512])\n",
            "Control images shape: torch.Size([4, 3, 512, 512])\n",
            "Noise shape: torch.Size([4, 4, 64, 64])\n",
            "Error in batch: mat1 and mat2 shapes cannot be multiplied (308x512 and 768x320)\n",
            "Text embeddings shape: torch.Size([4, 77, 512])\n",
            "Control images shape: torch.Size([4, 3, 512, 512])\n",
            "Noise shape: torch.Size([4, 4, 64, 64])\n"
          ]
        },
        {
          "output_type": "stream",
          "name": "stderr",
          "text": [
            " 27%|██▋       | 35/128 [00:05<00:13,  7.00it/s]"
          ]
        },
        {
          "output_type": "stream",
          "name": "stdout",
          "text": [
            "Error in batch: mat1 and mat2 shapes cannot be multiplied (308x512 and 768x320)\n",
            "Text embeddings shape: torch.Size([4, 77, 512])\n",
            "Control images shape: torch.Size([4, 3, 512, 512])\n",
            "Noise shape: torch.Size([4, 4, 64, 64])\n",
            "Error in batch: mat1 and mat2 shapes cannot be multiplied (308x512 and 768x320)\n",
            "Text embeddings shape: torch.Size([4, 77, 512])\n",
            "Control images shape: torch.Size([4, 3, 512, 512])\n",
            "Noise shape: torch.Size([4, 4, 64, 64])\n"
          ]
        },
        {
          "output_type": "stream",
          "name": "stderr",
          "text": [
            " 29%|██▉       | 37/128 [00:05<00:13,  6.95it/s]"
          ]
        },
        {
          "output_type": "stream",
          "name": "stdout",
          "text": [
            "Error in batch: mat1 and mat2 shapes cannot be multiplied (308x512 and 768x320)\n",
            "Text embeddings shape: torch.Size([4, 77, 512])\n",
            "Control images shape: torch.Size([4, 3, 512, 512])\n",
            "Noise shape: torch.Size([4, 4, 64, 64])\n",
            "Error in batch: mat1 and mat2 shapes cannot be multiplied (308x512 and 768x320)\n",
            "Text embeddings shape: torch.Size([4, 77, 512])\n",
            "Control images shape: torch.Size([4, 3, 512, 512])\n",
            "Noise shape: torch.Size([4, 4, 64, 64])\n"
          ]
        },
        {
          "output_type": "stream",
          "name": "stderr",
          "text": [
            " 30%|███       | 39/128 [00:05<00:12,  7.24it/s]"
          ]
        },
        {
          "output_type": "stream",
          "name": "stdout",
          "text": [
            "Error in batch: mat1 and mat2 shapes cannot be multiplied (308x512 and 768x320)\n",
            "Text embeddings shape: torch.Size([4, 77, 512])\n",
            "Control images shape: torch.Size([4, 3, 512, 512])\n",
            "Noise shape: torch.Size([4, 4, 64, 64])\n",
            "Error in batch: mat1 and mat2 shapes cannot be multiplied (308x512 and 768x320)\n",
            "Text embeddings shape: torch.Size([4, 77, 512])\n",
            "Control images shape: torch.Size([4, 3, 512, 512])\n",
            "Noise shape: torch.Size([4, 4, 64, 64])\n"
          ]
        },
        {
          "output_type": "stream",
          "name": "stderr",
          "text": [
            " 32%|███▏      | 41/128 [00:06<00:12,  7.19it/s]"
          ]
        },
        {
          "output_type": "stream",
          "name": "stdout",
          "text": [
            "Error in batch: mat1 and mat2 shapes cannot be multiplied (308x512 and 768x320)\n",
            "Text embeddings shape: torch.Size([4, 77, 512])\n",
            "Control images shape: torch.Size([4, 3, 512, 512])\n",
            "Noise shape: torch.Size([4, 4, 64, 64])\n",
            "Error in batch: mat1 and mat2 shapes cannot be multiplied (308x512 and 768x320)\n",
            "Text embeddings shape: torch.Size([4, 77, 512])\n",
            "Control images shape: torch.Size([4, 3, 512, 512])\n",
            "Noise shape: torch.Size([4, 4, 64, 64])\n"
          ]
        },
        {
          "output_type": "stream",
          "name": "stderr",
          "text": [
            " 34%|███▎      | 43/128 [00:06<00:12,  6.97it/s]"
          ]
        },
        {
          "output_type": "stream",
          "name": "stdout",
          "text": [
            "Error in batch: mat1 and mat2 shapes cannot be multiplied (308x512 and 768x320)\n",
            "Text embeddings shape: torch.Size([4, 77, 512])\n",
            "Control images shape: torch.Size([4, 3, 512, 512])\n",
            "Noise shape: torch.Size([4, 4, 64, 64])\n",
            "Error in batch: mat1 and mat2 shapes cannot be multiplied (308x512 and 768x320)\n",
            "Text embeddings shape: torch.Size([4, 77, 512])\n",
            "Control images shape: torch.Size([4, 3, 512, 512])\n",
            "Noise shape: torch.Size([4, 4, 64, 64])\n"
          ]
        },
        {
          "output_type": "stream",
          "name": "stderr",
          "text": [
            " 35%|███▌      | 45/128 [00:06<00:11,  7.05it/s]"
          ]
        },
        {
          "output_type": "stream",
          "name": "stdout",
          "text": [
            "Error in batch: mat1 and mat2 shapes cannot be multiplied (308x512 and 768x320)\n",
            "Text embeddings shape: torch.Size([4, 77, 512])\n",
            "Control images shape: torch.Size([4, 3, 512, 512])\n",
            "Noise shape: torch.Size([4, 4, 64, 64])\n",
            "Error in batch: mat1 and mat2 shapes cannot be multiplied (308x512 and 768x320)\n",
            "Text embeddings shape: torch.Size([4, 77, 512])\n",
            "Control images shape: torch.Size([4, 3, 512, 512])\n",
            "Noise shape: torch.Size([4, 4, 64, 64])\n"
          ]
        },
        {
          "output_type": "stream",
          "name": "stderr",
          "text": [
            " 37%|███▋      | 47/128 [00:07<00:12,  6.68it/s]"
          ]
        },
        {
          "output_type": "stream",
          "name": "stdout",
          "text": [
            "Error in batch: mat1 and mat2 shapes cannot be multiplied (308x512 and 768x320)\n",
            "Text embeddings shape: torch.Size([4, 77, 512])\n",
            "Control images shape: torch.Size([4, 3, 512, 512])\n",
            "Noise shape: torch.Size([4, 4, 64, 64])\n",
            "Error in batch: mat1 and mat2 shapes cannot be multiplied (308x512 and 768x320)\n",
            "Text embeddings shape: torch.Size([4, 77, 512])\n",
            "Control images shape: torch.Size([4, 3, 512, 512])\n",
            "Noise shape: torch.Size([4, 4, 64, 64])\n"
          ]
        },
        {
          "output_type": "stream",
          "name": "stderr",
          "text": [
            " 38%|███▊      | 49/128 [00:07<00:11,  6.84it/s]"
          ]
        },
        {
          "output_type": "stream",
          "name": "stdout",
          "text": [
            "Error in batch: mat1 and mat2 shapes cannot be multiplied (308x512 and 768x320)\n",
            "Text embeddings shape: torch.Size([4, 77, 512])\n",
            "Control images shape: torch.Size([4, 3, 512, 512])\n",
            "Noise shape: torch.Size([4, 4, 64, 64])\n",
            "Error in batch: mat1 and mat2 shapes cannot be multiplied (308x512 and 768x320)\n",
            "Text embeddings shape: torch.Size([4, 77, 512])\n",
            "Control images shape: torch.Size([4, 3, 512, 512])\n",
            "Noise shape: torch.Size([4, 4, 64, 64])\n"
          ]
        },
        {
          "output_type": "stream",
          "name": "stderr",
          "text": [
            " 40%|███▉      | 51/128 [00:07<00:11,  6.93it/s]"
          ]
        },
        {
          "output_type": "stream",
          "name": "stdout",
          "text": [
            "Error in batch: mat1 and mat2 shapes cannot be multiplied (308x512 and 768x320)\n",
            "Text embeddings shape: torch.Size([4, 77, 512])\n",
            "Control images shape: torch.Size([4, 3, 512, 512])\n",
            "Noise shape: torch.Size([4, 4, 64, 64])\n",
            "Error in batch: mat1 and mat2 shapes cannot be multiplied (308x512 and 768x320)\n",
            "Text embeddings shape: torch.Size([4, 77, 512])\n",
            "Control images shape: torch.Size([4, 3, 512, 512])\n",
            "Noise shape: torch.Size([4, 4, 64, 64])\n"
          ]
        },
        {
          "output_type": "stream",
          "name": "stderr",
          "text": [
            " 41%|████▏     | 53/128 [00:07<00:11,  6.81it/s]"
          ]
        },
        {
          "output_type": "stream",
          "name": "stdout",
          "text": [
            "Error in batch: mat1 and mat2 shapes cannot be multiplied (308x512 and 768x320)\n",
            "Text embeddings shape: torch.Size([4, 77, 512])\n",
            "Control images shape: torch.Size([4, 3, 512, 512])\n",
            "Noise shape: torch.Size([4, 4, 64, 64])\n",
            "Error in batch: mat1 and mat2 shapes cannot be multiplied (308x512 and 768x320)\n",
            "Text embeddings shape: torch.Size([4, 77, 512])\n",
            "Control images shape: torch.Size([4, 3, 512, 512])\n",
            "Noise shape: torch.Size([4, 4, 64, 64])\n"
          ]
        },
        {
          "output_type": "stream",
          "name": "stderr",
          "text": [
            " 43%|████▎     | 55/128 [00:08<00:10,  6.95it/s]"
          ]
        },
        {
          "output_type": "stream",
          "name": "stdout",
          "text": [
            "Error in batch: mat1 and mat2 shapes cannot be multiplied (308x512 and 768x320)\n",
            "Text embeddings shape: torch.Size([4, 77, 512])\n",
            "Control images shape: torch.Size([4, 3, 512, 512])\n",
            "Noise shape: torch.Size([4, 4, 64, 64])\n",
            "Error in batch: mat1 and mat2 shapes cannot be multiplied (308x512 and 768x320)\n",
            "Text embeddings shape: torch.Size([4, 77, 512])\n",
            "Control images shape: torch.Size([4, 3, 512, 512])\n",
            "Noise shape: torch.Size([4, 4, 64, 64])\n"
          ]
        },
        {
          "output_type": "stream",
          "name": "stderr",
          "text": [
            " 45%|████▍     | 57/128 [00:08<00:09,  7.11it/s]"
          ]
        },
        {
          "output_type": "stream",
          "name": "stdout",
          "text": [
            "Error in batch: mat1 and mat2 shapes cannot be multiplied (308x512 and 768x320)\n",
            "Text embeddings shape: torch.Size([4, 77, 512])\n",
            "Control images shape: torch.Size([4, 3, 512, 512])\n",
            "Noise shape: torch.Size([4, 4, 64, 64])\n",
            "Error in batch: mat1 and mat2 shapes cannot be multiplied (308x512 and 768x320)\n",
            "Text embeddings shape: torch.Size([4, 77, 512])\n",
            "Control images shape: torch.Size([4, 3, 512, 512])\n",
            "Noise shape: torch.Size([4, 4, 64, 64])\n"
          ]
        },
        {
          "output_type": "stream",
          "name": "stderr",
          "text": [
            " 46%|████▌     | 59/128 [00:08<00:09,  7.63it/s]"
          ]
        },
        {
          "output_type": "stream",
          "name": "stdout",
          "text": [
            "Error in batch: mat1 and mat2 shapes cannot be multiplied (308x512 and 768x320)\n",
            "Text embeddings shape: torch.Size([4, 77, 512])\n",
            "Control images shape: torch.Size([4, 3, 512, 512])\n",
            "Noise shape: torch.Size([4, 4, 64, 64])\n",
            "Error in batch: mat1 and mat2 shapes cannot be multiplied (308x512 and 768x320)\n",
            "Text embeddings shape: torch.Size([4, 77, 512])\n",
            "Control images shape: torch.Size([4, 3, 512, 512])\n",
            "Noise shape: torch.Size([4, 4, 64, 64])\n"
          ]
        },
        {
          "output_type": "stream",
          "name": "stderr",
          "text": [
            " 48%|████▊     | 61/128 [00:09<00:09,  7.12it/s]"
          ]
        },
        {
          "output_type": "stream",
          "name": "stdout",
          "text": [
            "Error in batch: mat1 and mat2 shapes cannot be multiplied (308x512 and 768x320)\n",
            "Text embeddings shape: torch.Size([4, 77, 512])\n",
            "Control images shape: torch.Size([4, 3, 512, 512])\n",
            "Noise shape: torch.Size([4, 4, 64, 64])\n",
            "Error in batch: mat1 and mat2 shapes cannot be multiplied (308x512 and 768x320)\n",
            "Text embeddings shape: torch.Size([4, 77, 512])\n",
            "Control images shape: torch.Size([4, 3, 512, 512])\n",
            "Noise shape: torch.Size([4, 4, 64, 64])\n"
          ]
        },
        {
          "output_type": "stream",
          "name": "stderr",
          "text": [
            " 49%|████▉     | 63/128 [00:09<00:08,  7.54it/s]"
          ]
        },
        {
          "output_type": "stream",
          "name": "stdout",
          "text": [
            "Error in batch: mat1 and mat2 shapes cannot be multiplied (308x512 and 768x320)\n",
            "Text embeddings shape: torch.Size([4, 77, 512])\n",
            "Control images shape: torch.Size([4, 3, 512, 512])\n",
            "Noise shape: torch.Size([4, 4, 64, 64])\n",
            "Error in batch: mat1 and mat2 shapes cannot be multiplied (308x512 and 768x320)\n",
            "Text embeddings shape: torch.Size([4, 77, 512])\n",
            "Control images shape: torch.Size([4, 3, 512, 512])\n",
            "Noise shape: torch.Size([4, 4, 64, 64])\n"
          ]
        },
        {
          "output_type": "stream",
          "name": "stderr",
          "text": [
            " 51%|█████     | 65/128 [00:09<00:08,  7.87it/s]"
          ]
        },
        {
          "output_type": "stream",
          "name": "stdout",
          "text": [
            "Error in batch: mat1 and mat2 shapes cannot be multiplied (308x512 and 768x320)\n",
            "Text embeddings shape: torch.Size([4, 77, 512])\n",
            "Control images shape: torch.Size([4, 3, 512, 512])\n",
            "Noise shape: torch.Size([4, 4, 64, 64])\n",
            "Error in batch: mat1 and mat2 shapes cannot be multiplied (308x512 and 768x320)\n",
            "Text embeddings shape: torch.Size([4, 77, 512])\n",
            "Control images shape: torch.Size([4, 3, 512, 512])\n",
            "Noise shape: torch.Size([4, 4, 64, 64])\n"
          ]
        },
        {
          "output_type": "stream",
          "name": "stderr",
          "text": [
            " 52%|█████▏    | 67/128 [00:09<00:07,  8.24it/s]"
          ]
        },
        {
          "output_type": "stream",
          "name": "stdout",
          "text": [
            "Error in batch: mat1 and mat2 shapes cannot be multiplied (308x512 and 768x320)\n",
            "Text embeddings shape: torch.Size([4, 77, 512])\n",
            "Control images shape: torch.Size([4, 3, 512, 512])\n",
            "Noise shape: torch.Size([4, 4, 64, 64])\n",
            "Error in batch: mat1 and mat2 shapes cannot be multiplied (308x512 and 768x320)\n",
            "Text embeddings shape: torch.Size([4, 77, 512])\n",
            "Control images shape: torch.Size([4, 3, 512, 512])\n",
            "Noise shape: torch.Size([4, 4, 64, 64])\n"
          ]
        },
        {
          "output_type": "stream",
          "name": "stderr",
          "text": [
            " 54%|█████▍    | 69/128 [00:10<00:07,  8.07it/s]"
          ]
        },
        {
          "output_type": "stream",
          "name": "stdout",
          "text": [
            "Error in batch: mat1 and mat2 shapes cannot be multiplied (308x512 and 768x320)\n",
            "Text embeddings shape: torch.Size([4, 77, 512])\n",
            "Control images shape: torch.Size([4, 3, 512, 512])\n",
            "Noise shape: torch.Size([4, 4, 64, 64])\n",
            "Error in batch: mat1 and mat2 shapes cannot be multiplied (308x512 and 768x320)\n",
            "Text embeddings shape: torch.Size([4, 77, 512])\n",
            "Control images shape: torch.Size([4, 3, 512, 512])\n",
            "Noise shape: torch.Size([4, 4, 64, 64])\n"
          ]
        },
        {
          "output_type": "stream",
          "name": "stderr",
          "text": [
            " 55%|█████▌    | 71/128 [00:10<00:07,  7.83it/s]"
          ]
        },
        {
          "output_type": "stream",
          "name": "stdout",
          "text": [
            "Error in batch: mat1 and mat2 shapes cannot be multiplied (308x512 and 768x320)\n",
            "Text embeddings shape: torch.Size([4, 77, 512])\n",
            "Control images shape: torch.Size([4, 3, 512, 512])\n",
            "Noise shape: torch.Size([4, 4, 64, 64])\n",
            "Error in batch: mat1 and mat2 shapes cannot be multiplied (308x512 and 768x320)\n",
            "Text embeddings shape: torch.Size([4, 77, 512])\n",
            "Control images shape: torch.Size([4, 3, 512, 512])\n",
            "Noise shape: torch.Size([4, 4, 64, 64])\n"
          ]
        },
        {
          "output_type": "stream",
          "name": "stderr",
          "text": [
            " 57%|█████▋    | 73/128 [00:10<00:07,  7.83it/s]"
          ]
        },
        {
          "output_type": "stream",
          "name": "stdout",
          "text": [
            "Error in batch: mat1 and mat2 shapes cannot be multiplied (308x512 and 768x320)\n",
            "Text embeddings shape: torch.Size([4, 77, 512])\n",
            "Control images shape: torch.Size([4, 3, 512, 512])\n",
            "Noise shape: torch.Size([4, 4, 64, 64])\n",
            "Error in batch: mat1 and mat2 shapes cannot be multiplied (308x512 and 768x320)\n",
            "Text embeddings shape: torch.Size([4, 77, 512])\n",
            "Control images shape: torch.Size([4, 3, 512, 512])\n",
            "Noise shape: torch.Size([4, 4, 64, 64])\n"
          ]
        },
        {
          "output_type": "stream",
          "name": "stderr",
          "text": [
            " 59%|█████▊    | 75/128 [00:10<00:08,  6.60it/s]"
          ]
        },
        {
          "output_type": "stream",
          "name": "stdout",
          "text": [
            "Error in batch: mat1 and mat2 shapes cannot be multiplied (308x512 and 768x320)\n",
            "Text embeddings shape: torch.Size([4, 77, 512])\n",
            "Control images shape: torch.Size([4, 3, 512, 512])\n",
            "Noise shape: torch.Size([4, 4, 64, 64])\n",
            "Error in batch: mat1 and mat2 shapes cannot be multiplied (308x512 and 768x320)\n",
            "Text embeddings shape: torch.Size([4, 77, 512])\n",
            "Control images shape: torch.Size([4, 3, 512, 512])\n",
            "Noise shape: torch.Size([4, 4, 64, 64])\n"
          ]
        },
        {
          "output_type": "stream",
          "name": "stderr",
          "text": [
            " 60%|██████    | 77/128 [00:11<00:07,  6.85it/s]"
          ]
        },
        {
          "output_type": "stream",
          "name": "stdout",
          "text": [
            "Error in batch: mat1 and mat2 shapes cannot be multiplied (308x512 and 768x320)\n",
            "Text embeddings shape: torch.Size([4, 77, 512])\n",
            "Control images shape: torch.Size([4, 3, 512, 512])\n",
            "Noise shape: torch.Size([4, 4, 64, 64])\n",
            "Error in batch: mat1 and mat2 shapes cannot be multiplied (308x512 and 768x320)\n",
            "Text embeddings shape: torch.Size([4, 77, 512])\n",
            "Control images shape: torch.Size([4, 3, 512, 512])\n",
            "Noise shape: torch.Size([4, 4, 64, 64])\n"
          ]
        },
        {
          "output_type": "stream",
          "name": "stderr",
          "text": [
            " 62%|██████▏   | 79/128 [00:11<00:06,  7.25it/s]"
          ]
        },
        {
          "output_type": "stream",
          "name": "stdout",
          "text": [
            "Error in batch: mat1 and mat2 shapes cannot be multiplied (308x512 and 768x320)\n",
            "Text embeddings shape: torch.Size([4, 77, 512])\n",
            "Control images shape: torch.Size([4, 3, 512, 512])\n",
            "Noise shape: torch.Size([4, 4, 64, 64])\n",
            "Error in batch: mat1 and mat2 shapes cannot be multiplied (308x512 and 768x320)\n",
            "Text embeddings shape: torch.Size([4, 77, 512])\n",
            "Control images shape: torch.Size([4, 3, 512, 512])\n",
            "Noise shape: torch.Size([4, 4, 64, 64])\n"
          ]
        },
        {
          "output_type": "stream",
          "name": "stderr",
          "text": [
            " 63%|██████▎   | 81/128 [00:11<00:06,  6.81it/s]"
          ]
        },
        {
          "output_type": "stream",
          "name": "stdout",
          "text": [
            "Error in batch: mat1 and mat2 shapes cannot be multiplied (308x512 and 768x320)\n",
            "Text embeddings shape: torch.Size([4, 77, 512])\n",
            "Control images shape: torch.Size([4, 3, 512, 512])\n",
            "Noise shape: torch.Size([4, 4, 64, 64])\n",
            "Error in batch: mat1 and mat2 shapes cannot be multiplied (308x512 and 768x320)\n",
            "Text embeddings shape: torch.Size([4, 77, 512])\n",
            "Control images shape: torch.Size([4, 3, 512, 512])\n",
            "Noise shape: torch.Size([4, 4, 64, 64])\n"
          ]
        },
        {
          "output_type": "stream",
          "name": "stderr",
          "text": [
            "\r 64%|██████▍   | 82/128 [00:12<00:08,  5.48it/s]"
          ]
        },
        {
          "output_type": "stream",
          "name": "stdout",
          "text": [
            "Error in batch: mat1 and mat2 shapes cannot be multiplied (308x512 and 768x320)\n",
            "Text embeddings shape: torch.Size([4, 77, 512])\n",
            "Control images shape: torch.Size([4, 3, 512, 512])\n",
            "Noise shape: torch.Size([4, 4, 64, 64])\n"
          ]
        },
        {
          "output_type": "stream",
          "name": "stderr",
          "text": [
            " 66%|██████▌   | 84/128 [00:12<00:08,  5.27it/s]"
          ]
        },
        {
          "output_type": "stream",
          "name": "stdout",
          "text": [
            "Error in batch: mat1 and mat2 shapes cannot be multiplied (308x512 and 768x320)\n",
            "Text embeddings shape: torch.Size([4, 77, 512])\n",
            "Control images shape: torch.Size([4, 3, 512, 512])\n",
            "Noise shape: torch.Size([4, 4, 64, 64])\n",
            "Error in batch: mat1 and mat2 shapes cannot be multiplied (308x512 and 768x320)\n",
            "Text embeddings shape: torch.Size([4, 77, 512])\n",
            "Control images shape: torch.Size([4, 3, 512, 512])\n",
            "Noise shape: torch.Size([4, 4, 64, 64])\n"
          ]
        },
        {
          "output_type": "stream",
          "name": "stderr",
          "text": [
            "\r 66%|██████▋   | 85/128 [00:12<00:08,  5.08it/s]"
          ]
        },
        {
          "output_type": "stream",
          "name": "stdout",
          "text": [
            "Error in batch: mat1 and mat2 shapes cannot be multiplied (308x512 and 768x320)\n",
            "Text embeddings shape: torch.Size([4, 77, 512])\n",
            "Control images shape: torch.Size([4, 3, 512, 512])\n",
            "Noise shape: torch.Size([4, 4, 64, 64])\n"
          ]
        },
        {
          "output_type": "stream",
          "name": "stderr",
          "text": [
            " 68%|██████▊   | 87/128 [00:13<00:08,  4.98it/s]"
          ]
        },
        {
          "output_type": "stream",
          "name": "stdout",
          "text": [
            "Error in batch: mat1 and mat2 shapes cannot be multiplied (308x512 and 768x320)\n",
            "Text embeddings shape: torch.Size([4, 77, 512])\n",
            "Control images shape: torch.Size([4, 3, 512, 512])\n",
            "Noise shape: torch.Size([4, 4, 64, 64])\n",
            "Error in batch: mat1 and mat2 shapes cannot be multiplied (308x512 and 768x320)\n",
            "Text embeddings shape: torch.Size([4, 77, 512])\n",
            "Control images shape: torch.Size([4, 3, 512, 512])\n",
            "Noise shape: torch.Size([4, 4, 64, 64])\n"
          ]
        },
        {
          "output_type": "stream",
          "name": "stderr",
          "text": [
            " 70%|██████▉   | 89/128 [00:13<00:07,  5.49it/s]"
          ]
        },
        {
          "output_type": "stream",
          "name": "stdout",
          "text": [
            "Error in batch: mat1 and mat2 shapes cannot be multiplied (308x512 and 768x320)\n",
            "Text embeddings shape: torch.Size([4, 77, 512])\n",
            "Control images shape: torch.Size([4, 3, 512, 512])\n",
            "Noise shape: torch.Size([4, 4, 64, 64])\n",
            "Error in batch: mat1 and mat2 shapes cannot be multiplied (308x512 and 768x320)\n",
            "Text embeddings shape: torch.Size([4, 77, 512])\n",
            "Control images shape: torch.Size([4, 3, 512, 512])\n",
            "Noise shape: torch.Size([4, 4, 64, 64])\n"
          ]
        },
        {
          "output_type": "stream",
          "name": "stderr",
          "text": [
            "\r 70%|███████   | 90/128 [00:13<00:07,  5.17it/s]"
          ]
        },
        {
          "output_type": "stream",
          "name": "stdout",
          "text": [
            "Error in batch: mat1 and mat2 shapes cannot be multiplied (308x512 and 768x320)\n",
            "Text embeddings shape: torch.Size([4, 77, 512])\n",
            "Control images shape: torch.Size([4, 3, 512, 512])\n",
            "Noise shape: torch.Size([4, 4, 64, 64])\n"
          ]
        },
        {
          "output_type": "stream",
          "name": "stderr",
          "text": [
            " 72%|███████▏  | 92/128 [00:14<00:06,  5.20it/s]"
          ]
        },
        {
          "output_type": "stream",
          "name": "stdout",
          "text": [
            "Error in batch: mat1 and mat2 shapes cannot be multiplied (308x512 and 768x320)\n",
            "Text embeddings shape: torch.Size([4, 77, 512])\n",
            "Control images shape: torch.Size([4, 3, 512, 512])\n",
            "Noise shape: torch.Size([4, 4, 64, 64])\n",
            "Error in batch: mat1 and mat2 shapes cannot be multiplied (308x512 and 768x320)\n",
            "Text embeddings shape: torch.Size([4, 77, 512])\n",
            "Control images shape: torch.Size([4, 3, 512, 512])\n",
            "Noise shape: torch.Size([4, 4, 64, 64])\n"
          ]
        },
        {
          "output_type": "stream",
          "name": "stderr",
          "text": [
            "\r 73%|███████▎  | 93/128 [00:14<00:06,  5.22it/s]"
          ]
        },
        {
          "output_type": "stream",
          "name": "stdout",
          "text": [
            "Error in batch: mat1 and mat2 shapes cannot be multiplied (308x512 and 768x320)\n",
            "Text embeddings shape: torch.Size([4, 77, 512])\n",
            "Control images shape: torch.Size([4, 3, 512, 512])\n",
            "Noise shape: torch.Size([4, 4, 64, 64])\n"
          ]
        },
        {
          "output_type": "stream",
          "name": "stderr",
          "text": [
            " 74%|███████▍  | 95/128 [00:14<00:06,  4.93it/s]"
          ]
        },
        {
          "output_type": "stream",
          "name": "stdout",
          "text": [
            "Error in batch: mat1 and mat2 shapes cannot be multiplied (308x512 and 768x320)\n",
            "Text embeddings shape: torch.Size([4, 77, 512])\n",
            "Control images shape: torch.Size([4, 3, 512, 512])\n",
            "Noise shape: torch.Size([4, 4, 64, 64])\n",
            "Error in batch: mat1 and mat2 shapes cannot be multiplied (308x512 and 768x320)\n",
            "Text embeddings shape: torch.Size([4, 77, 512])\n",
            "Control images shape: torch.Size([4, 3, 512, 512])\n",
            "Noise shape: torch.Size([4, 4, 64, 64])\n"
          ]
        },
        {
          "output_type": "stream",
          "name": "stderr",
          "text": [
            "\r 75%|███████▌  | 96/128 [00:14<00:06,  4.82it/s]"
          ]
        },
        {
          "output_type": "stream",
          "name": "stdout",
          "text": [
            "Error in batch: mat1 and mat2 shapes cannot be multiplied (308x512 and 768x320)\n",
            "Text embeddings shape: torch.Size([4, 77, 512])\n",
            "Control images shape: torch.Size([4, 3, 512, 512])\n",
            "Noise shape: torch.Size([4, 4, 64, 64])\n"
          ]
        },
        {
          "output_type": "stream",
          "name": "stderr",
          "text": [
            " 77%|███████▋  | 98/128 [00:15<00:06,  4.84it/s]"
          ]
        },
        {
          "output_type": "stream",
          "name": "stdout",
          "text": [
            "Error in batch: mat1 and mat2 shapes cannot be multiplied (308x512 and 768x320)\n",
            "Text embeddings shape: torch.Size([4, 77, 512])\n",
            "Control images shape: torch.Size([4, 3, 512, 512])\n",
            "Noise shape: torch.Size([4, 4, 64, 64])\n",
            "Error in batch: mat1 and mat2 shapes cannot be multiplied (308x512 and 768x320)\n",
            "Text embeddings shape: torch.Size([4, 77, 512])\n",
            "Control images shape: torch.Size([4, 3, 512, 512])\n",
            "Noise shape: torch.Size([4, 4, 64, 64])\n"
          ]
        },
        {
          "output_type": "stream",
          "name": "stderr",
          "text": [
            " 78%|███████▊  | 100/128 [00:15<00:05,  5.36it/s]"
          ]
        },
        {
          "output_type": "stream",
          "name": "stdout",
          "text": [
            "Error in batch: mat1 and mat2 shapes cannot be multiplied (308x512 and 768x320)\n",
            "Text embeddings shape: torch.Size([4, 77, 512])\n",
            "Control images shape: torch.Size([4, 3, 512, 512])\n",
            "Noise shape: torch.Size([4, 4, 64, 64])\n",
            "Error in batch: mat1 and mat2 shapes cannot be multiplied (308x512 and 768x320)\n",
            "Text embeddings shape: torch.Size([4, 77, 512])\n",
            "Control images shape: torch.Size([4, 3, 512, 512])\n",
            "Noise shape: torch.Size([4, 4, 64, 64])\n"
          ]
        },
        {
          "output_type": "stream",
          "name": "stderr",
          "text": [
            " 80%|███████▉  | 102/128 [00:16<00:04,  5.38it/s]"
          ]
        },
        {
          "output_type": "stream",
          "name": "stdout",
          "text": [
            "Error in batch: mat1 and mat2 shapes cannot be multiplied (308x512 and 768x320)\n",
            "Text embeddings shape: torch.Size([4, 77, 512])\n",
            "Control images shape: torch.Size([4, 3, 512, 512])\n",
            "Noise shape: torch.Size([4, 4, 64, 64])\n",
            "Error in batch: mat1 and mat2 shapes cannot be multiplied (308x512 and 768x320)\n",
            "Text embeddings shape: torch.Size([4, 77, 512])\n",
            "Control images shape: torch.Size([4, 3, 512, 512])\n",
            "Noise shape: torch.Size([4, 4, 64, 64])\n"
          ]
        },
        {
          "output_type": "stream",
          "name": "stderr",
          "text": [
            " 81%|████████▏ | 104/128 [00:16<00:03,  6.34it/s]"
          ]
        },
        {
          "output_type": "stream",
          "name": "stdout",
          "text": [
            "Error in batch: mat1 and mat2 shapes cannot be multiplied (308x512 and 768x320)\n",
            "Text embeddings shape: torch.Size([4, 77, 512])\n",
            "Control images shape: torch.Size([4, 3, 512, 512])\n",
            "Noise shape: torch.Size([4, 4, 64, 64])\n",
            "Error in batch: mat1 and mat2 shapes cannot be multiplied (308x512 and 768x320)\n",
            "Text embeddings shape: torch.Size([4, 77, 512])\n",
            "Control images shape: torch.Size([4, 3, 512, 512])\n",
            "Noise shape: torch.Size([4, 4, 64, 64])\n"
          ]
        },
        {
          "output_type": "stream",
          "name": "stderr",
          "text": [
            " 83%|████████▎ | 106/128 [00:16<00:03,  6.72it/s]"
          ]
        },
        {
          "output_type": "stream",
          "name": "stdout",
          "text": [
            "Error in batch: mat1 and mat2 shapes cannot be multiplied (308x512 and 768x320)\n",
            "Text embeddings shape: torch.Size([4, 77, 512])\n",
            "Control images shape: torch.Size([4, 3, 512, 512])\n",
            "Noise shape: torch.Size([4, 4, 64, 64])\n",
            "Error in batch: mat1 and mat2 shapes cannot be multiplied (308x512 and 768x320)\n",
            "Text embeddings shape: torch.Size([4, 77, 512])\n",
            "Control images shape: torch.Size([4, 3, 512, 512])\n",
            "Noise shape: torch.Size([4, 4, 64, 64])\n"
          ]
        },
        {
          "output_type": "stream",
          "name": "stderr",
          "text": [
            " 84%|████████▍ | 108/128 [00:16<00:02,  7.11it/s]"
          ]
        },
        {
          "output_type": "stream",
          "name": "stdout",
          "text": [
            "Error in batch: mat1 and mat2 shapes cannot be multiplied (308x512 and 768x320)\n",
            "Text embeddings shape: torch.Size([4, 77, 512])\n",
            "Control images shape: torch.Size([4, 3, 512, 512])\n",
            "Noise shape: torch.Size([4, 4, 64, 64])\n",
            "Error in batch: mat1 and mat2 shapes cannot be multiplied (308x512 and 768x320)\n",
            "Text embeddings shape: torch.Size([4, 77, 512])\n",
            "Control images shape: torch.Size([4, 3, 512, 512])\n",
            "Noise shape: torch.Size([4, 4, 64, 64])\n"
          ]
        },
        {
          "output_type": "stream",
          "name": "stderr",
          "text": [
            " 86%|████████▌ | 110/128 [00:17<00:02,  7.03it/s]"
          ]
        },
        {
          "output_type": "stream",
          "name": "stdout",
          "text": [
            "Error in batch: mat1 and mat2 shapes cannot be multiplied (308x512 and 768x320)\n",
            "Text embeddings shape: torch.Size([4, 77, 512])\n",
            "Control images shape: torch.Size([4, 3, 512, 512])\n",
            "Noise shape: torch.Size([4, 4, 64, 64])\n",
            "Error in batch: mat1 and mat2 shapes cannot be multiplied (308x512 and 768x320)\n",
            "Text embeddings shape: torch.Size([4, 77, 512])\n",
            "Control images shape: torch.Size([4, 3, 512, 512])\n",
            "Noise shape: torch.Size([4, 4, 64, 64])\n"
          ]
        },
        {
          "output_type": "stream",
          "name": "stderr",
          "text": [
            " 88%|████████▊ | 112/128 [00:17<00:02,  7.27it/s]"
          ]
        },
        {
          "output_type": "stream",
          "name": "stdout",
          "text": [
            "Error in batch: mat1 and mat2 shapes cannot be multiplied (308x512 and 768x320)\n",
            "Text embeddings shape: torch.Size([4, 77, 512])\n",
            "Control images shape: torch.Size([4, 3, 512, 512])\n",
            "Noise shape: torch.Size([4, 4, 64, 64])\n",
            "Error in batch: mat1 and mat2 shapes cannot be multiplied (308x512 and 768x320)\n",
            "Text embeddings shape: torch.Size([4, 77, 512])\n",
            "Control images shape: torch.Size([4, 3, 512, 512])\n",
            "Noise shape: torch.Size([4, 4, 64, 64])\n"
          ]
        },
        {
          "output_type": "stream",
          "name": "stderr",
          "text": [
            " 89%|████████▉ | 114/128 [00:17<00:01,  7.38it/s]"
          ]
        },
        {
          "output_type": "stream",
          "name": "stdout",
          "text": [
            "Error in batch: mat1 and mat2 shapes cannot be multiplied (308x512 and 768x320)\n",
            "Text embeddings shape: torch.Size([4, 77, 512])\n",
            "Control images shape: torch.Size([4, 3, 512, 512])\n",
            "Noise shape: torch.Size([4, 4, 64, 64])\n",
            "Error in batch: mat1 and mat2 shapes cannot be multiplied (308x512 and 768x320)\n",
            "Text embeddings shape: torch.Size([4, 77, 512])\n",
            "Control images shape: torch.Size([4, 3, 512, 512])\n",
            "Noise shape: torch.Size([4, 4, 64, 64])\n"
          ]
        },
        {
          "output_type": "stream",
          "name": "stderr",
          "text": [
            " 91%|█████████ | 116/128 [00:17<00:01,  7.88it/s]"
          ]
        },
        {
          "output_type": "stream",
          "name": "stdout",
          "text": [
            "Error in batch: mat1 and mat2 shapes cannot be multiplied (308x512 and 768x320)\n",
            "Text embeddings shape: torch.Size([4, 77, 512])\n",
            "Control images shape: torch.Size([4, 3, 512, 512])\n",
            "Noise shape: torch.Size([4, 4, 64, 64])\n",
            "Error in batch: mat1 and mat2 shapes cannot be multiplied (308x512 and 768x320)\n",
            "Text embeddings shape: torch.Size([4, 77, 512])\n",
            "Control images shape: torch.Size([4, 3, 512, 512])\n",
            "Noise shape: torch.Size([4, 4, 64, 64])\n"
          ]
        },
        {
          "output_type": "stream",
          "name": "stderr",
          "text": [
            " 92%|█████████▏| 118/128 [00:18<00:01,  7.86it/s]"
          ]
        },
        {
          "output_type": "stream",
          "name": "stdout",
          "text": [
            "Error in batch: mat1 and mat2 shapes cannot be multiplied (308x512 and 768x320)\n",
            "Text embeddings shape: torch.Size([4, 77, 512])\n",
            "Control images shape: torch.Size([4, 3, 512, 512])\n",
            "Noise shape: torch.Size([4, 4, 64, 64])\n",
            "Error in batch: mat1 and mat2 shapes cannot be multiplied (308x512 and 768x320)\n",
            "Text embeddings shape: torch.Size([4, 77, 512])\n",
            "Control images shape: torch.Size([4, 3, 512, 512])\n",
            "Noise shape: torch.Size([4, 4, 64, 64])\n"
          ]
        },
        {
          "output_type": "stream",
          "name": "stderr",
          "text": [
            " 94%|█████████▍| 120/128 [00:18<00:00,  8.03it/s]"
          ]
        },
        {
          "output_type": "stream",
          "name": "stdout",
          "text": [
            "Error in batch: mat1 and mat2 shapes cannot be multiplied (308x512 and 768x320)\n",
            "Text embeddings shape: torch.Size([4, 77, 512])\n",
            "Control images shape: torch.Size([4, 3, 512, 512])\n",
            "Noise shape: torch.Size([4, 4, 64, 64])\n",
            "Error in batch: mat1 and mat2 shapes cannot be multiplied (308x512 and 768x320)\n",
            "Text embeddings shape: torch.Size([4, 77, 512])\n",
            "Control images shape: torch.Size([4, 3, 512, 512])\n",
            "Noise shape: torch.Size([4, 4, 64, 64])\n"
          ]
        },
        {
          "output_type": "stream",
          "name": "stderr",
          "text": [
            " 95%|█████████▌| 122/128 [00:18<00:00,  7.89it/s]"
          ]
        },
        {
          "output_type": "stream",
          "name": "stdout",
          "text": [
            "Error in batch: mat1 and mat2 shapes cannot be multiplied (308x512 and 768x320)\n",
            "Text embeddings shape: torch.Size([4, 77, 512])\n",
            "Control images shape: torch.Size([4, 3, 512, 512])\n",
            "Noise shape: torch.Size([4, 4, 64, 64])\n",
            "Error in batch: mat1 and mat2 shapes cannot be multiplied (308x512 and 768x320)\n",
            "Text embeddings shape: torch.Size([4, 77, 512])\n",
            "Control images shape: torch.Size([4, 3, 512, 512])\n",
            "Noise shape: torch.Size([4, 4, 64, 64])\n"
          ]
        },
        {
          "output_type": "stream",
          "name": "stderr",
          "text": [
            " 97%|█████████▋| 124/128 [00:18<00:00,  7.20it/s]"
          ]
        },
        {
          "output_type": "stream",
          "name": "stdout",
          "text": [
            "Error in batch: mat1 and mat2 shapes cannot be multiplied (308x512 and 768x320)\n",
            "Text embeddings shape: torch.Size([4, 77, 512])\n",
            "Control images shape: torch.Size([4, 3, 512, 512])\n",
            "Noise shape: torch.Size([4, 4, 64, 64])\n",
            "Error in batch: mat1 and mat2 shapes cannot be multiplied (308x512 and 768x320)\n",
            "Text embeddings shape: torch.Size([4, 77, 512])\n",
            "Control images shape: torch.Size([4, 3, 512, 512])\n",
            "Noise shape: torch.Size([4, 4, 64, 64])\n"
          ]
        },
        {
          "output_type": "stream",
          "name": "stderr",
          "text": [
            " 98%|█████████▊| 126/128 [00:19<00:00,  6.96it/s]"
          ]
        },
        {
          "output_type": "stream",
          "name": "stdout",
          "text": [
            "Error in batch: mat1 and mat2 shapes cannot be multiplied (308x512 and 768x320)\n",
            "Text embeddings shape: torch.Size([4, 77, 512])\n",
            "Control images shape: torch.Size([4, 3, 512, 512])\n",
            "Noise shape: torch.Size([4, 4, 64, 64])\n",
            "Error in batch: mat1 and mat2 shapes cannot be multiplied (308x512 and 768x320)\n",
            "Text embeddings shape: torch.Size([4, 77, 512])\n",
            "Control images shape: torch.Size([4, 3, 512, 512])\n",
            "Noise shape: torch.Size([4, 4, 64, 64])\n"
          ]
        },
        {
          "output_type": "stream",
          "name": "stderr",
          "text": [
            "100%|██████████| 128/128 [00:19<00:00,  6.58it/s]"
          ]
        },
        {
          "output_type": "stream",
          "name": "stdout",
          "text": [
            "Error in batch: mat1 and mat2 shapes cannot be multiplied (308x512 and 768x320)\n",
            "Text embeddings shape: torch.Size([4, 77, 512])\n",
            "Control images shape: torch.Size([4, 3, 512, 512])\n",
            "Noise shape: torch.Size([4, 4, 64, 64])\n",
            "Error in batch: mat1 and mat2 shapes cannot be multiplied (154x512 and 768x320)\n",
            "Text embeddings shape: torch.Size([2, 77, 512])\n",
            "Control images shape: torch.Size([2, 3, 512, 512])\n",
            "Noise shape: torch.Size([2, 4, 64, 64])\n",
            "Epoch 3 Loss: 0.0\n"
          ]
        },
        {
          "output_type": "stream",
          "name": "stderr",
          "text": [
            "\n"
          ]
        }
      ],
      "source": [
        "from torch.optim import AdamW\n",
        "from tqdm import tqdm\n",
        "from transformers import CLIPTextModel, CLIPTokenizer\n",
        "import torch\n",
        "import torch.nn.functional as F\n",
        "\n",
        "# Load the tokenizer and text encoder for Stable Diffusion\n",
        "tokenizer = CLIPTokenizer.from_pretrained(\"openai/clip-vit-base-patch32\")\n",
        "text_encoder = CLIPTextModel.from_pretrained(\"openai/clip-vit-base-patch32\").to(\"cuda\")\n",
        "\n",
        "# Define optimizer\n",
        "optimizer = AdamW(controlnet.parameters(), lr=1e-5)\n",
        "\n",
        "# Training loop\n",
        "num_epochs = 3\n",
        "for epoch in range(num_epochs):\n",
        "    print(f\"Epoch {epoch + 1}/{num_epochs}\")\n",
        "    controlnet.train()\n",
        "    epoch_loss = 0\n",
        "\n",
        "    for batch in tqdm(dataloader):\n",
        "        control_images, labels = batch\n",
        "        control_images = control_images.to(\"cuda\")\n",
        "\n",
        "        # Zero gradients\n",
        "        optimizer.zero_grad()\n",
        "\n",
        "        # Prepare text embeddings with proper padding\n",
        "        text_inputs = tokenizer(\n",
        "            [f\"{label}-room floor plan\" for label in labels],\n",
        "            padding=\"max_length\",\n",
        "            max_length=tokenizer.model_max_length,\n",
        "            truncation=True,\n",
        "            return_tensors=\"pt\"\n",
        "        )\n",
        "        text_input_ids = text_inputs.input_ids.to(\"cuda\")\n",
        "\n",
        "        # Get text embeddings\n",
        "        with torch.no_grad():\n",
        "            text_embeddings = text_encoder(text_input_ids)[0]\n",
        "\n",
        "        # Create appropriate noise sample - make sure dimensions match UNet expectations\n",
        "        # Check the expected channel dimension of your UNet\n",
        "        batch_size = control_images.shape[0]\n",
        "\n",
        "        # Most SD models expect 4 channels for latents\n",
        "        # The spatial dimensions should be 1/8 of the original image size\n",
        "        # For 512×512 images, latents would be 64×64\n",
        "        latent_height, latent_width = 64, 64\n",
        "        noise = torch.randn(\n",
        "            (batch_size, 4, latent_height, latent_width),\n",
        "            device=\"cuda\"\n",
        "        )\n",
        "\n",
        "        # Generate random timesteps\n",
        "        timesteps = torch.randint(\n",
        "            0, 1000, (batch_size,),\n",
        "            device=\"cuda\"\n",
        "        ).long()\n",
        "\n",
        "        # Make sure control images match expected input shape\n",
        "        # If control_images aren't already transformed to match ControlNet's expected input\n",
        "        # Add a transformation here if needed\n",
        "\n",
        "        # Forward pass through ControlNet\n",
        "        try:\n",
        "            down_block_res_samples, mid_block_res_sample = controlnet(\n",
        "                sample=noise,\n",
        "                timestep=timesteps,\n",
        "                encoder_hidden_states=text_embeddings,\n",
        "                controlnet_cond=control_images,\n",
        "                return_dict=False,\n",
        "            )\n",
        "\n",
        "            # Simple loss example (regularize outputs)\n",
        "            loss = 0\n",
        "            for res_sample in down_block_res_samples:\n",
        "                loss += res_sample.pow(2).mean()\n",
        "            loss += mid_block_res_sample.pow(2).mean()\n",
        "\n",
        "            # Backward pass\n",
        "            loss.backward()\n",
        "            optimizer.step()\n",
        "\n",
        "            epoch_loss += loss.item()\n",
        "\n",
        "        except Exception as e:\n",
        "            print(f\"Error in batch: {e}\")\n",
        "            print(f\"Text embeddings shape: {text_embeddings.shape}\")\n",
        "            print(f\"Control images shape: {control_images.shape}\")\n",
        "            print(f\"Noise shape: {noise.shape}\")\n",
        "            # Skip problematic batch\n",
        "            continue\n",
        "\n",
        "    avg_epoch_loss = epoch_loss / len(dataloader)\n",
        "    print(f\"Epoch {epoch + 1} Loss: {avg_epoch_loss}\")\n",
        "\n",
        "# Save the fine-tuned model\n",
        "controlnet.save_pretrained(\"/content/drive/MyDrive/fine_tuned_controlnet\")"
      ]
    },
    {
      "cell_type": "code",
      "source": [
        "# Install FastAPI, Uvicorn, and ngrok\n",
        "!pip install fastapi uvicorn pyngrok"
      ],
      "metadata": {
        "colab": {
          "base_uri": "https://localhost:8080/"
        },
        "id": "nSzbzcffjf_1",
        "outputId": "59bc927c-1e68-4cd2-ef5f-dd029ec4ecd2"
      },
      "execution_count": 16,
      "outputs": [
        {
          "output_type": "stream",
          "name": "stdout",
          "text": [
            "Collecting fastapi\n",
            "  Downloading fastapi-0.115.11-py3-none-any.whl.metadata (27 kB)\n",
            "Collecting uvicorn\n",
            "  Downloading uvicorn-0.34.0-py3-none-any.whl.metadata (6.5 kB)\n",
            "Collecting pyngrok\n",
            "  Downloading pyngrok-7.2.3-py3-none-any.whl.metadata (8.7 kB)\n",
            "Collecting starlette<0.47.0,>=0.40.0 (from fastapi)\n",
            "  Downloading starlette-0.46.1-py3-none-any.whl.metadata (6.2 kB)\n",
            "Requirement already satisfied: pydantic!=1.8,!=1.8.1,!=2.0.0,!=2.0.1,!=2.1.0,<3.0.0,>=1.7.4 in /usr/local/lib/python3.11/dist-packages (from fastapi) (2.10.6)\n",
            "Requirement already satisfied: typing-extensions>=4.8.0 in /usr/local/lib/python3.11/dist-packages (from fastapi) (4.12.2)\n",
            "Requirement already satisfied: click>=7.0 in /usr/local/lib/python3.11/dist-packages (from uvicorn) (8.1.8)\n",
            "Requirement already satisfied: h11>=0.8 in /usr/local/lib/python3.11/dist-packages (from uvicorn) (0.14.0)\n",
            "Requirement already satisfied: PyYAML>=5.1 in /usr/local/lib/python3.11/dist-packages (from pyngrok) (6.0.2)\n",
            "Requirement already satisfied: annotated-types>=0.6.0 in /usr/local/lib/python3.11/dist-packages (from pydantic!=1.8,!=1.8.1,!=2.0.0,!=2.0.1,!=2.1.0,<3.0.0,>=1.7.4->fastapi) (0.7.0)\n",
            "Requirement already satisfied: pydantic-core==2.27.2 in /usr/local/lib/python3.11/dist-packages (from pydantic!=1.8,!=1.8.1,!=2.0.0,!=2.0.1,!=2.1.0,<3.0.0,>=1.7.4->fastapi) (2.27.2)\n",
            "Requirement already satisfied: anyio<5,>=3.6.2 in /usr/local/lib/python3.11/dist-packages (from starlette<0.47.0,>=0.40.0->fastapi) (4.9.0)\n",
            "Requirement already satisfied: idna>=2.8 in /usr/local/lib/python3.11/dist-packages (from anyio<5,>=3.6.2->starlette<0.47.0,>=0.40.0->fastapi) (3.10)\n",
            "Requirement already satisfied: sniffio>=1.1 in /usr/local/lib/python3.11/dist-packages (from anyio<5,>=3.6.2->starlette<0.47.0,>=0.40.0->fastapi) (1.3.1)\n",
            "Downloading fastapi-0.115.11-py3-none-any.whl (94 kB)\n",
            "\u001b[2K   \u001b[90m━━━━━━━━━━━━━━━━━━━━━━━━━━━━━━━━━━━━━━━━\u001b[0m \u001b[32m94.9/94.9 kB\u001b[0m \u001b[31m7.9 MB/s\u001b[0m eta \u001b[36m0:00:00\u001b[0m\n",
            "\u001b[?25hDownloading uvicorn-0.34.0-py3-none-any.whl (62 kB)\n",
            "\u001b[2K   \u001b[90m━━━━━━━━━━━━━━━━━━━━━━━━━━━━━━━━━━━━━━━━\u001b[0m \u001b[32m62.3/62.3 kB\u001b[0m \u001b[31m6.2 MB/s\u001b[0m eta \u001b[36m0:00:00\u001b[0m\n",
            "\u001b[?25hDownloading pyngrok-7.2.3-py3-none-any.whl (23 kB)\n",
            "Downloading starlette-0.46.1-py3-none-any.whl (71 kB)\n",
            "\u001b[2K   \u001b[90m━━━━━━━━━━━━━━━━━━━━━━━━━━━━━━━━━━━━━━━━\u001b[0m \u001b[32m72.0/72.0 kB\u001b[0m \u001b[31m5.7 MB/s\u001b[0m eta \u001b[36m0:00:00\u001b[0m\n",
            "\u001b[?25hInstalling collected packages: uvicorn, pyngrok, starlette, fastapi\n",
            "Successfully installed fastapi-0.115.11 pyngrok-7.2.3 starlette-0.46.1 uvicorn-0.34.0\n"
          ]
        }
      ]
    },
    {
      "cell_type": "code",
      "source": [
        "!pip install python-multipart"
      ],
      "metadata": {
        "colab": {
          "base_uri": "https://localhost:8080/"
        },
        "id": "ig2kUSdlqSNG",
        "outputId": "fd592898-4dd9-4100-abdd-858ecb954fff"
      },
      "execution_count": 17,
      "outputs": [
        {
          "output_type": "stream",
          "name": "stdout",
          "text": [
            "Collecting python-multipart\n",
            "  Downloading python_multipart-0.0.20-py3-none-any.whl.metadata (1.8 kB)\n",
            "Downloading python_multipart-0.0.20-py3-none-any.whl (24 kB)\n",
            "Installing collected packages: python-multipart\n",
            "Successfully installed python-multipart-0.0.20\n"
          ]
        }
      ]
    },
    {
      "cell_type": "code",
      "source": [
        "from fastapi import FastAPI, File, UploadFile, HTTPException\n",
        "from fastapi.responses import JSONResponse, StreamingResponse\n",
        "from PIL import Image\n",
        "import io"
      ],
      "metadata": {
        "id": "1cDa0BLGqk4S"
      },
      "execution_count": 18,
      "outputs": []
    },
    {
      "cell_type": "code",
      "source": [
        "# Initialize FastAPI app\n",
        "app = FastAPI()\n",
        "\n",
        "# Load the fine-tuned ControlNet model (from Cell 12)\n",
        "fine_tuned_controlnet = ControlNetModel.from_pretrained(\n",
        "    \"/content/drive/MyDrive/fine_tuned_controlnet\"\n",
        ").to(\"cuda\")\n",
        "\n",
        "# Load Stable Diffusion with the fine-tuned ControlNet (from Cell 12)\n",
        "fine_tuned_pipe = StableDiffusionControlNetPipeline.from_pretrained(\n",
        "    \"runwayml/stable-diffusion-v1-5\",\n",
        "    controlnet=fine_tuned_controlnet,\n",
        ").to(\"cuda\")"
      ],
      "metadata": {
        "colab": {
          "base_uri": "https://localhost:8080/",
          "height": 49,
          "referenced_widgets": [
            "75a7fd9aaedc43e9a3c51ff661274e9d",
            "20fbebb7e7774aa28097a6d0bbdb9f23",
            "879730729f154e32af10acfc2406ea40",
            "1d60cb63deab4d48acd76d1eb1f9451b",
            "fa7068e5e76541fbbc258b5300354a7d",
            "5a5bf92e84d1419a8d943ccfa035d2c5",
            "eaa5ba5a42724ca28019f48a43803b06",
            "633cd22c7b024ea381b3d4f26dd0ed56",
            "e4d8484cdc6d4baaa39afe432cee1089",
            "51504608a236474d9cfe386446ddcf7e",
            "67b1b9683f934a8581df986401ea647b"
          ]
        },
        "id": "KymTJ4JtqoOg",
        "outputId": "32a9c999-8b2c-4421-d2c9-2085379356b6"
      },
      "execution_count": 19,
      "outputs": [
        {
          "output_type": "display_data",
          "data": {
            "text/plain": [
              "Loading pipeline components...:   0%|          | 0/7 [00:00<?, ?it/s]"
            ],
            "application/vnd.jupyter.widget-view+json": {
              "version_major": 2,
              "version_minor": 0,
              "model_id": "75a7fd9aaedc43e9a3c51ff661274e9d"
            }
          },
          "metadata": {}
        }
      ]
    },
    {
      "cell_type": "code",
      "source": [
        "!pip install fastapi uvicorn pyngrok nest_asyncio"
      ],
      "metadata": {
        "colab": {
          "base_uri": "https://localhost:8080/"
        },
        "id": "poxcY16cu5WY",
        "outputId": "89d80206-c0f2-4296-909a-13c76e59304d"
      },
      "execution_count": 20,
      "outputs": [
        {
          "output_type": "stream",
          "name": "stdout",
          "text": [
            "Requirement already satisfied: fastapi in /usr/local/lib/python3.11/dist-packages (0.115.11)\n",
            "Requirement already satisfied: uvicorn in /usr/local/lib/python3.11/dist-packages (0.34.0)\n",
            "Requirement already satisfied: pyngrok in /usr/local/lib/python3.11/dist-packages (7.2.3)\n",
            "Requirement already satisfied: nest_asyncio in /usr/local/lib/python3.11/dist-packages (1.6.0)\n",
            "Requirement already satisfied: starlette<0.47.0,>=0.40.0 in /usr/local/lib/python3.11/dist-packages (from fastapi) (0.46.1)\n",
            "Requirement already satisfied: pydantic!=1.8,!=1.8.1,!=2.0.0,!=2.0.1,!=2.1.0,<3.0.0,>=1.7.4 in /usr/local/lib/python3.11/dist-packages (from fastapi) (2.10.6)\n",
            "Requirement already satisfied: typing-extensions>=4.8.0 in /usr/local/lib/python3.11/dist-packages (from fastapi) (4.12.2)\n",
            "Requirement already satisfied: click>=7.0 in /usr/local/lib/python3.11/dist-packages (from uvicorn) (8.1.8)\n",
            "Requirement already satisfied: h11>=0.8 in /usr/local/lib/python3.11/dist-packages (from uvicorn) (0.14.0)\n",
            "Requirement already satisfied: PyYAML>=5.1 in /usr/local/lib/python3.11/dist-packages (from pyngrok) (6.0.2)\n",
            "Requirement already satisfied: annotated-types>=0.6.0 in /usr/local/lib/python3.11/dist-packages (from pydantic!=1.8,!=1.8.1,!=2.0.0,!=2.0.1,!=2.1.0,<3.0.0,>=1.7.4->fastapi) (0.7.0)\n",
            "Requirement already satisfied: pydantic-core==2.27.2 in /usr/local/lib/python3.11/dist-packages (from pydantic!=1.8,!=1.8.1,!=2.0.0,!=2.0.1,!=2.1.0,<3.0.0,>=1.7.4->fastapi) (2.27.2)\n",
            "Requirement already satisfied: anyio<5,>=3.6.2 in /usr/local/lib/python3.11/dist-packages (from starlette<0.47.0,>=0.40.0->fastapi) (4.9.0)\n",
            "Requirement already satisfied: idna>=2.8 in /usr/local/lib/python3.11/dist-packages (from anyio<5,>=3.6.2->starlette<0.47.0,>=0.40.0->fastapi) (3.10)\n",
            "Requirement already satisfied: sniffio>=1.1 in /usr/local/lib/python3.11/dist-packages (from anyio<5,>=3.6.2->starlette<0.47.0,>=0.40.0->fastapi) (1.3.1)\n"
          ]
        }
      ]
    },
    {
      "cell_type": "code",
      "source": [
        "import matplotlib.pyplot as plt\n",
        "import numpy as np\n",
        "\n",
        "# Open the image\n",
        "control_image = Image.open(control_image_path).convert(\"RGB\")\n",
        "\n",
        "# Convert to NumPy array and check shape\n",
        "image_array = np.array(control_image)\n",
        "print(\"Image shape:\", image_array.shape)  # Should be (height, width, 3) for RGB\n",
        "\n",
        "# Show image\n",
        "plt.imshow(control_image)\n",
        "plt.axis(\"off\")\n",
        "plt.show()\n"
      ],
      "metadata": {
        "colab": {
          "base_uri": "https://localhost:8080/",
          "height": 354
        },
        "id": "e_7Q7goLFa5x",
        "outputId": "14b6ec8d-dbbd-4c05-d806-9cfcbf03f96e"
      },
      "execution_count": 21,
      "outputs": [
        {
          "output_type": "stream",
          "name": "stdout",
          "text": [
            "Image shape: (839, 1386, 3)\n"
          ]
        },
        {
          "output_type": "display_data",
          "data": {
            "text/plain": [
              "<Figure size 640x480 with 1 Axes>"
            ],
            "image/png": "[encoded data removed]"
          },
          "metadata": {}
        }
      ]
    },
    {
      "cell_type": "code",
      "source": [
        "# Import necessary libraries\n",
        "from flask import Flask, request, render_template_string, send_file, jsonify\n",
        "from PIL import Image\n",
        "import io\n",
        "import threading\n",
        "from pyngrok import ngrok\n",
        "import nest_asyncio\n",
        "\n",
        "# Apply nest_asyncio to allow Flask to run in a notebook environment\n",
        "nest_asyncio.apply()\n",
        "\n",
        "# Kill any existing tunnels to avoid the 3-tunnel limit error\n",
        "ngrok.kill()\n",
        "\n",
        "# Initialize Flask app\n",
        "app = Flask(__name__)\n",
        "\n",
        "# Load the fixed control image (Replace with actual path)\n",
        "control_image_path = \"/content/drive/MyDrive/processed_dataset/3 rooms/Cat10_1.jpg\"\n",
        "control_image = Image.open(control_image_path).convert(\"RGB\")\n",
        "print(\"image mode:\", control_image.mode)\n",
        "\n",
        "control_image = control_image.resize((512, 512))  # Resize to match model input\n",
        "\n",
        "# Dummy model function (Replace this with your actual AI model call)\n",
        "def pipe(prompt, image, num_inference_steps):\n",
        "    class DummyResult:\n",
        "        def __init__(self, img):\n",
        "            self.images = [img.convert(\"RGB\")]\n",
        "    return DummyResult(image)\n",
        "\n",
        "# Debugging route to confirm the server is running\n",
        "@app.route(\"/\", methods=[\"GET\"])\n",
        "def home():\n",
        "    return render_template_string('''\n",
        "    <html>\n",
        "    <head>\n",
        "        <title>Image Generator</title>\n",
        "        <style>\n",
        "            body { font-family: Arial, sans-serif; text-align: center; margin: 20px; }\n",
        "            input, button { padding: 10px; font-size: 16px; }\n",
        "            img { margin-top: 20px; max-width: 500px; border: 2px solid black; }\n",
        "        </style>\n",
        "        <script>\n",
        "            function generateImage() {\n",
        "                var prompt = document.getElementById(\"prompt\").value;\n",
        "                fetch(\"/generate\", {\n",
        "                    method: \"POST\",\n",
        "                    headers: { \"Content-Type\": \"application/json\" },\n",
        "                    body: JSON.stringify({ prompt: prompt })\n",
        "                })\n",
        "                .then(response => response.blob())\n",
        "                .then(blob => {\n",
        "                    var imgUrl = URL.createObjectURL(blob);\n",
        "                    document.getElementById(\"outputImage\").src = imgUrl;\n",
        "                })\n",
        "                .catch(error => console.error(\"Error:\", error));\n",
        "            }\n",
        "        </script>\n",
        "    </head>\n",
        "    <body>\n",
        "        <h2>Enter Prompt to Generate Image</h2>\n",
        "        <input type=\"text\" id=\"prompt\" placeholder=\"Enter your prompt here\" required>\n",
        "        <button onclick=\"generateImage()\">Generate</button>\n",
        "        <br>\n",
        "        <img id=\"outputImage\" src=\"\" alt=\"Generated Image\">\n",
        "    </body>\n",
        "    </html>\n",
        "    ''')\n",
        "\n",
        "# API Endpoint to generate image\n",
        "@app.route(\"/generate\", methods=[\"POST\"])\n",
        "def generate_image():\n",
        "    try:\n",
        "        data = request.get_json()\n",
        "        if not data or 'prompt' not in data:\n",
        "            return jsonify({\"error\": \"Missing 'prompt' in request body\"}), 400\n",
        "        print(\"Control image mode before pipe:\", control_image.mode)\n",
        "        prompt = data['prompt']\n",
        "        result = pipe(prompt=prompt, image=control_image, num_inference_steps=50)\n",
        "\n",
        "        image = result.images[0]\n",
        "\n",
        "        image = image.convert(\"RGB\")\n",
        "\n",
        "        # Convert image to bytes\n",
        "        img_io = io.BytesIO()\n",
        "        image.save(img_io, format=\"PNG\")\n",
        "        img_io.seek(0)\n",
        "\n",
        "        return send_file(img_io, mimetype=\"image/png\")\n",
        "    except Exception as e:\n",
        "        return jsonify({\"error\": str(e)}), 500\n",
        "\n",
        "# Set your ngrok authtoken (replace with your actual token)\n",
        "ngrok.set_auth_token(\"2uhK4PabDbTf26OquWy3xbvDHUK_maFmJc7y52fBYWZszd2T\")\n",
        "\n",
        "# Open an ngrok tunnel on port 5000 where your Flask app is running\n",
        "public_url = ngrok.connect(5000).public_url\n",
        "print(\"🚀 Public URL:\", public_url)\n",
        "\n",
        "# Function to run the Flask server\n",
        "def run_flask():\n",
        "    app.run(host=\"0.0.0.0\", port=5000)\n",
        "\n",
        "# Start the Flask server in a background thread\n",
        "server_thread = threading.Thread(target=run_flask, daemon=True)\n",
        "server_thread.start()\n"
      ],
      "metadata": {
        "colab": {
          "base_uri": "https://localhost:8080/"
        },
        "id": "Zl-APneTvWCL",
        "outputId": "12060573-b514-4ed1-b6e2-66011401a6b3"
      },
      "execution_count": 22,
      "outputs": [
        {
          "output_type": "stream",
          "name": "stdout",
          "text": [
            "image mode: RGB\n",
            "🚀 Public URL: https://254c-34-87-186-235.ngrok-free.app\n",
            " * Serving Flask app '__main__'\n",
            " * Debug mode: off\n"
          ]
        }
      ]
    },
    {
      "cell_type": "code",
      "source": [
        "!fuser -k 5000/tcp\n",
        "!pkill -f ngrok\n"
      ],
      "metadata": {
        "id": "UNNlxIiyDWVY"
      },
      "execution_count": 5,
      "outputs": []
    },
    {
      "cell_type": "code",
      "source": [
        "print(\"Original dataset image mode:\", control_image.mode)\n"
      ],
      "metadata": {
        "colab": {
          "base_uri": "https://localhost:8080/"
        },
        "id": "V5JzKBw3HQS0",
        "outputId": "06a13d59-7d89-4752-dcb7-15ec2990e082"
      },
      "execution_count": 13,
      "outputs": [
        {
          "output_type": "stream",
          "name": "stdout",
          "text": [
            "Original dataset image mode: RGB\n"
          ]
        }
      ]
    },
    {
      "cell_type": "code",
      "source": [
        "!ngrok config add-authtoken 2uhK4PabDbTf26OquWy3xbvDHUK_maFmJc7y52fBYWZszd2T"
      ],
      "metadata": {
        "colab": {
          "base_uri": "https://localhost:8080/"
        },
        "id": "ptDnrO8fxAcX",
        "outputId": "85133b7b-6f90-4476-af07-976a879d0d06"
      },
      "execution_count": 22,
      "outputs": [
        {
          "output_type": "stream",
          "name": "stdout",
          "text": [
            "Authtoken saved to configuration file: /root/.config/ngrok/ngrok.yml\n"
          ]
        }
      ]
    },
    {
      "cell_type": "code",
      "source": [
        "from pyngrok import ngrok\n",
        "\n",
        "# Kill all existing tunnels\n",
        "ngrok.kill()\n"
      ],
      "metadata": {
        "id": "ZiIvMVFpAk4K"
      },
      "execution_count": 27,
      "outputs": []
    },
    {
      "cell_type": "code",
      "source": [
        "from pyngrok import ngrok\n",
        "\n",
        "# Start ngrok tunnel\n",
        "ngrok_tunnel = ngrok.connect(8001)\n",
        "print(\"Public URL:\", ngrok_tunnel.public_url)"
      ],
      "metadata": {
        "colab": {
          "base_uri": "https://localhost:8080/"
        },
        "id": "bKzN1AtcxIMT",
        "outputId": "cecc3daf-2800-498d-b465-baa14230c5a0"
      },
      "execution_count": 23,
      "outputs": [
        {
          "output_type": "stream",
          "name": "stdout",
          "text": [
            "Public URL: https://2f81-34-87-186-235.ngrok-free.app\n"
          ]
        }
      ]
    },
    {
      "cell_type": "code",
      "source": [
        "# Generate a floor plan (for testing purposes)\n",
        "prompt = \"Generate a 3 bedroom floor plan\"\n",
        "control_image = Image.open(\"/content/drive/MyDrive/processed_dataset/3 rooms/Cat10_1.jpg\")\n",
        "control_image = control_image.resize((512, 512))\n",
        "output_image = fine_tuned_pipe(prompt, control_image, num_inference_steps=50).images[0]\n",
        "\n",
        "# Save the generated image (optional)\n",
        "output_image.save(\"/content/drive/MyDrive/generated_floor_plan.png\")\n",
        "print(\"Generated image saved!\")"
      ],
      "metadata": {
        "colab": {
          "base_uri": "https://localhost:8080/",
          "height": 211
        },
        "id": "5co6IFKZoibK",
        "outputId": "2c5510a2-bfb2-42c8-98c1-9b5592196214"
      },
      "execution_count": 9,
      "outputs": [
        {
          "output_type": "error",
          "ename": "NameError",
          "evalue": "name 'fine_tuned_pipe' is not defined",
          "traceback": [
            "\u001b[0;31m---------------------------------------------------------------------------\u001b[0m",
            "\u001b[0;31mNameError\u001b[0m                                 Traceback (most recent call last)",
            "\u001b[0;32m<ipython-input-9-c7e31de162f7>\u001b[0m in \u001b[0;36m<cell line: 0>\u001b[0;34m()\u001b[0m\n\u001b[1;32m      3\u001b[0m \u001b[0mcontrol_image\u001b[0m \u001b[0;34m=\u001b[0m \u001b[0mImage\u001b[0m\u001b[0;34m.\u001b[0m\u001b[0mopen\u001b[0m\u001b[0;34m(\u001b[0m\u001b[0;34m\"/content/drive/MyDrive/processed_dataset/3 rooms/Cat10_1.jpg\"\u001b[0m\u001b[0;34m)\u001b[0m\u001b[0;34m\u001b[0m\u001b[0;34m\u001b[0m\u001b[0m\n\u001b[1;32m      4\u001b[0m \u001b[0mcontrol_image\u001b[0m \u001b[0;34m=\u001b[0m \u001b[0mcontrol_image\u001b[0m\u001b[0;34m.\u001b[0m\u001b[0mresize\u001b[0m\u001b[0;34m(\u001b[0m\u001b[0;34m(\u001b[0m\u001b[0;36m512\u001b[0m\u001b[0;34m,\u001b[0m \u001b[0;36m512\u001b[0m\u001b[0;34m)\u001b[0m\u001b[0;34m)\u001b[0m\u001b[0;34m\u001b[0m\u001b[0;34m\u001b[0m\u001b[0m\n\u001b[0;32m----> 5\u001b[0;31m \u001b[0moutput_image\u001b[0m \u001b[0;34m=\u001b[0m \u001b[0mfine_tuned_pipe\u001b[0m\u001b[0;34m(\u001b[0m\u001b[0mprompt\u001b[0m\u001b[0;34m,\u001b[0m \u001b[0mcontrol_image\u001b[0m\u001b[0;34m,\u001b[0m \u001b[0mnum_inference_steps\u001b[0m\u001b[0;34m=\u001b[0m\u001b[0;36m50\u001b[0m\u001b[0;34m)\u001b[0m\u001b[0;34m.\u001b[0m\u001b[0mimages\u001b[0m\u001b[0;34m[\u001b[0m\u001b[0;36m0\u001b[0m\u001b[0;34m]\u001b[0m\u001b[0;34m\u001b[0m\u001b[0;34m\u001b[0m\u001b[0m\n\u001b[0m\u001b[1;32m      6\u001b[0m \u001b[0;34m\u001b[0m\u001b[0m\n\u001b[1;32m      7\u001b[0m \u001b[0;31m# Save the generated image (optional)\u001b[0m\u001b[0;34m\u001b[0m\u001b[0;34m\u001b[0m\u001b[0m\n",
            "\u001b[0;31mNameError\u001b[0m: name 'fine_tuned_pipe' is not defined"
          ]
        }
      ]
    },
    {
      "cell_type": "code",
      "source": [
        "# Save and display the generated image (optional)\n",
        "output_image.save(\"/content/drive/MyDrive/generated_floor_plan.png\")\n",
        "print(\"Generated image saved!\")"
      ],
      "metadata": {
        "colab": {
          "base_uri": "https://localhost:8080/"
        },
        "id": "ENcPEoXspCGh",
        "outputId": "9ca2e334-2e3b-4ce2-f388-09d42b1935bf"
      },
      "execution_count": null,
      "outputs": [
        {
          "output_type": "stream",
          "name": "stdout",
          "text": [
            "Generated image saved!\n"
          ]
        }
      ]
    }
  ],
  "metadata": {
    "accelerator": "GPU",
    "colab": {
      "gpuType": "T4",
      "provenance": []
    },
    "kernelspec": {
      "display_name": "Python 3",
      "name": "python3"
    },
    "language_info": {
      "name": "python"
    },
    "widgets": {
      "application/vnd.jupyter.widget-state+json": {
        "4a3ff828f4044682802d0e07f0320cfe": {
          "model_module": "@jupyter-widgets/controls",
          "model_name": "HBoxModel",
          "model_module_version": "1.5.0",
          "state": {
            "_dom_classes": [],
            "_model_module": "@jupyter-widgets/controls",
            "_model_module_version": "1.5.0",
            "_model_name": "HBoxModel",
            "_view_count": null,
            "_view_module": "@jupyter-widgets/controls",
            "_view_module_version": "1.5.0",
            "_view_name": "HBoxView",
            "box_style": "",
            "children": [
              "IPY_MODEL_8ce4b7f8c4a24c1e9ba6fa097203eea0",
              "IPY_MODEL_f5d56d972f674a4bb1c2406256d6e6e9",
              "IPY_MODEL_9d77ef340ef14639bf4e6a22792de67d"
            ],
            "layout": "IPY_MODEL_e49324ecc2604478b8347d553ba7fe99"
          }
        },
        "8ce4b7f8c4a24c1e9ba6fa097203eea0": {
          "model_module": "@jupyter-widgets/controls",
          "model_name": "HTMLModel",
          "model_module_version": "1.5.0",
          "state": {
            "_dom_classes": [],
            "_model_module": "@jupyter-widgets/controls",
            "_model_module_version": "1.5.0",
            "_model_name": "HTMLModel",
            "_view_count": null,
            "_view_module": "@jupyter-widgets/controls",
            "_view_module_version": "1.5.0",
            "_view_name": "HTMLView",
            "description": "",
            "description_tooltip": null,
            "layout": "IPY_MODEL_ce113966a0214e2e9c55caae8582def5",
            "placeholder": "​",
            "style": "IPY_MODEL_95763f0fdc774003b93eeb1563cc85a7",
            "value": "config.json: 100%"
          }
        },
        "f5d56d972f674a4bb1c2406256d6e6e9": {
          "model_module": "@jupyter-widgets/controls",
          "model_name": "FloatProgressModel",
          "model_module_version": "1.5.0",
          "state": {
            "_dom_classes": [],
            "_model_module": "@jupyter-widgets/controls",
            "_model_module_version": "1.5.0",
            "_model_name": "FloatProgressModel",
            "_view_count": null,
            "_view_module": "@jupyter-widgets/controls",
            "_view_module_version": "1.5.0",
            "_view_name": "ProgressView",
            "bar_style": "success",
            "description": "",
            "description_tooltip": null,
            "layout": "IPY_MODEL_9600198726694f858feacf9aa23e5327",
            "max": 920,
            "min": 0,
            "orientation": "horizontal",
            "style": "IPY_MODEL_243bcb7e8e7d44638685fdd3452bd341",
            "value": 920
          }
        },
        "9d77ef340ef14639bf4e6a22792de67d": {
          "model_module": "@jupyter-widgets/controls",
          "model_name": "HTMLModel",
          "model_module_version": "1.5.0",
          "state": {
            "_dom_classes": [],
            "_model_module": "@jupyter-widgets/controls",
            "_model_module_version": "1.5.0",
            "_model_name": "HTMLModel",
            "_view_count": null,
            "_view_module": "@jupyter-widgets/controls",
            "_view_module_version": "1.5.0",
            "_view_name": "HTMLView",
            "description": "",
            "description_tooltip": null,
            "layout": "IPY_MODEL_ee6bb3d9434a4d4b81cd342030226e7a",
            "placeholder": "​",
            "style": "IPY_MODEL_a0aedbee60b941aabc92b4c6cf6e7b76",
            "value": " 920/920 [00:00&lt;00:00, 57.3kB/s]"
          }
        },
        "e49324ecc2604478b8347d553ba7fe99": {
          "model_module": "@jupyter-widgets/base",
          "model_name": "LayoutModel",
          "model_module_version": "1.2.0",
          "state": {
            "_model_module": "@jupyter-widgets/base",
            "_model_module_version": "1.2.0",
            "_model_name": "LayoutModel",
            "_view_count": null,
            "_view_module": "@jupyter-widgets/base",
            "_view_module_version": "1.2.0",
            "_view_name": "LayoutView",
            "align_content": null,
            "align_items": null,
            "align_self": null,
            "border": null,
            "bottom": null,
            "display": null,
            "flex": null,
            "flex_flow": null,
            "grid_area": null,
            "grid_auto_columns": null,
            "grid_auto_flow": null,
            "grid_auto_rows": null,
            "grid_column": null,
            "grid_gap": null,
            "grid_row": null,
            "grid_template_areas": null,
            "grid_template_columns": null,
            "grid_template_rows": null,
            "height": null,
            "justify_content": null,
            "justify_items": null,
            "left": null,
            "margin": null,
            "max_height": null,
            "max_width": null,
            "min_height": null,
            "min_width": null,
            "object_fit": null,
            "object_position": null,
            "order": null,
            "overflow": null,
            "overflow_x": null,
            "overflow_y": null,
            "padding": null,
            "right": null,
            "top": null,
            "visibility": null,
            "width": null
          }
        },
        "ce113966a0214e2e9c55caae8582def5": {
          "model_module": "@jupyter-widgets/base",
          "model_name": "LayoutModel",
          "model_module_version": "1.2.0",
          "state": {
            "_model_module": "@jupyter-widgets/base",
            "_model_module_version": "1.2.0",
            "_model_name": "LayoutModel",
            "_view_count": null,
            "_view_module": "@jupyter-widgets/base",
            "_view_module_version": "1.2.0",
            "_view_name": "LayoutView",
            "align_content": null,
            "align_items": null,
            "align_self": null,
            "border": null,
            "bottom": null,
            "display": null,
            "flex": null,
            "flex_flow": null,
            "grid_area": null,
            "grid_auto_columns": null,
            "grid_auto_flow": null,
            "grid_auto_rows": null,
            "grid_column": null,
            "grid_gap": null,
            "grid_row": null,
            "grid_template_areas": null,
            "grid_template_columns": null,
            "grid_template_rows": null,
            "height": null,
            "justify_content": null,
            "justify_items": null,
            "left": null,
            "margin": null,
            "max_height": null,
            "max_width": null,
            "min_height": null,
            "min_width": null,
            "object_fit": null,
            "object_position": null,
            "order": null,
            "overflow": null,
            "overflow_x": null,
            "overflow_y": null,
            "padding": null,
            "right": null,
            "top": null,
            "visibility": null,
            "width": null
          }
        },
        "95763f0fdc774003b93eeb1563cc85a7": {
          "model_module": "@jupyter-widgets/controls",
          "model_name": "DescriptionStyleModel",
          "model_module_version": "1.5.0",
          "state": {
            "_model_module": "@jupyter-widgets/controls",
            "_model_module_version": "1.5.0",
            "_model_name": "DescriptionStyleModel",
            "_view_count": null,
            "_view_module": "@jupyter-widgets/base",
            "_view_module_version": "1.2.0",
            "_view_name": "StyleView",
            "description_width": ""
          }
        },
        "9600198726694f858feacf9aa23e5327": {
          "model_module": "@jupyter-widgets/base",
          "model_name": "LayoutModel",
          "model_module_version": "1.2.0",
          "state": {
            "_model_module": "@jupyter-widgets/base",
            "_model_module_version": "1.2.0",
            "_model_name": "LayoutModel",
            "_view_count": null,
            "_view_module": "@jupyter-widgets/base",
            "_view_module_version": "1.2.0",
            "_view_name": "LayoutView",
            "align_content": null,
            "align_items": null,
            "align_self": null,
            "border": null,
            "bottom": null,
            "display": null,
            "flex": null,
            "flex_flow": null,
            "grid_area": null,
            "grid_auto_columns": null,
            "grid_auto_flow": null,
            "grid_auto_rows": null,
            "grid_column": null,
            "grid_gap": null,
            "grid_row": null,
            "grid_template_areas": null,
            "grid_template_columns": null,
            "grid_template_rows": null,
            "height": null,
            "justify_content": null,
            "justify_items": null,
            "left": null,
            "margin": null,
            "max_height": null,
            "max_width": null,
            "min_height": null,
            "min_width": null,
            "object_fit": null,
            "object_position": null,
            "order": null,
            "overflow": null,
            "overflow_x": null,
            "overflow_y": null,
            "padding": null,
            "right": null,
            "top": null,
            "visibility": null,
            "width": null
          }
        },
        "243bcb7e8e7d44638685fdd3452bd341": {
          "model_module": "@jupyter-widgets/controls",
          "model_name": "ProgressStyleModel",
          "model_module_version": "1.5.0",
          "state": {
            "_model_module": "@jupyter-widgets/controls",
            "_model_module_version": "1.5.0",
            "_model_name": "ProgressStyleModel",
            "_view_count": null,
            "_view_module": "@jupyter-widgets/base",
            "_view_module_version": "1.2.0",
            "_view_name": "StyleView",
            "bar_color": null,
            "description_width": ""
          }
        },
        "ee6bb3d9434a4d4b81cd342030226e7a": {
          "model_module": "@jupyter-widgets/base",
          "model_name": "LayoutModel",
          "model_module_version": "1.2.0",
          "state": {
            "_model_module": "@jupyter-widgets/base",
            "_model_module_version": "1.2.0",
            "_model_name": "LayoutModel",
            "_view_count": null,
            "_view_module": "@jupyter-widgets/base",
            "_view_module_version": "1.2.0",
            "_view_name": "LayoutView",
            "align_content": null,
            "align_items": null,
            "align_self": null,
            "border": null,
            "bottom": null,
            "display": null,
            "flex": null,
            "flex_flow": null,
            "grid_area": null,
            "grid_auto_columns": null,
            "grid_auto_flow": null,
            "grid_auto_rows": null,
            "grid_column": null,
            "grid_gap": null,
            "grid_row": null,
            "grid_template_areas": null,
            "grid_template_columns": null,
            "grid_template_rows": null,
            "height": null,
            "justify_content": null,
            "justify_items": null,
            "left": null,
            "margin": null,
            "max_height": null,
            "max_width": null,
            "min_height": null,
            "min_width": null,
            "object_fit": null,
            "object_position": null,
            "order": null,
            "overflow": null,
            "overflow_x": null,
            "overflow_y": null,
            "padding": null,
            "right": null,
            "top": null,
            "visibility": null,
            "width": null
          }
        },
        "a0aedbee60b941aabc92b4c6cf6e7b76": {
          "model_module": "@jupyter-widgets/controls",
          "model_name": "DescriptionStyleModel",
          "model_module_version": "1.5.0",
          "state": {
            "_model_module": "@jupyter-widgets/controls",
            "_model_module_version": "1.5.0",
            "_model_name": "DescriptionStyleModel",
            "_view_count": null,
            "_view_module": "@jupyter-widgets/base",
            "_view_module_version": "1.2.0",
            "_view_name": "StyleView",
            "description_width": ""
          }
        },
        "7a624817d7704a76a919b0a711c433b9": {
          "model_module": "@jupyter-widgets/controls",
          "model_name": "HBoxModel",
          "model_module_version": "1.5.0",
          "state": {
            "_dom_classes": [],
            "_model_module": "@jupyter-widgets/controls",
            "_model_module_version": "1.5.0",
            "_model_name": "HBoxModel",
            "_view_count": null,
            "_view_module": "@jupyter-widgets/controls",
            "_view_module_version": "1.5.0",
            "_view_name": "HBoxView",
            "box_style": "",
            "children": [
              "IPY_MODEL_5ff563b084cc4fd4a40f957f94d1eb5d",
              "IPY_MODEL_9de0599bf21143119bc452b323e149a9",
              "IPY_MODEL_b7e8e82ef4d8463eb163e8fbb84f197e"
            ],
            "layout": "IPY_MODEL_2c3386e438a04ec681b8e149c7aa9d91"
          }
        },
        "5ff563b084cc4fd4a40f957f94d1eb5d": {
          "model_module": "@jupyter-widgets/controls",
          "model_name": "HTMLModel",
          "model_module_version": "1.5.0",
          "state": {
            "_dom_classes": [],
            "_model_module": "@jupyter-widgets/controls",
            "_model_module_version": "1.5.0",
            "_model_name": "HTMLModel",
            "_view_count": null,
            "_view_module": "@jupyter-widgets/controls",
            "_view_module_version": "1.5.0",
            "_view_name": "HTMLView",
            "description": "",
            "description_tooltip": null,
            "layout": "IPY_MODEL_f72c290cb6fd412bb7e10a8554aee345",
            "placeholder": "​",
            "style": "IPY_MODEL_3d31d00724144d6a9ad393a96b642848",
            "value": "diffusion_pytorch_model.safetensors: 100%"
          }
        },
        "9de0599bf21143119bc452b323e149a9": {
          "model_module": "@jupyter-widgets/controls",
          "model_name": "FloatProgressModel",
          "model_module_version": "1.5.0",
          "state": {
            "_dom_classes": [],
            "_model_module": "@jupyter-widgets/controls",
            "_model_module_version": "1.5.0",
            "_model_name": "FloatProgressModel",
            "_view_count": null,
            "_view_module": "@jupyter-widgets/controls",
            "_view_module_version": "1.5.0",
            "_view_name": "ProgressView",
            "bar_style": "success",
            "description": "",
            "description_tooltip": null,
            "layout": "IPY_MODEL_c62bc819c79f462fa52caa389e528cc6",
            "max": 1445157124,
            "min": 0,
            "orientation": "horizontal",
            "style": "IPY_MODEL_72d471b9f7374ebfad11b68718a817d5",
            "value": 1445157124
          }
        },
        "b7e8e82ef4d8463eb163e8fbb84f197e": {
          "model_module": "@jupyter-widgets/controls",
          "model_name": "HTMLModel",
          "model_module_version": "1.5.0",
          "state": {
            "_dom_classes": [],
            "_model_module": "@jupyter-widgets/controls",
            "_model_module_version": "1.5.0",
            "_model_name": "HTMLModel",
            "_view_count": null,
            "_view_module": "@jupyter-widgets/controls",
            "_view_module_version": "1.5.0",
            "_view_name": "HTMLView",
            "description": "",
            "description_tooltip": null,
            "layout": "IPY_MODEL_8b72fcd485f04599a6c8ba67046588e0",
            "placeholder": "​",
            "style": "IPY_MODEL_9778a589f84c4aed88459c2d32da4bf5",
            "value": " 1.45G/1.45G [00:08&lt;00:00, 211MB/s]"
          }
        },
        "2c3386e438a04ec681b8e149c7aa9d91": {
          "model_module": "@jupyter-widgets/base",
          "model_name": "LayoutModel",
          "model_module_version": "1.2.0",
          "state": {
            "_model_module": "@jupyter-widgets/base",
            "_model_module_version": "1.2.0",
            "_model_name": "LayoutModel",
            "_view_count": null,
            "_view_module": "@jupyter-widgets/base",
            "_view_module_version": "1.2.0",
            "_view_name": "LayoutView",
            "align_content": null,
            "align_items": null,
            "align_self": null,
            "border": null,
            "bottom": null,
            "display": null,
            "flex": null,
            "flex_flow": null,
            "grid_area": null,
            "grid_auto_columns": null,
            "grid_auto_flow": null,
            "grid_auto_rows": null,
            "grid_column": null,
            "grid_gap": null,
            "grid_row": null,
            "grid_template_areas": null,
            "grid_template_columns": null,
            "grid_template_rows": null,
            "height": null,
            "justify_content": null,
            "justify_items": null,
            "left": null,
            "margin": null,
            "max_height": null,
            "max_width": null,
            "min_height": null,
            "min_width": null,
            "object_fit": null,
            "object_position": null,
            "order": null,
            "overflow": null,
            "overflow_x": null,
            "overflow_y": null,
            "padding": null,
            "right": null,
            "top": null,
            "visibility": null,
            "width": null
          }
        },
        "f72c290cb6fd412bb7e10a8554aee345": {
          "model_module": "@jupyter-widgets/base",
          "model_name": "LayoutModel",
          "model_module_version": "1.2.0",
          "state": {
            "_model_module": "@jupyter-widgets/base",
            "_model_module_version": "1.2.0",
            "_model_name": "LayoutModel",
            "_view_count": null,
            "_view_module": "@jupyter-widgets/base",
            "_view_module_version": "1.2.0",
            "_view_name": "LayoutView",
            "align_content": null,
            "align_items": null,
            "align_self": null,
            "border": null,
            "bottom": null,
            "display": null,
            "flex": null,
            "flex_flow": null,
            "grid_area": null,
            "grid_auto_columns": null,
            "grid_auto_flow": null,
            "grid_auto_rows": null,
            "grid_column": null,
            "grid_gap": null,
            "grid_row": null,
            "grid_template_areas": null,
            "grid_template_columns": null,
            "grid_template_rows": null,
            "height": null,
            "justify_content": null,
            "justify_items": null,
            "left": null,
            "margin": null,
            "max_height": null,
            "max_width": null,
            "min_height": null,
            "min_width": null,
            "object_fit": null,
            "object_position": null,
            "order": null,
            "overflow": null,
            "overflow_x": null,
            "overflow_y": null,
            "padding": null,
            "right": null,
            "top": null,
            "visibility": null,
            "width": null
          }
        },
        "3d31d00724144d6a9ad393a96b642848": {
          "model_module": "@jupyter-widgets/controls",
          "model_name": "DescriptionStyleModel",
          "model_module_version": "1.5.0",
          "state": {
            "_model_module": "@jupyter-widgets/controls",
            "_model_module_version": "1.5.0",
            "_model_name": "DescriptionStyleModel",
            "_view_count": null,
            "_view_module": "@jupyter-widgets/base",
            "_view_module_version": "1.2.0",
            "_view_name": "StyleView",
            "description_width": ""
          }
        },
        "c62bc819c79f462fa52caa389e528cc6": {
          "model_module": "@jupyter-widgets/base",
          "model_name": "LayoutModel",
          "model_module_version": "1.2.0",
          "state": {
            "_model_module": "@jupyter-widgets/base",
            "_model_module_version": "1.2.0",
            "_model_name": "LayoutModel",
            "_view_count": null,
            "_view_module": "@jupyter-widgets/base",
            "_view_module_version": "1.2.0",
            "_view_name": "LayoutView",
            "align_content": null,
            "align_items": null,
            "align_self": null,
            "border": null,
            "bottom": null,
            "display": null,
            "flex": null,
            "flex_flow": null,
            "grid_area": null,
            "grid_auto_columns": null,
            "grid_auto_flow": null,
            "grid_auto_rows": null,
            "grid_column": null,
            "grid_gap": null,
            "grid_row": null,
            "grid_template_areas": null,
            "grid_template_columns": null,
            "grid_template_rows": null,
            "height": null,
            "justify_content": null,
            "justify_items": null,
            "left": null,
            "margin": null,
            "max_height": null,
            "max_width": null,
            "min_height": null,
            "min_width": null,
            "object_fit": null,
            "object_position": null,
            "order": null,
            "overflow": null,
            "overflow_x": null,
            "overflow_y": null,
            "padding": null,
            "right": null,
            "top": null,
            "visibility": null,
            "width": null
          }
        },
        "72d471b9f7374ebfad11b68718a817d5": {
          "model_module": "@jupyter-widgets/controls",
          "model_name": "ProgressStyleModel",
          "model_module_version": "1.5.0",
          "state": {
            "_model_module": "@jupyter-widgets/controls",
            "_model_module_version": "1.5.0",
            "_model_name": "ProgressStyleModel",
            "_view_count": null,
            "_view_module": "@jupyter-widgets/base",
            "_view_module_version": "1.2.0",
            "_view_name": "StyleView",
            "bar_color": null,
            "description_width": ""
          }
        },
        "8b72fcd485f04599a6c8ba67046588e0": {
          "model_module": "@jupyter-widgets/base",
          "model_name": "LayoutModel",
          "model_module_version": "1.2.0",
          "state": {
            "_model_module": "@jupyter-widgets/base",
            "_model_module_version": "1.2.0",
            "_model_name": "LayoutModel",
            "_view_count": null,
            "_view_module": "@jupyter-widgets/base",
            "_view_module_version": "1.2.0",
            "_view_name": "LayoutView",
            "align_content": null,
            "align_items": null,
            "align_self": null,
            "border": null,
            "bottom": null,
            "display": null,
            "flex": null,
            "flex_flow": null,
            "grid_area": null,
            "grid_auto_columns": null,
            "grid_auto_flow": null,
            "grid_auto_rows": null,
            "grid_column": null,
            "grid_gap": null,
            "grid_row": null,
            "grid_template_areas": null,
            "grid_template_columns": null,
            "grid_template_rows": null,
            "height": null,
            "justify_content": null,
            "justify_items": null,
            "left": null,
            "margin": null,
            "max_height": null,
            "max_width": null,
            "min_height": null,
            "min_width": null,
            "object_fit": null,
            "object_position": null,
            "order": null,
            "overflow": null,
            "overflow_x": null,
            "overflow_y": null,
            "padding": null,
            "right": null,
            "top": null,
            "visibility": null,
            "width": null
          }
        },
        "9778a589f84c4aed88459c2d32da4bf5": {
          "model_module": "@jupyter-widgets/controls",
          "model_name": "DescriptionStyleModel",
          "model_module_version": "1.5.0",
          "state": {
            "_model_module": "@jupyter-widgets/controls",
            "_model_module_version": "1.5.0",
            "_model_name": "DescriptionStyleModel",
            "_view_count": null,
            "_view_module": "@jupyter-widgets/base",
            "_view_module_version": "1.2.0",
            "_view_name": "StyleView",
            "description_width": ""
          }
        },
        "892769d2217c4d1ea9497c8b35bb90a6": {
          "model_module": "@jupyter-widgets/controls",
          "model_name": "HBoxModel",
          "model_module_version": "1.5.0",
          "state": {
            "_dom_classes": [],
            "_model_module": "@jupyter-widgets/controls",
            "_model_module_version": "1.5.0",
            "_model_name": "HBoxModel",
            "_view_count": null,
            "_view_module": "@jupyter-widgets/controls",
            "_view_module_version": "1.5.0",
            "_view_name": "HBoxView",
            "box_style": "",
            "children": [
              "IPY_MODEL_134ab9a88ab443218e1a20ca67a3f11d",
              "IPY_MODEL_e098f7362070447885292dbf39b635ec",
              "IPY_MODEL_4677965f1a1b4b1d853a4eca8b411ba3"
            ],
            "layout": "IPY_MODEL_b927796a5da247b0bbba8200fbae6893"
          }
        },
        "134ab9a88ab443218e1a20ca67a3f11d": {
          "model_module": "@jupyter-widgets/controls",
          "model_name": "HTMLModel",
          "model_module_version": "1.5.0",
          "state": {
            "_dom_classes": [],
            "_model_module": "@jupyter-widgets/controls",
            "_model_module_version": "1.5.0",
            "_model_name": "HTMLModel",
            "_view_count": null,
            "_view_module": "@jupyter-widgets/controls",
            "_view_module_version": "1.5.0",
            "_view_name": "HTMLView",
            "description": "",
            "description_tooltip": null,
            "layout": "IPY_MODEL_9efb2c386b6e4db4bef552178fb2ede8",
            "placeholder": "​",
            "style": "IPY_MODEL_1418594aed1d4cf5968ecfa8abd851ad",
            "value": "model_index.json: 100%"
          }
        },
        "e098f7362070447885292dbf39b635ec": {
          "model_module": "@jupyter-widgets/controls",
          "model_name": "FloatProgressModel",
          "model_module_version": "1.5.0",
          "state": {
            "_dom_classes": [],
            "_model_module": "@jupyter-widgets/controls",
            "_model_module_version": "1.5.0",
            "_model_name": "FloatProgressModel",
            "_view_count": null,
            "_view_module": "@jupyter-widgets/controls",
            "_view_module_version": "1.5.0",
            "_view_name": "ProgressView",
            "bar_style": "success",
            "description": "",
            "description_tooltip": null,
            "layout": "IPY_MODEL_8612c81a0f9f4a709903bd78389170ca",
            "max": 541,
            "min": 0,
            "orientation": "horizontal",
            "style": "IPY_MODEL_8b74bfaf9aeb4466a2e9aa66954eb0a1",
            "value": 541
          }
        },
        "4677965f1a1b4b1d853a4eca8b411ba3": {
          "model_module": "@jupyter-widgets/controls",
          "model_name": "HTMLModel",
          "model_module_version": "1.5.0",
          "state": {
            "_dom_classes": [],
            "_model_module": "@jupyter-widgets/controls",
            "_model_module_version": "1.5.0",
            "_model_name": "HTMLModel",
            "_view_count": null,
            "_view_module": "@jupyter-widgets/controls",
            "_view_module_version": "1.5.0",
            "_view_name": "HTMLView",
            "description": "",
            "description_tooltip": null,
            "layout": "IPY_MODEL_6ede65d6f8bf4f488b08806d5a43ead5",
            "placeholder": "​",
            "style": "IPY_MODEL_731f7f075cc4450db8ae1cc25dad8740",
            "value": " 541/541 [00:00&lt;00:00, 49.1kB/s]"
          }
        },
        "b927796a5da247b0bbba8200fbae6893": {
          "model_module": "@jupyter-widgets/base",
          "model_name": "LayoutModel",
          "model_module_version": "1.2.0",
          "state": {
            "_model_module": "@jupyter-widgets/base",
            "_model_module_version": "1.2.0",
            "_model_name": "LayoutModel",
            "_view_count": null,
            "_view_module": "@jupyter-widgets/base",
            "_view_module_version": "1.2.0",
            "_view_name": "LayoutView",
            "align_content": null,
            "align_items": null,
            "align_self": null,
            "border": null,
            "bottom": null,
            "display": null,
            "flex": null,
            "flex_flow": null,
            "grid_area": null,
            "grid_auto_columns": null,
            "grid_auto_flow": null,
            "grid_auto_rows": null,
            "grid_column": null,
            "grid_gap": null,
            "grid_row": null,
            "grid_template_areas": null,
            "grid_template_columns": null,
            "grid_template_rows": null,
            "height": null,
            "justify_content": null,
            "justify_items": null,
            "left": null,
            "margin": null,
            "max_height": null,
            "max_width": null,
            "min_height": null,
            "min_width": null,
            "object_fit": null,
            "object_position": null,
            "order": null,
            "overflow": null,
            "overflow_x": null,
            "overflow_y": null,
            "padding": null,
            "right": null,
            "top": null,
            "visibility": null,
            "width": null
          }
        },
        "9efb2c386b6e4db4bef552178fb2ede8": {
          "model_module": "@jupyter-widgets/base",
          "model_name": "LayoutModel",
          "model_module_version": "1.2.0",
          "state": {
            "_model_module": "@jupyter-widgets/base",
            "_model_module_version": "1.2.0",
            "_model_name": "LayoutModel",
            "_view_count": null,
            "_view_module": "@jupyter-widgets/base",
            "_view_module_version": "1.2.0",
            "_view_name": "LayoutView",
            "align_content": null,
            "align_items": null,
            "align_self": null,
            "border": null,
            "bottom": null,
            "display": null,
            "flex": null,
            "flex_flow": null,
            "grid_area": null,
            "grid_auto_columns": null,
            "grid_auto_flow": null,
            "grid_auto_rows": null,
            "grid_column": null,
            "grid_gap": null,
            "grid_row": null,
            "grid_template_areas": null,
            "grid_template_columns": null,
            "grid_template_rows": null,
            "height": null,
            "justify_content": null,
            "justify_items": null,
            "left": null,
            "margin": null,
            "max_height": null,
            "max_width": null,
            "min_height": null,
            "min_width": null,
            "object_fit": null,
            "object_position": null,
            "order": null,
            "overflow": null,
            "overflow_x": null,
            "overflow_y": null,
            "padding": null,
            "right": null,
            "top": null,
            "visibility": null,
            "width": null
          }
        },
        "1418594aed1d4cf5968ecfa8abd851ad": {
          "model_module": "@jupyter-widgets/controls",
          "model_name": "DescriptionStyleModel",
          "model_module_version": "1.5.0",
          "state": {
            "_model_module": "@jupyter-widgets/controls",
            "_model_module_version": "1.5.0",
            "_model_name": "DescriptionStyleModel",
            "_view_count": null,
            "_view_module": "@jupyter-widgets/base",
            "_view_module_version": "1.2.0",
            "_view_name": "StyleView",
            "description_width": ""
          }
        },
        "8612c81a0f9f4a709903bd78389170ca": {
          "model_module": "@jupyter-widgets/base",
          "model_name": "LayoutModel",
          "model_module_version": "1.2.0",
          "state": {
            "_model_module": "@jupyter-widgets/base",
            "_model_module_version": "1.2.0",
            "_model_name": "LayoutModel",
            "_view_count": null,
            "_view_module": "@jupyter-widgets/base",
            "_view_module_version": "1.2.0",
            "_view_name": "LayoutView",
            "align_content": null,
            "align_items": null,
            "align_self": null,
            "border": null,
            "bottom": null,
            "display": null,
            "flex": null,
            "flex_flow": null,
            "grid_area": null,
            "grid_auto_columns": null,
            "grid_auto_flow": null,
            "grid_auto_rows": null,
            "grid_column": null,
            "grid_gap": null,
            "grid_row": null,
            "grid_template_areas": null,
            "grid_template_columns": null,
            "grid_template_rows": null,
            "height": null,
            "justify_content": null,
            "justify_items": null,
            "left": null,
            "margin": null,
            "max_height": null,
            "max_width": null,
            "min_height": null,
            "min_width": null,
            "object_fit": null,
            "object_position": null,
            "order": null,
            "overflow": null,
            "overflow_x": null,
            "overflow_y": null,
            "padding": null,
            "right": null,
            "top": null,
            "visibility": null,
            "width": null
          }
        },
        "8b74bfaf9aeb4466a2e9aa66954eb0a1": {
          "model_module": "@jupyter-widgets/controls",
          "model_name": "ProgressStyleModel",
          "model_module_version": "1.5.0",
          "state": {
            "_model_module": "@jupyter-widgets/controls",
            "_model_module_version": "1.5.0",
            "_model_name": "ProgressStyleModel",
            "_view_count": null,
            "_view_module": "@jupyter-widgets/base",
            "_view_module_version": "1.2.0",
            "_view_name": "StyleView",
            "bar_color": null,
            "description_width": ""
          }
        },
        "6ede65d6f8bf4f488b08806d5a43ead5": {
          "model_module": "@jupyter-widgets/base",
          "model_name": "LayoutModel",
          "model_module_version": "1.2.0",
          "state": {
            "_model_module": "@jupyter-widgets/base",
            "_model_module_version": "1.2.0",
            "_model_name": "LayoutModel",
            "_view_count": null,
            "_view_module": "@jupyter-widgets/base",
            "_view_module_version": "1.2.0",
            "_view_name": "LayoutView",
            "align_content": null,
            "align_items": null,
            "align_self": null,
            "border": null,
            "bottom": null,
            "display": null,
            "flex": null,
            "flex_flow": null,
            "grid_area": null,
            "grid_auto_columns": null,
            "grid_auto_flow": null,
            "grid_auto_rows": null,
            "grid_column": null,
            "grid_gap": null,
            "grid_row": null,
            "grid_template_areas": null,
            "grid_template_columns": null,
            "grid_template_rows": null,
            "height": null,
            "justify_content": null,
            "justify_items": null,
            "left": null,
            "margin": null,
            "max_height": null,
            "max_width": null,
            "min_height": null,
            "min_width": null,
            "object_fit": null,
            "object_position": null,
            "order": null,
            "overflow": null,
            "overflow_x": null,
            "overflow_y": null,
            "padding": null,
            "right": null,
            "top": null,
            "visibility": null,
            "width": null
          }
        },
        "731f7f075cc4450db8ae1cc25dad8740": {
          "model_module": "@jupyter-widgets/controls",
          "model_name": "DescriptionStyleModel",
          "model_module_version": "1.5.0",
          "state": {
            "_model_module": "@jupyter-widgets/controls",
            "_model_module_version": "1.5.0",
            "_model_name": "DescriptionStyleModel",
            "_view_count": null,
            "_view_module": "@jupyter-widgets/base",
            "_view_module_version": "1.2.0",
            "_view_name": "StyleView",
            "description_width": ""
          }
        },
        "9f4461726a364468bacada4f93a87c82": {
          "model_module": "@jupyter-widgets/controls",
          "model_name": "HBoxModel",
          "model_module_version": "1.5.0",
          "state": {
            "_dom_classes": [],
            "_model_module": "@jupyter-widgets/controls",
            "_model_module_version": "1.5.0",
            "_model_name": "HBoxModel",
            "_view_count": null,
            "_view_module": "@jupyter-widgets/controls",
            "_view_module_version": "1.5.0",
            "_view_name": "HBoxView",
            "box_style": "",
            "children": [
              "IPY_MODEL_4c1e1e9139924e9fa68eded582f0ffe9",
              "IPY_MODEL_4e9a417144c4487f9e3b5b1be309d013",
              "IPY_MODEL_f850ed811cc44c5a917c11959652b732"
            ],
            "layout": "IPY_MODEL_f0e0b19ecdd84683968eb74bbd05ebaa"
          }
        },
        "4c1e1e9139924e9fa68eded582f0ffe9": {
          "model_module": "@jupyter-widgets/controls",
          "model_name": "HTMLModel",
          "model_module_version": "1.5.0",
          "state": {
            "_dom_classes": [],
            "_model_module": "@jupyter-widgets/controls",
            "_model_module_version": "1.5.0",
            "_model_name": "HTMLModel",
            "_view_count": null,
            "_view_module": "@jupyter-widgets/controls",
            "_view_module_version": "1.5.0",
            "_view_name": "HTMLView",
            "description": "",
            "description_tooltip": null,
            "layout": "IPY_MODEL_3d17ba4dcbe341539e2bc020c6793a1d",
            "placeholder": "​",
            "style": "IPY_MODEL_62217a756c3e4ce0a5e55fc07160994f",
            "value": "Fetching 15 files: 100%"
          }
        },
        "4e9a417144c4487f9e3b5b1be309d013": {
          "model_module": "@jupyter-widgets/controls",
          "model_name": "FloatProgressModel",
          "model_module_version": "1.5.0",
          "state": {
            "_dom_classes": [],
            "_model_module": "@jupyter-widgets/controls",
            "_model_module_version": "1.5.0",
            "_model_name": "FloatProgressModel",
            "_view_count": null,
            "_view_module": "@jupyter-widgets/controls",
            "_view_module_version": "1.5.0",
            "_view_name": "ProgressView",
            "bar_style": "success",
            "description": "",
            "description_tooltip": null,
            "layout": "IPY_MODEL_23f5ec71b21c48c389bf0494d2545e2d",
            "max": 15,
            "min": 0,
            "orientation": "horizontal",
            "style": "IPY_MODEL_a94d54415bd8417aad618fd3caa21021",
            "value": 15
          }
        },
        "f850ed811cc44c5a917c11959652b732": {
          "model_module": "@jupyter-widgets/controls",
          "model_name": "HTMLModel",
          "model_module_version": "1.5.0",
          "state": {
            "_dom_classes": [],
            "_model_module": "@jupyter-widgets/controls",
            "_model_module_version": "1.5.0",
            "_model_name": "HTMLModel",
            "_view_count": null,
            "_view_module": "@jupyter-widgets/controls",
            "_view_module_version": "1.5.0",
            "_view_name": "HTMLView",
            "description": "",
            "description_tooltip": null,
            "layout": "IPY_MODEL_860fe8dcfee248fbb6995a68950e1e43",
            "placeholder": "​",
            "style": "IPY_MODEL_84caebaee1024424a93c55ef84b5992d",
            "value": " 15/15 [00:32&lt;00:00,  2.33s/it]"
          }
        },
        "f0e0b19ecdd84683968eb74bbd05ebaa": {
          "model_module": "@jupyter-widgets/base",
          "model_name": "LayoutModel",
          "model_module_version": "1.2.0",
          "state": {
            "_model_module": "@jupyter-widgets/base",
            "_model_module_version": "1.2.0",
            "_model_name": "LayoutModel",
            "_view_count": null,
            "_view_module": "@jupyter-widgets/base",
            "_view_module_version": "1.2.0",
            "_view_name": "LayoutView",
            "align_content": null,
            "align_items": null,
            "align_self": null,
            "border": null,
            "bottom": null,
            "display": null,
            "flex": null,
            "flex_flow": null,
            "grid_area": null,
            "grid_auto_columns": null,
            "grid_auto_flow": null,
            "grid_auto_rows": null,
            "grid_column": null,
            "grid_gap": null,
            "grid_row": null,
            "grid_template_areas": null,
            "grid_template_columns": null,
            "grid_template_rows": null,
            "height": null,
            "justify_content": null,
            "justify_items": null,
            "left": null,
            "margin": null,
            "max_height": null,
            "max_width": null,
            "min_height": null,
            "min_width": null,
            "object_fit": null,
            "object_position": null,
            "order": null,
            "overflow": null,
            "overflow_x": null,
            "overflow_y": null,
            "padding": null,
            "right": null,
            "top": null,
            "visibility": null,
            "width": null
          }
        },
        "3d17ba4dcbe341539e2bc020c6793a1d": {
          "model_module": "@jupyter-widgets/base",
          "model_name": "LayoutModel",
          "model_module_version": "1.2.0",
          "state": {
            "_model_module": "@jupyter-widgets/base",
            "_model_module_version": "1.2.0",
            "_model_name": "LayoutModel",
            "_view_count": null,
            "_view_module": "@jupyter-widgets/base",
            "_view_module_version": "1.2.0",
            "_view_name": "LayoutView",
            "align_content": null,
            "align_items": null,
            "align_self": null,
            "border": null,
            "bottom": null,
            "display": null,
            "flex": null,
            "flex_flow": null,
            "grid_area": null,
            "grid_auto_columns": null,
            "grid_auto_flow": null,
            "grid_auto_rows": null,
            "grid_column": null,
            "grid_gap": null,
            "grid_row": null,
            "grid_template_areas": null,
            "grid_template_columns": null,
            "grid_template_rows": null,
            "height": null,
            "justify_content": null,
            "justify_items": null,
            "left": null,
            "margin": null,
            "max_height": null,
            "max_width": null,
            "min_height": null,
            "min_width": null,
            "object_fit": null,
            "object_position": null,
            "order": null,
            "overflow": null,
            "overflow_x": null,
            "overflow_y": null,
            "padding": null,
            "right": null,
            "top": null,
            "visibility": null,
            "width": null
          }
        },
        "62217a756c3e4ce0a5e55fc07160994f": {
          "model_module": "@jupyter-widgets/controls",
          "model_name": "DescriptionStyleModel",
          "model_module_version": "1.5.0",
          "state": {
            "_model_module": "@jupyter-widgets/controls",
            "_model_module_version": "1.5.0",
            "_model_name": "DescriptionStyleModel",
            "_view_count": null,
            "_view_module": "@jupyter-widgets/base",
            "_view_module_version": "1.2.0",
            "_view_name": "StyleView",
            "description_width": ""
          }
        },
        "23f5ec71b21c48c389bf0494d2545e2d": {
          "model_module": "@jupyter-widgets/base",
          "model_name": "LayoutModel",
          "model_module_version": "1.2.0",
          "state": {
            "_model_module": "@jupyter-widgets/base",
            "_model_module_version": "1.2.0",
            "_model_name": "LayoutModel",
            "_view_count": null,
            "_view_module": "@jupyter-widgets/base",
            "_view_module_version": "1.2.0",
            "_view_name": "LayoutView",
            "align_content": null,
            "align_items": null,
            "align_self": null,
            "border": null,
            "bottom": null,
            "display": null,
            "flex": null,
            "flex_flow": null,
            "grid_area": null,
            "grid_auto_columns": null,
            "grid_auto_flow": null,
            "grid_auto_rows": null,
            "grid_column": null,
            "grid_gap": null,
            "grid_row": null,
            "grid_template_areas": null,
            "grid_template_columns": null,
            "grid_template_rows": null,
            "height": null,
            "justify_content": null,
            "justify_items": null,
            "left": null,
            "margin": null,
            "max_height": null,
            "max_width": null,
            "min_height": null,
            "min_width": null,
            "object_fit": null,
            "object_position": null,
            "order": null,
            "overflow": null,
            "overflow_x": null,
            "overflow_y": null,
            "padding": null,
            "right": null,
            "top": null,
            "visibility": null,
            "width": null
          }
        },
        "a94d54415bd8417aad618fd3caa21021": {
          "model_module": "@jupyter-widgets/controls",
          "model_name": "ProgressStyleModel",
          "model_module_version": "1.5.0",
          "state": {
            "_model_module": "@jupyter-widgets/controls",
            "_model_module_version": "1.5.0",
            "_model_name": "ProgressStyleModel",
            "_view_count": null,
            "_view_module": "@jupyter-widgets/base",
            "_view_module_version": "1.2.0",
            "_view_name": "StyleView",
            "bar_color": null,
            "description_width": ""
          }
        },
        "860fe8dcfee248fbb6995a68950e1e43": {
          "model_module": "@jupyter-widgets/base",
          "model_name": "LayoutModel",
          "model_module_version": "1.2.0",
          "state": {
            "_model_module": "@jupyter-widgets/base",
            "_model_module_version": "1.2.0",
            "_model_name": "LayoutModel",
            "_view_count": null,
            "_view_module": "@jupyter-widgets/base",
            "_view_module_version": "1.2.0",
            "_view_name": "LayoutView",
            "align_content": null,
            "align_items": null,
            "align_self": null,
            "border": null,
            "bottom": null,
            "display": null,
            "flex": null,
            "flex_flow": null,
            "grid_area": null,
            "grid_auto_columns": null,
            "grid_auto_flow": null,
            "grid_auto_rows": null,
            "grid_column": null,
            "grid_gap": null,
            "grid_row": null,
            "grid_template_areas": null,
            "grid_template_columns": null,
            "grid_template_rows": null,
            "height": null,
            "justify_content": null,
            "justify_items": null,
            "left": null,
            "margin": null,
            "max_height": null,
            "max_width": null,
            "min_height": null,
            "min_width": null,
            "object_fit": null,
            "object_position": null,
            "order": null,
            "overflow": null,
            "overflow_x": null,
            "overflow_y": null,
            "padding": null,
            "right": null,
            "top": null,
            "visibility": null,
            "width": null
          }
        },
        "84caebaee1024424a93c55ef84b5992d": {
          "model_module": "@jupyter-widgets/controls",
          "model_name": "DescriptionStyleModel",
          "model_module_version": "1.5.0",
          "state": {
            "_model_module": "@jupyter-widgets/controls",
            "_model_module_version": "1.5.0",
            "_model_name": "DescriptionStyleModel",
            "_view_count": null,
            "_view_module": "@jupyter-widgets/base",
            "_view_module_version": "1.2.0",
            "_view_name": "StyleView",
            "description_width": ""
          }
        },
        "9016428d4801450e9e2bd9dd736e7393": {
          "model_module": "@jupyter-widgets/controls",
          "model_name": "HBoxModel",
          "model_module_version": "1.5.0",
          "state": {
            "_dom_classes": [],
            "_model_module": "@jupyter-widgets/controls",
            "_model_module_version": "1.5.0",
            "_model_name": "HBoxModel",
            "_view_count": null,
            "_view_module": "@jupyter-widgets/controls",
            "_view_module_version": "1.5.0",
            "_view_name": "HBoxView",
            "box_style": "",
            "children": [
              "IPY_MODEL_9d221498de5a40a4add4802cfafc7f4d",
              "IPY_MODEL_149dd0419b394f58a53c053f0f24ee2c",
              "IPY_MODEL_67ea30b559944339beafb4dba8071eb1"
            ],
            "layout": "IPY_MODEL_45f89c7d74084a2baf131dce6ef51e30"
          }
        },
        "9d221498de5a40a4add4802cfafc7f4d": {
          "model_module": "@jupyter-widgets/controls",
          "model_name": "HTMLModel",
          "model_module_version": "1.5.0",
          "state": {
            "_dom_classes": [],
            "_model_module": "@jupyter-widgets/controls",
            "_model_module_version": "1.5.0",
            "_model_name": "HTMLModel",
            "_view_count": null,
            "_view_module": "@jupyter-widgets/controls",
            "_view_module_version": "1.5.0",
            "_view_name": "HTMLView",
            "description": "",
            "description_tooltip": null,
            "layout": "IPY_MODEL_707689efb6674648a4969babb7fb56b8",
            "placeholder": "​",
            "style": "IPY_MODEL_c2abf13453fd487fbdaf732120812d7b",
            "value": "model.safetensors: 100%"
          }
        },
        "149dd0419b394f58a53c053f0f24ee2c": {
          "model_module": "@jupyter-widgets/controls",
          "model_name": "FloatProgressModel",
          "model_module_version": "1.5.0",
          "state": {
            "_dom_classes": [],
            "_model_module": "@jupyter-widgets/controls",
            "_model_module_version": "1.5.0",
            "_model_name": "FloatProgressModel",
            "_view_count": null,
            "_view_module": "@jupyter-widgets/controls",
            "_view_module_version": "1.5.0",
            "_view_name": "ProgressView",
            "bar_style": "success",
            "description": "",
            "description_tooltip": null,
            "layout": "IPY_MODEL_6f3a875511c54ea2893c1c0636b932ec",
            "max": 492265874,
            "min": 0,
            "orientation": "horizontal",
            "style": "IPY_MODEL_58ae630e35b64d8192cc7455b42b3493",
            "value": 492265874
          }
        },
        "67ea30b559944339beafb4dba8071eb1": {
          "model_module": "@jupyter-widgets/controls",
          "model_name": "HTMLModel",
          "model_module_version": "1.5.0",
          "state": {
            "_dom_classes": [],
            "_model_module": "@jupyter-widgets/controls",
            "_model_module_version": "1.5.0",
            "_model_name": "HTMLModel",
            "_view_count": null,
            "_view_module": "@jupyter-widgets/controls",
            "_view_module_version": "1.5.0",
            "_view_name": "HTMLView",
            "description": "",
            "description_tooltip": null,
            "layout": "IPY_MODEL_c5b553af82a048f7a14ec72b15bf17ec",
            "placeholder": "​",
            "style": "IPY_MODEL_abbb3c6d493447fa9f2a459150a145ee",
            "value": " 492M/492M [00:08&lt;00:00, 65.5MB/s]"
          }
        },
        "45f89c7d74084a2baf131dce6ef51e30": {
          "model_module": "@jupyter-widgets/base",
          "model_name": "LayoutModel",
          "model_module_version": "1.2.0",
          "state": {
            "_model_module": "@jupyter-widgets/base",
            "_model_module_version": "1.2.0",
            "_model_name": "LayoutModel",
            "_view_count": null,
            "_view_module": "@jupyter-widgets/base",
            "_view_module_version": "1.2.0",
            "_view_name": "LayoutView",
            "align_content": null,
            "align_items": null,
            "align_self": null,
            "border": null,
            "bottom": null,
            "display": null,
            "flex": null,
            "flex_flow": null,
            "grid_area": null,
            "grid_auto_columns": null,
            "grid_auto_flow": null,
            "grid_auto_rows": null,
            "grid_column": null,
            "grid_gap": null,
            "grid_row": null,
            "grid_template_areas": null,
            "grid_template_columns": null,
            "grid_template_rows": null,
            "height": null,
            "justify_content": null,
            "justify_items": null,
            "left": null,
            "margin": null,
            "max_height": null,
            "max_width": null,
            "min_height": null,
            "min_width": null,
            "object_fit": null,
            "object_position": null,
            "order": null,
            "overflow": null,
            "overflow_x": null,
            "overflow_y": null,
            "padding": null,
            "right": null,
            "top": null,
            "visibility": null,
            "width": null
          }
        },
        "707689efb6674648a4969babb7fb56b8": {
          "model_module": "@jupyter-widgets/base",
          "model_name": "LayoutModel",
          "model_module_version": "1.2.0",
          "state": {
            "_model_module": "@jupyter-widgets/base",
            "_model_module_version": "1.2.0",
            "_model_name": "LayoutModel",
            "_view_count": null,
            "_view_module": "@jupyter-widgets/base",
            "_view_module_version": "1.2.0",
            "_view_name": "LayoutView",
            "align_content": null,
            "align_items": null,
            "align_self": null,
            "border": null,
            "bottom": null,
            "display": null,
            "flex": null,
            "flex_flow": null,
            "grid_area": null,
            "grid_auto_columns": null,
            "grid_auto_flow": null,
            "grid_auto_rows": null,
            "grid_column": null,
            "grid_gap": null,
            "grid_row": null,
            "grid_template_areas": null,
            "grid_template_columns": null,
            "grid_template_rows": null,
            "height": null,
            "justify_content": null,
            "justify_items": null,
            "left": null,
            "margin": null,
            "max_height": null,
            "max_width": null,
            "min_height": null,
            "min_width": null,
            "object_fit": null,
            "object_position": null,
            "order": null,
            "overflow": null,
            "overflow_x": null,
            "overflow_y": null,
            "padding": null,
            "right": null,
            "top": null,
            "visibility": null,
            "width": null
          }
        },
        "c2abf13453fd487fbdaf732120812d7b": {
          "model_module": "@jupyter-widgets/controls",
          "model_name": "DescriptionStyleModel",
          "model_module_version": "1.5.0",
          "state": {
            "_model_module": "@jupyter-widgets/controls",
            "_model_module_version": "1.5.0",
            "_model_name": "DescriptionStyleModel",
            "_view_count": null,
            "_view_module": "@jupyter-widgets/base",
            "_view_module_version": "1.2.0",
            "_view_name": "StyleView",
            "description_width": ""
          }
        },
        "6f3a875511c54ea2893c1c0636b932ec": {
          "model_module": "@jupyter-widgets/base",
          "model_name": "LayoutModel",
          "model_module_version": "1.2.0",
          "state": {
            "_model_module": "@jupyter-widgets/base",
            "_model_module_version": "1.2.0",
            "_model_name": "LayoutModel",
            "_view_count": null,
            "_view_module": "@jupyter-widgets/base",
            "_view_module_version": "1.2.0",
            "_view_name": "LayoutView",
            "align_content": null,
            "align_items": null,
            "align_self": null,
            "border": null,
            "bottom": null,
            "display": null,
            "flex": null,
            "flex_flow": null,
            "grid_area": null,
            "grid_auto_columns": null,
            "grid_auto_flow": null,
            "grid_auto_rows": null,
            "grid_column": null,
            "grid_gap": null,
            "grid_row": null,
            "grid_template_areas": null,
            "grid_template_columns": null,
            "grid_template_rows": null,
            "height": null,
            "justify_content": null,
            "justify_items": null,
            "left": null,
            "margin": null,
            "max_height": null,
            "max_width": null,
            "min_height": null,
            "min_width": null,
            "object_fit": null,
            "object_position": null,
            "order": null,
            "overflow": null,
            "overflow_x": null,
            "overflow_y": null,
            "padding": null,
            "right": null,
            "top": null,
            "visibility": null,
            "width": null
          }
        },
        "58ae630e35b64d8192cc7455b42b3493": {
          "model_module": "@jupyter-widgets/controls",
          "model_name": "ProgressStyleModel",
          "model_module_version": "1.5.0",
          "state": {
            "_model_module": "@jupyter-widgets/controls",
            "_model_module_version": "1.5.0",
            "_model_name": "ProgressStyleModel",
            "_view_count": null,
            "_view_module": "@jupyter-widgets/base",
            "_view_module_version": "1.2.0",
            "_view_name": "StyleView",
            "bar_color": null,
            "description_width": ""
          }
        },
        "c5b553af82a048f7a14ec72b15bf17ec": {
          "model_module": "@jupyter-widgets/base",
          "model_name": "LayoutModel",
          "model_module_version": "1.2.0",
          "state": {
            "_model_module": "@jupyter-widgets/base",
            "_model_module_version": "1.2.0",
            "_model_name": "LayoutModel",
            "_view_count": null,
            "_view_module": "@jupyter-widgets/base",
            "_view_module_version": "1.2.0",
            "_view_name": "LayoutView",
            "align_content": null,
            "align_items": null,
            "align_self": null,
            "border": null,
            "bottom": null,
            "display": null,
            "flex": null,
            "flex_flow": null,
            "grid_area": null,
            "grid_auto_columns": null,
            "grid_auto_flow": null,
            "grid_auto_rows": null,
            "grid_column": null,
            "grid_gap": null,
            "grid_row": null,
            "grid_template_areas": null,
            "grid_template_columns": null,
            "grid_template_rows": null,
            "height": null,
            "justify_content": null,
            "justify_items": null,
            "left": null,
            "margin": null,
            "max_height": null,
            "max_width": null,
            "min_height": null,
            "min_width": null,
            "object_fit": null,
            "object_position": null,
            "order": null,
            "overflow": null,
            "overflow_x": null,
            "overflow_y": null,
            "padding": null,
            "right": null,
            "top": null,
            "visibility": null,
            "width": null
          }
        },
        "abbb3c6d493447fa9f2a459150a145ee": {
          "model_module": "@jupyter-widgets/controls",
          "model_name": "DescriptionStyleModel",
          "model_module_version": "1.5.0",
          "state": {
            "_model_module": "@jupyter-widgets/controls",
            "_model_module_version": "1.5.0",
            "_model_name": "DescriptionStyleModel",
            "_view_count": null,
            "_view_module": "@jupyter-widgets/base",
            "_view_module_version": "1.2.0",
            "_view_name": "StyleView",
            "description_width": ""
          }
        },
        "3ac86a71e1e446b895a14323b06d2d58": {
          "model_module": "@jupyter-widgets/controls",
          "model_name": "HBoxModel",
          "model_module_version": "1.5.0",
          "state": {
            "_dom_classes": [],
            "_model_module": "@jupyter-widgets/controls",
            "_model_module_version": "1.5.0",
            "_model_name": "HBoxModel",
            "_view_count": null,
            "_view_module": "@jupyter-widgets/controls",
            "_view_module_version": "1.5.0",
            "_view_name": "HBoxView",
            "box_style": "",
            "children": [
              "IPY_MODEL_337813b6305545ee92c62014e88098f0",
              "IPY_MODEL_c20dd0ec4ed34c59a240648369c46e50",
              "IPY_MODEL_4fed54af494140609e22a455de2a13f9"
            ],
            "layout": "IPY_MODEL_db749ffca0574786ad4a31eefba11689"
          }
        },
        "337813b6305545ee92c62014e88098f0": {
          "model_module": "@jupyter-widgets/controls",
          "model_name": "HTMLModel",
          "model_module_version": "1.5.0",
          "state": {
            "_dom_classes": [],
            "_model_module": "@jupyter-widgets/controls",
            "_model_module_version": "1.5.0",
            "_model_name": "HTMLModel",
            "_view_count": null,
            "_view_module": "@jupyter-widgets/controls",
            "_view_module_version": "1.5.0",
            "_view_name": "HTMLView",
            "description": "",
            "description_tooltip": null,
            "layout": "IPY_MODEL_944494792d1f4025935f7ab9cece15ac",
            "placeholder": "​",
            "style": "IPY_MODEL_8940083ea22840f9aa97ed28e39faa4e",
            "value": "model.safetensors: 100%"
          }
        },
        "c20dd0ec4ed34c59a240648369c46e50": {
          "model_module": "@jupyter-widgets/controls",
          "model_name": "FloatProgressModel",
          "model_module_version": "1.5.0",
          "state": {
            "_dom_classes": [],
            "_model_module": "@jupyter-widgets/controls",
            "_model_module_version": "1.5.0",
            "_model_name": "FloatProgressModel",
            "_view_count": null,
            "_view_module": "@jupyter-widgets/controls",
            "_view_module_version": "1.5.0",
            "_view_name": "ProgressView",
            "bar_style": "success",
            "description": "",
            "description_tooltip": null,
            "layout": "IPY_MODEL_f2309e7216ee4b509fef0e427a04c925",
            "max": 1215981830,
            "min": 0,
            "orientation": "horizontal",
            "style": "IPY_MODEL_2fc88497f9b640298f112d8e1f7be6d7",
            "value": 1215981830
          }
        },
        "4fed54af494140609e22a455de2a13f9": {
          "model_module": "@jupyter-widgets/controls",
          "model_name": "HTMLModel",
          "model_module_version": "1.5.0",
          "state": {
            "_dom_classes": [],
            "_model_module": "@jupyter-widgets/controls",
            "_model_module_version": "1.5.0",
            "_model_name": "HTMLModel",
            "_view_count": null,
            "_view_module": "@jupyter-widgets/controls",
            "_view_module_version": "1.5.0",
            "_view_name": "HTMLView",
            "description": "",
            "description_tooltip": null,
            "layout": "IPY_MODEL_05a503fe27d74786a5ab863650c9d137",
            "placeholder": "​",
            "style": "IPY_MODEL_a583fb67eaae4fd3944a7da139e5c4c4",
            "value": " 1.22G/1.22G [00:18&lt;00:00, 131MB/s]"
          }
        },
        "db749ffca0574786ad4a31eefba11689": {
          "model_module": "@jupyter-widgets/base",
          "model_name": "LayoutModel",
          "model_module_version": "1.2.0",
          "state": {
            "_model_module": "@jupyter-widgets/base",
            "_model_module_version": "1.2.0",
            "_model_name": "LayoutModel",
            "_view_count": null,
            "_view_module": "@jupyter-widgets/base",
            "_view_module_version": "1.2.0",
            "_view_name": "LayoutView",
            "align_content": null,
            "align_items": null,
            "align_self": null,
            "border": null,
            "bottom": null,
            "display": null,
            "flex": null,
            "flex_flow": null,
            "grid_area": null,
            "grid_auto_columns": null,
            "grid_auto_flow": null,
            "grid_auto_rows": null,
            "grid_column": null,
            "grid_gap": null,
            "grid_row": null,
            "grid_template_areas": null,
            "grid_template_columns": null,
            "grid_template_rows": null,
            "height": null,
            "justify_content": null,
            "justify_items": null,
            "left": null,
            "margin": null,
            "max_height": null,
            "max_width": null,
            "min_height": null,
            "min_width": null,
            "object_fit": null,
            "object_position": null,
            "order": null,
            "overflow": null,
            "overflow_x": null,
            "overflow_y": null,
            "padding": null,
            "right": null,
            "top": null,
            "visibility": null,
            "width": null
          }
        },
        "944494792d1f4025935f7ab9cece15ac": {
          "model_module": "@jupyter-widgets/base",
          "model_name": "LayoutModel",
          "model_module_version": "1.2.0",
          "state": {
            "_model_module": "@jupyter-widgets/base",
            "_model_module_version": "1.2.0",
            "_model_name": "LayoutModel",
            "_view_count": null,
            "_view_module": "@jupyter-widgets/base",
            "_view_module_version": "1.2.0",
            "_view_name": "LayoutView",
            "align_content": null,
            "align_items": null,
            "align_self": null,
            "border": null,
            "bottom": null,
            "display": null,
            "flex": null,
            "flex_flow": null,
            "grid_area": null,
            "grid_auto_columns": null,
            "grid_auto_flow": null,
            "grid_auto_rows": null,
            "grid_column": null,
            "grid_gap": null,
            "grid_row": null,
            "grid_template_areas": null,
            "grid_template_columns": null,
            "grid_template_rows": null,
            "height": null,
            "justify_content": null,
            "justify_items": null,
            "left": null,
            "margin": null,
            "max_height": null,
            "max_width": null,
            "min_height": null,
            "min_width": null,
            "object_fit": null,
            "object_position": null,
            "order": null,
            "overflow": null,
            "overflow_x": null,
            "overflow_y": null,
            "padding": null,
            "right": null,
            "top": null,
            "visibility": null,
            "width": null
          }
        },
        "8940083ea22840f9aa97ed28e39faa4e": {
          "model_module": "@jupyter-widgets/controls",
          "model_name": "DescriptionStyleModel",
          "model_module_version": "1.5.0",
          "state": {
            "_model_module": "@jupyter-widgets/controls",
            "_model_module_version": "1.5.0",
            "_model_name": "DescriptionStyleModel",
            "_view_count": null,
            "_view_module": "@jupyter-widgets/base",
            "_view_module_version": "1.2.0",
            "_view_name": "StyleView",
            "description_width": ""
          }
        },
        "f2309e7216ee4b509fef0e427a04c925": {
          "model_module": "@jupyter-widgets/base",
          "model_name": "LayoutModel",
          "model_module_version": "1.2.0",
          "state": {
            "_model_module": "@jupyter-widgets/base",
            "_model_module_version": "1.2.0",
            "_model_name": "LayoutModel",
            "_view_count": null,
            "_view_module": "@jupyter-widgets/base",
            "_view_module_version": "1.2.0",
            "_view_name": "LayoutView",
            "align_content": null,
            "align_items": null,
            "align_self": null,
            "border": null,
            "bottom": null,
            "display": null,
            "flex": null,
            "flex_flow": null,
            "grid_area": null,
            "grid_auto_columns": null,
            "grid_auto_flow": null,
            "grid_auto_rows": null,
            "grid_column": null,
            "grid_gap": null,
            "grid_row": null,
            "grid_template_areas": null,
            "grid_template_columns": null,
            "grid_template_rows": null,
            "height": null,
            "justify_content": null,
            "justify_items": null,
            "left": null,
            "margin": null,
            "max_height": null,
            "max_width": null,
            "min_height": null,
            "min_width": null,
            "object_fit": null,
            "object_position": null,
            "order": null,
            "overflow": null,
            "overflow_x": null,
            "overflow_y": null,
            "padding": null,
            "right": null,
            "top": null,
            "visibility": null,
            "width": null
          }
        },
        "2fc88497f9b640298f112d8e1f7be6d7": {
          "model_module": "@jupyter-widgets/controls",
          "model_name": "ProgressStyleModel",
          "model_module_version": "1.5.0",
          "state": {
            "_model_module": "@jupyter-widgets/controls",
            "_model_module_version": "1.5.0",
            "_model_name": "ProgressStyleModel",
            "_view_count": null,
            "_view_module": "@jupyter-widgets/base",
            "_view_module_version": "1.2.0",
            "_view_name": "StyleView",
            "bar_color": null,
            "description_width": ""
          }
        },
        "05a503fe27d74786a5ab863650c9d137": {
          "model_module": "@jupyter-widgets/base",
          "model_name": "LayoutModel",
          "model_module_version": "1.2.0",
          "state": {
            "_model_module": "@jupyter-widgets/base",
            "_model_module_version": "1.2.0",
            "_model_name": "LayoutModel",
            "_view_count": null,
            "_view_module": "@jupyter-widgets/base",
            "_view_module_version": "1.2.0",
            "_view_name": "LayoutView",
            "align_content": null,
            "align_items": null,
            "align_self": null,
            "border": null,
            "bottom": null,
            "display": null,
            "flex": null,
            "flex_flow": null,
            "grid_area": null,
            "grid_auto_columns": null,
            "grid_auto_flow": null,
            "grid_auto_rows": null,
            "grid_column": null,
            "grid_gap": null,
            "grid_row": null,
            "grid_template_areas": null,
            "grid_template_columns": null,
            "grid_template_rows": null,
            "height": null,
            "justify_content": null,
            "justify_items": null,
            "left": null,
            "margin": null,
            "max_height": null,
            "max_width": null,
            "min_height": null,
            "min_width": null,
            "object_fit": null,
            "object_position": null,
            "order": null,
            "overflow": null,
            "overflow_x": null,
            "overflow_y": null,
            "padding": null,
            "right": null,
            "top": null,
            "visibility": null,
            "width": null
          }
        },
        "a583fb67eaae4fd3944a7da139e5c4c4": {
          "model_module": "@jupyter-widgets/controls",
          "model_name": "DescriptionStyleModel",
          "model_module_version": "1.5.0",
          "state": {
            "_model_module": "@jupyter-widgets/controls",
            "_model_module_version": "1.5.0",
            "_model_name": "DescriptionStyleModel",
            "_view_count": null,
            "_view_module": "@jupyter-widgets/base",
            "_view_module_version": "1.2.0",
            "_view_name": "StyleView",
            "description_width": ""
          }
        },
        "7c643c20ccef4901ac7de8d1cfce2479": {
          "model_module": "@jupyter-widgets/controls",
          "model_name": "HBoxModel",
          "model_module_version": "1.5.0",
          "state": {
            "_dom_classes": [],
            "_model_module": "@jupyter-widgets/controls",
            "_model_module_version": "1.5.0",
            "_model_name": "HBoxModel",
            "_view_count": null,
            "_view_module": "@jupyter-widgets/controls",
            "_view_module_version": "1.5.0",
            "_view_name": "HBoxView",
            "box_style": "",
            "children": [
              "IPY_MODEL_beb6a7269f36453f92d207ac2e62a20b",
              "IPY_MODEL_6e0ab3a08a4845e895317d2fca30fe0b",
              "IPY_MODEL_641eb57eacbb4a5b83b349a0f0cfdb2c"
            ],
            "layout": "IPY_MODEL_3269ce9cbf154cc78e8c530dff2a9282"
          }
        },
        "beb6a7269f36453f92d207ac2e62a20b": {
          "model_module": "@jupyter-widgets/controls",
          "model_name": "HTMLModel",
          "model_module_version": "1.5.0",
          "state": {
            "_dom_classes": [],
            "_model_module": "@jupyter-widgets/controls",
            "_model_module_version": "1.5.0",
            "_model_name": "HTMLModel",
            "_view_count": null,
            "_view_module": "@jupyter-widgets/controls",
            "_view_module_version": "1.5.0",
            "_view_name": "HTMLView",
            "description": "",
            "description_tooltip": null,
            "layout": "IPY_MODEL_8c77b8a4161140eb9673e7e22f55b748",
            "placeholder": "​",
            "style": "IPY_MODEL_5896a1ee7f4447029d11a4344281d74c",
            "value": "scheduler_config.json: 100%"
          }
        },
        "6e0ab3a08a4845e895317d2fca30fe0b": {
          "model_module": "@jupyter-widgets/controls",
          "model_name": "FloatProgressModel",
          "model_module_version": "1.5.0",
          "state": {
            "_dom_classes": [],
            "_model_module": "@jupyter-widgets/controls",
            "_model_module_version": "1.5.0",
            "_model_name": "FloatProgressModel",
            "_view_count": null,
            "_view_module": "@jupyter-widgets/controls",
            "_view_module_version": "1.5.0",
            "_view_name": "ProgressView",
            "bar_style": "success",
            "description": "",
            "description_tooltip": null,
            "layout": "IPY_MODEL_8c25702e4a724364aeb9975af57016f2",
            "max": 308,
            "min": 0,
            "orientation": "horizontal",
            "style": "IPY_MODEL_e73bf529382846228714270695dc139c",
            "value": 308
          }
        },
        "641eb57eacbb4a5b83b349a0f0cfdb2c": {
          "model_module": "@jupyter-widgets/controls",
          "model_name": "HTMLModel",
          "model_module_version": "1.5.0",
          "state": {
            "_dom_classes": [],
            "_model_module": "@jupyter-widgets/controls",
            "_model_module_version": "1.5.0",
            "_model_name": "HTMLModel",
            "_view_count": null,
            "_view_module": "@jupyter-widgets/controls",
            "_view_module_version": "1.5.0",
            "_view_name": "HTMLView",
            "description": "",
            "description_tooltip": null,
            "layout": "IPY_MODEL_956d3d351ae7479d9d00e900b5e62ab0",
            "placeholder": "​",
            "style": "IPY_MODEL_220dc3663b4f43e8b0f11a6736ec727e",
            "value": " 308/308 [00:00&lt;00:00, 4.48kB/s]"
          }
        },
        "3269ce9cbf154cc78e8c530dff2a9282": {
          "model_module": "@jupyter-widgets/base",
          "model_name": "LayoutModel",
          "model_module_version": "1.2.0",
          "state": {
            "_model_module": "@jupyter-widgets/base",
            "_model_module_version": "1.2.0",
            "_model_name": "LayoutModel",
            "_view_count": null,
            "_view_module": "@jupyter-widgets/base",
            "_view_module_version": "1.2.0",
            "_view_name": "LayoutView",
            "align_content": null,
            "align_items": null,
            "align_self": null,
            "border": null,
            "bottom": null,
            "display": null,
            "flex": null,
            "flex_flow": null,
            "grid_area": null,
            "grid_auto_columns": null,
            "grid_auto_flow": null,
            "grid_auto_rows": null,
            "grid_column": null,
            "grid_gap": null,
            "grid_row": null,
            "grid_template_areas": null,
            "grid_template_columns": null,
            "grid_template_rows": null,
            "height": null,
            "justify_content": null,
            "justify_items": null,
            "left": null,
            "margin": null,
            "max_height": null,
            "max_width": null,
            "min_height": null,
            "min_width": null,
            "object_fit": null,
            "object_position": null,
            "order": null,
            "overflow": null,
            "overflow_x": null,
            "overflow_y": null,
            "padding": null,
            "right": null,
            "top": null,
            "visibility": null,
            "width": null
          }
        },
        "8c77b8a4161140eb9673e7e22f55b748": {
          "model_module": "@jupyter-widgets/base",
          "model_name": "LayoutModel",
          "model_module_version": "1.2.0",
          "state": {
            "_model_module": "@jupyter-widgets/base",
            "_model_module_version": "1.2.0",
            "_model_name": "LayoutModel",
            "_view_count": null,
            "_view_module": "@jupyter-widgets/base",
            "_view_module_version": "1.2.0",
            "_view_name": "LayoutView",
            "align_content": null,
            "align_items": null,
            "align_self": null,
            "border": null,
            "bottom": null,
            "display": null,
            "flex": null,
            "flex_flow": null,
            "grid_area": null,
            "grid_auto_columns": null,
            "grid_auto_flow": null,
            "grid_auto_rows": null,
            "grid_column": null,
            "grid_gap": null,
            "grid_row": null,
            "grid_template_areas": null,
            "grid_template_columns": null,
            "grid_template_rows": null,
            "height": null,
            "justify_content": null,
            "justify_items": null,
            "left": null,
            "margin": null,
            "max_height": null,
            "max_width": null,
            "min_height": null,
            "min_width": null,
            "object_fit": null,
            "object_position": null,
            "order": null,
            "overflow": null,
            "overflow_x": null,
            "overflow_y": null,
            "padding": null,
            "right": null,
            "top": null,
            "visibility": null,
            "width": null
          }
        },
        "5896a1ee7f4447029d11a4344281d74c": {
          "model_module": "@jupyter-widgets/controls",
          "model_name": "DescriptionStyleModel",
          "model_module_version": "1.5.0",
          "state": {
            "_model_module": "@jupyter-widgets/controls",
            "_model_module_version": "1.5.0",
            "_model_name": "DescriptionStyleModel",
            "_view_count": null,
            "_view_module": "@jupyter-widgets/base",
            "_view_module_version": "1.2.0",
            "_view_name": "StyleView",
            "description_width": ""
          }
        },
        "8c25702e4a724364aeb9975af57016f2": {
          "model_module": "@jupyter-widgets/base",
          "model_name": "LayoutModel",
          "model_module_version": "1.2.0",
          "state": {
            "_model_module": "@jupyter-widgets/base",
            "_model_module_version": "1.2.0",
            "_model_name": "LayoutModel",
            "_view_count": null,
            "_view_module": "@jupyter-widgets/base",
            "_view_module_version": "1.2.0",
            "_view_name": "LayoutView",
            "align_content": null,
            "align_items": null,
            "align_self": null,
            "border": null,
            "bottom": null,
            "display": null,
            "flex": null,
            "flex_flow": null,
            "grid_area": null,
            "grid_auto_columns": null,
            "grid_auto_flow": null,
            "grid_auto_rows": null,
            "grid_column": null,
            "grid_gap": null,
            "grid_row": null,
            "grid_template_areas": null,
            "grid_template_columns": null,
            "grid_template_rows": null,
            "height": null,
            "justify_content": null,
            "justify_items": null,
            "left": null,
            "margin": null,
            "max_height": null,
            "max_width": null,
            "min_height": null,
            "min_width": null,
            "object_fit": null,
            "object_position": null,
            "order": null,
            "overflow": null,
            "overflow_x": null,
            "overflow_y": null,
            "padding": null,
            "right": null,
            "top": null,
            "visibility": null,
            "width": null
          }
        },
        "e73bf529382846228714270695dc139c": {
          "model_module": "@jupyter-widgets/controls",
          "model_name": "ProgressStyleModel",
          "model_module_version": "1.5.0",
          "state": {
            "_model_module": "@jupyter-widgets/controls",
            "_model_module_version": "1.5.0",
            "_model_name": "ProgressStyleModel",
            "_view_count": null,
            "_view_module": "@jupyter-widgets/base",
            "_view_module_version": "1.2.0",
            "_view_name": "StyleView",
            "bar_color": null,
            "description_width": ""
          }
        },
        "956d3d351ae7479d9d00e900b5e62ab0": {
          "model_module": "@jupyter-widgets/base",
          "model_name": "LayoutModel",
          "model_module_version": "1.2.0",
          "state": {
            "_model_module": "@jupyter-widgets/base",
            "_model_module_version": "1.2.0",
            "_model_name": "LayoutModel",
            "_view_count": null,
            "_view_module": "@jupyter-widgets/base",
            "_view_module_version": "1.2.0",
            "_view_name": "LayoutView",
            "align_content": null,
            "align_items": null,
            "align_self": null,
            "border": null,
            "bottom": null,
            "display": null,
            "flex": null,
            "flex_flow": null,
            "grid_area": null,
            "grid_auto_columns": null,
            "grid_auto_flow": null,
            "grid_auto_rows": null,
            "grid_column": null,
            "grid_gap": null,
            "grid_row": null,
            "grid_template_areas": null,
            "grid_template_columns": null,
            "grid_template_rows": null,
            "height": null,
            "justify_content": null,
            "justify_items": null,
            "left": null,
            "margin": null,
            "max_height": null,
            "max_width": null,
            "min_height": null,
            "min_width": null,
            "object_fit": null,
            "object_position": null,
            "order": null,
            "overflow": null,
            "overflow_x": null,
            "overflow_y": null,
            "padding": null,
            "right": null,
            "top": null,
            "visibility": null,
            "width": null
          }
        },
        "220dc3663b4f43e8b0f11a6736ec727e": {
          "model_module": "@jupyter-widgets/controls",
          "model_name": "DescriptionStyleModel",
          "model_module_version": "1.5.0",
          "state": {
            "_model_module": "@jupyter-widgets/controls",
            "_model_module_version": "1.5.0",
            "_model_name": "DescriptionStyleModel",
            "_view_count": null,
            "_view_module": "@jupyter-widgets/base",
            "_view_module_version": "1.2.0",
            "_view_name": "StyleView",
            "description_width": ""
          }
        },
        "eeeb3c52330a48c2b3d281865adc0420": {
          "model_module": "@jupyter-widgets/controls",
          "model_name": "HBoxModel",
          "model_module_version": "1.5.0",
          "state": {
            "_dom_classes": [],
            "_model_module": "@jupyter-widgets/controls",
            "_model_module_version": "1.5.0",
            "_model_name": "HBoxModel",
            "_view_count": null,
            "_view_module": "@jupyter-widgets/controls",
            "_view_module_version": "1.5.0",
            "_view_name": "HBoxView",
            "box_style": "",
            "children": [
              "IPY_MODEL_b20464dbea1e44b9aeca8cd06e028e6c",
              "IPY_MODEL_c2812bbb8f804897822f5bbd9c288f29",
              "IPY_MODEL_79f6c2a407b247339a44cbd0112e22a0"
            ],
            "layout": "IPY_MODEL_62b013c77c454419b83bbb80a5cc286a"
          }
        },
        "b20464dbea1e44b9aeca8cd06e028e6c": {
          "model_module": "@jupyter-widgets/controls",
          "model_name": "HTMLModel",
          "model_module_version": "1.5.0",
          "state": {
            "_dom_classes": [],
            "_model_module": "@jupyter-widgets/controls",
            "_model_module_version": "1.5.0",
            "_model_name": "HTMLModel",
            "_view_count": null,
            "_view_module": "@jupyter-widgets/controls",
            "_view_module_version": "1.5.0",
            "_view_name": "HTMLView",
            "description": "",
            "description_tooltip": null,
            "layout": "IPY_MODEL_94d9bb394adc43769b68cfcabf92e4de",
            "placeholder": "​",
            "style": "IPY_MODEL_6282e1fe5d7e480891743e165664947f",
            "value": "preprocessor_config.json: 100%"
          }
        },
        "c2812bbb8f804897822f5bbd9c288f29": {
          "model_module": "@jupyter-widgets/controls",
          "model_name": "FloatProgressModel",
          "model_module_version": "1.5.0",
          "state": {
            "_dom_classes": [],
            "_model_module": "@jupyter-widgets/controls",
            "_model_module_version": "1.5.0",
            "_model_name": "FloatProgressModel",
            "_view_count": null,
            "_view_module": "@jupyter-widgets/controls",
            "_view_module_version": "1.5.0",
            "_view_name": "ProgressView",
            "bar_style": "success",
            "description": "",
            "description_tooltip": null,
            "layout": "IPY_MODEL_acc03b519cb443e080c959476bc86749",
            "max": 342,
            "min": 0,
            "orientation": "horizontal",
            "style": "IPY_MODEL_1e72a1cb7db84052ad53fecced11f887",
            "value": 342
          }
        },
        "79f6c2a407b247339a44cbd0112e22a0": {
          "model_module": "@jupyter-widgets/controls",
          "model_name": "HTMLModel",
          "model_module_version": "1.5.0",
          "state": {
            "_dom_classes": [],
            "_model_module": "@jupyter-widgets/controls",
            "_model_module_version": "1.5.0",
            "_model_name": "HTMLModel",
            "_view_count": null,
            "_view_module": "@jupyter-widgets/controls",
            "_view_module_version": "1.5.0",
            "_view_name": "HTMLView",
            "description": "",
            "description_tooltip": null,
            "layout": "IPY_MODEL_0e27fdcb92eb495b85717cb2049612b1",
            "placeholder": "​",
            "style": "IPY_MODEL_1e4bef0eb7764e78b322485633028165",
            "value": " 342/342 [00:00&lt;00:00, 6.05kB/s]"
          }
        },
        "62b013c77c454419b83bbb80a5cc286a": {
          "model_module": "@jupyter-widgets/base",
          "model_name": "LayoutModel",
          "model_module_version": "1.2.0",
          "state": {
            "_model_module": "@jupyter-widgets/base",
            "_model_module_version": "1.2.0",
            "_model_name": "LayoutModel",
            "_view_count": null,
            "_view_module": "@jupyter-widgets/base",
            "_view_module_version": "1.2.0",
            "_view_name": "LayoutView",
            "align_content": null,
            "align_items": null,
            "align_self": null,
            "border": null,
            "bottom": null,
            "display": null,
            "flex": null,
            "flex_flow": null,
            "grid_area": null,
            "grid_auto_columns": null,
            "grid_auto_flow": null,
            "grid_auto_rows": null,
            "grid_column": null,
            "grid_gap": null,
            "grid_row": null,
            "grid_template_areas": null,
            "grid_template_columns": null,
            "grid_template_rows": null,
            "height": null,
            "justify_content": null,
            "justify_items": null,
            "left": null,
            "margin": null,
            "max_height": null,
            "max_width": null,
            "min_height": null,
            "min_width": null,
            "object_fit": null,
            "object_position": null,
            "order": null,
            "overflow": null,
            "overflow_x": null,
            "overflow_y": null,
            "padding": null,
            "right": null,
            "top": null,
            "visibility": null,
            "width": null
          }
        },
        "94d9bb394adc43769b68cfcabf92e4de": {
          "model_module": "@jupyter-widgets/base",
          "model_name": "LayoutModel",
          "model_module_version": "1.2.0",
          "state": {
            "_model_module": "@jupyter-widgets/base",
            "_model_module_version": "1.2.0",
            "_model_name": "LayoutModel",
            "_view_count": null,
            "_view_module": "@jupyter-widgets/base",
            "_view_module_version": "1.2.0",
            "_view_name": "LayoutView",
            "align_content": null,
            "align_items": null,
            "align_self": null,
            "border": null,
            "bottom": null,
            "display": null,
            "flex": null,
            "flex_flow": null,
            "grid_area": null,
            "grid_auto_columns": null,
            "grid_auto_flow": null,
            "grid_auto_rows": null,
            "grid_column": null,
            "grid_gap": null,
            "grid_row": null,
            "grid_template_areas": null,
            "grid_template_columns": null,
            "grid_template_rows": null,
            "height": null,
            "justify_content": null,
            "justify_items": null,
            "left": null,
            "margin": null,
            "max_height": null,
            "max_width": null,
            "min_height": null,
            "min_width": null,
            "object_fit": null,
            "object_position": null,
            "order": null,
            "overflow": null,
            "overflow_x": null,
            "overflow_y": null,
            "padding": null,
            "right": null,
            "top": null,
            "visibility": null,
            "width": null
          }
        },
        "6282e1fe5d7e480891743e165664947f": {
          "model_module": "@jupyter-widgets/controls",
          "model_name": "DescriptionStyleModel",
          "model_module_version": "1.5.0",
          "state": {
            "_model_module": "@jupyter-widgets/controls",
            "_model_module_version": "1.5.0",
            "_model_name": "DescriptionStyleModel",
            "_view_count": null,
            "_view_module": "@jupyter-widgets/base",
            "_view_module_version": "1.2.0",
            "_view_name": "StyleView",
            "description_width": ""
          }
        },
        "acc03b519cb443e080c959476bc86749": {
          "model_module": "@jupyter-widgets/base",
          "model_name": "LayoutModel",
          "model_module_version": "1.2.0",
          "state": {
            "_model_module": "@jupyter-widgets/base",
            "_model_module_version": "1.2.0",
            "_model_name": "LayoutModel",
            "_view_count": null,
            "_view_module": "@jupyter-widgets/base",
            "_view_module_version": "1.2.0",
            "_view_name": "LayoutView",
            "align_content": null,
            "align_items": null,
            "align_self": null,
            "border": null,
            "bottom": null,
            "display": null,
            "flex": null,
            "flex_flow": null,
            "grid_area": null,
            "grid_auto_columns": null,
            "grid_auto_flow": null,
            "grid_auto_rows": null,
            "grid_column": null,
            "grid_gap": null,
            "grid_row": null,
            "grid_template_areas": null,
            "grid_template_columns": null,
            "grid_template_rows": null,
            "height": null,
            "justify_content": null,
            "justify_items": null,
            "left": null,
            "margin": null,
            "max_height": null,
            "max_width": null,
            "min_height": null,
            "min_width": null,
            "object_fit": null,
            "object_position": null,
            "order": null,
            "overflow": null,
            "overflow_x": null,
            "overflow_y": null,
            "padding": null,
            "right": null,
            "top": null,
            "visibility": null,
            "width": null
          }
        },
        "1e72a1cb7db84052ad53fecced11f887": {
          "model_module": "@jupyter-widgets/controls",
          "model_name": "ProgressStyleModel",
          "model_module_version": "1.5.0",
          "state": {
            "_model_module": "@jupyter-widgets/controls",
            "_model_module_version": "1.5.0",
            "_model_name": "ProgressStyleModel",
            "_view_count": null,
            "_view_module": "@jupyter-widgets/base",
            "_view_module_version": "1.2.0",
            "_view_name": "StyleView",
            "bar_color": null,
            "description_width": ""
          }
        },
        "0e27fdcb92eb495b85717cb2049612b1": {
          "model_module": "@jupyter-widgets/base",
          "model_name": "LayoutModel",
          "model_module_version": "1.2.0",
          "state": {
            "_model_module": "@jupyter-widgets/base",
            "_model_module_version": "1.2.0",
            "_model_name": "LayoutModel",
            "_view_count": null,
            "_view_module": "@jupyter-widgets/base",
            "_view_module_version": "1.2.0",
            "_view_name": "LayoutView",
            "align_content": null,
            "align_items": null,
            "align_self": null,
            "border": null,
            "bottom": null,
            "display": null,
            "flex": null,
            "flex_flow": null,
            "grid_area": null,
            "grid_auto_columns": null,
            "grid_auto_flow": null,
            "grid_auto_rows": null,
            "grid_column": null,
            "grid_gap": null,
            "grid_row": null,
            "grid_template_areas": null,
            "grid_template_columns": null,
            "grid_template_rows": null,
            "height": null,
            "justify_content": null,
            "justify_items": null,
            "left": null,
            "margin": null,
            "max_height": null,
            "max_width": null,
            "min_height": null,
            "min_width": null,
            "object_fit": null,
            "object_position": null,
            "order": null,
            "overflow": null,
            "overflow_x": null,
            "overflow_y": null,
            "padding": null,
            "right": null,
            "top": null,
            "visibility": null,
            "width": null
          }
        },
        "1e4bef0eb7764e78b322485633028165": {
          "model_module": "@jupyter-widgets/controls",
          "model_name": "DescriptionStyleModel",
          "model_module_version": "1.5.0",
          "state": {
            "_model_module": "@jupyter-widgets/controls",
            "_model_module_version": "1.5.0",
            "_model_name": "DescriptionStyleModel",
            "_view_count": null,
            "_view_module": "@jupyter-widgets/base",
            "_view_module_version": "1.2.0",
            "_view_name": "StyleView",
            "description_width": ""
          }
        },
        "fac240ca037e4636a6cf06950b58ffec": {
          "model_module": "@jupyter-widgets/controls",
          "model_name": "HBoxModel",
          "model_module_version": "1.5.0",
          "state": {
            "_dom_classes": [],
            "_model_module": "@jupyter-widgets/controls",
            "_model_module_version": "1.5.0",
            "_model_name": "HBoxModel",
            "_view_count": null,
            "_view_module": "@jupyter-widgets/controls",
            "_view_module_version": "1.5.0",
            "_view_name": "HBoxView",
            "box_style": "",
            "children": [
              "IPY_MODEL_dde57655b810415cbd8e565c8548ae94",
              "IPY_MODEL_0535e84a175f4f15af065e591e8b4c15",
              "IPY_MODEL_5e0f479d237f4b80adbfaf4f6dad39db"
            ],
            "layout": "IPY_MODEL_c9268d44ea284b1384287466f6ba487b"
          }
        },
        "dde57655b810415cbd8e565c8548ae94": {
          "model_module": "@jupyter-widgets/controls",
          "model_name": "HTMLModel",
          "model_module_version": "1.5.0",
          "state": {
            "_dom_classes": [],
            "_model_module": "@jupyter-widgets/controls",
            "_model_module_version": "1.5.0",
            "_model_name": "HTMLModel",
            "_view_count": null,
            "_view_module": "@jupyter-widgets/controls",
            "_view_module_version": "1.5.0",
            "_view_name": "HTMLView",
            "description": "",
            "description_tooltip": null,
            "layout": "IPY_MODEL_4e8d3f3dd76c47b796253dbb7009f011",
            "placeholder": "​",
            "style": "IPY_MODEL_4a82f649ccd546668b49eb5a7cf9fd89",
            "value": "special_tokens_map.json: 100%"
          }
        },
        "0535e84a175f4f15af065e591e8b4c15": {
          "model_module": "@jupyter-widgets/controls",
          "model_name": "FloatProgressModel",
          "model_module_version": "1.5.0",
          "state": {
            "_dom_classes": [],
            "_model_module": "@jupyter-widgets/controls",
            "_model_module_version": "1.5.0",
            "_model_name": "FloatProgressModel",
            "_view_count": null,
            "_view_module": "@jupyter-widgets/controls",
            "_view_module_version": "1.5.0",
            "_view_name": "ProgressView",
            "bar_style": "success",
            "description": "",
            "description_tooltip": null,
            "layout": "IPY_MODEL_fbee95fd961b4752935c90f24eb50a7c",
            "max": 472,
            "min": 0,
            "orientation": "horizontal",
            "style": "IPY_MODEL_37893a9563e24beab93e841b9c9bd3dd",
            "value": 472
          }
        },
        "5e0f479d237f4b80adbfaf4f6dad39db": {
          "model_module": "@jupyter-widgets/controls",
          "model_name": "HTMLModel",
          "model_module_version": "1.5.0",
          "state": {
            "_dom_classes": [],
            "_model_module": "@jupyter-widgets/controls",
            "_model_module_version": "1.5.0",
            "_model_name": "HTMLModel",
            "_view_count": null,
            "_view_module": "@jupyter-widgets/controls",
            "_view_module_version": "1.5.0",
            "_view_name": "HTMLView",
            "description": "",
            "description_tooltip": null,
            "layout": "IPY_MODEL_ccbe5f2315ae4104a62fd85e1b01bec6",
            "placeholder": "​",
            "style": "IPY_MODEL_97f341616db1442e9eaa0a3fa458308a",
            "value": " 472/472 [00:00&lt;00:00, 7.68kB/s]"
          }
        },
        "c9268d44ea284b1384287466f6ba487b": {
          "model_module": "@jupyter-widgets/base",
          "model_name": "LayoutModel",
          "model_module_version": "1.2.0",
          "state": {
            "_model_module": "@jupyter-widgets/base",
            "_model_module_version": "1.2.0",
            "_model_name": "LayoutModel",
            "_view_count": null,
            "_view_module": "@jupyter-widgets/base",
            "_view_module_version": "1.2.0",
            "_view_name": "LayoutView",
            "align_content": null,
            "align_items": null,
            "align_self": null,
            "border": null,
            "bottom": null,
            "display": null,
            "flex": null,
            "flex_flow": null,
            "grid_area": null,
            "grid_auto_columns": null,
            "grid_auto_flow": null,
            "grid_auto_rows": null,
            "grid_column": null,
            "grid_gap": null,
            "grid_row": null,
            "grid_template_areas": null,
            "grid_template_columns": null,
            "grid_template_rows": null,
            "height": null,
            "justify_content": null,
            "justify_items": null,
            "left": null,
            "margin": null,
            "max_height": null,
            "max_width": null,
            "min_height": null,
            "min_width": null,
            "object_fit": null,
            "object_position": null,
            "order": null,
            "overflow": null,
            "overflow_x": null,
            "overflow_y": null,
            "padding": null,
            "right": null,
            "top": null,
            "visibility": null,
            "width": null
          }
        },
        "4e8d3f3dd76c47b796253dbb7009f011": {
          "model_module": "@jupyter-widgets/base",
          "model_name": "LayoutModel",
          "model_module_version": "1.2.0",
          "state": {
            "_model_module": "@jupyter-widgets/base",
            "_model_module_version": "1.2.0",
            "_model_name": "LayoutModel",
            "_view_count": null,
            "_view_module": "@jupyter-widgets/base",
            "_view_module_version": "1.2.0",
            "_view_name": "LayoutView",
            "align_content": null,
            "align_items": null,
            "align_self": null,
            "border": null,
            "bottom": null,
            "display": null,
            "flex": null,
            "flex_flow": null,
            "grid_area": null,
            "grid_auto_columns": null,
            "grid_auto_flow": null,
            "grid_auto_rows": null,
            "grid_column": null,
            "grid_gap": null,
            "grid_row": null,
            "grid_template_areas": null,
            "grid_template_columns": null,
            "grid_template_rows": null,
            "height": null,
            "justify_content": null,
            "justify_items": null,
            "left": null,
            "margin": null,
            "max_height": null,
            "max_width": null,
            "min_height": null,
            "min_width": null,
            "object_fit": null,
            "object_position": null,
            "order": null,
            "overflow": null,
            "overflow_x": null,
            "overflow_y": null,
            "padding": null,
            "right": null,
            "top": null,
            "visibility": null,
            "width": null
          }
        },
        "4a82f649ccd546668b49eb5a7cf9fd89": {
          "model_module": "@jupyter-widgets/controls",
          "model_name": "DescriptionStyleModel",
          "model_module_version": "1.5.0",
          "state": {
            "_model_module": "@jupyter-widgets/controls",
            "_model_module_version": "1.5.0",
            "_model_name": "DescriptionStyleModel",
            "_view_count": null,
            "_view_module": "@jupyter-widgets/base",
            "_view_module_version": "1.2.0",
            "_view_name": "StyleView",
            "description_width": ""
          }
        },
        "fbee95fd961b4752935c90f24eb50a7c": {
          "model_module": "@jupyter-widgets/base",
          "model_name": "LayoutModel",
          "model_module_version": "1.2.0",
          "state": {
            "_model_module": "@jupyter-widgets/base",
            "_model_module_version": "1.2.0",
            "_model_name": "LayoutModel",
            "_view_count": null,
            "_view_module": "@jupyter-widgets/base",
            "_view_module_version": "1.2.0",
            "_view_name": "LayoutView",
            "align_content": null,
            "align_items": null,
            "align_self": null,
            "border": null,
            "bottom": null,
            "display": null,
            "flex": null,
            "flex_flow": null,
            "grid_area": null,
            "grid_auto_columns": null,
            "grid_auto_flow": null,
            "grid_auto_rows": null,
            "grid_column": null,
            "grid_gap": null,
            "grid_row": null,
            "grid_template_areas": null,
            "grid_template_columns": null,
            "grid_template_rows": null,
            "height": null,
            "justify_content": null,
            "justify_items": null,
            "left": null,
            "margin": null,
            "max_height": null,
            "max_width": null,
            "min_height": null,
            "min_width": null,
            "object_fit": null,
            "object_position": null,
            "order": null,
            "overflow": null,
            "overflow_x": null,
            "overflow_y": null,
            "padding": null,
            "right": null,
            "top": null,
            "visibility": null,
            "width": null
          }
        },
        "37893a9563e24beab93e841b9c9bd3dd": {
          "model_module": "@jupyter-widgets/controls",
          "model_name": "ProgressStyleModel",
          "model_module_version": "1.5.0",
          "state": {
            "_model_module": "@jupyter-widgets/controls",
            "_model_module_version": "1.5.0",
            "_model_name": "ProgressStyleModel",
            "_view_count": null,
            "_view_module": "@jupyter-widgets/base",
            "_view_module_version": "1.2.0",
            "_view_name": "StyleView",
            "bar_color": null,
            "description_width": ""
          }
        },
        "ccbe5f2315ae4104a62fd85e1b01bec6": {
          "model_module": "@jupyter-widgets/base",
          "model_name": "LayoutModel",
          "model_module_version": "1.2.0",
          "state": {
            "_model_module": "@jupyter-widgets/base",
            "_model_module_version": "1.2.0",
            "_model_name": "LayoutModel",
            "_view_count": null,
            "_view_module": "@jupyter-widgets/base",
            "_view_module_version": "1.2.0",
            "_view_name": "LayoutView",
            "align_content": null,
            "align_items": null,
            "align_self": null,
            "border": null,
            "bottom": null,
            "display": null,
            "flex": null,
            "flex_flow": null,
            "grid_area": null,
            "grid_auto_columns": null,
            "grid_auto_flow": null,
            "grid_auto_rows": null,
            "grid_column": null,
            "grid_gap": null,
            "grid_row": null,
            "grid_template_areas": null,
            "grid_template_columns": null,
            "grid_template_rows": null,
            "height": null,
            "justify_content": null,
            "justify_items": null,
            "left": null,
            "margin": null,
            "max_height": null,
            "max_width": null,
            "min_height": null,
            "min_width": null,
            "object_fit": null,
            "object_position": null,
            "order": null,
            "overflow": null,
            "overflow_x": null,
            "overflow_y": null,
            "padding": null,
            "right": null,
            "top": null,
            "visibility": null,
            "width": null
          }
        },
        "97f341616db1442e9eaa0a3fa458308a": {
          "model_module": "@jupyter-widgets/controls",
          "model_name": "DescriptionStyleModel",
          "model_module_version": "1.5.0",
          "state": {
            "_model_module": "@jupyter-widgets/controls",
            "_model_module_version": "1.5.0",
            "_model_name": "DescriptionStyleModel",
            "_view_count": null,
            "_view_module": "@jupyter-widgets/base",
            "_view_module_version": "1.2.0",
            "_view_name": "StyleView",
            "description_width": ""
          }
        },
        "aa0bf32744944c0c8c207bfe4aec175f": {
          "model_module": "@jupyter-widgets/controls",
          "model_name": "HBoxModel",
          "model_module_version": "1.5.0",
          "state": {
            "_dom_classes": [],
            "_model_module": "@jupyter-widgets/controls",
            "_model_module_version": "1.5.0",
            "_model_name": "HBoxModel",
            "_view_count": null,
            "_view_module": "@jupyter-widgets/controls",
            "_view_module_version": "1.5.0",
            "_view_name": "HBoxView",
            "box_style": "",
            "children": [
              "IPY_MODEL_9a9805c397304240aca0393e0bafc7be",
              "IPY_MODEL_3c411f0e208a4cbd86f4239e14562295",
              "IPY_MODEL_10eb45f34d77457098f66cce36a78487"
            ],
            "layout": "IPY_MODEL_cfb8e3742c97432facefb7750ab1c344"
          }
        },
        "9a9805c397304240aca0393e0bafc7be": {
          "model_module": "@jupyter-widgets/controls",
          "model_name": "HTMLModel",
          "model_module_version": "1.5.0",
          "state": {
            "_dom_classes": [],
            "_model_module": "@jupyter-widgets/controls",
            "_model_module_version": "1.5.0",
            "_model_name": "HTMLModel",
            "_view_count": null,
            "_view_module": "@jupyter-widgets/controls",
            "_view_module_version": "1.5.0",
            "_view_name": "HTMLView",
            "description": "",
            "description_tooltip": null,
            "layout": "IPY_MODEL_8df450f46cac47929f5fa4d8f2a8f570",
            "placeholder": "​",
            "style": "IPY_MODEL_31e0b53c61564feb841efe3308564f11",
            "value": "config.json: 100%"
          }
        },
        "3c411f0e208a4cbd86f4239e14562295": {
          "model_module": "@jupyter-widgets/controls",
          "model_name": "FloatProgressModel",
          "model_module_version": "1.5.0",
          "state": {
            "_dom_classes": [],
            "_model_module": "@jupyter-widgets/controls",
            "_model_module_version": "1.5.0",
            "_model_name": "FloatProgressModel",
            "_view_count": null,
            "_view_module": "@jupyter-widgets/controls",
            "_view_module_version": "1.5.0",
            "_view_name": "ProgressView",
            "bar_style": "success",
            "description": "",
            "description_tooltip": null,
            "layout": "IPY_MODEL_c4ee8226053b499aa2359a2211b85cf5",
            "max": 4723,
            "min": 0,
            "orientation": "horizontal",
            "style": "IPY_MODEL_1496e2f112bd4b919edf09174f8ee547",
            "value": 4723
          }
        },
        "10eb45f34d77457098f66cce36a78487": {
          "model_module": "@jupyter-widgets/controls",
          "model_name": "HTMLModel",
          "model_module_version": "1.5.0",
          "state": {
            "_dom_classes": [],
            "_model_module": "@jupyter-widgets/controls",
            "_model_module_version": "1.5.0",
            "_model_name": "HTMLModel",
            "_view_count": null,
            "_view_module": "@jupyter-widgets/controls",
            "_view_module_version": "1.5.0",
            "_view_name": "HTMLView",
            "description": "",
            "description_tooltip": null,
            "layout": "IPY_MODEL_22a5079bbac043088388f62898b3f39d",
            "placeholder": "​",
            "style": "IPY_MODEL_c3b52e9602e74be2bcb95118b2205cd8",
            "value": " 4.72k/4.72k [00:00&lt;00:00, 53.7kB/s]"
          }
        },
        "cfb8e3742c97432facefb7750ab1c344": {
          "model_module": "@jupyter-widgets/base",
          "model_name": "LayoutModel",
          "model_module_version": "1.2.0",
          "state": {
            "_model_module": "@jupyter-widgets/base",
            "_model_module_version": "1.2.0",
            "_model_name": "LayoutModel",
            "_view_count": null,
            "_view_module": "@jupyter-widgets/base",
            "_view_module_version": "1.2.0",
            "_view_name": "LayoutView",
            "align_content": null,
            "align_items": null,
            "align_self": null,
            "border": null,
            "bottom": null,
            "display": null,
            "flex": null,
            "flex_flow": null,
            "grid_area": null,
            "grid_auto_columns": null,
            "grid_auto_flow": null,
            "grid_auto_rows": null,
            "grid_column": null,
            "grid_gap": null,
            "grid_row": null,
            "grid_template_areas": null,
            "grid_template_columns": null,
            "grid_template_rows": null,
            "height": null,
            "justify_content": null,
            "justify_items": null,
            "left": null,
            "margin": null,
            "max_height": null,
            "max_width": null,
            "min_height": null,
            "min_width": null,
            "object_fit": null,
            "object_position": null,
            "order": null,
            "overflow": null,
            "overflow_x": null,
            "overflow_y": null,
            "padding": null,
            "right": null,
            "top": null,
            "visibility": null,
            "width": null
          }
        },
        "8df450f46cac47929f5fa4d8f2a8f570": {
          "model_module": "@jupyter-widgets/base",
          "model_name": "LayoutModel",
          "model_module_version": "1.2.0",
          "state": {
            "_model_module": "@jupyter-widgets/base",
            "_model_module_version": "1.2.0",
            "_model_name": "LayoutModel",
            "_view_count": null,
            "_view_module": "@jupyter-widgets/base",
            "_view_module_version": "1.2.0",
            "_view_name": "LayoutView",
            "align_content": null,
            "align_items": null,
            "align_self": null,
            "border": null,
            "bottom": null,
            "display": null,
            "flex": null,
            "flex_flow": null,
            "grid_area": null,
            "grid_auto_columns": null,
            "grid_auto_flow": null,
            "grid_auto_rows": null,
            "grid_column": null,
            "grid_gap": null,
            "grid_row": null,
            "grid_template_areas": null,
            "grid_template_columns": null,
            "grid_template_rows": null,
            "height": null,
            "justify_content": null,
            "justify_items": null,
            "left": null,
            "margin": null,
            "max_height": null,
            "max_width": null,
            "min_height": null,
            "min_width": null,
            "object_fit": null,
            "object_position": null,
            "order": null,
            "overflow": null,
            "overflow_x": null,
            "overflow_y": null,
            "padding": null,
            "right": null,
            "top": null,
            "visibility": null,
            "width": null
          }
        },
        "31e0b53c61564feb841efe3308564f11": {
          "model_module": "@jupyter-widgets/controls",
          "model_name": "DescriptionStyleModel",
          "model_module_version": "1.5.0",
          "state": {
            "_model_module": "@jupyter-widgets/controls",
            "_model_module_version": "1.5.0",
            "_model_name": "DescriptionStyleModel",
            "_view_count": null,
            "_view_module": "@jupyter-widgets/base",
            "_view_module_version": "1.2.0",
            "_view_name": "StyleView",
            "description_width": ""
          }
        },
        "c4ee8226053b499aa2359a2211b85cf5": {
          "model_module": "@jupyter-widgets/base",
          "model_name": "LayoutModel",
          "model_module_version": "1.2.0",
          "state": {
            "_model_module": "@jupyter-widgets/base",
            "_model_module_version": "1.2.0",
            "_model_name": "LayoutModel",
            "_view_count": null,
            "_view_module": "@jupyter-widgets/base",
            "_view_module_version": "1.2.0",
            "_view_name": "LayoutView",
            "align_content": null,
            "align_items": null,
            "align_self": null,
            "border": null,
            "bottom": null,
            "display": null,
            "flex": null,
            "flex_flow": null,
            "grid_area": null,
            "grid_auto_columns": null,
            "grid_auto_flow": null,
            "grid_auto_rows": null,
            "grid_column": null,
            "grid_gap": null,
            "grid_row": null,
            "grid_template_areas": null,
            "grid_template_columns": null,
            "grid_template_rows": null,
            "height": null,
            "justify_content": null,
            "justify_items": null,
            "left": null,
            "margin": null,
            "max_height": null,
            "max_width": null,
            "min_height": null,
            "min_width": null,
            "object_fit": null,
            "object_position": null,
            "order": null,
            "overflow": null,
            "overflow_x": null,
            "overflow_y": null,
            "padding": null,
            "right": null,
            "top": null,
            "visibility": null,
            "width": null
          }
        },
        "1496e2f112bd4b919edf09174f8ee547": {
          "model_module": "@jupyter-widgets/controls",
          "model_name": "ProgressStyleModel",
          "model_module_version": "1.5.0",
          "state": {
            "_model_module": "@jupyter-widgets/controls",
            "_model_module_version": "1.5.0",
            "_model_name": "ProgressStyleModel",
            "_view_count": null,
            "_view_module": "@jupyter-widgets/base",
            "_view_module_version": "1.2.0",
            "_view_name": "StyleView",
            "bar_color": null,
            "description_width": ""
          }
        },
        "22a5079bbac043088388f62898b3f39d": {
          "model_module": "@jupyter-widgets/base",
          "model_name": "LayoutModel",
          "model_module_version": "1.2.0",
          "state": {
            "_model_module": "@jupyter-widgets/base",
            "_model_module_version": "1.2.0",
            "_model_name": "LayoutModel",
            "_view_count": null,
            "_view_module": "@jupyter-widgets/base",
            "_view_module_version": "1.2.0",
            "_view_name": "LayoutView",
            "align_content": null,
            "align_items": null,
            "align_self": null,
            "border": null,
            "bottom": null,
            "display": null,
            "flex": null,
            "flex_flow": null,
            "grid_area": null,
            "grid_auto_columns": null,
            "grid_auto_flow": null,
            "grid_auto_rows": null,
            "grid_column": null,
            "grid_gap": null,
            "grid_row": null,
            "grid_template_areas": null,
            "grid_template_columns": null,
            "grid_template_rows": null,
            "height": null,
            "justify_content": null,
            "justify_items": null,
            "left": null,
            "margin": null,
            "max_height": null,
            "max_width": null,
            "min_height": null,
            "min_width": null,
            "object_fit": null,
            "object_position": null,
            "order": null,
            "overflow": null,
            "overflow_x": null,
            "overflow_y": null,
            "padding": null,
            "right": null,
            "top": null,
            "visibility": null,
            "width": null
          }
        },
        "c3b52e9602e74be2bcb95118b2205cd8": {
          "model_module": "@jupyter-widgets/controls",
          "model_name": "DescriptionStyleModel",
          "model_module_version": "1.5.0",
          "state": {
            "_model_module": "@jupyter-widgets/controls",
            "_model_module_version": "1.5.0",
            "_model_name": "DescriptionStyleModel",
            "_view_count": null,
            "_view_module": "@jupyter-widgets/base",
            "_view_module_version": "1.2.0",
            "_view_name": "StyleView",
            "description_width": ""
          }
        },
        "077c59dc10c94b9eacada94916bf2bd7": {
          "model_module": "@jupyter-widgets/controls",
          "model_name": "HBoxModel",
          "model_module_version": "1.5.0",
          "state": {
            "_dom_classes": [],
            "_model_module": "@jupyter-widgets/controls",
            "_model_module_version": "1.5.0",
            "_model_name": "HBoxModel",
            "_view_count": null,
            "_view_module": "@jupyter-widgets/controls",
            "_view_module_version": "1.5.0",
            "_view_name": "HBoxView",
            "box_style": "",
            "children": [
              "IPY_MODEL_b31d92843f8042d7b7e742e5006f2abe",
              "IPY_MODEL_207b8dd3a4664462a83b96f5ea30efb9",
              "IPY_MODEL_4bfeabbaecdc484fa7c8b4468ce5606a"
            ],
            "layout": "IPY_MODEL_2f759b6e3ba24e2181e1478480cf50a4"
          }
        },
        "b31d92843f8042d7b7e742e5006f2abe": {
          "model_module": "@jupyter-widgets/controls",
          "model_name": "HTMLModel",
          "model_module_version": "1.5.0",
          "state": {
            "_dom_classes": [],
            "_model_module": "@jupyter-widgets/controls",
            "_model_module_version": "1.5.0",
            "_model_name": "HTMLModel",
            "_view_count": null,
            "_view_module": "@jupyter-widgets/controls",
            "_view_module_version": "1.5.0",
            "_view_name": "HTMLView",
            "description": "",
            "description_tooltip": null,
            "layout": "IPY_MODEL_7fb04c678fbe4b73b0e85cafbe6e1421",
            "placeholder": "​",
            "style": "IPY_MODEL_29e64abb95a047719951640789694ca1",
            "value": "merges.txt: 100%"
          }
        },
        "207b8dd3a4664462a83b96f5ea30efb9": {
          "model_module": "@jupyter-widgets/controls",
          "model_name": "FloatProgressModel",
          "model_module_version": "1.5.0",
          "state": {
            "_dom_classes": [],
            "_model_module": "@jupyter-widgets/controls",
            "_model_module_version": "1.5.0",
            "_model_name": "FloatProgressModel",
            "_view_count": null,
            "_view_module": "@jupyter-widgets/controls",
            "_view_module_version": "1.5.0",
            "_view_name": "ProgressView",
            "bar_style": "success",
            "description": "",
            "description_tooltip": null,
            "layout": "IPY_MODEL_f39983b953754cefb851b4833bdadb1c",
            "max": 524619,
            "min": 0,
            "orientation": "horizontal",
            "style": "IPY_MODEL_b971a132e137456aa2d9d348cfbaa732",
            "value": 524619
          }
        },
        "4bfeabbaecdc484fa7c8b4468ce5606a": {
          "model_module": "@jupyter-widgets/controls",
          "model_name": "HTMLModel",
          "model_module_version": "1.5.0",
          "state": {
            "_dom_classes": [],
            "_model_module": "@jupyter-widgets/controls",
            "_model_module_version": "1.5.0",
            "_model_name": "HTMLModel",
            "_view_count": null,
            "_view_module": "@jupyter-widgets/controls",
            "_view_module_version": "1.5.0",
            "_view_name": "HTMLView",
            "description": "",
            "description_tooltip": null,
            "layout": "IPY_MODEL_33dd21c072cb4b50bea69d2842732bd5",
            "placeholder": "​",
            "style": "IPY_MODEL_fb2253531335435993daa3b198245a03",
            "value": " 525k/525k [00:00&lt;00:00, 823kB/s]"
          }
        },
        "2f759b6e3ba24e2181e1478480cf50a4": {
          "model_module": "@jupyter-widgets/base",
          "model_name": "LayoutModel",
          "model_module_version": "1.2.0",
          "state": {
            "_model_module": "@jupyter-widgets/base",
            "_model_module_version": "1.2.0",
            "_model_name": "LayoutModel",
            "_view_count": null,
            "_view_module": "@jupyter-widgets/base",
            "_view_module_version": "1.2.0",
            "_view_name": "LayoutView",
            "align_content": null,
            "align_items": null,
            "align_self": null,
            "border": null,
            "bottom": null,
            "display": null,
            "flex": null,
            "flex_flow": null,
            "grid_area": null,
            "grid_auto_columns": null,
            "grid_auto_flow": null,
            "grid_auto_rows": null,
            "grid_column": null,
            "grid_gap": null,
            "grid_row": null,
            "grid_template_areas": null,
            "grid_template_columns": null,
            "grid_template_rows": null,
            "height": null,
            "justify_content": null,
            "justify_items": null,
            "left": null,
            "margin": null,
            "max_height": null,
            "max_width": null,
            "min_height": null,
            "min_width": null,
            "object_fit": null,
            "object_position": null,
            "order": null,
            "overflow": null,
            "overflow_x": null,
            "overflow_y": null,
            "padding": null,
            "right": null,
            "top": null,
            "visibility": null,
            "width": null
          }
        },
        "7fb04c678fbe4b73b0e85cafbe6e1421": {
          "model_module": "@jupyter-widgets/base",
          "model_name": "LayoutModel",
          "model_module_version": "1.2.0",
          "state": {
            "_model_module": "@jupyter-widgets/base",
            "_model_module_version": "1.2.0",
            "_model_name": "LayoutModel",
            "_view_count": null,
            "_view_module": "@jupyter-widgets/base",
            "_view_module_version": "1.2.0",
            "_view_name": "LayoutView",
            "align_content": null,
            "align_items": null,
            "align_self": null,
            "border": null,
            "bottom": null,
            "display": null,
            "flex": null,
            "flex_flow": null,
            "grid_area": null,
            "grid_auto_columns": null,
            "grid_auto_flow": null,
            "grid_auto_rows": null,
            "grid_column": null,
            "grid_gap": null,
            "grid_row": null,
            "grid_template_areas": null,
            "grid_template_columns": null,
            "grid_template_rows": null,
            "height": null,
            "justify_content": null,
            "justify_items": null,
            "left": null,
            "margin": null,
            "max_height": null,
            "max_width": null,
            "min_height": null,
            "min_width": null,
            "object_fit": null,
            "object_position": null,
            "order": null,
            "overflow": null,
            "overflow_x": null,
            "overflow_y": null,
            "padding": null,
            "right": null,
            "top": null,
            "visibility": null,
            "width": null
          }
        },
        "29e64abb95a047719951640789694ca1": {
          "model_module": "@jupyter-widgets/controls",
          "model_name": "DescriptionStyleModel",
          "model_module_version": "1.5.0",
          "state": {
            "_model_module": "@jupyter-widgets/controls",
            "_model_module_version": "1.5.0",
            "_model_name": "DescriptionStyleModel",
            "_view_count": null,
            "_view_module": "@jupyter-widgets/base",
            "_view_module_version": "1.2.0",
            "_view_name": "StyleView",
            "description_width": ""
          }
        },
        "f39983b953754cefb851b4833bdadb1c": {
          "model_module": "@jupyter-widgets/base",
          "model_name": "LayoutModel",
          "model_module_version": "1.2.0",
          "state": {
            "_model_module": "@jupyter-widgets/base",
            "_model_module_version": "1.2.0",
            "_model_name": "LayoutModel",
            "_view_count": null,
            "_view_module": "@jupyter-widgets/base",
            "_view_module_version": "1.2.0",
            "_view_name": "LayoutView",
            "align_content": null,
            "align_items": null,
            "align_self": null,
            "border": null,
            "bottom": null,
            "display": null,
            "flex": null,
            "flex_flow": null,
            "grid_area": null,
            "grid_auto_columns": null,
            "grid_auto_flow": null,
            "grid_auto_rows": null,
            "grid_column": null,
            "grid_gap": null,
            "grid_row": null,
            "grid_template_areas": null,
            "grid_template_columns": null,
            "grid_template_rows": null,
            "height": null,
            "justify_content": null,
            "justify_items": null,
            "left": null,
            "margin": null,
            "max_height": null,
            "max_width": null,
            "min_height": null,
            "min_width": null,
            "object_fit": null,
            "object_position": null,
            "order": null,
            "overflow": null,
            "overflow_x": null,
            "overflow_y": null,
            "padding": null,
            "right": null,
            "top": null,
            "visibility": null,
            "width": null
          }
        },
        "b971a132e137456aa2d9d348cfbaa732": {
          "model_module": "@jupyter-widgets/controls",
          "model_name": "ProgressStyleModel",
          "model_module_version": "1.5.0",
          "state": {
            "_model_module": "@jupyter-widgets/controls",
            "_model_module_version": "1.5.0",
            "_model_name": "ProgressStyleModel",
            "_view_count": null,
            "_view_module": "@jupyter-widgets/base",
            "_view_module_version": "1.2.0",
            "_view_name": "StyleView",
            "bar_color": null,
            "description_width": ""
          }
        },
        "33dd21c072cb4b50bea69d2842732bd5": {
          "model_module": "@jupyter-widgets/base",
          "model_name": "LayoutModel",
          "model_module_version": "1.2.0",
          "state": {
            "_model_module": "@jupyter-widgets/base",
            "_model_module_version": "1.2.0",
            "_model_name": "LayoutModel",
            "_view_count": null,
            "_view_module": "@jupyter-widgets/base",
            "_view_module_version": "1.2.0",
            "_view_name": "LayoutView",
            "align_content": null,
            "align_items": null,
            "align_self": null,
            "border": null,
            "bottom": null,
            "display": null,
            "flex": null,
            "flex_flow": null,
            "grid_area": null,
            "grid_auto_columns": null,
            "grid_auto_flow": null,
            "grid_auto_rows": null,
            "grid_column": null,
            "grid_gap": null,
            "grid_row": null,
            "grid_template_areas": null,
            "grid_template_columns": null,
            "grid_template_rows": null,
            "height": null,
            "justify_content": null,
            "justify_items": null,
            "left": null,
            "margin": null,
            "max_height": null,
            "max_width": null,
            "min_height": null,
            "min_width": null,
            "object_fit": null,
            "object_position": null,
            "order": null,
            "overflow": null,
            "overflow_x": null,
            "overflow_y": null,
            "padding": null,
            "right": null,
            "top": null,
            "visibility": null,
            "width": null
          }
        },
        "fb2253531335435993daa3b198245a03": {
          "model_module": "@jupyter-widgets/controls",
          "model_name": "DescriptionStyleModel",
          "model_module_version": "1.5.0",
          "state": {
            "_model_module": "@jupyter-widgets/controls",
            "_model_module_version": "1.5.0",
            "_model_name": "DescriptionStyleModel",
            "_view_count": null,
            "_view_module": "@jupyter-widgets/base",
            "_view_module_version": "1.2.0",
            "_view_name": "StyleView",
            "description_width": ""
          }
        },
        "a3ee300f407249789fa3b2989ad3d9b6": {
          "model_module": "@jupyter-widgets/controls",
          "model_name": "HBoxModel",
          "model_module_version": "1.5.0",
          "state": {
            "_dom_classes": [],
            "_model_module": "@jupyter-widgets/controls",
            "_model_module_version": "1.5.0",
            "_model_name": "HBoxModel",
            "_view_count": null,
            "_view_module": "@jupyter-widgets/controls",
            "_view_module_version": "1.5.0",
            "_view_name": "HBoxView",
            "box_style": "",
            "children": [
              "IPY_MODEL_0517b47dc39946658e9ab5318dfa84ea",
              "IPY_MODEL_f35ffedd7a1e4777b6da098833883906",
              "IPY_MODEL_b4ec285942544f9ea8a07bec98db7398"
            ],
            "layout": "IPY_MODEL_f7a9bf7f4601469abc0350065bc84b8e"
          }
        },
        "0517b47dc39946658e9ab5318dfa84ea": {
          "model_module": "@jupyter-widgets/controls",
          "model_name": "HTMLModel",
          "model_module_version": "1.5.0",
          "state": {
            "_dom_classes": [],
            "_model_module": "@jupyter-widgets/controls",
            "_model_module_version": "1.5.0",
            "_model_name": "HTMLModel",
            "_view_count": null,
            "_view_module": "@jupyter-widgets/controls",
            "_view_module_version": "1.5.0",
            "_view_name": "HTMLView",
            "description": "",
            "description_tooltip": null,
            "layout": "IPY_MODEL_0358b3eb8c214adbba33cd1ed35bc76b",
            "placeholder": "​",
            "style": "IPY_MODEL_d3dde4bf6d96412d8d071f789960abab",
            "value": "config.json: 100%"
          }
        },
        "f35ffedd7a1e4777b6da098833883906": {
          "model_module": "@jupyter-widgets/controls",
          "model_name": "FloatProgressModel",
          "model_module_version": "1.5.0",
          "state": {
            "_dom_classes": [],
            "_model_module": "@jupyter-widgets/controls",
            "_model_module_version": "1.5.0",
            "_model_name": "FloatProgressModel",
            "_view_count": null,
            "_view_module": "@jupyter-widgets/controls",
            "_view_module_version": "1.5.0",
            "_view_name": "ProgressView",
            "bar_style": "success",
            "description": "",
            "description_tooltip": null,
            "layout": "IPY_MODEL_5614e152fb2442129a1f560eba88dd05",
            "max": 617,
            "min": 0,
            "orientation": "horizontal",
            "style": "IPY_MODEL_aea63dc499154ba0b9cc8905d8b25754",
            "value": 617
          }
        },
        "b4ec285942544f9ea8a07bec98db7398": {
          "model_module": "@jupyter-widgets/controls",
          "model_name": "HTMLModel",
          "model_module_version": "1.5.0",
          "state": {
            "_dom_classes": [],
            "_model_module": "@jupyter-widgets/controls",
            "_model_module_version": "1.5.0",
            "_model_name": "HTMLModel",
            "_view_count": null,
            "_view_module": "@jupyter-widgets/controls",
            "_view_module_version": "1.5.0",
            "_view_name": "HTMLView",
            "description": "",
            "description_tooltip": null,
            "layout": "IPY_MODEL_0839c6ddd81f42b983eace4e2cb151c2",
            "placeholder": "​",
            "style": "IPY_MODEL_596f1c06dd984c71a61fd29d64c11410",
            "value": " 617/617 [00:00&lt;00:00, 5.94kB/s]"
          }
        },
        "f7a9bf7f4601469abc0350065bc84b8e": {
          "model_module": "@jupyter-widgets/base",
          "model_name": "LayoutModel",
          "model_module_version": "1.2.0",
          "state": {
            "_model_module": "@jupyter-widgets/base",
            "_model_module_version": "1.2.0",
            "_model_name": "LayoutModel",
            "_view_count": null,
            "_view_module": "@jupyter-widgets/base",
            "_view_module_version": "1.2.0",
            "_view_name": "LayoutView",
            "align_content": null,
            "align_items": null,
            "align_self": null,
            "border": null,
            "bottom": null,
            "display": null,
            "flex": null,
            "flex_flow": null,
            "grid_area": null,
            "grid_auto_columns": null,
            "grid_auto_flow": null,
            "grid_auto_rows": null,
            "grid_column": null,
            "grid_gap": null,
            "grid_row": null,
            "grid_template_areas": null,
            "grid_template_columns": null,
            "grid_template_rows": null,
            "height": null,
            "justify_content": null,
            "justify_items": null,
            "left": null,
            "margin": null,
            "max_height": null,
            "max_width": null,
            "min_height": null,
            "min_width": null,
            "object_fit": null,
            "object_position": null,
            "order": null,
            "overflow": null,
            "overflow_x": null,
            "overflow_y": null,
            "padding": null,
            "right": null,
            "top": null,
            "visibility": null,
            "width": null
          }
        },
        "0358b3eb8c214adbba33cd1ed35bc76b": {
          "model_module": "@jupyter-widgets/base",
          "model_name": "LayoutModel",
          "model_module_version": "1.2.0",
          "state": {
            "_model_module": "@jupyter-widgets/base",
            "_model_module_version": "1.2.0",
            "_model_name": "LayoutModel",
            "_view_count": null,
            "_view_module": "@jupyter-widgets/base",
            "_view_module_version": "1.2.0",
            "_view_name": "LayoutView",
            "align_content": null,
            "align_items": null,
            "align_self": null,
            "border": null,
            "bottom": null,
            "display": null,
            "flex": null,
            "flex_flow": null,
            "grid_area": null,
            "grid_auto_columns": null,
            "grid_auto_flow": null,
            "grid_auto_rows": null,
            "grid_column": null,
            "grid_gap": null,
            "grid_row": null,
            "grid_template_areas": null,
            "grid_template_columns": null,
            "grid_template_rows": null,
            "height": null,
            "justify_content": null,
            "justify_items": null,
            "left": null,
            "margin": null,
            "max_height": null,
            "max_width": null,
            "min_height": null,
            "min_width": null,
            "object_fit": null,
            "object_position": null,
            "order": null,
            "overflow": null,
            "overflow_x": null,
            "overflow_y": null,
            "padding": null,
            "right": null,
            "top": null,
            "visibility": null,
            "width": null
          }
        },
        "d3dde4bf6d96412d8d071f789960abab": {
          "model_module": "@jupyter-widgets/controls",
          "model_name": "DescriptionStyleModel",
          "model_module_version": "1.5.0",
          "state": {
            "_model_module": "@jupyter-widgets/controls",
            "_model_module_version": "1.5.0",
            "_model_name": "DescriptionStyleModel",
            "_view_count": null,
            "_view_module": "@jupyter-widgets/base",
            "_view_module_version": "1.2.0",
            "_view_name": "StyleView",
            "description_width": ""
          }
        },
        "5614e152fb2442129a1f560eba88dd05": {
          "model_module": "@jupyter-widgets/base",
          "model_name": "LayoutModel",
          "model_module_version": "1.2.0",
          "state": {
            "_model_module": "@jupyter-widgets/base",
            "_model_module_version": "1.2.0",
            "_model_name": "LayoutModel",
            "_view_count": null,
            "_view_module": "@jupyter-widgets/base",
            "_view_module_version": "1.2.0",
            "_view_name": "LayoutView",
            "align_content": null,
            "align_items": null,
            "align_self": null,
            "border": null,
            "bottom": null,
            "display": null,
            "flex": null,
            "flex_flow": null,
            "grid_area": null,
            "grid_auto_columns": null,
            "grid_auto_flow": null,
            "grid_auto_rows": null,
            "grid_column": null,
            "grid_gap": null,
            "grid_row": null,
            "grid_template_areas": null,
            "grid_template_columns": null,
            "grid_template_rows": null,
            "height": null,
            "justify_content": null,
            "justify_items": null,
            "left": null,
            "margin": null,
            "max_height": null,
            "max_width": null,
            "min_height": null,
            "min_width": null,
            "object_fit": null,
            "object_position": null,
            "order": null,
            "overflow": null,
            "overflow_x": null,
            "overflow_y": null,
            "padding": null,
            "right": null,
            "top": null,
            "visibility": null,
            "width": null
          }
        },
        "aea63dc499154ba0b9cc8905d8b25754": {
          "model_module": "@jupyter-widgets/controls",
          "model_name": "ProgressStyleModel",
          "model_module_version": "1.5.0",
          "state": {
            "_model_module": "@jupyter-widgets/controls",
            "_model_module_version": "1.5.0",
            "_model_name": "ProgressStyleModel",
            "_view_count": null,
            "_view_module": "@jupyter-widgets/base",
            "_view_module_version": "1.2.0",
            "_view_name": "StyleView",
            "bar_color": null,
            "description_width": ""
          }
        },
        "0839c6ddd81f42b983eace4e2cb151c2": {
          "model_module": "@jupyter-widgets/base",
          "model_name": "LayoutModel",
          "model_module_version": "1.2.0",
          "state": {
            "_model_module": "@jupyter-widgets/base",
            "_model_module_version": "1.2.0",
            "_model_name": "LayoutModel",
            "_view_count": null,
            "_view_module": "@jupyter-widgets/base",
            "_view_module_version": "1.2.0",
            "_view_name": "LayoutView",
            "align_content": null,
            "align_items": null,
            "align_self": null,
            "border": null,
            "bottom": null,
            "display": null,
            "flex": null,
            "flex_flow": null,
            "grid_area": null,
            "grid_auto_columns": null,
            "grid_auto_flow": null,
            "grid_auto_rows": null,
            "grid_column": null,
            "grid_gap": null,
            "grid_row": null,
            "grid_template_areas": null,
            "grid_template_columns": null,
            "grid_template_rows": null,
            "height": null,
            "justify_content": null,
            "justify_items": null,
            "left": null,
            "margin": null,
            "max_height": null,
            "max_width": null,
            "min_height": null,
            "min_width": null,
            "object_fit": null,
            "object_position": null,
            "order": null,
            "overflow": null,
            "overflow_x": null,
            "overflow_y": null,
            "padding": null,
            "right": null,
            "top": null,
            "visibility": null,
            "width": null
          }
        },
        "596f1c06dd984c71a61fd29d64c11410": {
          "model_module": "@jupyter-widgets/controls",
          "model_name": "DescriptionStyleModel",
          "model_module_version": "1.5.0",
          "state": {
            "_model_module": "@jupyter-widgets/controls",
            "_model_module_version": "1.5.0",
            "_model_name": "DescriptionStyleModel",
            "_view_count": null,
            "_view_module": "@jupyter-widgets/base",
            "_view_module_version": "1.2.0",
            "_view_name": "StyleView",
            "description_width": ""
          }
        },
        "01afc1f62f44459788b3401cd805cb59": {
          "model_module": "@jupyter-widgets/controls",
          "model_name": "HBoxModel",
          "model_module_version": "1.5.0",
          "state": {
            "_dom_classes": [],
            "_model_module": "@jupyter-widgets/controls",
            "_model_module_version": "1.5.0",
            "_model_name": "HBoxModel",
            "_view_count": null,
            "_view_module": "@jupyter-widgets/controls",
            "_view_module_version": "1.5.0",
            "_view_name": "HBoxView",
            "box_style": "",
            "children": [
              "IPY_MODEL_166a67f2596441239d1e2962ab0f319c",
              "IPY_MODEL_6fe62a2f554f43b09f379c5311ca7ddb",
              "IPY_MODEL_8b68cc6c48eb462a95329241193cd875"
            ],
            "layout": "IPY_MODEL_301f4a72cd694d2190e0431a74a95cbd"
          }
        },
        "166a67f2596441239d1e2962ab0f319c": {
          "model_module": "@jupyter-widgets/controls",
          "model_name": "HTMLModel",
          "model_module_version": "1.5.0",
          "state": {
            "_dom_classes": [],
            "_model_module": "@jupyter-widgets/controls",
            "_model_module_version": "1.5.0",
            "_model_name": "HTMLModel",
            "_view_count": null,
            "_view_module": "@jupyter-widgets/controls",
            "_view_module_version": "1.5.0",
            "_view_name": "HTMLView",
            "description": "",
            "description_tooltip": null,
            "layout": "IPY_MODEL_f9e4091adf524443bdc8a255307eb8d8",
            "placeholder": "​",
            "style": "IPY_MODEL_001d9eed30ee4434b1881cb93ccd4fc9",
            "value": "diffusion_pytorch_model.safetensors: 100%"
          }
        },
        "6fe62a2f554f43b09f379c5311ca7ddb": {
          "model_module": "@jupyter-widgets/controls",
          "model_name": "FloatProgressModel",
          "model_module_version": "1.5.0",
          "state": {
            "_dom_classes": [],
            "_model_module": "@jupyter-widgets/controls",
            "_model_module_version": "1.5.0",
            "_model_name": "FloatProgressModel",
            "_view_count": null,
            "_view_module": "@jupyter-widgets/controls",
            "_view_module_version": "1.5.0",
            "_view_name": "ProgressView",
            "bar_style": "success",
            "description": "",
            "description_tooltip": null,
            "layout": "IPY_MODEL_ab5d1216bec64ee085e91f9e418915b5",
            "max": 3438167540,
            "min": 0,
            "orientation": "horizontal",
            "style": "IPY_MODEL_140274ca83194a05a6db80893bec350c",
            "value": 3438167540
          }
        },
        "8b68cc6c48eb462a95329241193cd875": {
          "model_module": "@jupyter-widgets/controls",
          "model_name": "HTMLModel",
          "model_module_version": "1.5.0",
          "state": {
            "_dom_classes": [],
            "_model_module": "@jupyter-widgets/controls",
            "_model_module_version": "1.5.0",
            "_model_name": "HTMLModel",
            "_view_count": null,
            "_view_module": "@jupyter-widgets/controls",
            "_view_module_version": "1.5.0",
            "_view_name": "HTMLView",
            "description": "",
            "description_tooltip": null,
            "layout": "IPY_MODEL_75b85f8346d44f4c8470bb8e7bd6bc40",
            "placeholder": "​",
            "style": "IPY_MODEL_d240837a252449828997549110ed7aa6",
            "value": " 3.44G/3.44G [00:31&lt;00:00, 208MB/s]"
          }
        },
        "301f4a72cd694d2190e0431a74a95cbd": {
          "model_module": "@jupyter-widgets/base",
          "model_name": "LayoutModel",
          "model_module_version": "1.2.0",
          "state": {
            "_model_module": "@jupyter-widgets/base",
            "_model_module_version": "1.2.0",
            "_model_name": "LayoutModel",
            "_view_count": null,
            "_view_module": "@jupyter-widgets/base",
            "_view_module_version": "1.2.0",
            "_view_name": "LayoutView",
            "align_content": null,
            "align_items": null,
            "align_self": null,
            "border": null,
            "bottom": null,
            "display": null,
            "flex": null,
            "flex_flow": null,
            "grid_area": null,
            "grid_auto_columns": null,
            "grid_auto_flow": null,
            "grid_auto_rows": null,
            "grid_column": null,
            "grid_gap": null,
            "grid_row": null,
            "grid_template_areas": null,
            "grid_template_columns": null,
            "grid_template_rows": null,
            "height": null,
            "justify_content": null,
            "justify_items": null,
            "left": null,
            "margin": null,
            "max_height": null,
            "max_width": null,
            "min_height": null,
            "min_width": null,
            "object_fit": null,
            "object_position": null,
            "order": null,
            "overflow": null,
            "overflow_x": null,
            "overflow_y": null,
            "padding": null,
            "right": null,
            "top": null,
            "visibility": null,
            "width": null
          }
        },
        "f9e4091adf524443bdc8a255307eb8d8": {
          "model_module": "@jupyter-widgets/base",
          "model_name": "LayoutModel",
          "model_module_version": "1.2.0",
          "state": {
            "_model_module": "@jupyter-widgets/base",
            "_model_module_version": "1.2.0",
            "_model_name": "LayoutModel",
            "_view_count": null,
            "_view_module": "@jupyter-widgets/base",
            "_view_module_version": "1.2.0",
            "_view_name": "LayoutView",
            "align_content": null,
            "align_items": null,
            "align_self": null,
            "border": null,
            "bottom": null,
            "display": null,
            "flex": null,
            "flex_flow": null,
            "grid_area": null,
            "grid_auto_columns": null,
            "grid_auto_flow": null,
            "grid_auto_rows": null,
            "grid_column": null,
            "grid_gap": null,
            "grid_row": null,
            "grid_template_areas": null,
            "grid_template_columns": null,
            "grid_template_rows": null,
            "height": null,
            "justify_content": null,
            "justify_items": null,
            "left": null,
            "margin": null,
            "max_height": null,
            "max_width": null,
            "min_height": null,
            "min_width": null,
            "object_fit": null,
            "object_position": null,
            "order": null,
            "overflow": null,
            "overflow_x": null,
            "overflow_y": null,
            "padding": null,
            "right": null,
            "top": null,
            "visibility": null,
            "width": null
          }
        },
        "001d9eed30ee4434b1881cb93ccd4fc9": {
          "model_module": "@jupyter-widgets/controls",
          "model_name": "DescriptionStyleModel",
          "model_module_version": "1.5.0",
          "state": {
            "_model_module": "@jupyter-widgets/controls",
            "_model_module_version": "1.5.0",
            "_model_name": "DescriptionStyleModel",
            "_view_count": null,
            "_view_module": "@jupyter-widgets/base",
            "_view_module_version": "1.2.0",
            "_view_name": "StyleView",
            "description_width": ""
          }
        },
        "ab5d1216bec64ee085e91f9e418915b5": {
          "model_module": "@jupyter-widgets/base",
          "model_name": "LayoutModel",
          "model_module_version": "1.2.0",
          "state": {
            "_model_module": "@jupyter-widgets/base",
            "_model_module_version": "1.2.0",
            "_model_name": "LayoutModel",
            "_view_count": null,
            "_view_module": "@jupyter-widgets/base",
            "_view_module_version": "1.2.0",
            "_view_name": "LayoutView",
            "align_content": null,
            "align_items": null,
            "align_self": null,
            "border": null,
            "bottom": null,
            "display": null,
            "flex": null,
            "flex_flow": null,
            "grid_area": null,
            "grid_auto_columns": null,
            "grid_auto_flow": null,
            "grid_auto_rows": null,
            "grid_column": null,
            "grid_gap": null,
            "grid_row": null,
            "grid_template_areas": null,
            "grid_template_columns": null,
            "grid_template_rows": null,
            "height": null,
            "justify_content": null,
            "justify_items": null,
            "left": null,
            "margin": null,
            "max_height": null,
            "max_width": null,
            "min_height": null,
            "min_width": null,
            "object_fit": null,
            "object_position": null,
            "order": null,
            "overflow": null,
            "overflow_x": null,
            "overflow_y": null,
            "padding": null,
            "right": null,
            "top": null,
            "visibility": null,
            "width": null
          }
        },
        "140274ca83194a05a6db80893bec350c": {
          "model_module": "@jupyter-widgets/controls",
          "model_name": "ProgressStyleModel",
          "model_module_version": "1.5.0",
          "state": {
            "_model_module": "@jupyter-widgets/controls",
            "_model_module_version": "1.5.0",
            "_model_name": "ProgressStyleModel",
            "_view_count": null,
            "_view_module": "@jupyter-widgets/base",
            "_view_module_version": "1.2.0",
            "_view_name": "StyleView",
            "bar_color": null,
            "description_width": ""
          }
        },
        "75b85f8346d44f4c8470bb8e7bd6bc40": {
          "model_module": "@jupyter-widgets/base",
          "model_name": "LayoutModel",
          "model_module_version": "1.2.0",
          "state": {
            "_model_module": "@jupyter-widgets/base",
            "_model_module_version": "1.2.0",
            "_model_name": "LayoutModel",
            "_view_count": null,
            "_view_module": "@jupyter-widgets/base",
            "_view_module_version": "1.2.0",
            "_view_name": "LayoutView",
            "align_content": null,
            "align_items": null,
            "align_self": null,
            "border": null,
            "bottom": null,
            "display": null,
            "flex": null,
            "flex_flow": null,
            "grid_area": null,
            "grid_auto_columns": null,
            "grid_auto_flow": null,
            "grid_auto_rows": null,
            "grid_column": null,
            "grid_gap": null,
            "grid_row": null,
            "grid_template_areas": null,
            "grid_template_columns": null,
            "grid_template_rows": null,
            "height": null,
            "justify_content": null,
            "justify_items": null,
            "left": null,
            "margin": null,
            "max_height": null,
            "max_width": null,
            "min_height": null,
            "min_width": null,
            "object_fit": null,
            "object_position": null,
            "order": null,
            "overflow": null,
            "overflow_x": null,
            "overflow_y": null,
            "padding": null,
            "right": null,
            "top": null,
            "visibility": null,
            "width": null
          }
        },
        "d240837a252449828997549110ed7aa6": {
          "model_module": "@jupyter-widgets/controls",
          "model_name": "DescriptionStyleModel",
          "model_module_version": "1.5.0",
          "state": {
            "_model_module": "@jupyter-widgets/controls",
            "_model_module_version": "1.5.0",
            "_model_name": "DescriptionStyleModel",
            "_view_count": null,
            "_view_module": "@jupyter-widgets/base",
            "_view_module_version": "1.2.0",
            "_view_name": "StyleView",
            "description_width": ""
          }
        },
        "7955a3575b5c46ba9f6954395c5bf452": {
          "model_module": "@jupyter-widgets/controls",
          "model_name": "HBoxModel",
          "model_module_version": "1.5.0",
          "state": {
            "_dom_classes": [],
            "_model_module": "@jupyter-widgets/controls",
            "_model_module_version": "1.5.0",
            "_model_name": "HBoxModel",
            "_view_count": null,
            "_view_module": "@jupyter-widgets/controls",
            "_view_module_version": "1.5.0",
            "_view_name": "HBoxView",
            "box_style": "",
            "children": [
              "IPY_MODEL_f03af19f7dd041d69cf63e497277ccc0",
              "IPY_MODEL_d6c2c063bbf44dcfbbc89bebf987dbe2",
              "IPY_MODEL_97132be9dd08499e9d2322c5d9a4ab12"
            ],
            "layout": "IPY_MODEL_39e0b301a279485eaae3bc11ac89a9ff"
          }
        },
        "f03af19f7dd041d69cf63e497277ccc0": {
          "model_module": "@jupyter-widgets/controls",
          "model_name": "HTMLModel",
          "model_module_version": "1.5.0",
          "state": {
            "_dom_classes": [],
            "_model_module": "@jupyter-widgets/controls",
            "_model_module_version": "1.5.0",
            "_model_name": "HTMLModel",
            "_view_count": null,
            "_view_module": "@jupyter-widgets/controls",
            "_view_module_version": "1.5.0",
            "_view_name": "HTMLView",
            "description": "",
            "description_tooltip": null,
            "layout": "IPY_MODEL_7ef5b5a383d14e0d9e0dd5514edef16e",
            "placeholder": "​",
            "style": "IPY_MODEL_dfd9c9d242c34f8daf22f242495b0975",
            "value": "tokenizer_config.json: 100%"
          }
        },
        "d6c2c063bbf44dcfbbc89bebf987dbe2": {
          "model_module": "@jupyter-widgets/controls",
          "model_name": "FloatProgressModel",
          "model_module_version": "1.5.0",
          "state": {
            "_dom_classes": [],
            "_model_module": "@jupyter-widgets/controls",
            "_model_module_version": "1.5.0",
            "_model_name": "FloatProgressModel",
            "_view_count": null,
            "_view_module": "@jupyter-widgets/controls",
            "_view_module_version": "1.5.0",
            "_view_name": "ProgressView",
            "bar_style": "success",
            "description": "",
            "description_tooltip": null,
            "layout": "IPY_MODEL_d26a9c6cc9d6458ebc2c51b4f953f463",
            "max": 806,
            "min": 0,
            "orientation": "horizontal",
            "style": "IPY_MODEL_c9670a473d0743f584bcd322a25e3325",
            "value": 806
          }
        },
        "97132be9dd08499e9d2322c5d9a4ab12": {
          "model_module": "@jupyter-widgets/controls",
          "model_name": "HTMLModel",
          "model_module_version": "1.5.0",
          "state": {
            "_dom_classes": [],
            "_model_module": "@jupyter-widgets/controls",
            "_model_module_version": "1.5.0",
            "_model_name": "HTMLModel",
            "_view_count": null,
            "_view_module": "@jupyter-widgets/controls",
            "_view_module_version": "1.5.0",
            "_view_name": "HTMLView",
            "description": "",
            "description_tooltip": null,
            "layout": "IPY_MODEL_eb4a4ea7e3834c3e8815b2ca4843b510",
            "placeholder": "​",
            "style": "IPY_MODEL_cebd65cc02c44740a83a2a6b0f88d930",
            "value": " 806/806 [00:00&lt;00:00, 20.1kB/s]"
          }
        },
        "39e0b301a279485eaae3bc11ac89a9ff": {
          "model_module": "@jupyter-widgets/base",
          "model_name": "LayoutModel",
          "model_module_version": "1.2.0",
          "state": {
            "_model_module": "@jupyter-widgets/base",
            "_model_module_version": "1.2.0",
            "_model_name": "LayoutModel",
            "_view_count": null,
            "_view_module": "@jupyter-widgets/base",
            "_view_module_version": "1.2.0",
            "_view_name": "LayoutView",
            "align_content": null,
            "align_items": null,
            "align_self": null,
            "border": null,
            "bottom": null,
            "display": null,
            "flex": null,
            "flex_flow": null,
            "grid_area": null,
            "grid_auto_columns": null,
            "grid_auto_flow": null,
            "grid_auto_rows": null,
            "grid_column": null,
            "grid_gap": null,
            "grid_row": null,
            "grid_template_areas": null,
            "grid_template_columns": null,
            "grid_template_rows": null,
            "height": null,
            "justify_content": null,
            "justify_items": null,
            "left": null,
            "margin": null,
            "max_height": null,
            "max_width": null,
            "min_height": null,
            "min_width": null,
            "object_fit": null,
            "object_position": null,
            "order": null,
            "overflow": null,
            "overflow_x": null,
            "overflow_y": null,
            "padding": null,
            "right": null,
            "top": null,
            "visibility": null,
            "width": null
          }
        },
        "7ef5b5a383d14e0d9e0dd5514edef16e": {
          "model_module": "@jupyter-widgets/base",
          "model_name": "LayoutModel",
          "model_module_version": "1.2.0",
          "state": {
            "_model_module": "@jupyter-widgets/base",
            "_model_module_version": "1.2.0",
            "_model_name": "LayoutModel",
            "_view_count": null,
            "_view_module": "@jupyter-widgets/base",
            "_view_module_version": "1.2.0",
            "_view_name": "LayoutView",
            "align_content": null,
            "align_items": null,
            "align_self": null,
            "border": null,
            "bottom": null,
            "display": null,
            "flex": null,
            "flex_flow": null,
            "grid_area": null,
            "grid_auto_columns": null,
            "grid_auto_flow": null,
            "grid_auto_rows": null,
            "grid_column": null,
            "grid_gap": null,
            "grid_row": null,
            "grid_template_areas": null,
            "grid_template_columns": null,
            "grid_template_rows": null,
            "height": null,
            "justify_content": null,
            "justify_items": null,
            "left": null,
            "margin": null,
            "max_height": null,
            "max_width": null,
            "min_height": null,
            "min_width": null,
            "object_fit": null,
            "object_position": null,
            "order": null,
            "overflow": null,
            "overflow_x": null,
            "overflow_y": null,
            "padding": null,
            "right": null,
            "top": null,
            "visibility": null,
            "width": null
          }
        },
        "dfd9c9d242c34f8daf22f242495b0975": {
          "model_module": "@jupyter-widgets/controls",
          "model_name": "DescriptionStyleModel",
          "model_module_version": "1.5.0",
          "state": {
            "_model_module": "@jupyter-widgets/controls",
            "_model_module_version": "1.5.0",
            "_model_name": "DescriptionStyleModel",
            "_view_count": null,
            "_view_module": "@jupyter-widgets/base",
            "_view_module_version": "1.2.0",
            "_view_name": "StyleView",
            "description_width": ""
          }
        },
        "d26a9c6cc9d6458ebc2c51b4f953f463": {
          "model_module": "@jupyter-widgets/base",
          "model_name": "LayoutModel",
          "model_module_version": "1.2.0",
          "state": {
            "_model_module": "@jupyter-widgets/base",
            "_model_module_version": "1.2.0",
            "_model_name": "LayoutModel",
            "_view_count": null,
            "_view_module": "@jupyter-widgets/base",
            "_view_module_version": "1.2.0",
            "_view_name": "LayoutView",
            "align_content": null,
            "align_items": null,
            "align_self": null,
            "border": null,
            "bottom": null,
            "display": null,
            "flex": null,
            "flex_flow": null,
            "grid_area": null,
            "grid_auto_columns": null,
            "grid_auto_flow": null,
            "grid_auto_rows": null,
            "grid_column": null,
            "grid_gap": null,
            "grid_row": null,
            "grid_template_areas": null,
            "grid_template_columns": null,
            "grid_template_rows": null,
            "height": null,
            "justify_content": null,
            "justify_items": null,
            "left": null,
            "margin": null,
            "max_height": null,
            "max_width": null,
            "min_height": null,
            "min_width": null,
            "object_fit": null,
            "object_position": null,
            "order": null,
            "overflow": null,
            "overflow_x": null,
            "overflow_y": null,
            "padding": null,
            "right": null,
            "top": null,
            "visibility": null,
            "width": null
          }
        },
        "c9670a473d0743f584bcd322a25e3325": {
          "model_module": "@jupyter-widgets/controls",
          "model_name": "ProgressStyleModel",
          "model_module_version": "1.5.0",
          "state": {
            "_model_module": "@jupyter-widgets/controls",
            "_model_module_version": "1.5.0",
            "_model_name": "ProgressStyleModel",
            "_view_count": null,
            "_view_module": "@jupyter-widgets/base",
            "_view_module_version": "1.2.0",
            "_view_name": "StyleView",
            "bar_color": null,
            "description_width": ""
          }
        },
        "eb4a4ea7e3834c3e8815b2ca4843b510": {
          "model_module": "@jupyter-widgets/base",
          "model_name": "LayoutModel",
          "model_module_version": "1.2.0",
          "state": {
            "_model_module": "@jupyter-widgets/base",
            "_model_module_version": "1.2.0",
            "_model_name": "LayoutModel",
            "_view_count": null,
            "_view_module": "@jupyter-widgets/base",
            "_view_module_version": "1.2.0",
            "_view_name": "LayoutView",
            "align_content": null,
            "align_items": null,
            "align_self": null,
            "border": null,
            "bottom": null,
            "display": null,
            "flex": null,
            "flex_flow": null,
            "grid_area": null,
            "grid_auto_columns": null,
            "grid_auto_flow": null,
            "grid_auto_rows": null,
            "grid_column": null,
            "grid_gap": null,
            "grid_row": null,
            "grid_template_areas": null,
            "grid_template_columns": null,
            "grid_template_rows": null,
            "height": null,
            "justify_content": null,
            "justify_items": null,
            "left": null,
            "margin": null,
            "max_height": null,
            "max_width": null,
            "min_height": null,
            "min_width": null,
            "object_fit": null,
            "object_position": null,
            "order": null,
            "overflow": null,
            "overflow_x": null,
            "overflow_y": null,
            "padding": null,
            "right": null,
            "top": null,
            "visibility": null,
            "width": null
          }
        },
        "cebd65cc02c44740a83a2a6b0f88d930": {
          "model_module": "@jupyter-widgets/controls",
          "model_name": "DescriptionStyleModel",
          "model_module_version": "1.5.0",
          "state": {
            "_model_module": "@jupyter-widgets/controls",
            "_model_module_version": "1.5.0",
            "_model_name": "DescriptionStyleModel",
            "_view_count": null,
            "_view_module": "@jupyter-widgets/base",
            "_view_module_version": "1.2.0",
            "_view_name": "StyleView",
            "description_width": ""
          }
        },
        "b8d95eb52e014b609d6666d9a3eb2277": {
          "model_module": "@jupyter-widgets/controls",
          "model_name": "HBoxModel",
          "model_module_version": "1.5.0",
          "state": {
            "_dom_classes": [],
            "_model_module": "@jupyter-widgets/controls",
            "_model_module_version": "1.5.0",
            "_model_name": "HBoxModel",
            "_view_count": null,
            "_view_module": "@jupyter-widgets/controls",
            "_view_module_version": "1.5.0",
            "_view_name": "HBoxView",
            "box_style": "",
            "children": [
              "IPY_MODEL_0ce6b7e840df4839b4b216953ccc0daf",
              "IPY_MODEL_1c26683e17d34e2d948403e21e0c5ca4",
              "IPY_MODEL_3545a35e452e4232ba7b497fbc02703f"
            ],
            "layout": "IPY_MODEL_9feb08fb385b42228ebc5d881bb8fadf"
          }
        },
        "0ce6b7e840df4839b4b216953ccc0daf": {
          "model_module": "@jupyter-widgets/controls",
          "model_name": "HTMLModel",
          "model_module_version": "1.5.0",
          "state": {
            "_dom_classes": [],
            "_model_module": "@jupyter-widgets/controls",
            "_model_module_version": "1.5.0",
            "_model_name": "HTMLModel",
            "_view_count": null,
            "_view_module": "@jupyter-widgets/controls",
            "_view_module_version": "1.5.0",
            "_view_name": "HTMLView",
            "description": "",
            "description_tooltip": null,
            "layout": "IPY_MODEL_6f43d0d4e21a41f2bf69dcb06d89d50b",
            "placeholder": "​",
            "style": "IPY_MODEL_d1da5296266e482f80f2d396533d42da",
            "value": "config.json: 100%"
          }
        },
        "1c26683e17d34e2d948403e21e0c5ca4": {
          "model_module": "@jupyter-widgets/controls",
          "model_name": "FloatProgressModel",
          "model_module_version": "1.5.0",
          "state": {
            "_dom_classes": [],
            "_model_module": "@jupyter-widgets/controls",
            "_model_module_version": "1.5.0",
            "_model_name": "FloatProgressModel",
            "_view_count": null,
            "_view_module": "@jupyter-widgets/controls",
            "_view_module_version": "1.5.0",
            "_view_name": "ProgressView",
            "bar_style": "success",
            "description": "",
            "description_tooltip": null,
            "layout": "IPY_MODEL_09257c5f08c44092955ab7f082e2ea76",
            "max": 743,
            "min": 0,
            "orientation": "horizontal",
            "style": "IPY_MODEL_869df19459f040d78bc69207043b6d75",
            "value": 743
          }
        },
        "3545a35e452e4232ba7b497fbc02703f": {
          "model_module": "@jupyter-widgets/controls",
          "model_name": "HTMLModel",
          "model_module_version": "1.5.0",
          "state": {
            "_dom_classes": [],
            "_model_module": "@jupyter-widgets/controls",
            "_model_module_version": "1.5.0",
            "_model_name": "HTMLModel",
            "_view_count": null,
            "_view_module": "@jupyter-widgets/controls",
            "_view_module_version": "1.5.0",
            "_view_name": "HTMLView",
            "description": "",
            "description_tooltip": null,
            "layout": "IPY_MODEL_11c8c915fb8d43a89ae1767abf72a81d",
            "placeholder": "​",
            "style": "IPY_MODEL_d40a2b0b5754469fad3043294b90202d",
            "value": " 743/743 [00:00&lt;00:00, 13.2kB/s]"
          }
        },
        "9feb08fb385b42228ebc5d881bb8fadf": {
          "model_module": "@jupyter-widgets/base",
          "model_name": "LayoutModel",
          "model_module_version": "1.2.0",
          "state": {
            "_model_module": "@jupyter-widgets/base",
            "_model_module_version": "1.2.0",
            "_model_name": "LayoutModel",
            "_view_count": null,
            "_view_module": "@jupyter-widgets/base",
            "_view_module_version": "1.2.0",
            "_view_name": "LayoutView",
            "align_content": null,
            "align_items": null,
            "align_self": null,
            "border": null,
            "bottom": null,
            "display": null,
            "flex": null,
            "flex_flow": null,
            "grid_area": null,
            "grid_auto_columns": null,
            "grid_auto_flow": null,
            "grid_auto_rows": null,
            "grid_column": null,
            "grid_gap": null,
            "grid_row": null,
            "grid_template_areas": null,
            "grid_template_columns": null,
            "grid_template_rows": null,
            "height": null,
            "justify_content": null,
            "justify_items": null,
            "left": null,
            "margin": null,
            "max_height": null,
            "max_width": null,
            "min_height": null,
            "min_width": null,
            "object_fit": null,
            "object_position": null,
            "order": null,
            "overflow": null,
            "overflow_x": null,
            "overflow_y": null,
            "padding": null,
            "right": null,
            "top": null,
            "visibility": null,
            "width": null
          }
        },
        "6f43d0d4e21a41f2bf69dcb06d89d50b": {
          "model_module": "@jupyter-widgets/base",
          "model_name": "LayoutModel",
          "model_module_version": "1.2.0",
          "state": {
            "_model_module": "@jupyter-widgets/base",
            "_model_module_version": "1.2.0",
            "_model_name": "LayoutModel",
            "_view_count": null,
            "_view_module": "@jupyter-widgets/base",
            "_view_module_version": "1.2.0",
            "_view_name": "LayoutView",
            "align_content": null,
            "align_items": null,
            "align_self": null,
            "border": null,
            "bottom": null,
            "display": null,
            "flex": null,
            "flex_flow": null,
            "grid_area": null,
            "grid_auto_columns": null,
            "grid_auto_flow": null,
            "grid_auto_rows": null,
            "grid_column": null,
            "grid_gap": null,
            "grid_row": null,
            "grid_template_areas": null,
            "grid_template_columns": null,
            "grid_template_rows": null,
            "height": null,
            "justify_content": null,
            "justify_items": null,
            "left": null,
            "margin": null,
            "max_height": null,
            "max_width": null,
            "min_height": null,
            "min_width": null,
            "object_fit": null,
            "object_position": null,
            "order": null,
            "overflow": null,
            "overflow_x": null,
            "overflow_y": null,
            "padding": null,
            "right": null,
            "top": null,
            "visibility": null,
            "width": null
          }
        },
        "d1da5296266e482f80f2d396533d42da": {
          "model_module": "@jupyter-widgets/controls",
          "model_name": "DescriptionStyleModel",
          "model_module_version": "1.5.0",
          "state": {
            "_model_module": "@jupyter-widgets/controls",
            "_model_module_version": "1.5.0",
            "_model_name": "DescriptionStyleModel",
            "_view_count": null,
            "_view_module": "@jupyter-widgets/base",
            "_view_module_version": "1.2.0",
            "_view_name": "StyleView",
            "description_width": ""
          }
        },
        "09257c5f08c44092955ab7f082e2ea76": {
          "model_module": "@jupyter-widgets/base",
          "model_name": "LayoutModel",
          "model_module_version": "1.2.0",
          "state": {
            "_model_module": "@jupyter-widgets/base",
            "_model_module_version": "1.2.0",
            "_model_name": "LayoutModel",
            "_view_count": null,
            "_view_module": "@jupyter-widgets/base",
            "_view_module_version": "1.2.0",
            "_view_name": "LayoutView",
            "align_content": null,
            "align_items": null,
            "align_self": null,
            "border": null,
            "bottom": null,
            "display": null,
            "flex": null,
            "flex_flow": null,
            "grid_area": null,
            "grid_auto_columns": null,
            "grid_auto_flow": null,
            "grid_auto_rows": null,
            "grid_column": null,
            "grid_gap": null,
            "grid_row": null,
            "grid_template_areas": null,
            "grid_template_columns": null,
            "grid_template_rows": null,
            "height": null,
            "justify_content": null,
            "justify_items": null,
            "left": null,
            "margin": null,
            "max_height": null,
            "max_width": null,
            "min_height": null,
            "min_width": null,
            "object_fit": null,
            "object_position": null,
            "order": null,
            "overflow": null,
            "overflow_x": null,
            "overflow_y": null,
            "padding": null,
            "right": null,
            "top": null,
            "visibility": null,
            "width": null
          }
        },
        "869df19459f040d78bc69207043b6d75": {
          "model_module": "@jupyter-widgets/controls",
          "model_name": "ProgressStyleModel",
          "model_module_version": "1.5.0",
          "state": {
            "_model_module": "@jupyter-widgets/controls",
            "_model_module_version": "1.5.0",
            "_model_name": "ProgressStyleModel",
            "_view_count": null,
            "_view_module": "@jupyter-widgets/base",
            "_view_module_version": "1.2.0",
            "_view_name": "StyleView",
            "bar_color": null,
            "description_width": ""
          }
        },
        "11c8c915fb8d43a89ae1767abf72a81d": {
          "model_module": "@jupyter-widgets/base",
          "model_name": "LayoutModel",
          "model_module_version": "1.2.0",
          "state": {
            "_model_module": "@jupyter-widgets/base",
            "_model_module_version": "1.2.0",
            "_model_name": "LayoutModel",
            "_view_count": null,
            "_view_module": "@jupyter-widgets/base",
            "_view_module_version": "1.2.0",
            "_view_name": "LayoutView",
            "align_content": null,
            "align_items": null,
            "align_self": null,
            "border": null,
            "bottom": null,
            "display": null,
            "flex": null,
            "flex_flow": null,
            "grid_area": null,
            "grid_auto_columns": null,
            "grid_auto_flow": null,
            "grid_auto_rows": null,
            "grid_column": null,
            "grid_gap": null,
            "grid_row": null,
            "grid_template_areas": null,
            "grid_template_columns": null,
            "grid_template_rows": null,
            "height": null,
            "justify_content": null,
            "justify_items": null,
            "left": null,
            "margin": null,
            "max_height": null,
            "max_width": null,
            "min_height": null,
            "min_width": null,
            "object_fit": null,
            "object_position": null,
            "order": null,
            "overflow": null,
            "overflow_x": null,
            "overflow_y": null,
            "padding": null,
            "right": null,
            "top": null,
            "visibility": null,
            "width": null
          }
        },
        "d40a2b0b5754469fad3043294b90202d": {
          "model_module": "@jupyter-widgets/controls",
          "model_name": "DescriptionStyleModel",
          "model_module_version": "1.5.0",
          "state": {
            "_model_module": "@jupyter-widgets/controls",
            "_model_module_version": "1.5.0",
            "_model_name": "DescriptionStyleModel",
            "_view_count": null,
            "_view_module": "@jupyter-widgets/base",
            "_view_module_version": "1.2.0",
            "_view_name": "StyleView",
            "description_width": ""
          }
        },
        "ce4346ee85bb43c9a4f3e6e75f773e57": {
          "model_module": "@jupyter-widgets/controls",
          "model_name": "HBoxModel",
          "model_module_version": "1.5.0",
          "state": {
            "_dom_classes": [],
            "_model_module": "@jupyter-widgets/controls",
            "_model_module_version": "1.5.0",
            "_model_name": "HBoxModel",
            "_view_count": null,
            "_view_module": "@jupyter-widgets/controls",
            "_view_module_version": "1.5.0",
            "_view_name": "HBoxView",
            "box_style": "",
            "children": [
              "IPY_MODEL_ab338bbcee5b43b3b895fab22a7e45a1",
              "IPY_MODEL_98adbf809c6c4a898f97a7b33e685df0",
              "IPY_MODEL_8e3b2e57d9dc4074ad2c5f29b45f60d4"
            ],
            "layout": "IPY_MODEL_2b6e62b21e954291910e627f2b0a243f"
          }
        },
        "ab338bbcee5b43b3b895fab22a7e45a1": {
          "model_module": "@jupyter-widgets/controls",
          "model_name": "HTMLModel",
          "model_module_version": "1.5.0",
          "state": {
            "_dom_classes": [],
            "_model_module": "@jupyter-widgets/controls",
            "_model_module_version": "1.5.0",
            "_model_name": "HTMLModel",
            "_view_count": null,
            "_view_module": "@jupyter-widgets/controls",
            "_view_module_version": "1.5.0",
            "_view_name": "HTMLView",
            "description": "",
            "description_tooltip": null,
            "layout": "IPY_MODEL_bc6a385f42474b98a6d7924950e3b79e",
            "placeholder": "​",
            "style": "IPY_MODEL_2eb48f5e52de458587e7f2563cc01b8a",
            "value": "vocab.json: 100%"
          }
        },
        "98adbf809c6c4a898f97a7b33e685df0": {
          "model_module": "@jupyter-widgets/controls",
          "model_name": "FloatProgressModel",
          "model_module_version": "1.5.0",
          "state": {
            "_dom_classes": [],
            "_model_module": "@jupyter-widgets/controls",
            "_model_module_version": "1.5.0",
            "_model_name": "FloatProgressModel",
            "_view_count": null,
            "_view_module": "@jupyter-widgets/controls",
            "_view_module_version": "1.5.0",
            "_view_name": "ProgressView",
            "bar_style": "success",
            "description": "",
            "description_tooltip": null,
            "layout": "IPY_MODEL_9799adf382454f4ea925c1022e39ddc1",
            "max": 1059962,
            "min": 0,
            "orientation": "horizontal",
            "style": "IPY_MODEL_b508b56ac2a444a9bd19f132a4dbe8a2",
            "value": 1059962
          }
        },
        "8e3b2e57d9dc4074ad2c5f29b45f60d4": {
          "model_module": "@jupyter-widgets/controls",
          "model_name": "HTMLModel",
          "model_module_version": "1.5.0",
          "state": {
            "_dom_classes": [],
            "_model_module": "@jupyter-widgets/controls",
            "_model_module_version": "1.5.0",
            "_model_name": "HTMLModel",
            "_view_count": null,
            "_view_module": "@jupyter-widgets/controls",
            "_view_module_version": "1.5.0",
            "_view_name": "HTMLView",
            "description": "",
            "description_tooltip": null,
            "layout": "IPY_MODEL_c7201fdc56e54b43806886620bbb2f01",
            "placeholder": "​",
            "style": "IPY_MODEL_9ffbd35549d346eab2b9e070ab1faaa7",
            "value": " 1.06M/1.06M [00:00&lt;00:00, 4.80MB/s]"
          }
        },
        "2b6e62b21e954291910e627f2b0a243f": {
          "model_module": "@jupyter-widgets/base",
          "model_name": "LayoutModel",
          "model_module_version": "1.2.0",
          "state": {
            "_model_module": "@jupyter-widgets/base",
            "_model_module_version": "1.2.0",
            "_model_name": "LayoutModel",
            "_view_count": null,
            "_view_module": "@jupyter-widgets/base",
            "_view_module_version": "1.2.0",
            "_view_name": "LayoutView",
            "align_content": null,
            "align_items": null,
            "align_self": null,
            "border": null,
            "bottom": null,
            "display": null,
            "flex": null,
            "flex_flow": null,
            "grid_area": null,
            "grid_auto_columns": null,
            "grid_auto_flow": null,
            "grid_auto_rows": null,
            "grid_column": null,
            "grid_gap": null,
            "grid_row": null,
            "grid_template_areas": null,
            "grid_template_columns": null,
            "grid_template_rows": null,
            "height": null,
            "justify_content": null,
            "justify_items": null,
            "left": null,
            "margin": null,
            "max_height": null,
            "max_width": null,
            "min_height": null,
            "min_width": null,
            "object_fit": null,
            "object_position": null,
            "order": null,
            "overflow": null,
            "overflow_x": null,
            "overflow_y": null,
            "padding": null,
            "right": null,
            "top": null,
            "visibility": null,
            "width": null
          }
        },
        "bc6a385f42474b98a6d7924950e3b79e": {
          "model_module": "@jupyter-widgets/base",
          "model_name": "LayoutModel",
          "model_module_version": "1.2.0",
          "state": {
            "_model_module": "@jupyter-widgets/base",
            "_model_module_version": "1.2.0",
            "_model_name": "LayoutModel",
            "_view_count": null,
            "_view_module": "@jupyter-widgets/base",
            "_view_module_version": "1.2.0",
            "_view_name": "LayoutView",
            "align_content": null,
            "align_items": null,
            "align_self": null,
            "border": null,
            "bottom": null,
            "display": null,
            "flex": null,
            "flex_flow": null,
            "grid_area": null,
            "grid_auto_columns": null,
            "grid_auto_flow": null,
            "grid_auto_rows": null,
            "grid_column": null,
            "grid_gap": null,
            "grid_row": null,
            "grid_template_areas": null,
            "grid_template_columns": null,
            "grid_template_rows": null,
            "height": null,
            "justify_content": null,
            "justify_items": null,
            "left": null,
            "margin": null,
            "max_height": null,
            "max_width": null,
            "min_height": null,
            "min_width": null,
            "object_fit": null,
            "object_position": null,
            "order": null,
            "overflow": null,
            "overflow_x": null,
            "overflow_y": null,
            "padding": null,
            "right": null,
            "top": null,
            "visibility": null,
            "width": null
          }
        },
        "2eb48f5e52de458587e7f2563cc01b8a": {
          "model_module": "@jupyter-widgets/controls",
          "model_name": "DescriptionStyleModel",
          "model_module_version": "1.5.0",
          "state": {
            "_model_module": "@jupyter-widgets/controls",
            "_model_module_version": "1.5.0",
            "_model_name": "DescriptionStyleModel",
            "_view_count": null,
            "_view_module": "@jupyter-widgets/base",
            "_view_module_version": "1.2.0",
            "_view_name": "StyleView",
            "description_width": ""
          }
        },
        "9799adf382454f4ea925c1022e39ddc1": {
          "model_module": "@jupyter-widgets/base",
          "model_name": "LayoutModel",
          "model_module_version": "1.2.0",
          "state": {
            "_model_module": "@jupyter-widgets/base",
            "_model_module_version": "1.2.0",
            "_model_name": "LayoutModel",
            "_view_count": null,
            "_view_module": "@jupyter-widgets/base",
            "_view_module_version": "1.2.0",
            "_view_name": "LayoutView",
            "align_content": null,
            "align_items": null,
            "align_self": null,
            "border": null,
            "bottom": null,
            "display": null,
            "flex": null,
            "flex_flow": null,
            "grid_area": null,
            "grid_auto_columns": null,
            "grid_auto_flow": null,
            "grid_auto_rows": null,
            "grid_column": null,
            "grid_gap": null,
            "grid_row": null,
            "grid_template_areas": null,
            "grid_template_columns": null,
            "grid_template_rows": null,
            "height": null,
            "justify_content": null,
            "justify_items": null,
            "left": null,
            "margin": null,
            "max_height": null,
            "max_width": null,
            "min_height": null,
            "min_width": null,
            "object_fit": null,
            "object_position": null,
            "order": null,
            "overflow": null,
            "overflow_x": null,
            "overflow_y": null,
            "padding": null,
            "right": null,
            "top": null,
            "visibility": null,
            "width": null
          }
        },
        "b508b56ac2a444a9bd19f132a4dbe8a2": {
          "model_module": "@jupyter-widgets/controls",
          "model_name": "ProgressStyleModel",
          "model_module_version": "1.5.0",
          "state": {
            "_model_module": "@jupyter-widgets/controls",
            "_model_module_version": "1.5.0",
            "_model_name": "ProgressStyleModel",
            "_view_count": null,
            "_view_module": "@jupyter-widgets/base",
            "_view_module_version": "1.2.0",
            "_view_name": "StyleView",
            "bar_color": null,
            "description_width": ""
          }
        },
        "c7201fdc56e54b43806886620bbb2f01": {
          "model_module": "@jupyter-widgets/base",
          "model_name": "LayoutModel",
          "model_module_version": "1.2.0",
          "state": {
            "_model_module": "@jupyter-widgets/base",
            "_model_module_version": "1.2.0",
            "_model_name": "LayoutModel",
            "_view_count": null,
            "_view_module": "@jupyter-widgets/base",
            "_view_module_version": "1.2.0",
            "_view_name": "LayoutView",
            "align_content": null,
            "align_items": null,
            "align_self": null,
            "border": null,
            "bottom": null,
            "display": null,
            "flex": null,
            "flex_flow": null,
            "grid_area": null,
            "grid_auto_columns": null,
            "grid_auto_flow": null,
            "grid_auto_rows": null,
            "grid_column": null,
            "grid_gap": null,
            "grid_row": null,
            "grid_template_areas": null,
            "grid_template_columns": null,
            "grid_template_rows": null,
            "height": null,
            "justify_content": null,
            "justify_items": null,
            "left": null,
            "margin": null,
            "max_height": null,
            "max_width": null,
            "min_height": null,
            "min_width": null,
            "object_fit": null,
            "object_position": null,
            "order": null,
            "overflow": null,
            "overflow_x": null,
            "overflow_y": null,
            "padding": null,
            "right": null,
            "top": null,
            "visibility": null,
            "width": null
          }
        },
        "9ffbd35549d346eab2b9e070ab1faaa7": {
          "model_module": "@jupyter-widgets/controls",
          "model_name": "DescriptionStyleModel",
          "model_module_version": "1.5.0",
          "state": {
            "_model_module": "@jupyter-widgets/controls",
            "_model_module_version": "1.5.0",
            "_model_name": "DescriptionStyleModel",
            "_view_count": null,
            "_view_module": "@jupyter-widgets/base",
            "_view_module_version": "1.2.0",
            "_view_name": "StyleView",
            "description_width": ""
          }
        },
        "69a4477ee8b249348c72a34b549925c7": {
          "model_module": "@jupyter-widgets/controls",
          "model_name": "HBoxModel",
          "model_module_version": "1.5.0",
          "state": {
            "_dom_classes": [],
            "_model_module": "@jupyter-widgets/controls",
            "_model_module_version": "1.5.0",
            "_model_name": "HBoxModel",
            "_view_count": null,
            "_view_module": "@jupyter-widgets/controls",
            "_view_module_version": "1.5.0",
            "_view_name": "HBoxView",
            "box_style": "",
            "children": [
              "IPY_MODEL_59d4fde169704b3cbc3d21bef15a537b",
              "IPY_MODEL_9b3c9dc1a1ff49f09737e2ec74691179",
              "IPY_MODEL_9816479e3c0d4c9ab2a4d010c2349abf"
            ],
            "layout": "IPY_MODEL_d655642c8eca440db62c01484435473f"
          }
        },
        "59d4fde169704b3cbc3d21bef15a537b": {
          "model_module": "@jupyter-widgets/controls",
          "model_name": "HTMLModel",
          "model_module_version": "1.5.0",
          "state": {
            "_dom_classes": [],
            "_model_module": "@jupyter-widgets/controls",
            "_model_module_version": "1.5.0",
            "_model_name": "HTMLModel",
            "_view_count": null,
            "_view_module": "@jupyter-widgets/controls",
            "_view_module_version": "1.5.0",
            "_view_name": "HTMLView",
            "description": "",
            "description_tooltip": null,
            "layout": "IPY_MODEL_0224d14ed4f54474ba473e4bcd998e1b",
            "placeholder": "​",
            "style": "IPY_MODEL_d686a832389e4df2b94e61137bd690ab",
            "value": "config.json: 100%"
          }
        },
        "9b3c9dc1a1ff49f09737e2ec74691179": {
          "model_module": "@jupyter-widgets/controls",
          "model_name": "FloatProgressModel",
          "model_module_version": "1.5.0",
          "state": {
            "_dom_classes": [],
            "_model_module": "@jupyter-widgets/controls",
            "_model_module_version": "1.5.0",
            "_model_name": "FloatProgressModel",
            "_view_count": null,
            "_view_module": "@jupyter-widgets/controls",
            "_view_module_version": "1.5.0",
            "_view_name": "ProgressView",
            "bar_style": "success",
            "description": "",
            "description_tooltip": null,
            "layout": "IPY_MODEL_dc58f72926f64a1f92b06f5b300b0ce5",
            "max": 547,
            "min": 0,
            "orientation": "horizontal",
            "style": "IPY_MODEL_c636fdecd70c461d8e649d6fd112f5a8",
            "value": 547
          }
        },
        "9816479e3c0d4c9ab2a4d010c2349abf": {
          "model_module": "@jupyter-widgets/controls",
          "model_name": "HTMLModel",
          "model_module_version": "1.5.0",
          "state": {
            "_dom_classes": [],
            "_model_module": "@jupyter-widgets/controls",
            "_model_module_version": "1.5.0",
            "_model_name": "HTMLModel",
            "_view_count": null,
            "_view_module": "@jupyter-widgets/controls",
            "_view_module_version": "1.5.0",
            "_view_name": "HTMLView",
            "description": "",
            "description_tooltip": null,
            "layout": "IPY_MODEL_1f0cfebfb88848ec85dbb5a09c43188a",
            "placeholder": "​",
            "style": "IPY_MODEL_26340d07849d46d783a8119fa58e7350",
            "value": " 547/547 [00:00&lt;00:00, 13.8kB/s]"
          }
        },
        "d655642c8eca440db62c01484435473f": {
          "model_module": "@jupyter-widgets/base",
          "model_name": "LayoutModel",
          "model_module_version": "1.2.0",
          "state": {
            "_model_module": "@jupyter-widgets/base",
            "_model_module_version": "1.2.0",
            "_model_name": "LayoutModel",
            "_view_count": null,
            "_view_module": "@jupyter-widgets/base",
            "_view_module_version": "1.2.0",
            "_view_name": "LayoutView",
            "align_content": null,
            "align_items": null,
            "align_self": null,
            "border": null,
            "bottom": null,
            "display": null,
            "flex": null,
            "flex_flow": null,
            "grid_area": null,
            "grid_auto_columns": null,
            "grid_auto_flow": null,
            "grid_auto_rows": null,
            "grid_column": null,
            "grid_gap": null,
            "grid_row": null,
            "grid_template_areas": null,
            "grid_template_columns": null,
            "grid_template_rows": null,
            "height": null,
            "justify_content": null,
            "justify_items": null,
            "left": null,
            "margin": null,
            "max_height": null,
            "max_width": null,
            "min_height": null,
            "min_width": null,
            "object_fit": null,
            "object_position": null,
            "order": null,
            "overflow": null,
            "overflow_x": null,
            "overflow_y": null,
            "padding": null,
            "right": null,
            "top": null,
            "visibility": null,
            "width": null
          }
        },
        "0224d14ed4f54474ba473e4bcd998e1b": {
          "model_module": "@jupyter-widgets/base",
          "model_name": "LayoutModel",
          "model_module_version": "1.2.0",
          "state": {
            "_model_module": "@jupyter-widgets/base",
            "_model_module_version": "1.2.0",
            "_model_name": "LayoutModel",
            "_view_count": null,
            "_view_module": "@jupyter-widgets/base",
            "_view_module_version": "1.2.0",
            "_view_name": "LayoutView",
            "align_content": null,
            "align_items": null,
            "align_self": null,
            "border": null,
            "bottom": null,
            "display": null,
            "flex": null,
            "flex_flow": null,
            "grid_area": null,
            "grid_auto_columns": null,
            "grid_auto_flow": null,
            "grid_auto_rows": null,
            "grid_column": null,
            "grid_gap": null,
            "grid_row": null,
            "grid_template_areas": null,
            "grid_template_columns": null,
            "grid_template_rows": null,
            "height": null,
            "justify_content": null,
            "justify_items": null,
            "left": null,
            "margin": null,
            "max_height": null,
            "max_width": null,
            "min_height": null,
            "min_width": null,
            "object_fit": null,
            "object_position": null,
            "order": null,
            "overflow": null,
            "overflow_x": null,
            "overflow_y": null,
            "padding": null,
            "right": null,
            "top": null,
            "visibility": null,
            "width": null
          }
        },
        "d686a832389e4df2b94e61137bd690ab": {
          "model_module": "@jupyter-widgets/controls",
          "model_name": "DescriptionStyleModel",
          "model_module_version": "1.5.0",
          "state": {
            "_model_module": "@jupyter-widgets/controls",
            "_model_module_version": "1.5.0",
            "_model_name": "DescriptionStyleModel",
            "_view_count": null,
            "_view_module": "@jupyter-widgets/base",
            "_view_module_version": "1.2.0",
            "_view_name": "StyleView",
            "description_width": ""
          }
        },
        "dc58f72926f64a1f92b06f5b300b0ce5": {
          "model_module": "@jupyter-widgets/base",
          "model_name": "LayoutModel",
          "model_module_version": "1.2.0",
          "state": {
            "_model_module": "@jupyter-widgets/base",
            "_model_module_version": "1.2.0",
            "_model_name": "LayoutModel",
            "_view_count": null,
            "_view_module": "@jupyter-widgets/base",
            "_view_module_version": "1.2.0",
            "_view_name": "LayoutView",
            "align_content": null,
            "align_items": null,
            "align_self": null,
            "border": null,
            "bottom": null,
            "display": null,
            "flex": null,
            "flex_flow": null,
            "grid_area": null,
            "grid_auto_columns": null,
            "grid_auto_flow": null,
            "grid_auto_rows": null,
            "grid_column": null,
            "grid_gap": null,
            "grid_row": null,
            "grid_template_areas": null,
            "grid_template_columns": null,
            "grid_template_rows": null,
            "height": null,
            "justify_content": null,
            "justify_items": null,
            "left": null,
            "margin": null,
            "max_height": null,
            "max_width": null,
            "min_height": null,
            "min_width": null,
            "object_fit": null,
            "object_position": null,
            "order": null,
            "overflow": null,
            "overflow_x": null,
            "overflow_y": null,
            "padding": null,
            "right": null,
            "top": null,
            "visibility": null,
            "width": null
          }
        },
        "c636fdecd70c461d8e649d6fd112f5a8": {
          "model_module": "@jupyter-widgets/controls",
          "model_name": "ProgressStyleModel",
          "model_module_version": "1.5.0",
          "state": {
            "_model_module": "@jupyter-widgets/controls",
            "_model_module_version": "1.5.0",
            "_model_name": "ProgressStyleModel",
            "_view_count": null,
            "_view_module": "@jupyter-widgets/base",
            "_view_module_version": "1.2.0",
            "_view_name": "StyleView",
            "bar_color": null,
            "description_width": ""
          }
        },
        "1f0cfebfb88848ec85dbb5a09c43188a": {
          "model_module": "@jupyter-widgets/base",
          "model_name": "LayoutModel",
          "model_module_version": "1.2.0",
          "state": {
            "_model_module": "@jupyter-widgets/base",
            "_model_module_version": "1.2.0",
            "_model_name": "LayoutModel",
            "_view_count": null,
            "_view_module": "@jupyter-widgets/base",
            "_view_module_version": "1.2.0",
            "_view_name": "LayoutView",
            "align_content": null,
            "align_items": null,
            "align_self": null,
            "border": null,
            "bottom": null,
            "display": null,
            "flex": null,
            "flex_flow": null,
            "grid_area": null,
            "grid_auto_columns": null,
            "grid_auto_flow": null,
            "grid_auto_rows": null,
            "grid_column": null,
            "grid_gap": null,
            "grid_row": null,
            "grid_template_areas": null,
            "grid_template_columns": null,
            "grid_template_rows": null,
            "height": null,
            "justify_content": null,
            "justify_items": null,
            "left": null,
            "margin": null,
            "max_height": null,
            "max_width": null,
            "min_height": null,
            "min_width": null,
            "object_fit": null,
            "object_position": null,
            "order": null,
            "overflow": null,
            "overflow_x": null,
            "overflow_y": null,
            "padding": null,
            "right": null,
            "top": null,
            "visibility": null,
            "width": null
          }
        },
        "26340d07849d46d783a8119fa58e7350": {
          "model_module": "@jupyter-widgets/controls",
          "model_name": "DescriptionStyleModel",
          "model_module_version": "1.5.0",
          "state": {
            "_model_module": "@jupyter-widgets/controls",
            "_model_module_version": "1.5.0",
            "_model_name": "DescriptionStyleModel",
            "_view_count": null,
            "_view_module": "@jupyter-widgets/base",
            "_view_module_version": "1.2.0",
            "_view_name": "StyleView",
            "description_width": ""
          }
        },
        "388a3d3c518340618e98935354398dca": {
          "model_module": "@jupyter-widgets/controls",
          "model_name": "HBoxModel",
          "model_module_version": "1.5.0",
          "state": {
            "_dom_classes": [],
            "_model_module": "@jupyter-widgets/controls",
            "_model_module_version": "1.5.0",
            "_model_name": "HBoxModel",
            "_view_count": null,
            "_view_module": "@jupyter-widgets/controls",
            "_view_module_version": "1.5.0",
            "_view_name": "HBoxView",
            "box_style": "",
            "children": [
              "IPY_MODEL_199473cc875f4fcdbbe2a12063d04801",
              "IPY_MODEL_72f9d27181f246dbaac716f924dae9ef",
              "IPY_MODEL_e4b5d791d4e148b68dfc12e20b178e24"
            ],
            "layout": "IPY_MODEL_e8c15adefe264a8787b09da2d072cbcf"
          }
        },
        "199473cc875f4fcdbbe2a12063d04801": {
          "model_module": "@jupyter-widgets/controls",
          "model_name": "HTMLModel",
          "model_module_version": "1.5.0",
          "state": {
            "_dom_classes": [],
            "_model_module": "@jupyter-widgets/controls",
            "_model_module_version": "1.5.0",
            "_model_name": "HTMLModel",
            "_view_count": null,
            "_view_module": "@jupyter-widgets/controls",
            "_view_module_version": "1.5.0",
            "_view_name": "HTMLView",
            "description": "",
            "description_tooltip": null,
            "layout": "IPY_MODEL_fb5a1fb995c2448a87879be54a58eb71",
            "placeholder": "​",
            "style": "IPY_MODEL_746cd0ef36c74ed0928a42eff908e08b",
            "value": "diffusion_pytorch_model.safetensors: 100%"
          }
        },
        "72f9d27181f246dbaac716f924dae9ef": {
          "model_module": "@jupyter-widgets/controls",
          "model_name": "FloatProgressModel",
          "model_module_version": "1.5.0",
          "state": {
            "_dom_classes": [],
            "_model_module": "@jupyter-widgets/controls",
            "_model_module_version": "1.5.0",
            "_model_name": "FloatProgressModel",
            "_view_count": null,
            "_view_module": "@jupyter-widgets/controls",
            "_view_module_version": "1.5.0",
            "_view_name": "ProgressView",
            "bar_style": "success",
            "description": "",
            "description_tooltip": null,
            "layout": "IPY_MODEL_9222e6fe7e3641dbb75c330e34c3ba73",
            "max": 334643276,
            "min": 0,
            "orientation": "horizontal",
            "style": "IPY_MODEL_ae7ad3deb87f424da1f1864250e506d3",
            "value": 334643276
          }
        },
        "e4b5d791d4e148b68dfc12e20b178e24": {
          "model_module": "@jupyter-widgets/controls",
          "model_name": "HTMLModel",
          "model_module_version": "1.5.0",
          "state": {
            "_dom_classes": [],
            "_model_module": "@jupyter-widgets/controls",
            "_model_module_version": "1.5.0",
            "_model_name": "HTMLModel",
            "_view_count": null,
            "_view_module": "@jupyter-widgets/controls",
            "_view_module_version": "1.5.0",
            "_view_name": "HTMLView",
            "description": "",
            "description_tooltip": null,
            "layout": "IPY_MODEL_2e7ad2abdfc34aaf9f6a2a75dd3ef8d1",
            "placeholder": "​",
            "style": "IPY_MODEL_dcd64e66ead8404ebadf04215358cfed",
            "value": " 335M/335M [00:07&lt;00:00, 74.2MB/s]"
          }
        },
        "e8c15adefe264a8787b09da2d072cbcf": {
          "model_module": "@jupyter-widgets/base",
          "model_name": "LayoutModel",
          "model_module_version": "1.2.0",
          "state": {
            "_model_module": "@jupyter-widgets/base",
            "_model_module_version": "1.2.0",
            "_model_name": "LayoutModel",
            "_view_count": null,
            "_view_module": "@jupyter-widgets/base",
            "_view_module_version": "1.2.0",
            "_view_name": "LayoutView",
            "align_content": null,
            "align_items": null,
            "align_self": null,
            "border": null,
            "bottom": null,
            "display": null,
            "flex": null,
            "flex_flow": null,
            "grid_area": null,
            "grid_auto_columns": null,
            "grid_auto_flow": null,
            "grid_auto_rows": null,
            "grid_column": null,
            "grid_gap": null,
            "grid_row": null,
            "grid_template_areas": null,
            "grid_template_columns": null,
            "grid_template_rows": null,
            "height": null,
            "justify_content": null,
            "justify_items": null,
            "left": null,
            "margin": null,
            "max_height": null,
            "max_width": null,
            "min_height": null,
            "min_width": null,
            "object_fit": null,
            "object_position": null,
            "order": null,
            "overflow": null,
            "overflow_x": null,
            "overflow_y": null,
            "padding": null,
            "right": null,
            "top": null,
            "visibility": null,
            "width": null
          }
        },
        "fb5a1fb995c2448a87879be54a58eb71": {
          "model_module": "@jupyter-widgets/base",
          "model_name": "LayoutModel",
          "model_module_version": "1.2.0",
          "state": {
            "_model_module": "@jupyter-widgets/base",
            "_model_module_version": "1.2.0",
            "_model_name": "LayoutModel",
            "_view_count": null,
            "_view_module": "@jupyter-widgets/base",
            "_view_module_version": "1.2.0",
            "_view_name": "LayoutView",
            "align_content": null,
            "align_items": null,
            "align_self": null,
            "border": null,
            "bottom": null,
            "display": null,
            "flex": null,
            "flex_flow": null,
            "grid_area": null,
            "grid_auto_columns": null,
            "grid_auto_flow": null,
            "grid_auto_rows": null,
            "grid_column": null,
            "grid_gap": null,
            "grid_row": null,
            "grid_template_areas": null,
            "grid_template_columns": null,
            "grid_template_rows": null,
            "height": null,
            "justify_content": null,
            "justify_items": null,
            "left": null,
            "margin": null,
            "max_height": null,
            "max_width": null,
            "min_height": null,
            "min_width": null,
            "object_fit": null,
            "object_position": null,
            "order": null,
            "overflow": null,
            "overflow_x": null,
            "overflow_y": null,
            "padding": null,
            "right": null,
            "top": null,
            "visibility": null,
            "width": null
          }
        },
        "746cd0ef36c74ed0928a42eff908e08b": {
          "model_module": "@jupyter-widgets/controls",
          "model_name": "DescriptionStyleModel",
          "model_module_version": "1.5.0",
          "state": {
            "_model_module": "@jupyter-widgets/controls",
            "_model_module_version": "1.5.0",
            "_model_name": "DescriptionStyleModel",
            "_view_count": null,
            "_view_module": "@jupyter-widgets/base",
            "_view_module_version": "1.2.0",
            "_view_name": "StyleView",
            "description_width": ""
          }
        },
        "9222e6fe7e3641dbb75c330e34c3ba73": {
          "model_module": "@jupyter-widgets/base",
          "model_name": "LayoutModel",
          "model_module_version": "1.2.0",
          "state": {
            "_model_module": "@jupyter-widgets/base",
            "_model_module_version": "1.2.0",
            "_model_name": "LayoutModel",
            "_view_count": null,
            "_view_module": "@jupyter-widgets/base",
            "_view_module_version": "1.2.0",
            "_view_name": "LayoutView",
            "align_content": null,
            "align_items": null,
            "align_self": null,
            "border": null,
            "bottom": null,
            "display": null,
            "flex": null,
            "flex_flow": null,
            "grid_area": null,
            "grid_auto_columns": null,
            "grid_auto_flow": null,
            "grid_auto_rows": null,
            "grid_column": null,
            "grid_gap": null,
            "grid_row": null,
            "grid_template_areas": null,
            "grid_template_columns": null,
            "grid_template_rows": null,
            "height": null,
            "justify_content": null,
            "justify_items": null,
            "left": null,
            "margin": null,
            "max_height": null,
            "max_width": null,
            "min_height": null,
            "min_width": null,
            "object_fit": null,
            "object_position": null,
            "order": null,
            "overflow": null,
            "overflow_x": null,
            "overflow_y": null,
            "padding": null,
            "right": null,
            "top": null,
            "visibility": null,
            "width": null
          }
        },
        "ae7ad3deb87f424da1f1864250e506d3": {
          "model_module": "@jupyter-widgets/controls",
          "model_name": "ProgressStyleModel",
          "model_module_version": "1.5.0",
          "state": {
            "_model_module": "@jupyter-widgets/controls",
            "_model_module_version": "1.5.0",
            "_model_name": "ProgressStyleModel",
            "_view_count": null,
            "_view_module": "@jupyter-widgets/base",
            "_view_module_version": "1.2.0",
            "_view_name": "StyleView",
            "bar_color": null,
            "description_width": ""
          }
        },
        "2e7ad2abdfc34aaf9f6a2a75dd3ef8d1": {
          "model_module": "@jupyter-widgets/base",
          "model_name": "LayoutModel",
          "model_module_version": "1.2.0",
          "state": {
            "_model_module": "@jupyter-widgets/base",
            "_model_module_version": "1.2.0",
            "_model_name": "LayoutModel",
            "_view_count": null,
            "_view_module": "@jupyter-widgets/base",
            "_view_module_version": "1.2.0",
            "_view_name": "LayoutView",
            "align_content": null,
            "align_items": null,
            "align_self": null,
            "border": null,
            "bottom": null,
            "display": null,
            "flex": null,
            "flex_flow": null,
            "grid_area": null,
            "grid_auto_columns": null,
            "grid_auto_flow": null,
            "grid_auto_rows": null,
            "grid_column": null,
            "grid_gap": null,
            "grid_row": null,
            "grid_template_areas": null,
            "grid_template_columns": null,
            "grid_template_rows": null,
            "height": null,
            "justify_content": null,
            "justify_items": null,
            "left": null,
            "margin": null,
            "max_height": null,
            "max_width": null,
            "min_height": null,
            "min_width": null,
            "object_fit": null,
            "object_position": null,
            "order": null,
            "overflow": null,
            "overflow_x": null,
            "overflow_y": null,
            "padding": null,
            "right": null,
            "top": null,
            "visibility": null,
            "width": null
          }
        },
        "dcd64e66ead8404ebadf04215358cfed": {
          "model_module": "@jupyter-widgets/controls",
          "model_name": "DescriptionStyleModel",
          "model_module_version": "1.5.0",
          "state": {
            "_model_module": "@jupyter-widgets/controls",
            "_model_module_version": "1.5.0",
            "_model_name": "DescriptionStyleModel",
            "_view_count": null,
            "_view_module": "@jupyter-widgets/base",
            "_view_module_version": "1.2.0",
            "_view_name": "StyleView",
            "description_width": ""
          }
        },
        "79e3cf0a107a4a04bc786812ff802b78": {
          "model_module": "@jupyter-widgets/controls",
          "model_name": "HBoxModel",
          "model_module_version": "1.5.0",
          "state": {
            "_dom_classes": [],
            "_model_module": "@jupyter-widgets/controls",
            "_model_module_version": "1.5.0",
            "_model_name": "HBoxModel",
            "_view_count": null,
            "_view_module": "@jupyter-widgets/controls",
            "_view_module_version": "1.5.0",
            "_view_name": "HBoxView",
            "box_style": "",
            "children": [
              "IPY_MODEL_c86ce944c64940a8bfc7d3dea9937a1a",
              "IPY_MODEL_a7c0e4a4bab0453ea8460116779ba94d",
              "IPY_MODEL_46f78f9d01c74b9f9ed1e5ce15448a7a"
            ],
            "layout": "IPY_MODEL_f7edc0e6be3b4008a337dcfe3f20215e"
          }
        },
        "c86ce944c64940a8bfc7d3dea9937a1a": {
          "model_module": "@jupyter-widgets/controls",
          "model_name": "HTMLModel",
          "model_module_version": "1.5.0",
          "state": {
            "_dom_classes": [],
            "_model_module": "@jupyter-widgets/controls",
            "_model_module_version": "1.5.0",
            "_model_name": "HTMLModel",
            "_view_count": null,
            "_view_module": "@jupyter-widgets/controls",
            "_view_module_version": "1.5.0",
            "_view_name": "HTMLView",
            "description": "",
            "description_tooltip": null,
            "layout": "IPY_MODEL_7f842260a95d464598c9a368f20a114a",
            "placeholder": "​",
            "style": "IPY_MODEL_b1040e7d1bfd45059089d5c630dbe67d",
            "value": "Loading pipeline components...: 100%"
          }
        },
        "a7c0e4a4bab0453ea8460116779ba94d": {
          "model_module": "@jupyter-widgets/controls",
          "model_name": "FloatProgressModel",
          "model_module_version": "1.5.0",
          "state": {
            "_dom_classes": [],
            "_model_module": "@jupyter-widgets/controls",
            "_model_module_version": "1.5.0",
            "_model_name": "FloatProgressModel",
            "_view_count": null,
            "_view_module": "@jupyter-widgets/controls",
            "_view_module_version": "1.5.0",
            "_view_name": "ProgressView",
            "bar_style": "success",
            "description": "",
            "description_tooltip": null,
            "layout": "IPY_MODEL_c3bfc6dc8e3547d791d0253fdec6feeb",
            "max": 7,
            "min": 0,
            "orientation": "horizontal",
            "style": "IPY_MODEL_b8d0fc26f8fa4525a65973ea5da491ee",
            "value": 7
          }
        },
        "46f78f9d01c74b9f9ed1e5ce15448a7a": {
          "model_module": "@jupyter-widgets/controls",
          "model_name": "HTMLModel",
          "model_module_version": "1.5.0",
          "state": {
            "_dom_classes": [],
            "_model_module": "@jupyter-widgets/controls",
            "_model_module_version": "1.5.0",
            "_model_name": "HTMLModel",
            "_view_count": null,
            "_view_module": "@jupyter-widgets/controls",
            "_view_module_version": "1.5.0",
            "_view_name": "HTMLView",
            "description": "",
            "description_tooltip": null,
            "layout": "IPY_MODEL_74309f78c3834e649615f9b36492ce30",
            "placeholder": "​",
            "style": "IPY_MODEL_57611ee506cd42a09e1846ee7bf67d07",
            "value": " 7/7 [00:34&lt;00:00,  8.47s/it]"
          }
        },
        "f7edc0e6be3b4008a337dcfe3f20215e": {
          "model_module": "@jupyter-widgets/base",
          "model_name": "LayoutModel",
          "model_module_version": "1.2.0",
          "state": {
            "_model_module": "@jupyter-widgets/base",
            "_model_module_version": "1.2.0",
            "_model_name": "LayoutModel",
            "_view_count": null,
            "_view_module": "@jupyter-widgets/base",
            "_view_module_version": "1.2.0",
            "_view_name": "LayoutView",
            "align_content": null,
            "align_items": null,
            "align_self": null,
            "border": null,
            "bottom": null,
            "display": null,
            "flex": null,
            "flex_flow": null,
            "grid_area": null,
            "grid_auto_columns": null,
            "grid_auto_flow": null,
            "grid_auto_rows": null,
            "grid_column": null,
            "grid_gap": null,
            "grid_row": null,
            "grid_template_areas": null,
            "grid_template_columns": null,
            "grid_template_rows": null,
            "height": null,
            "justify_content": null,
            "justify_items": null,
            "left": null,
            "margin": null,
            "max_height": null,
            "max_width": null,
            "min_height": null,
            "min_width": null,
            "object_fit": null,
            "object_position": null,
            "order": null,
            "overflow": null,
            "overflow_x": null,
            "overflow_y": null,
            "padding": null,
            "right": null,
            "top": null,
            "visibility": null,
            "width": null
          }
        },
        "7f842260a95d464598c9a368f20a114a": {
          "model_module": "@jupyter-widgets/base",
          "model_name": "LayoutModel",
          "model_module_version": "1.2.0",
          "state": {
            "_model_module": "@jupyter-widgets/base",
            "_model_module_version": "1.2.0",
            "_model_name": "LayoutModel",
            "_view_count": null,
            "_view_module": "@jupyter-widgets/base",
            "_view_module_version": "1.2.0",
            "_view_name": "LayoutView",
            "align_content": null,
            "align_items": null,
            "align_self": null,
            "border": null,
            "bottom": null,
            "display": null,
            "flex": null,
            "flex_flow": null,
            "grid_area": null,
            "grid_auto_columns": null,
            "grid_auto_flow": null,
            "grid_auto_rows": null,
            "grid_column": null,
            "grid_gap": null,
            "grid_row": null,
            "grid_template_areas": null,
            "grid_template_columns": null,
            "grid_template_rows": null,
            "height": null,
            "justify_content": null,
            "justify_items": null,
            "left": null,
            "margin": null,
            "max_height": null,
            "max_width": null,
            "min_height": null,
            "min_width": null,
            "object_fit": null,
            "object_position": null,
            "order": null,
            "overflow": null,
            "overflow_x": null,
            "overflow_y": null,
            "padding": null,
            "right": null,
            "top": null,
            "visibility": null,
            "width": null
          }
        },
        "b1040e7d1bfd45059089d5c630dbe67d": {
          "model_module": "@jupyter-widgets/controls",
          "model_name": "DescriptionStyleModel",
          "model_module_version": "1.5.0",
          "state": {
            "_model_module": "@jupyter-widgets/controls",
            "_model_module_version": "1.5.0",
            "_model_name": "DescriptionStyleModel",
            "_view_count": null,
            "_view_module": "@jupyter-widgets/base",
            "_view_module_version": "1.2.0",
            "_view_name": "StyleView",
            "description_width": ""
          }
        },
        "c3bfc6dc8e3547d791d0253fdec6feeb": {
          "model_module": "@jupyter-widgets/base",
          "model_name": "LayoutModel",
          "model_module_version": "1.2.0",
          "state": {
            "_model_module": "@jupyter-widgets/base",
            "_model_module_version": "1.2.0",
            "_model_name": "LayoutModel",
            "_view_count": null,
            "_view_module": "@jupyter-widgets/base",
            "_view_module_version": "1.2.0",
            "_view_name": "LayoutView",
            "align_content": null,
            "align_items": null,
            "align_self": null,
            "border": null,
            "bottom": null,
            "display": null,
            "flex": null,
            "flex_flow": null,
            "grid_area": null,
            "grid_auto_columns": null,
            "grid_auto_flow": null,
            "grid_auto_rows": null,
            "grid_column": null,
            "grid_gap": null,
            "grid_row": null,
            "grid_template_areas": null,
            "grid_template_columns": null,
            "grid_template_rows": null,
            "height": null,
            "justify_content": null,
            "justify_items": null,
            "left": null,
            "margin": null,
            "max_height": null,
            "max_width": null,
            "min_height": null,
            "min_width": null,
            "object_fit": null,
            "object_position": null,
            "order": null,
            "overflow": null,
            "overflow_x": null,
            "overflow_y": null,
            "padding": null,
            "right": null,
            "top": null,
            "visibility": null,
            "width": null
          }
        },
        "b8d0fc26f8fa4525a65973ea5da491ee": {
          "model_module": "@jupyter-widgets/controls",
          "model_name": "ProgressStyleModel",
          "model_module_version": "1.5.0",
          "state": {
            "_model_module": "@jupyter-widgets/controls",
            "_model_module_version": "1.5.0",
            "_model_name": "ProgressStyleModel",
            "_view_count": null,
            "_view_module": "@jupyter-widgets/base",
            "_view_module_version": "1.2.0",
            "_view_name": "StyleView",
            "bar_color": null,
            "description_width": ""
          }
        },
        "74309f78c3834e649615f9b36492ce30": {
          "model_module": "@jupyter-widgets/base",
          "model_name": "LayoutModel",
          "model_module_version": "1.2.0",
          "state": {
            "_model_module": "@jupyter-widgets/base",
            "_model_module_version": "1.2.0",
            "_model_name": "LayoutModel",
            "_view_count": null,
            "_view_module": "@jupyter-widgets/base",
            "_view_module_version": "1.2.0",
            "_view_name": "LayoutView",
            "align_content": null,
            "align_items": null,
            "align_self": null,
            "border": null,
            "bottom": null,
            "display": null,
            "flex": null,
            "flex_flow": null,
            "grid_area": null,
            "grid_auto_columns": null,
            "grid_auto_flow": null,
            "grid_auto_rows": null,
            "grid_column": null,
            "grid_gap": null,
            "grid_row": null,
            "grid_template_areas": null,
            "grid_template_columns": null,
            "grid_template_rows": null,
            "height": null,
            "justify_content": null,
            "justify_items": null,
            "left": null,
            "margin": null,
            "max_height": null,
            "max_width": null,
            "min_height": null,
            "min_width": null,
            "object_fit": null,
            "object_position": null,
            "order": null,
            "overflow": null,
            "overflow_x": null,
            "overflow_y": null,
            "padding": null,
            "right": null,
            "top": null,
            "visibility": null,
            "width": null
          }
        },
        "57611ee506cd42a09e1846ee7bf67d07": {
          "model_module": "@jupyter-widgets/controls",
          "model_name": "DescriptionStyleModel",
          "model_module_version": "1.5.0",
          "state": {
            "_model_module": "@jupyter-widgets/controls",
            "_model_module_version": "1.5.0",
            "_model_name": "DescriptionStyleModel",
            "_view_count": null,
            "_view_module": "@jupyter-widgets/base",
            "_view_module_version": "1.2.0",
            "_view_name": "StyleView",
            "description_width": ""
          }
        },
        "10e5ccd2809f4e82a402c66d8c6ae7e6": {
          "model_module": "@jupyter-widgets/controls",
          "model_name": "HBoxModel",
          "model_module_version": "1.5.0",
          "state": {
            "_dom_classes": [],
            "_model_module": "@jupyter-widgets/controls",
            "_model_module_version": "1.5.0",
            "_model_name": "HBoxModel",
            "_view_count": null,
            "_view_module": "@jupyter-widgets/controls",
            "_view_module_version": "1.5.0",
            "_view_name": "HBoxView",
            "box_style": "",
            "children": [
              "IPY_MODEL_7064990aca2744bda2f0d516d597cfa2",
              "IPY_MODEL_2792d98798384bb2a12b0dd98dfa8f14",
              "IPY_MODEL_c31560edd93243a2a352f6c29668773b"
            ],
            "layout": "IPY_MODEL_03e1ff993ab64638ad89f6c9c84b6970"
          }
        },
        "7064990aca2744bda2f0d516d597cfa2": {
          "model_module": "@jupyter-widgets/controls",
          "model_name": "HTMLModel",
          "model_module_version": "1.5.0",
          "state": {
            "_dom_classes": [],
            "_model_module": "@jupyter-widgets/controls",
            "_model_module_version": "1.5.0",
            "_model_name": "HTMLModel",
            "_view_count": null,
            "_view_module": "@jupyter-widgets/controls",
            "_view_module_version": "1.5.0",
            "_view_name": "HTMLView",
            "description": "",
            "description_tooltip": null,
            "layout": "IPY_MODEL_0fce0e3ee9be4087b79130f181ef9164",
            "placeholder": "​",
            "style": "IPY_MODEL_3047e4c682f3434fb6bcf3e7f076a0f0",
            "value": "tokenizer_config.json: 100%"
          }
        },
        "2792d98798384bb2a12b0dd98dfa8f14": {
          "model_module": "@jupyter-widgets/controls",
          "model_name": "FloatProgressModel",
          "model_module_version": "1.5.0",
          "state": {
            "_dom_classes": [],
            "_model_module": "@jupyter-widgets/controls",
            "_model_module_version": "1.5.0",
            "_model_name": "FloatProgressModel",
            "_view_count": null,
            "_view_module": "@jupyter-widgets/controls",
            "_view_module_version": "1.5.0",
            "_view_name": "ProgressView",
            "bar_style": "success",
            "description": "",
            "description_tooltip": null,
            "layout": "IPY_MODEL_f261aca54d6442ef844390a8e021a542",
            "max": 592,
            "min": 0,
            "orientation": "horizontal",
            "style": "IPY_MODEL_7562a0188ae54a178c5fba971ba2e0d4",
            "value": 592
          }
        },
        "c31560edd93243a2a352f6c29668773b": {
          "model_module": "@jupyter-widgets/controls",
          "model_name": "HTMLModel",
          "model_module_version": "1.5.0",
          "state": {
            "_dom_classes": [],
            "_model_module": "@jupyter-widgets/controls",
            "_model_module_version": "1.5.0",
            "_model_name": "HTMLModel",
            "_view_count": null,
            "_view_module": "@jupyter-widgets/controls",
            "_view_module_version": "1.5.0",
            "_view_name": "HTMLView",
            "description": "",
            "description_tooltip": null,
            "layout": "IPY_MODEL_6c90f0c4ee5f464d90e8a6d07cc4be4b",
            "placeholder": "​",
            "style": "IPY_MODEL_f8f14f3fa7ae4593995fd899494a4cf0",
            "value": " 592/592 [00:00&lt;00:00, 46.7kB/s]"
          }
        },
        "03e1ff993ab64638ad89f6c9c84b6970": {
          "model_module": "@jupyter-widgets/base",
          "model_name": "LayoutModel",
          "model_module_version": "1.2.0",
          "state": {
            "_model_module": "@jupyter-widgets/base",
            "_model_module_version": "1.2.0",
            "_model_name": "LayoutModel",
            "_view_count": null,
            "_view_module": "@jupyter-widgets/base",
            "_view_module_version": "1.2.0",
            "_view_name": "LayoutView",
            "align_content": null,
            "align_items": null,
            "align_self": null,
            "border": null,
            "bottom": null,
            "display": null,
            "flex": null,
            "flex_flow": null,
            "grid_area": null,
            "grid_auto_columns": null,
            "grid_auto_flow": null,
            "grid_auto_rows": null,
            "grid_column": null,
            "grid_gap": null,
            "grid_row": null,
            "grid_template_areas": null,
            "grid_template_columns": null,
            "grid_template_rows": null,
            "height": null,
            "justify_content": null,
            "justify_items": null,
            "left": null,
            "margin": null,
            "max_height": null,
            "max_width": null,
            "min_height": null,
            "min_width": null,
            "object_fit": null,
            "object_position": null,
            "order": null,
            "overflow": null,
            "overflow_x": null,
            "overflow_y": null,
            "padding": null,
            "right": null,
            "top": null,
            "visibility": null,
            "width": null
          }
        },
        "0fce0e3ee9be4087b79130f181ef9164": {
          "model_module": "@jupyter-widgets/base",
          "model_name": "LayoutModel",
          "model_module_version": "1.2.0",
          "state": {
            "_model_module": "@jupyter-widgets/base",
            "_model_module_version": "1.2.0",
            "_model_name": "LayoutModel",
            "_view_count": null,
            "_view_module": "@jupyter-widgets/base",
            "_view_module_version": "1.2.0",
            "_view_name": "LayoutView",
            "align_content": null,
            "align_items": null,
            "align_self": null,
            "border": null,
            "bottom": null,
            "display": null,
            "flex": null,
            "flex_flow": null,
            "grid_area": null,
            "grid_auto_columns": null,
            "grid_auto_flow": null,
            "grid_auto_rows": null,
            "grid_column": null,
            "grid_gap": null,
            "grid_row": null,
            "grid_template_areas": null,
            "grid_template_columns": null,
            "grid_template_rows": null,
            "height": null,
            "justify_content": null,
            "justify_items": null,
            "left": null,
            "margin": null,
            "max_height": null,
            "max_width": null,
            "min_height": null,
            "min_width": null,
            "object_fit": null,
            "object_position": null,
            "order": null,
            "overflow": null,
            "overflow_x": null,
            "overflow_y": null,
            "padding": null,
            "right": null,
            "top": null,
            "visibility": null,
            "width": null
          }
        },
        "3047e4c682f3434fb6bcf3e7f076a0f0": {
          "model_module": "@jupyter-widgets/controls",
          "model_name": "DescriptionStyleModel",
          "model_module_version": "1.5.0",
          "state": {
            "_model_module": "@jupyter-widgets/controls",
            "_model_module_version": "1.5.0",
            "_model_name": "DescriptionStyleModel",
            "_view_count": null,
            "_view_module": "@jupyter-widgets/base",
            "_view_module_version": "1.2.0",
            "_view_name": "StyleView",
            "description_width": ""
          }
        },
        "f261aca54d6442ef844390a8e021a542": {
          "model_module": "@jupyter-widgets/base",
          "model_name": "LayoutModel",
          "model_module_version": "1.2.0",
          "state": {
            "_model_module": "@jupyter-widgets/base",
            "_model_module_version": "1.2.0",
            "_model_name": "LayoutModel",
            "_view_count": null,
            "_view_module": "@jupyter-widgets/base",
            "_view_module_version": "1.2.0",
            "_view_name": "LayoutView",
            "align_content": null,
            "align_items": null,
            "align_self": null,
            "border": null,
            "bottom": null,
            "display": null,
            "flex": null,
            "flex_flow": null,
            "grid_area": null,
            "grid_auto_columns": null,
            "grid_auto_flow": null,
            "grid_auto_rows": null,
            "grid_column": null,
            "grid_gap": null,
            "grid_row": null,
            "grid_template_areas": null,
            "grid_template_columns": null,
            "grid_template_rows": null,
            "height": null,
            "justify_content": null,
            "justify_items": null,
            "left": null,
            "margin": null,
            "max_height": null,
            "max_width": null,
            "min_height": null,
            "min_width": null,
            "object_fit": null,
            "object_position": null,
            "order": null,
            "overflow": null,
            "overflow_x": null,
            "overflow_y": null,
            "padding": null,
            "right": null,
            "top": null,
            "visibility": null,
            "width": null
          }
        },
        "7562a0188ae54a178c5fba971ba2e0d4": {
          "model_module": "@jupyter-widgets/controls",
          "model_name": "ProgressStyleModel",
          "model_module_version": "1.5.0",
          "state": {
            "_model_module": "@jupyter-widgets/controls",
            "_model_module_version": "1.5.0",
            "_model_name": "ProgressStyleModel",
            "_view_count": null,
            "_view_module": "@jupyter-widgets/base",
            "_view_module_version": "1.2.0",
            "_view_name": "StyleView",
            "bar_color": null,
            "description_width": ""
          }
        },
        "6c90f0c4ee5f464d90e8a6d07cc4be4b": {
          "model_module": "@jupyter-widgets/base",
          "model_name": "LayoutModel",
          "model_module_version": "1.2.0",
          "state": {
            "_model_module": "@jupyter-widgets/base",
            "_model_module_version": "1.2.0",
            "_model_name": "LayoutModel",
            "_view_count": null,
            "_view_module": "@jupyter-widgets/base",
            "_view_module_version": "1.2.0",
            "_view_name": "LayoutView",
            "align_content": null,
            "align_items": null,
            "align_self": null,
            "border": null,
            "bottom": null,
            "display": null,
            "flex": null,
            "flex_flow": null,
            "grid_area": null,
            "grid_auto_columns": null,
            "grid_auto_flow": null,
            "grid_auto_rows": null,
            "grid_column": null,
            "grid_gap": null,
            "grid_row": null,
            "grid_template_areas": null,
            "grid_template_columns": null,
            "grid_template_rows": null,
            "height": null,
            "justify_content": null,
            "justify_items": null,
            "left": null,
            "margin": null,
            "max_height": null,
            "max_width": null,
            "min_height": null,
            "min_width": null,
            "object_fit": null,
            "object_position": null,
            "order": null,
            "overflow": null,
            "overflow_x": null,
            "overflow_y": null,
            "padding": null,
            "right": null,
            "top": null,
            "visibility": null,
            "width": null
          }
        },
        "f8f14f3fa7ae4593995fd899494a4cf0": {
          "model_module": "@jupyter-widgets/controls",
          "model_name": "DescriptionStyleModel",
          "model_module_version": "1.5.0",
          "state": {
            "_model_module": "@jupyter-widgets/controls",
            "_model_module_version": "1.5.0",
            "_model_name": "DescriptionStyleModel",
            "_view_count": null,
            "_view_module": "@jupyter-widgets/base",
            "_view_module_version": "1.2.0",
            "_view_name": "StyleView",
            "description_width": ""
          }
        },
        "e4d7a7b693b74e6da2883964a8d7be13": {
          "model_module": "@jupyter-widgets/controls",
          "model_name": "HBoxModel",
          "model_module_version": "1.5.0",
          "state": {
            "_dom_classes": [],
            "_model_module": "@jupyter-widgets/controls",
            "_model_module_version": "1.5.0",
            "_model_name": "HBoxModel",
            "_view_count": null,
            "_view_module": "@jupyter-widgets/controls",
            "_view_module_version": "1.5.0",
            "_view_name": "HBoxView",
            "box_style": "",
            "children": [
              "IPY_MODEL_58d6ea8cbaea49c0b1847473114ef9d5",
              "IPY_MODEL_386b993f5a8f4c6c80767a115ed68506",
              "IPY_MODEL_22ec5ee0e1cf4e6b8294d15b50ca446f"
            ],
            "layout": "IPY_MODEL_32c8bdaaadd14f5b8a758d3534204ac6"
          }
        },
        "58d6ea8cbaea49c0b1847473114ef9d5": {
          "model_module": "@jupyter-widgets/controls",
          "model_name": "HTMLModel",
          "model_module_version": "1.5.0",
          "state": {
            "_dom_classes": [],
            "_model_module": "@jupyter-widgets/controls",
            "_model_module_version": "1.5.0",
            "_model_name": "HTMLModel",
            "_view_count": null,
            "_view_module": "@jupyter-widgets/controls",
            "_view_module_version": "1.5.0",
            "_view_name": "HTMLView",
            "description": "",
            "description_tooltip": null,
            "layout": "IPY_MODEL_a4ff3e3070754ba387bee072f585978f",
            "placeholder": "​",
            "style": "IPY_MODEL_b48a15a0d63c4e3983272dbfc4f3d536",
            "value": "vocab.json: 100%"
          }
        },
        "386b993f5a8f4c6c80767a115ed68506": {
          "model_module": "@jupyter-widgets/controls",
          "model_name": "FloatProgressModel",
          "model_module_version": "1.5.0",
          "state": {
            "_dom_classes": [],
            "_model_module": "@jupyter-widgets/controls",
            "_model_module_version": "1.5.0",
            "_model_name": "FloatProgressModel",
            "_view_count": null,
            "_view_module": "@jupyter-widgets/controls",
            "_view_module_version": "1.5.0",
            "_view_name": "ProgressView",
            "bar_style": "success",
            "description": "",
            "description_tooltip": null,
            "layout": "IPY_MODEL_309970d35c984c938b9e8b850bb295db",
            "max": 862328,
            "min": 0,
            "orientation": "horizontal",
            "style": "IPY_MODEL_0ee1edbaaf9e412a9e0e7af5ed372df7",
            "value": 862328
          }
        },
        "22ec5ee0e1cf4e6b8294d15b50ca446f": {
          "model_module": "@jupyter-widgets/controls",
          "model_name": "HTMLModel",
          "model_module_version": "1.5.0",
          "state": {
            "_dom_classes": [],
            "_model_module": "@jupyter-widgets/controls",
            "_model_module_version": "1.5.0",
            "_model_name": "HTMLModel",
            "_view_count": null,
            "_view_module": "@jupyter-widgets/controls",
            "_view_module_version": "1.5.0",
            "_view_name": "HTMLView",
            "description": "",
            "description_tooltip": null,
            "layout": "IPY_MODEL_1e259466f1e9425d84c195ba0e001ff1",
            "placeholder": "​",
            "style": "IPY_MODEL_a57f1a7ea96f47c5b2a61fca966dbb84",
            "value": " 862k/862k [00:00&lt;00:00, 37.9MB/s]"
          }
        },
        "32c8bdaaadd14f5b8a758d3534204ac6": {
          "model_module": "@jupyter-widgets/base",
          "model_name": "LayoutModel",
          "model_module_version": "1.2.0",
          "state": {
            "_model_module": "@jupyter-widgets/base",
            "_model_module_version": "1.2.0",
            "_model_name": "LayoutModel",
            "_view_count": null,
            "_view_module": "@jupyter-widgets/base",
            "_view_module_version": "1.2.0",
            "_view_name": "LayoutView",
            "align_content": null,
            "align_items": null,
            "align_self": null,
            "border": null,
            "bottom": null,
            "display": null,
            "flex": null,
            "flex_flow": null,
            "grid_area": null,
            "grid_auto_columns": null,
            "grid_auto_flow": null,
            "grid_auto_rows": null,
            "grid_column": null,
            "grid_gap": null,
            "grid_row": null,
            "grid_template_areas": null,
            "grid_template_columns": null,
            "grid_template_rows": null,
            "height": null,
            "justify_content": null,
            "justify_items": null,
            "left": null,
            "margin": null,
            "max_height": null,
            "max_width": null,
            "min_height": null,
            "min_width": null,
            "object_fit": null,
            "object_position": null,
            "order": null,
            "overflow": null,
            "overflow_x": null,
            "overflow_y": null,
            "padding": null,
            "right": null,
            "top": null,
            "visibility": null,
            "width": null
          }
        },
        "a4ff3e3070754ba387bee072f585978f": {
          "model_module": "@jupyter-widgets/base",
          "model_name": "LayoutModel",
          "model_module_version": "1.2.0",
          "state": {
            "_model_module": "@jupyter-widgets/base",
            "_model_module_version": "1.2.0",
            "_model_name": "LayoutModel",
            "_view_count": null,
            "_view_module": "@jupyter-widgets/base",
            "_view_module_version": "1.2.0",
            "_view_name": "LayoutView",
            "align_content": null,
            "align_items": null,
            "align_self": null,
            "border": null,
            "bottom": null,
            "display": null,
            "flex": null,
            "flex_flow": null,
            "grid_area": null,
            "grid_auto_columns": null,
            "grid_auto_flow": null,
            "grid_auto_rows": null,
            "grid_column": null,
            "grid_gap": null,
            "grid_row": null,
            "grid_template_areas": null,
            "grid_template_columns": null,
            "grid_template_rows": null,
            "height": null,
            "justify_content": null,
            "justify_items": null,
            "left": null,
            "margin": null,
            "max_height": null,
            "max_width": null,
            "min_height": null,
            "min_width": null,
            "object_fit": null,
            "object_position": null,
            "order": null,
            "overflow": null,
            "overflow_x": null,
            "overflow_y": null,
            "padding": null,
            "right": null,
            "top": null,
            "visibility": null,
            "width": null
          }
        },
        "b48a15a0d63c4e3983272dbfc4f3d536": {
          "model_module": "@jupyter-widgets/controls",
          "model_name": "DescriptionStyleModel",
          "model_module_version": "1.5.0",
          "state": {
            "_model_module": "@jupyter-widgets/controls",
            "_model_module_version": "1.5.0",
            "_model_name": "DescriptionStyleModel",
            "_view_count": null,
            "_view_module": "@jupyter-widgets/base",
            "_view_module_version": "1.2.0",
            "_view_name": "StyleView",
            "description_width": ""
          }
        },
        "309970d35c984c938b9e8b850bb295db": {
          "model_module": "@jupyter-widgets/base",
          "model_name": "LayoutModel",
          "model_module_version": "1.2.0",
          "state": {
            "_model_module": "@jupyter-widgets/base",
            "_model_module_version": "1.2.0",
            "_model_name": "LayoutModel",
            "_view_count": null,
            "_view_module": "@jupyter-widgets/base",
            "_view_module_version": "1.2.0",
            "_view_name": "LayoutView",
            "align_content": null,
            "align_items": null,
            "align_self": null,
            "border": null,
            "bottom": null,
            "display": null,
            "flex": null,
            "flex_flow": null,
            "grid_area": null,
            "grid_auto_columns": null,
            "grid_auto_flow": null,
            "grid_auto_rows": null,
            "grid_column": null,
            "grid_gap": null,
            "grid_row": null,
            "grid_template_areas": null,
            "grid_template_columns": null,
            "grid_template_rows": null,
            "height": null,
            "justify_content": null,
            "justify_items": null,
            "left": null,
            "margin": null,
            "max_height": null,
            "max_width": null,
            "min_height": null,
            "min_width": null,
            "object_fit": null,
            "object_position": null,
            "order": null,
            "overflow": null,
            "overflow_x": null,
            "overflow_y": null,
            "padding": null,
            "right": null,
            "top": null,
            "visibility": null,
            "width": null
          }
        },
        "0ee1edbaaf9e412a9e0e7af5ed372df7": {
          "model_module": "@jupyter-widgets/controls",
          "model_name": "ProgressStyleModel",
          "model_module_version": "1.5.0",
          "state": {
            "_model_module": "@jupyter-widgets/controls",
            "_model_module_version": "1.5.0",
            "_model_name": "ProgressStyleModel",
            "_view_count": null,
            "_view_module": "@jupyter-widgets/base",
            "_view_module_version": "1.2.0",
            "_view_name": "StyleView",
            "bar_color": null,
            "description_width": ""
          }
        },
        "1e259466f1e9425d84c195ba0e001ff1": {
          "model_module": "@jupyter-widgets/base",
          "model_name": "LayoutModel",
          "model_module_version": "1.2.0",
          "state": {
            "_model_module": "@jupyter-widgets/base",
            "_model_module_version": "1.2.0",
            "_model_name": "LayoutModel",
            "_view_count": null,
            "_view_module": "@jupyter-widgets/base",
            "_view_module_version": "1.2.0",
            "_view_name": "LayoutView",
            "align_content": null,
            "align_items": null,
            "align_self": null,
            "border": null,
            "bottom": null,
            "display": null,
            "flex": null,
            "flex_flow": null,
            "grid_area": null,
            "grid_auto_columns": null,
            "grid_auto_flow": null,
            "grid_auto_rows": null,
            "grid_column": null,
            "grid_gap": null,
            "grid_row": null,
            "grid_template_areas": null,
            "grid_template_columns": null,
            "grid_template_rows": null,
            "height": null,
            "justify_content": null,
            "justify_items": null,
            "left": null,
            "margin": null,
            "max_height": null,
            "max_width": null,
            "min_height": null,
            "min_width": null,
            "object_fit": null,
            "object_position": null,
            "order": null,
            "overflow": null,
            "overflow_x": null,
            "overflow_y": null,
            "padding": null,
            "right": null,
            "top": null,
            "visibility": null,
            "width": null
          }
        },
        "a57f1a7ea96f47c5b2a61fca966dbb84": {
          "model_module": "@jupyter-widgets/controls",
          "model_name": "DescriptionStyleModel",
          "model_module_version": "1.5.0",
          "state": {
            "_model_module": "@jupyter-widgets/controls",
            "_model_module_version": "1.5.0",
            "_model_name": "DescriptionStyleModel",
            "_view_count": null,
            "_view_module": "@jupyter-widgets/base",
            "_view_module_version": "1.2.0",
            "_view_name": "StyleView",
            "description_width": ""
          }
        },
        "cc5f16e22058410699cd82ab56238b35": {
          "model_module": "@jupyter-widgets/controls",
          "model_name": "HBoxModel",
          "model_module_version": "1.5.0",
          "state": {
            "_dom_classes": [],
            "_model_module": "@jupyter-widgets/controls",
            "_model_module_version": "1.5.0",
            "_model_name": "HBoxModel",
            "_view_count": null,
            "_view_module": "@jupyter-widgets/controls",
            "_view_module_version": "1.5.0",
            "_view_name": "HBoxView",
            "box_style": "",
            "children": [
              "IPY_MODEL_260f06709b084f5f911e2c5c99302b00",
              "IPY_MODEL_568b78e5293245398faf776548171e69",
              "IPY_MODEL_8228d95df50f442fbd959929eee404f6"
            ],
            "layout": "IPY_MODEL_6a36d93ad70b4f7f8eae76bae664a9a6"
          }
        },
        "260f06709b084f5f911e2c5c99302b00": {
          "model_module": "@jupyter-widgets/controls",
          "model_name": "HTMLModel",
          "model_module_version": "1.5.0",
          "state": {
            "_dom_classes": [],
            "_model_module": "@jupyter-widgets/controls",
            "_model_module_version": "1.5.0",
            "_model_name": "HTMLModel",
            "_view_count": null,
            "_view_module": "@jupyter-widgets/controls",
            "_view_module_version": "1.5.0",
            "_view_name": "HTMLView",
            "description": "",
            "description_tooltip": null,
            "layout": "IPY_MODEL_c7eafa4c8701451fadc4cb9fe1057224",
            "placeholder": "​",
            "style": "IPY_MODEL_82f3289e0e694f46994ec8485c38ae98",
            "value": "merges.txt: 100%"
          }
        },
        "568b78e5293245398faf776548171e69": {
          "model_module": "@jupyter-widgets/controls",
          "model_name": "FloatProgressModel",
          "model_module_version": "1.5.0",
          "state": {
            "_dom_classes": [],
            "_model_module": "@jupyter-widgets/controls",
            "_model_module_version": "1.5.0",
            "_model_name": "FloatProgressModel",
            "_view_count": null,
            "_view_module": "@jupyter-widgets/controls",
            "_view_module_version": "1.5.0",
            "_view_name": "ProgressView",
            "bar_style": "success",
            "description": "",
            "description_tooltip": null,
            "layout": "IPY_MODEL_74ba733243e748839c08c41e5404bbf3",
            "max": 524657,
            "min": 0,
            "orientation": "horizontal",
            "style": "IPY_MODEL_c79a1f84448444e085b1db08672ce34d",
            "value": 524657
          }
        },
        "8228d95df50f442fbd959929eee404f6": {
          "model_module": "@jupyter-widgets/controls",
          "model_name": "HTMLModel",
          "model_module_version": "1.5.0",
          "state": {
            "_dom_classes": [],
            "_model_module": "@jupyter-widgets/controls",
            "_model_module_version": "1.5.0",
            "_model_name": "HTMLModel",
            "_view_count": null,
            "_view_module": "@jupyter-widgets/controls",
            "_view_module_version": "1.5.0",
            "_view_name": "HTMLView",
            "description": "",
            "description_tooltip": null,
            "layout": "IPY_MODEL_8ec6c3927345410a984145a2059caeb1",
            "placeholder": "​",
            "style": "IPY_MODEL_1fde962a400c483b879296434c577acd",
            "value": " 525k/525k [00:00&lt;00:00, 17.4MB/s]"
          }
        },
        "6a36d93ad70b4f7f8eae76bae664a9a6": {
          "model_module": "@jupyter-widgets/base",
          "model_name": "LayoutModel",
          "model_module_version": "1.2.0",
          "state": {
            "_model_module": "@jupyter-widgets/base",
            "_model_module_version": "1.2.0",
            "_model_name": "LayoutModel",
            "_view_count": null,
            "_view_module": "@jupyter-widgets/base",
            "_view_module_version": "1.2.0",
            "_view_name": "LayoutView",
            "align_content": null,
            "align_items": null,
            "align_self": null,
            "border": null,
            "bottom": null,
            "display": null,
            "flex": null,
            "flex_flow": null,
            "grid_area": null,
            "grid_auto_columns": null,
            "grid_auto_flow": null,
            "grid_auto_rows": null,
            "grid_column": null,
            "grid_gap": null,
            "grid_row": null,
            "grid_template_areas": null,
            "grid_template_columns": null,
            "grid_template_rows": null,
            "height": null,
            "justify_content": null,
            "justify_items": null,
            "left": null,
            "margin": null,
            "max_height": null,
            "max_width": null,
            "min_height": null,
            "min_width": null,
            "object_fit": null,
            "object_position": null,
            "order": null,
            "overflow": null,
            "overflow_x": null,
            "overflow_y": null,
            "padding": null,
            "right": null,
            "top": null,
            "visibility": null,
            "width": null
          }
        },
        "c7eafa4c8701451fadc4cb9fe1057224": {
          "model_module": "@jupyter-widgets/base",
          "model_name": "LayoutModel",
          "model_module_version": "1.2.0",
          "state": {
            "_model_module": "@jupyter-widgets/base",
            "_model_module_version": "1.2.0",
            "_model_name": "LayoutModel",
            "_view_count": null,
            "_view_module": "@jupyter-widgets/base",
            "_view_module_version": "1.2.0",
            "_view_name": "LayoutView",
            "align_content": null,
            "align_items": null,
            "align_self": null,
            "border": null,
            "bottom": null,
            "display": null,
            "flex": null,
            "flex_flow": null,
            "grid_area": null,
            "grid_auto_columns": null,
            "grid_auto_flow": null,
            "grid_auto_rows": null,
            "grid_column": null,
            "grid_gap": null,
            "grid_row": null,
            "grid_template_areas": null,
            "grid_template_columns": null,
            "grid_template_rows": null,
            "height": null,
            "justify_content": null,
            "justify_items": null,
            "left": null,
            "margin": null,
            "max_height": null,
            "max_width": null,
            "min_height": null,
            "min_width": null,
            "object_fit": null,
            "object_position": null,
            "order": null,
            "overflow": null,
            "overflow_x": null,
            "overflow_y": null,
            "padding": null,
            "right": null,
            "top": null,
            "visibility": null,
            "width": null
          }
        },
        "82f3289e0e694f46994ec8485c38ae98": {
          "model_module": "@jupyter-widgets/controls",
          "model_name": "DescriptionStyleModel",
          "model_module_version": "1.5.0",
          "state": {
            "_model_module": "@jupyter-widgets/controls",
            "_model_module_version": "1.5.0",
            "_model_name": "DescriptionStyleModel",
            "_view_count": null,
            "_view_module": "@jupyter-widgets/base",
            "_view_module_version": "1.2.0",
            "_view_name": "StyleView",
            "description_width": ""
          }
        },
        "74ba733243e748839c08c41e5404bbf3": {
          "model_module": "@jupyter-widgets/base",
          "model_name": "LayoutModel",
          "model_module_version": "1.2.0",
          "state": {
            "_model_module": "@jupyter-widgets/base",
            "_model_module_version": "1.2.0",
            "_model_name": "LayoutModel",
            "_view_count": null,
            "_view_module": "@jupyter-widgets/base",
            "_view_module_version": "1.2.0",
            "_view_name": "LayoutView",
            "align_content": null,
            "align_items": null,
            "align_self": null,
            "border": null,
            "bottom": null,
            "display": null,
            "flex": null,
            "flex_flow": null,
            "grid_area": null,
            "grid_auto_columns": null,
            "grid_auto_flow": null,
            "grid_auto_rows": null,
            "grid_column": null,
            "grid_gap": null,
            "grid_row": null,
            "grid_template_areas": null,
            "grid_template_columns": null,
            "grid_template_rows": null,
            "height": null,
            "justify_content": null,
            "justify_items": null,
            "left": null,
            "margin": null,
            "max_height": null,
            "max_width": null,
            "min_height": null,
            "min_width": null,
            "object_fit": null,
            "object_position": null,
            "order": null,
            "overflow": null,
            "overflow_x": null,
            "overflow_y": null,
            "padding": null,
            "right": null,
            "top": null,
            "visibility": null,
            "width": null
          }
        },
        "c79a1f84448444e085b1db08672ce34d": {
          "model_module": "@jupyter-widgets/controls",
          "model_name": "ProgressStyleModel",
          "model_module_version": "1.5.0",
          "state": {
            "_model_module": "@jupyter-widgets/controls",
            "_model_module_version": "1.5.0",
            "_model_name": "ProgressStyleModel",
            "_view_count": null,
            "_view_module": "@jupyter-widgets/base",
            "_view_module_version": "1.2.0",
            "_view_name": "StyleView",
            "bar_color": null,
            "description_width": ""
          }
        },
        "8ec6c3927345410a984145a2059caeb1": {
          "model_module": "@jupyter-widgets/base",
          "model_name": "LayoutModel",
          "model_module_version": "1.2.0",
          "state": {
            "_model_module": "@jupyter-widgets/base",
            "_model_module_version": "1.2.0",
            "_model_name": "LayoutModel",
            "_view_count": null,
            "_view_module": "@jupyter-widgets/base",
            "_view_module_version": "1.2.0",
            "_view_name": "LayoutView",
            "align_content": null,
            "align_items": null,
            "align_self": null,
            "border": null,
            "bottom": null,
            "display": null,
            "flex": null,
            "flex_flow": null,
            "grid_area": null,
            "grid_auto_columns": null,
            "grid_auto_flow": null,
            "grid_auto_rows": null,
            "grid_column": null,
            "grid_gap": null,
            "grid_row": null,
            "grid_template_areas": null,
            "grid_template_columns": null,
            "grid_template_rows": null,
            "height": null,
            "justify_content": null,
            "justify_items": null,
            "left": null,
            "margin": null,
            "max_height": null,
            "max_width": null,
            "min_height": null,
            "min_width": null,
            "object_fit": null,
            "object_position": null,
            "order": null,
            "overflow": null,
            "overflow_x": null,
            "overflow_y": null,
            "padding": null,
            "right": null,
            "top": null,
            "visibility": null,
            "width": null
          }
        },
        "1fde962a400c483b879296434c577acd": {
          "model_module": "@jupyter-widgets/controls",
          "model_name": "DescriptionStyleModel",
          "model_module_version": "1.5.0",
          "state": {
            "_model_module": "@jupyter-widgets/controls",
            "_model_module_version": "1.5.0",
            "_model_name": "DescriptionStyleModel",
            "_view_count": null,
            "_view_module": "@jupyter-widgets/base",
            "_view_module_version": "1.2.0",
            "_view_name": "StyleView",
            "description_width": ""
          }
        },
        "c14bbb48b27747bdb187508bbbbecebb": {
          "model_module": "@jupyter-widgets/controls",
          "model_name": "HBoxModel",
          "model_module_version": "1.5.0",
          "state": {
            "_dom_classes": [],
            "_model_module": "@jupyter-widgets/controls",
            "_model_module_version": "1.5.0",
            "_model_name": "HBoxModel",
            "_view_count": null,
            "_view_module": "@jupyter-widgets/controls",
            "_view_module_version": "1.5.0",
            "_view_name": "HBoxView",
            "box_style": "",
            "children": [
              "IPY_MODEL_062137717feb406bb5d33ca7784d7371",
              "IPY_MODEL_d28edde52dfb4c0d9700609b108d354b",
              "IPY_MODEL_91a3e339434a40cb947a064e08e97afa"
            ],
            "layout": "IPY_MODEL_a4ed78809fe54619aef87e95b572627f"
          }
        },
        "062137717feb406bb5d33ca7784d7371": {
          "model_module": "@jupyter-widgets/controls",
          "model_name": "HTMLModel",
          "model_module_version": "1.5.0",
          "state": {
            "_dom_classes": [],
            "_model_module": "@jupyter-widgets/controls",
            "_model_module_version": "1.5.0",
            "_model_name": "HTMLModel",
            "_view_count": null,
            "_view_module": "@jupyter-widgets/controls",
            "_view_module_version": "1.5.0",
            "_view_name": "HTMLView",
            "description": "",
            "description_tooltip": null,
            "layout": "IPY_MODEL_b7ab871d130d46af9483fc65119be28e",
            "placeholder": "​",
            "style": "IPY_MODEL_55866d177fb244df977f0417d07ae129",
            "value": "special_tokens_map.json: 100%"
          }
        },
        "d28edde52dfb4c0d9700609b108d354b": {
          "model_module": "@jupyter-widgets/controls",
          "model_name": "FloatProgressModel",
          "model_module_version": "1.5.0",
          "state": {
            "_dom_classes": [],
            "_model_module": "@jupyter-widgets/controls",
            "_model_module_version": "1.5.0",
            "_model_name": "FloatProgressModel",
            "_view_count": null,
            "_view_module": "@jupyter-widgets/controls",
            "_view_module_version": "1.5.0",
            "_view_name": "ProgressView",
            "bar_style": "success",
            "description": "",
            "description_tooltip": null,
            "layout": "IPY_MODEL_7f7d120196ad4682b7517cad0ed2f59d",
            "max": 389,
            "min": 0,
            "orientation": "horizontal",
            "style": "IPY_MODEL_990b6ded27a7457ab3eae5f4cec85595",
            "value": 389
          }
        },
        "91a3e339434a40cb947a064e08e97afa": {
          "model_module": "@jupyter-widgets/controls",
          "model_name": "HTMLModel",
          "model_module_version": "1.5.0",
          "state": {
            "_dom_classes": [],
            "_model_module": "@jupyter-widgets/controls",
            "_model_module_version": "1.5.0",
            "_model_name": "HTMLModel",
            "_view_count": null,
            "_view_module": "@jupyter-widgets/controls",
            "_view_module_version": "1.5.0",
            "_view_name": "HTMLView",
            "description": "",
            "description_tooltip": null,
            "layout": "IPY_MODEL_54e4ef040e334ce5b03ebcc3185c8e80",
            "placeholder": "​",
            "style": "IPY_MODEL_b87d8b1395b943da8526b6879c6cc415",
            "value": " 389/389 [00:00&lt;00:00, 19.7kB/s]"
          }
        },
        "a4ed78809fe54619aef87e95b572627f": {
          "model_module": "@jupyter-widgets/base",
          "model_name": "LayoutModel",
          "model_module_version": "1.2.0",
          "state": {
            "_model_module": "@jupyter-widgets/base",
            "_model_module_version": "1.2.0",
            "_model_name": "LayoutModel",
            "_view_count": null,
            "_view_module": "@jupyter-widgets/base",
            "_view_module_version": "1.2.0",
            "_view_name": "LayoutView",
            "align_content": null,
            "align_items": null,
            "align_self": null,
            "border": null,
            "bottom": null,
            "display": null,
            "flex": null,
            "flex_flow": null,
            "grid_area": null,
            "grid_auto_columns": null,
            "grid_auto_flow": null,
            "grid_auto_rows": null,
            "grid_column": null,
            "grid_gap": null,
            "grid_row": null,
            "grid_template_areas": null,
            "grid_template_columns": null,
            "grid_template_rows": null,
            "height": null,
            "justify_content": null,
            "justify_items": null,
            "left": null,
            "margin": null,
            "max_height": null,
            "max_width": null,
            "min_height": null,
            "min_width": null,
            "object_fit": null,
            "object_position": null,
            "order": null,
            "overflow": null,
            "overflow_x": null,
            "overflow_y": null,
            "padding": null,
            "right": null,
            "top": null,
            "visibility": null,
            "width": null
          }
        },
        "b7ab871d130d46af9483fc65119be28e": {
          "model_module": "@jupyter-widgets/base",
          "model_name": "LayoutModel",
          "model_module_version": "1.2.0",
          "state": {
            "_model_module": "@jupyter-widgets/base",
            "_model_module_version": "1.2.0",
            "_model_name": "LayoutModel",
            "_view_count": null,
            "_view_module": "@jupyter-widgets/base",
            "_view_module_version": "1.2.0",
            "_view_name": "LayoutView",
            "align_content": null,
            "align_items": null,
            "align_self": null,
            "border": null,
            "bottom": null,
            "display": null,
            "flex": null,
            "flex_flow": null,
            "grid_area": null,
            "grid_auto_columns": null,
            "grid_auto_flow": null,
            "grid_auto_rows": null,
            "grid_column": null,
            "grid_gap": null,
            "grid_row": null,
            "grid_template_areas": null,
            "grid_template_columns": null,
            "grid_template_rows": null,
            "height": null,
            "justify_content": null,
            "justify_items": null,
            "left": null,
            "margin": null,
            "max_height": null,
            "max_width": null,
            "min_height": null,
            "min_width": null,
            "object_fit": null,
            "object_position": null,
            "order": null,
            "overflow": null,
            "overflow_x": null,
            "overflow_y": null,
            "padding": null,
            "right": null,
            "top": null,
            "visibility": null,
            "width": null
          }
        },
        "55866d177fb244df977f0417d07ae129": {
          "model_module": "@jupyter-widgets/controls",
          "model_name": "DescriptionStyleModel",
          "model_module_version": "1.5.0",
          "state": {
            "_model_module": "@jupyter-widgets/controls",
            "_model_module_version": "1.5.0",
            "_model_name": "DescriptionStyleModel",
            "_view_count": null,
            "_view_module": "@jupyter-widgets/base",
            "_view_module_version": "1.2.0",
            "_view_name": "StyleView",
            "description_width": ""
          }
        },
        "7f7d120196ad4682b7517cad0ed2f59d": {
          "model_module": "@jupyter-widgets/base",
          "model_name": "LayoutModel",
          "model_module_version": "1.2.0",
          "state": {
            "_model_module": "@jupyter-widgets/base",
            "_model_module_version": "1.2.0",
            "_model_name": "LayoutModel",
            "_view_count": null,
            "_view_module": "@jupyter-widgets/base",
            "_view_module_version": "1.2.0",
            "_view_name": "LayoutView",
            "align_content": null,
            "align_items": null,
            "align_self": null,
            "border": null,
            "bottom": null,
            "display": null,
            "flex": null,
            "flex_flow": null,
            "grid_area": null,
            "grid_auto_columns": null,
            "grid_auto_flow": null,
            "grid_auto_rows": null,
            "grid_column": null,
            "grid_gap": null,
            "grid_row": null,
            "grid_template_areas": null,
            "grid_template_columns": null,
            "grid_template_rows": null,
            "height": null,
            "justify_content": null,
            "justify_items": null,
            "left": null,
            "margin": null,
            "max_height": null,
            "max_width": null,
            "min_height": null,
            "min_width": null,
            "object_fit": null,
            "object_position": null,
            "order": null,
            "overflow": null,
            "overflow_x": null,
            "overflow_y": null,
            "padding": null,
            "right": null,
            "top": null,
            "visibility": null,
            "width": null
          }
        },
        "990b6ded27a7457ab3eae5f4cec85595": {
          "model_module": "@jupyter-widgets/controls",
          "model_name": "ProgressStyleModel",
          "model_module_version": "1.5.0",
          "state": {
            "_model_module": "@jupyter-widgets/controls",
            "_model_module_version": "1.5.0",
            "_model_name": "ProgressStyleModel",
            "_view_count": null,
            "_view_module": "@jupyter-widgets/base",
            "_view_module_version": "1.2.0",
            "_view_name": "StyleView",
            "bar_color": null,
            "description_width": ""
          }
        },
        "54e4ef040e334ce5b03ebcc3185c8e80": {
          "model_module": "@jupyter-widgets/base",
          "model_name": "LayoutModel",
          "model_module_version": "1.2.0",
          "state": {
            "_model_module": "@jupyter-widgets/base",
            "_model_module_version": "1.2.0",
            "_model_name": "LayoutModel",
            "_view_count": null,
            "_view_module": "@jupyter-widgets/base",
            "_view_module_version": "1.2.0",
            "_view_name": "LayoutView",
            "align_content": null,
            "align_items": null,
            "align_self": null,
            "border": null,
            "bottom": null,
            "display": null,
            "flex": null,
            "flex_flow": null,
            "grid_area": null,
            "grid_auto_columns": null,
            "grid_auto_flow": null,
            "grid_auto_rows": null,
            "grid_column": null,
            "grid_gap": null,
            "grid_row": null,
            "grid_template_areas": null,
            "grid_template_columns": null,
            "grid_template_rows": null,
            "height": null,
            "justify_content": null,
            "justify_items": null,
            "left": null,
            "margin": null,
            "max_height": null,
            "max_width": null,
            "min_height": null,
            "min_width": null,
            "object_fit": null,
            "object_position": null,
            "order": null,
            "overflow": null,
            "overflow_x": null,
            "overflow_y": null,
            "padding": null,
            "right": null,
            "top": null,
            "visibility": null,
            "width": null
          }
        },
        "b87d8b1395b943da8526b6879c6cc415": {
          "model_module": "@jupyter-widgets/controls",
          "model_name": "DescriptionStyleModel",
          "model_module_version": "1.5.0",
          "state": {
            "_model_module": "@jupyter-widgets/controls",
            "_model_module_version": "1.5.0",
            "_model_name": "DescriptionStyleModel",
            "_view_count": null,
            "_view_module": "@jupyter-widgets/base",
            "_view_module_version": "1.2.0",
            "_view_name": "StyleView",
            "description_width": ""
          }
        },
        "febb3d4a5af54ec7af69afbcdf2c5a5b": {
          "model_module": "@jupyter-widgets/controls",
          "model_name": "HBoxModel",
          "model_module_version": "1.5.0",
          "state": {
            "_dom_classes": [],
            "_model_module": "@jupyter-widgets/controls",
            "_model_module_version": "1.5.0",
            "_model_name": "HBoxModel",
            "_view_count": null,
            "_view_module": "@jupyter-widgets/controls",
            "_view_module_version": "1.5.0",
            "_view_name": "HBoxView",
            "box_style": "",
            "children": [
              "IPY_MODEL_751230f4f7be4ec7918fd75d747d569e",
              "IPY_MODEL_dd600e4a252c4228a10a23feb30b33ac",
              "IPY_MODEL_9b9eb7ab0cf543c5a25674cfcefc51e7"
            ],
            "layout": "IPY_MODEL_a3cfdc2a22cc4b6faa512c944866b219"
          }
        },
        "751230f4f7be4ec7918fd75d747d569e": {
          "model_module": "@jupyter-widgets/controls",
          "model_name": "HTMLModel",
          "model_module_version": "1.5.0",
          "state": {
            "_dom_classes": [],
            "_model_module": "@jupyter-widgets/controls",
            "_model_module_version": "1.5.0",
            "_model_name": "HTMLModel",
            "_view_count": null,
            "_view_module": "@jupyter-widgets/controls",
            "_view_module_version": "1.5.0",
            "_view_name": "HTMLView",
            "description": "",
            "description_tooltip": null,
            "layout": "IPY_MODEL_b04ed59dd5cb440faa09d33e933d1d67",
            "placeholder": "​",
            "style": "IPY_MODEL_61a3345318674e879c202696968b0f52",
            "value": "tokenizer.json: 100%"
          }
        },
        "dd600e4a252c4228a10a23feb30b33ac": {
          "model_module": "@jupyter-widgets/controls",
          "model_name": "FloatProgressModel",
          "model_module_version": "1.5.0",
          "state": {
            "_dom_classes": [],
            "_model_module": "@jupyter-widgets/controls",
            "_model_module_version": "1.5.0",
            "_model_name": "FloatProgressModel",
            "_view_count": null,
            "_view_module": "@jupyter-widgets/controls",
            "_view_module_version": "1.5.0",
            "_view_name": "ProgressView",
            "bar_style": "success",
            "description": "",
            "description_tooltip": null,
            "layout": "IPY_MODEL_6b7b0d25abc048a7a8605be1c2f5f55f",
            "max": 2224041,
            "min": 0,
            "orientation": "horizontal",
            "style": "IPY_MODEL_c1ecb13362bc48b1b4ed861d77a2ecf0",
            "value": 2224041
          }
        },
        "9b9eb7ab0cf543c5a25674cfcefc51e7": {
          "model_module": "@jupyter-widgets/controls",
          "model_name": "HTMLModel",
          "model_module_version": "1.5.0",
          "state": {
            "_dom_classes": [],
            "_model_module": "@jupyter-widgets/controls",
            "_model_module_version": "1.5.0",
            "_model_name": "HTMLModel",
            "_view_count": null,
            "_view_module": "@jupyter-widgets/controls",
            "_view_module_version": "1.5.0",
            "_view_name": "HTMLView",
            "description": "",
            "description_tooltip": null,
            "layout": "IPY_MODEL_de639a7dd2fc49838c75af9608cb8a02",
            "placeholder": "​",
            "style": "IPY_MODEL_2dec80b69ad94b6db41fd2d1e9beb23f",
            "value": " 2.22M/2.22M [00:00&lt;00:00, 10.4MB/s]"
          }
        },
        "a3cfdc2a22cc4b6faa512c944866b219": {
          "model_module": "@jupyter-widgets/base",
          "model_name": "LayoutModel",
          "model_module_version": "1.2.0",
          "state": {
            "_model_module": "@jupyter-widgets/base",
            "_model_module_version": "1.2.0",
            "_model_name": "LayoutModel",
            "_view_count": null,
            "_view_module": "@jupyter-widgets/base",
            "_view_module_version": "1.2.0",
            "_view_name": "LayoutView",
            "align_content": null,
            "align_items": null,
            "align_self": null,
            "border": null,
            "bottom": null,
            "display": null,
            "flex": null,
            "flex_flow": null,
            "grid_area": null,
            "grid_auto_columns": null,
            "grid_auto_flow": null,
            "grid_auto_rows": null,
            "grid_column": null,
            "grid_gap": null,
            "grid_row": null,
            "grid_template_areas": null,
            "grid_template_columns": null,
            "grid_template_rows": null,
            "height": null,
            "justify_content": null,
            "justify_items": null,
            "left": null,
            "margin": null,
            "max_height": null,
            "max_width": null,
            "min_height": null,
            "min_width": null,
            "object_fit": null,
            "object_position": null,
            "order": null,
            "overflow": null,
            "overflow_x": null,
            "overflow_y": null,
            "padding": null,
            "right": null,
            "top": null,
            "visibility": null,
            "width": null
          }
        },
        "b04ed59dd5cb440faa09d33e933d1d67": {
          "model_module": "@jupyter-widgets/base",
          "model_name": "LayoutModel",
          "model_module_version": "1.2.0",
          "state": {
            "_model_module": "@jupyter-widgets/base",
            "_model_module_version": "1.2.0",
            "_model_name": "LayoutModel",
            "_view_count": null,
            "_view_module": "@jupyter-widgets/base",
            "_view_module_version": "1.2.0",
            "_view_name": "LayoutView",
            "align_content": null,
            "align_items": null,
            "align_self": null,
            "border": null,
            "bottom": null,
            "display": null,
            "flex": null,
            "flex_flow": null,
            "grid_area": null,
            "grid_auto_columns": null,
            "grid_auto_flow": null,
            "grid_auto_rows": null,
            "grid_column": null,
            "grid_gap": null,
            "grid_row": null,
            "grid_template_areas": null,
            "grid_template_columns": null,
            "grid_template_rows": null,
            "height": null,
            "justify_content": null,
            "justify_items": null,
            "left": null,
            "margin": null,
            "max_height": null,
            "max_width": null,
            "min_height": null,
            "min_width": null,
            "object_fit": null,
            "object_position": null,
            "order": null,
            "overflow": null,
            "overflow_x": null,
            "overflow_y": null,
            "padding": null,
            "right": null,
            "top": null,
            "visibility": null,
            "width": null
          }
        },
        "61a3345318674e879c202696968b0f52": {
          "model_module": "@jupyter-widgets/controls",
          "model_name": "DescriptionStyleModel",
          "model_module_version": "1.5.0",
          "state": {
            "_model_module": "@jupyter-widgets/controls",
            "_model_module_version": "1.5.0",
            "_model_name": "DescriptionStyleModel",
            "_view_count": null,
            "_view_module": "@jupyter-widgets/base",
            "_view_module_version": "1.2.0",
            "_view_name": "StyleView",
            "description_width": ""
          }
        },
        "6b7b0d25abc048a7a8605be1c2f5f55f": {
          "model_module": "@jupyter-widgets/base",
          "model_name": "LayoutModel",
          "model_module_version": "1.2.0",
          "state": {
            "_model_module": "@jupyter-widgets/base",
            "_model_module_version": "1.2.0",
            "_model_name": "LayoutModel",
            "_view_count": null,
            "_view_module": "@jupyter-widgets/base",
            "_view_module_version": "1.2.0",
            "_view_name": "LayoutView",
            "align_content": null,
            "align_items": null,
            "align_self": null,
            "border": null,
            "bottom": null,
            "display": null,
            "flex": null,
            "flex_flow": null,
            "grid_area": null,
            "grid_auto_columns": null,
            "grid_auto_flow": null,
            "grid_auto_rows": null,
            "grid_column": null,
            "grid_gap": null,
            "grid_row": null,
            "grid_template_areas": null,
            "grid_template_columns": null,
            "grid_template_rows": null,
            "height": null,
            "justify_content": null,
            "justify_items": null,
            "left": null,
            "margin": null,
            "max_height": null,
            "max_width": null,
            "min_height": null,
            "min_width": null,
            "object_fit": null,
            "object_position": null,
            "order": null,
            "overflow": null,
            "overflow_x": null,
            "overflow_y": null,
            "padding": null,
            "right": null,
            "top": null,
            "visibility": null,
            "width": null
          }
        },
        "c1ecb13362bc48b1b4ed861d77a2ecf0": {
          "model_module": "@jupyter-widgets/controls",
          "model_name": "ProgressStyleModel",
          "model_module_version": "1.5.0",
          "state": {
            "_model_module": "@jupyter-widgets/controls",
            "_model_module_version": "1.5.0",
            "_model_name": "ProgressStyleModel",
            "_view_count": null,
            "_view_module": "@jupyter-widgets/base",
            "_view_module_version": "1.2.0",
            "_view_name": "StyleView",
            "bar_color": null,
            "description_width": ""
          }
        },
        "de639a7dd2fc49838c75af9608cb8a02": {
          "model_module": "@jupyter-widgets/base",
          "model_name": "LayoutModel",
          "model_module_version": "1.2.0",
          "state": {
            "_model_module": "@jupyter-widgets/base",
            "_model_module_version": "1.2.0",
            "_model_name": "LayoutModel",
            "_view_count": null,
            "_view_module": "@jupyter-widgets/base",
            "_view_module_version": "1.2.0",
            "_view_name": "LayoutView",
            "align_content": null,
            "align_items": null,
            "align_self": null,
            "border": null,
            "bottom": null,
            "display": null,
            "flex": null,
            "flex_flow": null,
            "grid_area": null,
            "grid_auto_columns": null,
            "grid_auto_flow": null,
            "grid_auto_rows": null,
            "grid_column": null,
            "grid_gap": null,
            "grid_row": null,
            "grid_template_areas": null,
            "grid_template_columns": null,
            "grid_template_rows": null,
            "height": null,
            "justify_content": null,
            "justify_items": null,
            "left": null,
            "margin": null,
            "max_height": null,
            "max_width": null,
            "min_height": null,
            "min_width": null,
            "object_fit": null,
            "object_position": null,
            "order": null,
            "overflow": null,
            "overflow_x": null,
            "overflow_y": null,
            "padding": null,
            "right": null,
            "top": null,
            "visibility": null,
            "width": null
          }
        },
        "2dec80b69ad94b6db41fd2d1e9beb23f": {
          "model_module": "@jupyter-widgets/controls",
          "model_name": "DescriptionStyleModel",
          "model_module_version": "1.5.0",
          "state": {
            "_model_module": "@jupyter-widgets/controls",
            "_model_module_version": "1.5.0",
            "_model_name": "DescriptionStyleModel",
            "_view_count": null,
            "_view_module": "@jupyter-widgets/base",
            "_view_module_version": "1.2.0",
            "_view_name": "StyleView",
            "description_width": ""
          }
        },
        "d6adac5f29564b81b0969717bcfa37f8": {
          "model_module": "@jupyter-widgets/controls",
          "model_name": "HBoxModel",
          "model_module_version": "1.5.0",
          "state": {
            "_dom_classes": [],
            "_model_module": "@jupyter-widgets/controls",
            "_model_module_version": "1.5.0",
            "_model_name": "HBoxModel",
            "_view_count": null,
            "_view_module": "@jupyter-widgets/controls",
            "_view_module_version": "1.5.0",
            "_view_name": "HBoxView",
            "box_style": "",
            "children": [
              "IPY_MODEL_acfe6e15abeb438a9058ee29d11557a5",
              "IPY_MODEL_583384f491cd4b9994e00063bc86e289",
              "IPY_MODEL_0d6486fee64c491eb4e5fc99ec64762e"
            ],
            "layout": "IPY_MODEL_8858620ad8494d9a97c3b93341f8c7db"
          }
        },
        "acfe6e15abeb438a9058ee29d11557a5": {
          "model_module": "@jupyter-widgets/controls",
          "model_name": "HTMLModel",
          "model_module_version": "1.5.0",
          "state": {
            "_dom_classes": [],
            "_model_module": "@jupyter-widgets/controls",
            "_model_module_version": "1.5.0",
            "_model_name": "HTMLModel",
            "_view_count": null,
            "_view_module": "@jupyter-widgets/controls",
            "_view_module_version": "1.5.0",
            "_view_name": "HTMLView",
            "description": "",
            "description_tooltip": null,
            "layout": "IPY_MODEL_272803ea78b442e7922384c343639cbd",
            "placeholder": "​",
            "style": "IPY_MODEL_d89b4b78afe449bba779125d312143a1",
            "value": "config.json: 100%"
          }
        },
        "583384f491cd4b9994e00063bc86e289": {
          "model_module": "@jupyter-widgets/controls",
          "model_name": "FloatProgressModel",
          "model_module_version": "1.5.0",
          "state": {
            "_dom_classes": [],
            "_model_module": "@jupyter-widgets/controls",
            "_model_module_version": "1.5.0",
            "_model_name": "FloatProgressModel",
            "_view_count": null,
            "_view_module": "@jupyter-widgets/controls",
            "_view_module_version": "1.5.0",
            "_view_name": "ProgressView",
            "bar_style": "success",
            "description": "",
            "description_tooltip": null,
            "layout": "IPY_MODEL_91a4d9bffcce4faf8fd9539a25d81422",
            "max": 4186,
            "min": 0,
            "orientation": "horizontal",
            "style": "IPY_MODEL_95bec0a4e05e4f3a96dfbd11bfceb86d",
            "value": 4186
          }
        },
        "0d6486fee64c491eb4e5fc99ec64762e": {
          "model_module": "@jupyter-widgets/controls",
          "model_name": "HTMLModel",
          "model_module_version": "1.5.0",
          "state": {
            "_dom_classes": [],
            "_model_module": "@jupyter-widgets/controls",
            "_model_module_version": "1.5.0",
            "_model_name": "HTMLModel",
            "_view_count": null,
            "_view_module": "@jupyter-widgets/controls",
            "_view_module_version": "1.5.0",
            "_view_name": "HTMLView",
            "description": "",
            "description_tooltip": null,
            "layout": "IPY_MODEL_8eb3d22dca5047c8a29a903ea63a655d",
            "placeholder": "​",
            "style": "IPY_MODEL_7bfa4b52991246778ad988d6508cef65",
            "value": " 4.19k/4.19k [00:00&lt;00:00, 421kB/s]"
          }
        },
        "8858620ad8494d9a97c3b93341f8c7db": {
          "model_module": "@jupyter-widgets/base",
          "model_name": "LayoutModel",
          "model_module_version": "1.2.0",
          "state": {
            "_model_module": "@jupyter-widgets/base",
            "_model_module_version": "1.2.0",
            "_model_name": "LayoutModel",
            "_view_count": null,
            "_view_module": "@jupyter-widgets/base",
            "_view_module_version": "1.2.0",
            "_view_name": "LayoutView",
            "align_content": null,
            "align_items": null,
            "align_self": null,
            "border": null,
            "bottom": null,
            "display": null,
            "flex": null,
            "flex_flow": null,
            "grid_area": null,
            "grid_auto_columns": null,
            "grid_auto_flow": null,
            "grid_auto_rows": null,
            "grid_column": null,
            "grid_gap": null,
            "grid_row": null,
            "grid_template_areas": null,
            "grid_template_columns": null,
            "grid_template_rows": null,
            "height": null,
            "justify_content": null,
            "justify_items": null,
            "left": null,
            "margin": null,
            "max_height": null,
            "max_width": null,
            "min_height": null,
            "min_width": null,
            "object_fit": null,
            "object_position": null,
            "order": null,
            "overflow": null,
            "overflow_x": null,
            "overflow_y": null,
            "padding": null,
            "right": null,
            "top": null,
            "visibility": null,
            "width": null
          }
        },
        "272803ea78b442e7922384c343639cbd": {
          "model_module": "@jupyter-widgets/base",
          "model_name": "LayoutModel",
          "model_module_version": "1.2.0",
          "state": {
            "_model_module": "@jupyter-widgets/base",
            "_model_module_version": "1.2.0",
            "_model_name": "LayoutModel",
            "_view_count": null,
            "_view_module": "@jupyter-widgets/base",
            "_view_module_version": "1.2.0",
            "_view_name": "LayoutView",
            "align_content": null,
            "align_items": null,
            "align_self": null,
            "border": null,
            "bottom": null,
            "display": null,
            "flex": null,
            "flex_flow": null,
            "grid_area": null,
            "grid_auto_columns": null,
            "grid_auto_flow": null,
            "grid_auto_rows": null,
            "grid_column": null,
            "grid_gap": null,
            "grid_row": null,
            "grid_template_areas": null,
            "grid_template_columns": null,
            "grid_template_rows": null,
            "height": null,
            "justify_content": null,
            "justify_items": null,
            "left": null,
            "margin": null,
            "max_height": null,
            "max_width": null,
            "min_height": null,
            "min_width": null,
            "object_fit": null,
            "object_position": null,
            "order": null,
            "overflow": null,
            "overflow_x": null,
            "overflow_y": null,
            "padding": null,
            "right": null,
            "top": null,
            "visibility": null,
            "width": null
          }
        },
        "d89b4b78afe449bba779125d312143a1": {
          "model_module": "@jupyter-widgets/controls",
          "model_name": "DescriptionStyleModel",
          "model_module_version": "1.5.0",
          "state": {
            "_model_module": "@jupyter-widgets/controls",
            "_model_module_version": "1.5.0",
            "_model_name": "DescriptionStyleModel",
            "_view_count": null,
            "_view_module": "@jupyter-widgets/base",
            "_view_module_version": "1.2.0",
            "_view_name": "StyleView",
            "description_width": ""
          }
        },
        "91a4d9bffcce4faf8fd9539a25d81422": {
          "model_module": "@jupyter-widgets/base",
          "model_name": "LayoutModel",
          "model_module_version": "1.2.0",
          "state": {
            "_model_module": "@jupyter-widgets/base",
            "_model_module_version": "1.2.0",
            "_model_name": "LayoutModel",
            "_view_count": null,
            "_view_module": "@jupyter-widgets/base",
            "_view_module_version": "1.2.0",
            "_view_name": "LayoutView",
            "align_content": null,
            "align_items": null,
            "align_self": null,
            "border": null,
            "bottom": null,
            "display": null,
            "flex": null,
            "flex_flow": null,
            "grid_area": null,
            "grid_auto_columns": null,
            "grid_auto_flow": null,
            "grid_auto_rows": null,
            "grid_column": null,
            "grid_gap": null,
            "grid_row": null,
            "grid_template_areas": null,
            "grid_template_columns": null,
            "grid_template_rows": null,
            "height": null,
            "justify_content": null,
            "justify_items": null,
            "left": null,
            "margin": null,
            "max_height": null,
            "max_width": null,
            "min_height": null,
            "min_width": null,
            "object_fit": null,
            "object_position": null,
            "order": null,
            "overflow": null,
            "overflow_x": null,
            "overflow_y": null,
            "padding": null,
            "right": null,
            "top": null,
            "visibility": null,
            "width": null
          }
        },
        "95bec0a4e05e4f3a96dfbd11bfceb86d": {
          "model_module": "@jupyter-widgets/controls",
          "model_name": "ProgressStyleModel",
          "model_module_version": "1.5.0",
          "state": {
            "_model_module": "@jupyter-widgets/controls",
            "_model_module_version": "1.5.0",
            "_model_name": "ProgressStyleModel",
            "_view_count": null,
            "_view_module": "@jupyter-widgets/base",
            "_view_module_version": "1.2.0",
            "_view_name": "StyleView",
            "bar_color": null,
            "description_width": ""
          }
        },
        "8eb3d22dca5047c8a29a903ea63a655d": {
          "model_module": "@jupyter-widgets/base",
          "model_name": "LayoutModel",
          "model_module_version": "1.2.0",
          "state": {
            "_model_module": "@jupyter-widgets/base",
            "_model_module_version": "1.2.0",
            "_model_name": "LayoutModel",
            "_view_count": null,
            "_view_module": "@jupyter-widgets/base",
            "_view_module_version": "1.2.0",
            "_view_name": "LayoutView",
            "align_content": null,
            "align_items": null,
            "align_self": null,
            "border": null,
            "bottom": null,
            "display": null,
            "flex": null,
            "flex_flow": null,
            "grid_area": null,
            "grid_auto_columns": null,
            "grid_auto_flow": null,
            "grid_auto_rows": null,
            "grid_column": null,
            "grid_gap": null,
            "grid_row": null,
            "grid_template_areas": null,
            "grid_template_columns": null,
            "grid_template_rows": null,
            "height": null,
            "justify_content": null,
            "justify_items": null,
            "left": null,
            "margin": null,
            "max_height": null,
            "max_width": null,
            "min_height": null,
            "min_width": null,
            "object_fit": null,
            "object_position": null,
            "order": null,
            "overflow": null,
            "overflow_x": null,
            "overflow_y": null,
            "padding": null,
            "right": null,
            "top": null,
            "visibility": null,
            "width": null
          }
        },
        "7bfa4b52991246778ad988d6508cef65": {
          "model_module": "@jupyter-widgets/controls",
          "model_name": "DescriptionStyleModel",
          "model_module_version": "1.5.0",
          "state": {
            "_model_module": "@jupyter-widgets/controls",
            "_model_module_version": "1.5.0",
            "_model_name": "DescriptionStyleModel",
            "_view_count": null,
            "_view_module": "@jupyter-widgets/base",
            "_view_module_version": "1.2.0",
            "_view_name": "StyleView",
            "description_width": ""
          }
        },
        "cc9082d892134b9782e3468199ea2248": {
          "model_module": "@jupyter-widgets/controls",
          "model_name": "HBoxModel",
          "model_module_version": "1.5.0",
          "state": {
            "_dom_classes": [],
            "_model_module": "@jupyter-widgets/controls",
            "_model_module_version": "1.5.0",
            "_model_name": "HBoxModel",
            "_view_count": null,
            "_view_module": "@jupyter-widgets/controls",
            "_view_module_version": "1.5.0",
            "_view_name": "HBoxView",
            "box_style": "",
            "children": [
              "IPY_MODEL_ecf3cfe8a26a4859ae0cbb30af748d19",
              "IPY_MODEL_3910186545d147cf8c12151cd6100910",
              "IPY_MODEL_0d9c4c84a2034726823a04961053a0a5"
            ],
            "layout": "IPY_MODEL_502ea07f73f1449ca16ca5f3b7a12d47"
          }
        },
        "ecf3cfe8a26a4859ae0cbb30af748d19": {
          "model_module": "@jupyter-widgets/controls",
          "model_name": "HTMLModel",
          "model_module_version": "1.5.0",
          "state": {
            "_dom_classes": [],
            "_model_module": "@jupyter-widgets/controls",
            "_model_module_version": "1.5.0",
            "_model_name": "HTMLModel",
            "_view_count": null,
            "_view_module": "@jupyter-widgets/controls",
            "_view_module_version": "1.5.0",
            "_view_name": "HTMLView",
            "description": "",
            "description_tooltip": null,
            "layout": "IPY_MODEL_7dd448f403eb46318e1f661353406042",
            "placeholder": "​",
            "style": "IPY_MODEL_589e5bbc43e845ac89969542eb74fd40",
            "value": "pytorch_model.bin: 100%"
          }
        },
        "3910186545d147cf8c12151cd6100910": {
          "model_module": "@jupyter-widgets/controls",
          "model_name": "FloatProgressModel",
          "model_module_version": "1.5.0",
          "state": {
            "_dom_classes": [],
            "_model_module": "@jupyter-widgets/controls",
            "_model_module_version": "1.5.0",
            "_model_name": "FloatProgressModel",
            "_view_count": null,
            "_view_module": "@jupyter-widgets/controls",
            "_view_module_version": "1.5.0",
            "_view_name": "ProgressView",
            "bar_style": "success",
            "description": "",
            "description_tooltip": null,
            "layout": "IPY_MODEL_e03f0fa563444bb981f1243bad35c20a",
            "max": 605247071,
            "min": 0,
            "orientation": "horizontal",
            "style": "IPY_MODEL_de5711f6c07443378d13a866be0e4256",
            "value": 605247071
          }
        },
        "0d9c4c84a2034726823a04961053a0a5": {
          "model_module": "@jupyter-widgets/controls",
          "model_name": "HTMLModel",
          "model_module_version": "1.5.0",
          "state": {
            "_dom_classes": [],
            "_model_module": "@jupyter-widgets/controls",
            "_model_module_version": "1.5.0",
            "_model_name": "HTMLModel",
            "_view_count": null,
            "_view_module": "@jupyter-widgets/controls",
            "_view_module_version": "1.5.0",
            "_view_name": "HTMLView",
            "description": "",
            "description_tooltip": null,
            "layout": "IPY_MODEL_4c51b833aba649ad9d6199295298f128",
            "placeholder": "​",
            "style": "IPY_MODEL_3bbe873ab2cc48dcbfea635c0ad02d06",
            "value": " 605M/605M [00:03&lt;00:00, 192MB/s]"
          }
        },
        "502ea07f73f1449ca16ca5f3b7a12d47": {
          "model_module": "@jupyter-widgets/base",
          "model_name": "LayoutModel",
          "model_module_version": "1.2.0",
          "state": {
            "_model_module": "@jupyter-widgets/base",
            "_model_module_version": "1.2.0",
            "_model_name": "LayoutModel",
            "_view_count": null,
            "_view_module": "@jupyter-widgets/base",
            "_view_module_version": "1.2.0",
            "_view_name": "LayoutView",
            "align_content": null,
            "align_items": null,
            "align_self": null,
            "border": null,
            "bottom": null,
            "display": null,
            "flex": null,
            "flex_flow": null,
            "grid_area": null,
            "grid_auto_columns": null,
            "grid_auto_flow": null,
            "grid_auto_rows": null,
            "grid_column": null,
            "grid_gap": null,
            "grid_row": null,
            "grid_template_areas": null,
            "grid_template_columns": null,
            "grid_template_rows": null,
            "height": null,
            "justify_content": null,
            "justify_items": null,
            "left": null,
            "margin": null,
            "max_height": null,
            "max_width": null,
            "min_height": null,
            "min_width": null,
            "object_fit": null,
            "object_position": null,
            "order": null,
            "overflow": null,
            "overflow_x": null,
            "overflow_y": null,
            "padding": null,
            "right": null,
            "top": null,
            "visibility": null,
            "width": null
          }
        },
        "7dd448f403eb46318e1f661353406042": {
          "model_module": "@jupyter-widgets/base",
          "model_name": "LayoutModel",
          "model_module_version": "1.2.0",
          "state": {
            "_model_module": "@jupyter-widgets/base",
            "_model_module_version": "1.2.0",
            "_model_name": "LayoutModel",
            "_view_count": null,
            "_view_module": "@jupyter-widgets/base",
            "_view_module_version": "1.2.0",
            "_view_name": "LayoutView",
            "align_content": null,
            "align_items": null,
            "align_self": null,
            "border": null,
            "bottom": null,
            "display": null,
            "flex": null,
            "flex_flow": null,
            "grid_area": null,
            "grid_auto_columns": null,
            "grid_auto_flow": null,
            "grid_auto_rows": null,
            "grid_column": null,
            "grid_gap": null,
            "grid_row": null,
            "grid_template_areas": null,
            "grid_template_columns": null,
            "grid_template_rows": null,
            "height": null,
            "justify_content": null,
            "justify_items": null,
            "left": null,
            "margin": null,
            "max_height": null,
            "max_width": null,
            "min_height": null,
            "min_width": null,
            "object_fit": null,
            "object_position": null,
            "order": null,
            "overflow": null,
            "overflow_x": null,
            "overflow_y": null,
            "padding": null,
            "right": null,
            "top": null,
            "visibility": null,
            "width": null
          }
        },
        "589e5bbc43e845ac89969542eb74fd40": {
          "model_module": "@jupyter-widgets/controls",
          "model_name": "DescriptionStyleModel",
          "model_module_version": "1.5.0",
          "state": {
            "_model_module": "@jupyter-widgets/controls",
            "_model_module_version": "1.5.0",
            "_model_name": "DescriptionStyleModel",
            "_view_count": null,
            "_view_module": "@jupyter-widgets/base",
            "_view_module_version": "1.2.0",
            "_view_name": "StyleView",
            "description_width": ""
          }
        },
        "e03f0fa563444bb981f1243bad35c20a": {
          "model_module": "@jupyter-widgets/base",
          "model_name": "LayoutModel",
          "model_module_version": "1.2.0",
          "state": {
            "_model_module": "@jupyter-widgets/base",
            "_model_module_version": "1.2.0",
            "_model_name": "LayoutModel",
            "_view_count": null,
            "_view_module": "@jupyter-widgets/base",
            "_view_module_version": "1.2.0",
            "_view_name": "LayoutView",
            "align_content": null,
            "align_items": null,
            "align_self": null,
            "border": null,
            "bottom": null,
            "display": null,
            "flex": null,
            "flex_flow": null,
            "grid_area": null,
            "grid_auto_columns": null,
            "grid_auto_flow": null,
            "grid_auto_rows": null,
            "grid_column": null,
            "grid_gap": null,
            "grid_row": null,
            "grid_template_areas": null,
            "grid_template_columns": null,
            "grid_template_rows": null,
            "height": null,
            "justify_content": null,
            "justify_items": null,
            "left": null,
            "margin": null,
            "max_height": null,
            "max_width": null,
            "min_height": null,
            "min_width": null,
            "object_fit": null,
            "object_position": null,
            "order": null,
            "overflow": null,
            "overflow_x": null,
            "overflow_y": null,
            "padding": null,
            "right": null,
            "top": null,
            "visibility": null,
            "width": null
          }
        },
        "de5711f6c07443378d13a866be0e4256": {
          "model_module": "@jupyter-widgets/controls",
          "model_name": "ProgressStyleModel",
          "model_module_version": "1.5.0",
          "state": {
            "_model_module": "@jupyter-widgets/controls",
            "_model_module_version": "1.5.0",
            "_model_name": "ProgressStyleModel",
            "_view_count": null,
            "_view_module": "@jupyter-widgets/base",
            "_view_module_version": "1.2.0",
            "_view_name": "StyleView",
            "bar_color": null,
            "description_width": ""
          }
        },
        "4c51b833aba649ad9d6199295298f128": {
          "model_module": "@jupyter-widgets/base",
          "model_name": "LayoutModel",
          "model_module_version": "1.2.0",
          "state": {
            "_model_module": "@jupyter-widgets/base",
            "_model_module_version": "1.2.0",
            "_model_name": "LayoutModel",
            "_view_count": null,
            "_view_module": "@jupyter-widgets/base",
            "_view_module_version": "1.2.0",
            "_view_name": "LayoutView",
            "align_content": null,
            "align_items": null,
            "align_self": null,
            "border": null,
            "bottom": null,
            "display": null,
            "flex": null,
            "flex_flow": null,
            "grid_area": null,
            "grid_auto_columns": null,
            "grid_auto_flow": null,
            "grid_auto_rows": null,
            "grid_column": null,
            "grid_gap": null,
            "grid_row": null,
            "grid_template_areas": null,
            "grid_template_columns": null,
            "grid_template_rows": null,
            "height": null,
            "justify_content": null,
            "justify_items": null,
            "left": null,
            "margin": null,
            "max_height": null,
            "max_width": null,
            "min_height": null,
            "min_width": null,
            "object_fit": null,
            "object_position": null,
            "order": null,
            "overflow": null,
            "overflow_x": null,
            "overflow_y": null,
            "padding": null,
            "right": null,
            "top": null,
            "visibility": null,
            "width": null
          }
        },
        "3bbe873ab2cc48dcbfea635c0ad02d06": {
          "model_module": "@jupyter-widgets/controls",
          "model_name": "DescriptionStyleModel",
          "model_module_version": "1.5.0",
          "state": {
            "_model_module": "@jupyter-widgets/controls",
            "_model_module_version": "1.5.0",
            "_model_name": "DescriptionStyleModel",
            "_view_count": null,
            "_view_module": "@jupyter-widgets/base",
            "_view_module_version": "1.2.0",
            "_view_name": "StyleView",
            "description_width": ""
          }
        },
        "253f8552413a4549a0ec1ef62d6f3686": {
          "model_module": "@jupyter-widgets/controls",
          "model_name": "HBoxModel",
          "model_module_version": "1.5.0",
          "state": {
            "_dom_classes": [],
            "_model_module": "@jupyter-widgets/controls",
            "_model_module_version": "1.5.0",
            "_model_name": "HBoxModel",
            "_view_count": null,
            "_view_module": "@jupyter-widgets/controls",
            "_view_module_version": "1.5.0",
            "_view_name": "HBoxView",
            "box_style": "",
            "children": [
              "IPY_MODEL_e652fe7980f648248c882545250abe96",
              "IPY_MODEL_a74e0d38c9b34d4197491674ed1033b6",
              "IPY_MODEL_33f6da9568b64798a5de187b7e12fa25"
            ],
            "layout": "IPY_MODEL_71f8eb4118954b1f85d27b06ede4234a"
          }
        },
        "e652fe7980f648248c882545250abe96": {
          "model_module": "@jupyter-widgets/controls",
          "model_name": "HTMLModel",
          "model_module_version": "1.5.0",
          "state": {
            "_dom_classes": [],
            "_model_module": "@jupyter-widgets/controls",
            "_model_module_version": "1.5.0",
            "_model_name": "HTMLModel",
            "_view_count": null,
            "_view_module": "@jupyter-widgets/controls",
            "_view_module_version": "1.5.0",
            "_view_name": "HTMLView",
            "description": "",
            "description_tooltip": null,
            "layout": "IPY_MODEL_cef8f132b1ea4207a354d844aaa3b3bc",
            "placeholder": "​",
            "style": "IPY_MODEL_cdb2cb2120d44703a7adc6ec04586b06",
            "value": "model.safetensors: 100%"
          }
        },
        "a74e0d38c9b34d4197491674ed1033b6": {
          "model_module": "@jupyter-widgets/controls",
          "model_name": "FloatProgressModel",
          "model_module_version": "1.5.0",
          "state": {
            "_dom_classes": [],
            "_model_module": "@jupyter-widgets/controls",
            "_model_module_version": "1.5.0",
            "_model_name": "FloatProgressModel",
            "_view_count": null,
            "_view_module": "@jupyter-widgets/controls",
            "_view_module_version": "1.5.0",
            "_view_name": "ProgressView",
            "bar_style": "success",
            "description": "",
            "description_tooltip": null,
            "layout": "IPY_MODEL_30a60c62f0f64fb5af2c8dbe9b272743",
            "max": 605157884,
            "min": 0,
            "orientation": "horizontal",
            "style": "IPY_MODEL_44d36beaa89843cd99b00a956be67011",
            "value": 605157884
          }
        },
        "33f6da9568b64798a5de187b7e12fa25": {
          "model_module": "@jupyter-widgets/controls",
          "model_name": "HTMLModel",
          "model_module_version": "1.5.0",
          "state": {
            "_dom_classes": [],
            "_model_module": "@jupyter-widgets/controls",
            "_model_module_version": "1.5.0",
            "_model_name": "HTMLModel",
            "_view_count": null,
            "_view_module": "@jupyter-widgets/controls",
            "_view_module_version": "1.5.0",
            "_view_name": "HTMLView",
            "description": "",
            "description_tooltip": null,
            "layout": "IPY_MODEL_32448d54b54b490da193c2f86bcf5116",
            "placeholder": "​",
            "style": "IPY_MODEL_b0d414c2d1494d5e919a56358303b2da",
            "value": " 605M/605M [00:03&lt;00:00, 191MB/s]"
          }
        },
        "71f8eb4118954b1f85d27b06ede4234a": {
          "model_module": "@jupyter-widgets/base",
          "model_name": "LayoutModel",
          "model_module_version": "1.2.0",
          "state": {
            "_model_module": "@jupyter-widgets/base",
            "_model_module_version": "1.2.0",
            "_model_name": "LayoutModel",
            "_view_count": null,
            "_view_module": "@jupyter-widgets/base",
            "_view_module_version": "1.2.0",
            "_view_name": "LayoutView",
            "align_content": null,
            "align_items": null,
            "align_self": null,
            "border": null,
            "bottom": null,
            "display": null,
            "flex": null,
            "flex_flow": null,
            "grid_area": null,
            "grid_auto_columns": null,
            "grid_auto_flow": null,
            "grid_auto_rows": null,
            "grid_column": null,
            "grid_gap": null,
            "grid_row": null,
            "grid_template_areas": null,
            "grid_template_columns": null,
            "grid_template_rows": null,
            "height": null,
            "justify_content": null,
            "justify_items": null,
            "left": null,
            "margin": null,
            "max_height": null,
            "max_width": null,
            "min_height": null,
            "min_width": null,
            "object_fit": null,
            "object_position": null,
            "order": null,
            "overflow": null,
            "overflow_x": null,
            "overflow_y": null,
            "padding": null,
            "right": null,
            "top": null,
            "visibility": null,
            "width": null
          }
        },
        "cef8f132b1ea4207a354d844aaa3b3bc": {
          "model_module": "@jupyter-widgets/base",
          "model_name": "LayoutModel",
          "model_module_version": "1.2.0",
          "state": {
            "_model_module": "@jupyter-widgets/base",
            "_model_module_version": "1.2.0",
            "_model_name": "LayoutModel",
            "_view_count": null,
            "_view_module": "@jupyter-widgets/base",
            "_view_module_version": "1.2.0",
            "_view_name": "LayoutView",
            "align_content": null,
            "align_items": null,
            "align_self": null,
            "border": null,
            "bottom": null,
            "display": null,
            "flex": null,
            "flex_flow": null,
            "grid_area": null,
            "grid_auto_columns": null,
            "grid_auto_flow": null,
            "grid_auto_rows": null,
            "grid_column": null,
            "grid_gap": null,
            "grid_row": null,
            "grid_template_areas": null,
            "grid_template_columns": null,
            "grid_template_rows": null,
            "height": null,
            "justify_content": null,
            "justify_items": null,
            "left": null,
            "margin": null,
            "max_height": null,
            "max_width": null,
            "min_height": null,
            "min_width": null,
            "object_fit": null,
            "object_position": null,
            "order": null,
            "overflow": null,
            "overflow_x": null,
            "overflow_y": null,
            "padding": null,
            "right": null,
            "top": null,
            "visibility": null,
            "width": null
          }
        },
        "cdb2cb2120d44703a7adc6ec04586b06": {
          "model_module": "@jupyter-widgets/controls",
          "model_name": "DescriptionStyleModel",
          "model_module_version": "1.5.0",
          "state": {
            "_model_module": "@jupyter-widgets/controls",
            "_model_module_version": "1.5.0",
            "_model_name": "DescriptionStyleModel",
            "_view_count": null,
            "_view_module": "@jupyter-widgets/base",
            "_view_module_version": "1.2.0",
            "_view_name": "StyleView",
            "description_width": ""
          }
        },
        "30a60c62f0f64fb5af2c8dbe9b272743": {
          "model_module": "@jupyter-widgets/base",
          "model_name": "LayoutModel",
          "model_module_version": "1.2.0",
          "state": {
            "_model_module": "@jupyter-widgets/base",
            "_model_module_version": "1.2.0",
            "_model_name": "LayoutModel",
            "_view_count": null,
            "_view_module": "@jupyter-widgets/base",
            "_view_module_version": "1.2.0",
            "_view_name": "LayoutView",
            "align_content": null,
            "align_items": null,
            "align_self": null,
            "border": null,
            "bottom": null,
            "display": null,
            "flex": null,
            "flex_flow": null,
            "grid_area": null,
            "grid_auto_columns": null,
            "grid_auto_flow": null,
            "grid_auto_rows": null,
            "grid_column": null,
            "grid_gap": null,
            "grid_row": null,
            "grid_template_areas": null,
            "grid_template_columns": null,
            "grid_template_rows": null,
            "height": null,
            "justify_content": null,
            "justify_items": null,
            "left": null,
            "margin": null,
            "max_height": null,
            "max_width": null,
            "min_height": null,
            "min_width": null,
            "object_fit": null,
            "object_position": null,
            "order": null,
            "overflow": null,
            "overflow_x": null,
            "overflow_y": null,
            "padding": null,
            "right": null,
            "top": null,
            "visibility": null,
            "width": null
          }
        },
        "44d36beaa89843cd99b00a956be67011": {
          "model_module": "@jupyter-widgets/controls",
          "model_name": "ProgressStyleModel",
          "model_module_version": "1.5.0",
          "state": {
            "_model_module": "@jupyter-widgets/controls",
            "_model_module_version": "1.5.0",
            "_model_name": "ProgressStyleModel",
            "_view_count": null,
            "_view_module": "@jupyter-widgets/base",
            "_view_module_version": "1.2.0",
            "_view_name": "StyleView",
            "bar_color": null,
            "description_width": ""
          }
        },
        "32448d54b54b490da193c2f86bcf5116": {
          "model_module": "@jupyter-widgets/base",
          "model_name": "LayoutModel",
          "model_module_version": "1.2.0",
          "state": {
            "_model_module": "@jupyter-widgets/base",
            "_model_module_version": "1.2.0",
            "_model_name": "LayoutModel",
            "_view_count": null,
            "_view_module": "@jupyter-widgets/base",
            "_view_module_version": "1.2.0",
            "_view_name": "LayoutView",
            "align_content": null,
            "align_items": null,
            "align_self": null,
            "border": null,
            "bottom": null,
            "display": null,
            "flex": null,
            "flex_flow": null,
            "grid_area": null,
            "grid_auto_columns": null,
            "grid_auto_flow": null,
            "grid_auto_rows": null,
            "grid_column": null,
            "grid_gap": null,
            "grid_row": null,
            "grid_template_areas": null,
            "grid_template_columns": null,
            "grid_template_rows": null,
            "height": null,
            "justify_content": null,
            "justify_items": null,
            "left": null,
            "margin": null,
            "max_height": null,
            "max_width": null,
            "min_height": null,
            "min_width": null,
            "object_fit": null,
            "object_position": null,
            "order": null,
            "overflow": null,
            "overflow_x": null,
            "overflow_y": null,
            "padding": null,
            "right": null,
            "top": null,
            "visibility": null,
            "width": null
          }
        },
        "b0d414c2d1494d5e919a56358303b2da": {
          "model_module": "@jupyter-widgets/controls",
          "model_name": "DescriptionStyleModel",
          "model_module_version": "1.5.0",
          "state": {
            "_model_module": "@jupyter-widgets/controls",
            "_model_module_version": "1.5.0",
            "_model_name": "DescriptionStyleModel",
            "_view_count": null,
            "_view_module": "@jupyter-widgets/base",
            "_view_module_version": "1.2.0",
            "_view_name": "StyleView",
            "description_width": ""
          }
        },
        "75a7fd9aaedc43e9a3c51ff661274e9d": {
          "model_module": "@jupyter-widgets/controls",
          "model_name": "HBoxModel",
          "model_module_version": "1.5.0",
          "state": {
            "_dom_classes": [],
            "_model_module": "@jupyter-widgets/controls",
            "_model_module_version": "1.5.0",
            "_model_name": "HBoxModel",
            "_view_count": null,
            "_view_module": "@jupyter-widgets/controls",
            "_view_module_version": "1.5.0",
            "_view_name": "HBoxView",
            "box_style": "",
            "children": [
              "IPY_MODEL_20fbebb7e7774aa28097a6d0bbdb9f23",
              "IPY_MODEL_879730729f154e32af10acfc2406ea40",
              "IPY_MODEL_1d60cb63deab4d48acd76d1eb1f9451b"
            ],
            "layout": "IPY_MODEL_fa7068e5e76541fbbc258b5300354a7d"
          }
        },
        "20fbebb7e7774aa28097a6d0bbdb9f23": {
          "model_module": "@jupyter-widgets/controls",
          "model_name": "HTMLModel",
          "model_module_version": "1.5.0",
          "state": {
            "_dom_classes": [],
            "_model_module": "@jupyter-widgets/controls",
            "_model_module_version": "1.5.0",
            "_model_name": "HTMLModel",
            "_view_count": null,
            "_view_module": "@jupyter-widgets/controls",
            "_view_module_version": "1.5.0",
            "_view_name": "HTMLView",
            "description": "",
            "description_tooltip": null,
            "layout": "IPY_MODEL_5a5bf92e84d1419a8d943ccfa035d2c5",
            "placeholder": "​",
            "style": "IPY_MODEL_eaa5ba5a42724ca28019f48a43803b06",
            "value": "Loading pipeline components...: 100%"
          }
        },
        "879730729f154e32af10acfc2406ea40": {
          "model_module": "@jupyter-widgets/controls",
          "model_name": "FloatProgressModel",
          "model_module_version": "1.5.0",
          "state": {
            "_dom_classes": [],
            "_model_module": "@jupyter-widgets/controls",
            "_model_module_version": "1.5.0",
            "_model_name": "FloatProgressModel",
            "_view_count": null,
            "_view_module": "@jupyter-widgets/controls",
            "_view_module_version": "1.5.0",
            "_view_name": "ProgressView",
            "bar_style": "success",
            "description": "",
            "description_tooltip": null,
            "layout": "IPY_MODEL_633cd22c7b024ea381b3d4f26dd0ed56",
            "max": 7,
            "min": 0,
            "orientation": "horizontal",
            "style": "IPY_MODEL_e4d8484cdc6d4baaa39afe432cee1089",
            "value": 7
          }
        },
        "1d60cb63deab4d48acd76d1eb1f9451b": {
          "model_module": "@jupyter-widgets/controls",
          "model_name": "HTMLModel",
          "model_module_version": "1.5.0",
          "state": {
            "_dom_classes": [],
            "_model_module": "@jupyter-widgets/controls",
            "_model_module_version": "1.5.0",
            "_model_name": "HTMLModel",
            "_view_count": null,
            "_view_module": "@jupyter-widgets/controls",
            "_view_module_version": "1.5.0",
            "_view_name": "HTMLView",
            "description": "",
            "description_tooltip": null,
            "layout": "IPY_MODEL_51504608a236474d9cfe386446ddcf7e",
            "placeholder": "​",
            "style": "IPY_MODEL_67b1b9683f934a8581df986401ea647b",
            "value": " 7/7 [00:03&lt;00:00,  1.67it/s]"
          }
        },
        "fa7068e5e76541fbbc258b5300354a7d": {
          "model_module": "@jupyter-widgets/base",
          "model_name": "LayoutModel",
          "model_module_version": "1.2.0",
          "state": {
            "_model_module": "@jupyter-widgets/base",
            "_model_module_version": "1.2.0",
            "_model_name": "LayoutModel",
            "_view_count": null,
            "_view_module": "@jupyter-widgets/base",
            "_view_module_version": "1.2.0",
            "_view_name": "LayoutView",
            "align_content": null,
            "align_items": null,
            "align_self": null,
            "border": null,
            "bottom": null,
            "display": null,
            "flex": null,
            "flex_flow": null,
            "grid_area": null,
            "grid_auto_columns": null,
            "grid_auto_flow": null,
            "grid_auto_rows": null,
            "grid_column": null,
            "grid_gap": null,
            "grid_row": null,
            "grid_template_areas": null,
            "grid_template_columns": null,
            "grid_template_rows": null,
            "height": null,
            "justify_content": null,
            "justify_items": null,
            "left": null,
            "margin": null,
            "max_height": null,
            "max_width": null,
            "min_height": null,
            "min_width": null,
            "object_fit": null,
            "object_position": null,
            "order": null,
            "overflow": null,
            "overflow_x": null,
            "overflow_y": null,
            "padding": null,
            "right": null,
            "top": null,
            "visibility": null,
            "width": null
          }
        },
        "5a5bf92e84d1419a8d943ccfa035d2c5": {
          "model_module": "@jupyter-widgets/base",
          "model_name": "LayoutModel",
          "model_module_version": "1.2.0",
          "state": {
            "_model_module": "@jupyter-widgets/base",
            "_model_module_version": "1.2.0",
            "_model_name": "LayoutModel",
            "_view_count": null,
            "_view_module": "@jupyter-widgets/base",
            "_view_module_version": "1.2.0",
            "_view_name": "LayoutView",
            "align_content": null,
            "align_items": null,
            "align_self": null,
            "border": null,
            "bottom": null,
            "display": null,
            "flex": null,
            "flex_flow": null,
            "grid_area": null,
            "grid_auto_columns": null,
            "grid_auto_flow": null,
            "grid_auto_rows": null,
            "grid_column": null,
            "grid_gap": null,
            "grid_row": null,
            "grid_template_areas": null,
            "grid_template_columns": null,
            "grid_template_rows": null,
            "height": null,
            "justify_content": null,
            "justify_items": null,
            "left": null,
            "margin": null,
            "max_height": null,
            "max_width": null,
            "min_height": null,
            "min_width": null,
            "object_fit": null,
            "object_position": null,
            "order": null,
            "overflow": null,
            "overflow_x": null,
            "overflow_y": null,
            "padding": null,
            "right": null,
            "top": null,
            "visibility": null,
            "width": null
          }
        },
        "eaa5ba5a42724ca28019f48a43803b06": {
          "model_module": "@jupyter-widgets/controls",
          "model_name": "DescriptionStyleModel",
          "model_module_version": "1.5.0",
          "state": {
            "_model_module": "@jupyter-widgets/controls",
            "_model_module_version": "1.5.0",
            "_model_name": "DescriptionStyleModel",
            "_view_count": null,
            "_view_module": "@jupyter-widgets/base",
            "_view_module_version": "1.2.0",
            "_view_name": "StyleView",
            "description_width": ""
          }
        },
        "633cd22c7b024ea381b3d4f26dd0ed56": {
          "model_module": "@jupyter-widgets/base",
          "model_name": "LayoutModel",
          "model_module_version": "1.2.0",
          "state": {
            "_model_module": "@jupyter-widgets/base",
            "_model_module_version": "1.2.0",
            "_model_name": "LayoutModel",
            "_view_count": null,
            "_view_module": "@jupyter-widgets/base",
            "_view_module_version": "1.2.0",
            "_view_name": "LayoutView",
            "align_content": null,
            "align_items": null,
            "align_self": null,
            "border": null,
            "bottom": null,
            "display": null,
            "flex": null,
            "flex_flow": null,
            "grid_area": null,
            "grid_auto_columns": null,
            "grid_auto_flow": null,
            "grid_auto_rows": null,
            "grid_column": null,
            "grid_gap": null,
            "grid_row": null,
            "grid_template_areas": null,
            "grid_template_columns": null,
            "grid_template_rows": null,
            "height": null,
            "justify_content": null,
            "justify_items": null,
            "left": null,
            "margin": null,
            "max_height": null,
            "max_width": null,
            "min_height": null,
            "min_width": null,
            "object_fit": null,
            "object_position": null,
            "order": null,
            "overflow": null,
            "overflow_x": null,
            "overflow_y": null,
            "padding": null,
            "right": null,
            "top": null,
            "visibility": null,
            "width": null
          }
        },
        "e4d8484cdc6d4baaa39afe432cee1089": {
          "model_module": "@jupyter-widgets/controls",
          "model_name": "ProgressStyleModel",
          "model_module_version": "1.5.0",
          "state": {
            "_model_module": "@jupyter-widgets/controls",
            "_model_module_version": "1.5.0",
            "_model_name": "ProgressStyleModel",
            "_view_count": null,
            "_view_module": "@jupyter-widgets/base",
            "_view_module_version": "1.2.0",
            "_view_name": "StyleView",
            "bar_color": null,
            "description_width": ""
          }
        },
        "51504608a236474d9cfe386446ddcf7e": {
          "model_module": "@jupyter-widgets/base",
          "model_name": "LayoutModel",
          "model_module_version": "1.2.0",
          "state": {
            "_model_module": "@jupyter-widgets/base",
            "_model_module_version": "1.2.0",
            "_model_name": "LayoutModel",
            "_view_count": null,
            "_view_module": "@jupyter-widgets/base",
            "_view_module_version": "1.2.0",
            "_view_name": "LayoutView",
            "align_content": null,
            "align_items": null,
            "align_self": null,
            "border": null,
            "bottom": null,
            "display": null,
            "flex": null,
            "flex_flow": null,
            "grid_area": null,
            "grid_auto_columns": null,
            "grid_auto_flow": null,
            "grid_auto_rows": null,
            "grid_column": null,
            "grid_gap": null,
            "grid_row": null,
            "grid_template_areas": null,
            "grid_template_columns": null,
            "grid_template_rows": null,
            "height": null,
            "justify_content": null,
            "justify_items": null,
            "left": null,
            "margin": null,
            "max_height": null,
            "max_width": null,
            "min_height": null,
            "min_width": null,
            "object_fit": null,
            "object_position": null,
            "order": null,
            "overflow": null,
            "overflow_x": null,
            "overflow_y": null,
            "padding": null,
            "right": null,
            "top": null,
            "visibility": null,
            "width": null
          }
        },
        "67b1b9683f934a8581df986401ea647b": {
          "model_module": "@jupyter-widgets/controls",
          "model_name": "DescriptionStyleModel",
          "model_module_version": "1.5.0",
          "state": {
            "_model_module": "@jupyter-widgets/controls",
            "_model_module_version": "1.5.0",
            "_model_name": "DescriptionStyleModel",
            "_view_count": null,
            "_view_module": "@jupyter-widgets/base",
            "_view_module_version": "1.2.0",
            "_view_name": "StyleView",
            "description_width": ""
          }
        }
      }
    }
  },
  "nbformat": 4,
  "nbformat_minor": 0
}